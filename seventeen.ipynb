{
 "cells": [
  {
   "cell_type": "markdown",
   "id": "746a19de-b887-419a-b48e-0d167a6f0336",
   "metadata": {},
   "source": [
    "# 17. Panel Data Regression Models"
   ]
  },
  {
   "cell_type": "markdown",
   "id": "3947332f-2f34-4744-93c9-d8dd5ae42723",
   "metadata": {},
   "source": [
    "🚧 Under construction"
   ]
  }
 ],
 "metadata": {
  "kernelspec": {
   "display_name": "R",
   "language": "R",
   "name": "ir"
  },
  "language_info": {
   "codemirror_mode": "r",
   "file_extension": ".r",
   "mimetype": "text/x-r-source",
   "name": "R",
   "pygments_lexer": "r",
   "version": "4.4.1"
  }
 },
 "nbformat": 4,
 "nbformat_minor": 5
}
