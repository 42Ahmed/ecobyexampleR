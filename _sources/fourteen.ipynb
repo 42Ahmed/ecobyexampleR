{
 "cells": [
  {
   "cell_type": "markdown",
   "id": "d7d13cb9-0eac-4bd9-91dc-98b848abaa1a",
   "metadata": {},
   "source": [
    "# 14. Cointegration And Error Correction Models "
   ]
  },
  {
   "cell_type": "markdown",
   "id": "630941f4-db3b-4146-b616-a80eca152a47",
   "metadata": {},
   "source": [
    "🚧 Under construction"
   ]
  }
 ],
 "metadata": {
  "kernelspec": {
   "display_name": "R",
   "language": "R",
   "name": "ir"
  },
  "language_info": {
   "codemirror_mode": "r",
   "file_extension": ".r",
   "mimetype": "text/x-r-source",
   "name": "R",
   "pygments_lexer": "r",
   "version": "4.4.1"
  }
 },
 "nbformat": 4,
 "nbformat_minor": 5
}
