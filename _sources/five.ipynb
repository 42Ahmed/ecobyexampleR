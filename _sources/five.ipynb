{
 "cells": [
  {
   "cell_type": "markdown",
   "id": "c8f1178a-4e41-4398-a76b-2c4e6e6b0b66",
   "metadata": {},
   "source": [
    "# 5. Heteroscedasticity"
   ]
  },
  {
   "cell_type": "code",
   "execution_count": 1,
   "id": "2ebfc777-5f9c-4b94-bed4-ba0efe9949a0",
   "metadata": {},
   "outputs": [],
   "source": [
    "suppressPackageStartupMessages({\n",
    "  library(tidyverse)\n",
    "  library(tidymodels)\n",
    "  library(readxl)\n",
    "  library(multcomp)\n",
    "  library(car)\n",
    "  library(lmtest)\n",
    "  library(sandwich)\n",
    "})"
   ]
  },
  {
   "cell_type": "code",
   "execution_count": 2,
   "id": "47a8c278-9ee0-4c54-b257-26ddaae9d218",
   "metadata": {},
   "outputs": [
    {
     "data": {
      "text/html": [
       "<table class=\"dataframe\">\n",
       "<caption>A tibble: 6 × 10</caption>\n",
       "<thead>\n",
       "\t<tr><th scope=col>state</th><th scope=col>abortion</th><th scope=col>religion</th><th scope=col>price</th><th scope=col>laws</th><th scope=col>funds</th><th scope=col>educ</th><th scope=col>income</th><th scope=col>picket</th><th scope=col>lnabortion</th></tr>\n",
       "\t<tr><th scope=col>&lt;chr&gt;</th><th scope=col>&lt;dbl&gt;</th><th scope=col>&lt;dbl&gt;</th><th scope=col>&lt;dbl&gt;</th><th scope=col>&lt;dbl&gt;</th><th scope=col>&lt;dbl&gt;</th><th scope=col>&lt;dbl&gt;</th><th scope=col>&lt;dbl&gt;</th><th scope=col>&lt;dbl&gt;</th><th scope=col>&lt;dbl&gt;</th></tr>\n",
       "</thead>\n",
       "<tbody>\n",
       "\t<tr><td>MISSISSIPPI  </td><td>12.4</td><td>38.0</td><td>256</td><td>0</td><td>0</td><td>64.3</td><td>14082</td><td>100</td><td>2.517696</td></tr>\n",
       "\t<tr><td>NEW_MEXICO   </td><td>17.7</td><td>44.7</td><td>332</td><td>0</td><td>0</td><td>75.1</td><td>15458</td><td> 20</td><td>2.873565</td></tr>\n",
       "\t<tr><td>UTAH         </td><td> 9.3</td><td>76.7</td><td>298</td><td>1</td><td>0</td><td>85.1</td><td>15573</td><td>  0</td><td>2.230014</td></tr>\n",
       "\t<tr><td>WEST_VIRGINIA</td><td> 7.7</td><td> 9.8</td><td>251</td><td>0</td><td>1</td><td>66.0</td><td>15598</td><td> 50</td><td>2.041220</td></tr>\n",
       "\t<tr><td>ARKANSAS     </td><td>13.5</td><td>30.0</td><td>248</td><td>1</td><td>0</td><td>66.3</td><td>15635</td><td> 33</td><td>2.602690</td></tr>\n",
       "\t<tr><td>LOUISIANA    </td><td>13.4</td><td>50.9</td><td>228</td><td>1</td><td>0</td><td>68.3</td><td>15931</td><td> 60</td><td>2.595255</td></tr>\n",
       "</tbody>\n",
       "</table>\n"
      ],
      "text/latex": [
       "A tibble: 6 × 10\n",
       "\\begin{tabular}{llllllllll}\n",
       " state & abortion & religion & price & laws & funds & educ & income & picket & lnabortion\\\\\n",
       " <chr> & <dbl> & <dbl> & <dbl> & <dbl> & <dbl> & <dbl> & <dbl> & <dbl> & <dbl>\\\\\n",
       "\\hline\n",
       "\t MISSISSIPPI   & 12.4 & 38.0 & 256 & 0 & 0 & 64.3 & 14082 & 100 & 2.517696\\\\\n",
       "\t NEW\\_MEXICO    & 17.7 & 44.7 & 332 & 0 & 0 & 75.1 & 15458 &  20 & 2.873565\\\\\n",
       "\t UTAH          &  9.3 & 76.7 & 298 & 1 & 0 & 85.1 & 15573 &   0 & 2.230014\\\\\n",
       "\t WEST\\_VIRGINIA &  7.7 &  9.8 & 251 & 0 & 1 & 66.0 & 15598 &  50 & 2.041220\\\\\n",
       "\t ARKANSAS      & 13.5 & 30.0 & 248 & 1 & 0 & 66.3 & 15635 &  33 & 2.602690\\\\\n",
       "\t LOUISIANA     & 13.4 & 50.9 & 228 & 1 & 0 & 68.3 & 15931 &  60 & 2.595255\\\\\n",
       "\\end{tabular}\n"
      ],
      "text/markdown": [
       "\n",
       "A tibble: 6 × 10\n",
       "\n",
       "| state &lt;chr&gt; | abortion &lt;dbl&gt; | religion &lt;dbl&gt; | price &lt;dbl&gt; | laws &lt;dbl&gt; | funds &lt;dbl&gt; | educ &lt;dbl&gt; | income &lt;dbl&gt; | picket &lt;dbl&gt; | lnabortion &lt;dbl&gt; |\n",
       "|---|---|---|---|---|---|---|---|---|---|\n",
       "| MISSISSIPPI   | 12.4 | 38.0 | 256 | 0 | 0 | 64.3 | 14082 | 100 | 2.517696 |\n",
       "| NEW_MEXICO    | 17.7 | 44.7 | 332 | 0 | 0 | 75.1 | 15458 |  20 | 2.873565 |\n",
       "| UTAH          |  9.3 | 76.7 | 298 | 1 | 0 | 85.1 | 15573 |   0 | 2.230014 |\n",
       "| WEST_VIRGINIA |  7.7 |  9.8 | 251 | 0 | 1 | 66.0 | 15598 |  50 | 2.041220 |\n",
       "| ARKANSAS      | 13.5 | 30.0 | 248 | 1 | 0 | 66.3 | 15635 |  33 | 2.602690 |\n",
       "| LOUISIANA     | 13.4 | 50.9 | 228 | 1 | 0 | 68.3 | 15931 |  60 | 2.595255 |\n",
       "\n"
      ],
      "text/plain": [
       "  state         abortion religion price laws funds educ income picket\n",
       "1 MISSISSIPPI   12.4     38.0     256   0    0     64.3 14082  100   \n",
       "2 NEW_MEXICO    17.7     44.7     332   0    0     75.1 15458   20   \n",
       "3 UTAH           9.3     76.7     298   1    0     85.1 15573    0   \n",
       "4 WEST_VIRGINIA  7.7      9.8     251   0    1     66.0 15598   50   \n",
       "5 ARKANSAS      13.5     30.0     248   1    0     66.3 15635   33   \n",
       "6 LOUISIANA     13.4     50.9     228   1    0     68.3 15931   60   \n",
       "  lnabortion\n",
       "1 2.517696  \n",
       "2 2.873565  \n",
       "3 2.230014  \n",
       "4 2.041220  \n",
       "5 2.602690  \n",
       "6 2.595255  "
      ]
     },
     "metadata": {},
     "output_type": "display_data"
    }
   ],
   "source": [
    "df <- read_excel(\"data/Table5_1.xls\")\n",
    "head(df)"
   ]
  },
  {
   "cell_type": "markdown",
   "id": "19fcfaa9-55d6-4957-bc1e-a207e0407e7d",
   "metadata": {},
   "source": [
    "Abortion rate  \n",
    "State = name of the state (50 US states).  \n",
    "ABR = Abortion rate, number of abortions per thousand women aged 15–44 in\n",
    "1992.  \n",
    "Religion = the percent of a state’s population that is Catholic, Southern Baptist,\n",
    "Evangelical, or Mormon.  \n",
    "Price = the average price charged in 1993 in non-hospital facilities for an abortion at 10 weeks with local anesthesia (weighted by the number of abortions\n",
    "performed in 1992).  \n",
    "Laws = a variable that takes the value of 1 if a state enforces a law that restricts a\n",
    "minor’s access to abortion, 0 otherwise.  \n",
    "Funds = a variable that takes the value of 1 if state funds are available for use to\n",
    "pay for an abortion under most circumstances, 0 otherwise.  \n",
    "Educ = the percent of a state’s population that is 25 years or older with a high\n",
    "school degree (or equivalent), 1990.  \n",
    "Income = disposable income per capita, 1992.  \n",
    "Picket = the percentage of respondents that reported experiencing picketing\n",
    "with physical contact or blocking of patients.  "
   ]
  },
  {
   "cell_type": "code",
   "execution_count": 3,
   "id": "f4740da4-77fa-464d-b678-1e83086ea7c2",
   "metadata": {},
   "outputs": [
    {
     "data": {
      "text/html": [
       "<table class=\"dataframe\">\n",
       "<caption>A tibble: 8 × 5</caption>\n",
       "<thead>\n",
       "\t<tr><th scope=col>term</th><th scope=col>estimate</th><th scope=col>std.error</th><th scope=col>statistic</th><th scope=col>p.value</th></tr>\n",
       "\t<tr><th scope=col>&lt;chr&gt;</th><th scope=col>&lt;dbl&gt;</th><th scope=col>&lt;dbl&gt;</th><th scope=col>&lt;dbl&gt;</th><th scope=col>&lt;dbl&gt;</th></tr>\n",
       "</thead>\n",
       "<tbody>\n",
       "\t<tr><td>(Intercept)</td><td>14.283957280</td><td>1.507763e+01</td><td> 0.9473609</td><td>3.488740e-01</td></tr>\n",
       "\t<tr><td>religion   </td><td> 0.020070901</td><td>8.638054e-02</td><td> 0.2323544</td><td>8.173913e-01</td></tr>\n",
       "\t<tr><td>price      </td><td>-0.042363106</td><td>2.222320e-02</td><td>-1.9062555</td><td>6.347505e-02</td></tr>\n",
       "\t<tr><td>laws       </td><td>-0.873101786</td><td>2.376566e+00</td><td>-0.3673795</td><td>7.151807e-01</td></tr>\n",
       "\t<tr><td>funds      </td><td> 2.820003024</td><td>2.783475e+00</td><td> 1.0131233</td><td>3.168024e-01</td></tr>\n",
       "\t<tr><td>educ       </td><td>-0.287255121</td><td>1.995545e-01</td><td>-1.4394818</td><td>1.574261e-01</td></tr>\n",
       "\t<tr><td>income     </td><td> 0.002400682</td><td>4.551884e-04</td><td> 5.2740410</td><td>4.354736e-06</td></tr>\n",
       "\t<tr><td>picket     </td><td>-0.116871214</td><td>4.217986e-02</td><td>-2.7707823</td><td>8.295326e-03</td></tr>\n",
       "</tbody>\n",
       "</table>\n"
      ],
      "text/latex": [
       "A tibble: 8 × 5\n",
       "\\begin{tabular}{lllll}\n",
       " term & estimate & std.error & statistic & p.value\\\\\n",
       " <chr> & <dbl> & <dbl> & <dbl> & <dbl>\\\\\n",
       "\\hline\n",
       "\t (Intercept) & 14.283957280 & 1.507763e+01 &  0.9473609 & 3.488740e-01\\\\\n",
       "\t religion    &  0.020070901 & 8.638054e-02 &  0.2323544 & 8.173913e-01\\\\\n",
       "\t price       & -0.042363106 & 2.222320e-02 & -1.9062555 & 6.347505e-02\\\\\n",
       "\t laws        & -0.873101786 & 2.376566e+00 & -0.3673795 & 7.151807e-01\\\\\n",
       "\t funds       &  2.820003024 & 2.783475e+00 &  1.0131233 & 3.168024e-01\\\\\n",
       "\t educ        & -0.287255121 & 1.995545e-01 & -1.4394818 & 1.574261e-01\\\\\n",
       "\t income      &  0.002400682 & 4.551884e-04 &  5.2740410 & 4.354736e-06\\\\\n",
       "\t picket      & -0.116871214 & 4.217986e-02 & -2.7707823 & 8.295326e-03\\\\\n",
       "\\end{tabular}\n"
      ],
      "text/markdown": [
       "\n",
       "A tibble: 8 × 5\n",
       "\n",
       "| term &lt;chr&gt; | estimate &lt;dbl&gt; | std.error &lt;dbl&gt; | statistic &lt;dbl&gt; | p.value &lt;dbl&gt; |\n",
       "|---|---|---|---|---|\n",
       "| (Intercept) | 14.283957280 | 1.507763e+01 |  0.9473609 | 3.488740e-01 |\n",
       "| religion    |  0.020070901 | 8.638054e-02 |  0.2323544 | 8.173913e-01 |\n",
       "| price       | -0.042363106 | 2.222320e-02 | -1.9062555 | 6.347505e-02 |\n",
       "| laws        | -0.873101786 | 2.376566e+00 | -0.3673795 | 7.151807e-01 |\n",
       "| funds       |  2.820003024 | 2.783475e+00 |  1.0131233 | 3.168024e-01 |\n",
       "| educ        | -0.287255121 | 1.995545e-01 | -1.4394818 | 1.574261e-01 |\n",
       "| income      |  0.002400682 | 4.551884e-04 |  5.2740410 | 4.354736e-06 |\n",
       "| picket      | -0.116871214 | 4.217986e-02 | -2.7707823 | 8.295326e-03 |\n",
       "\n"
      ],
      "text/plain": [
       "  term        estimate     std.error    statistic  p.value     \n",
       "1 (Intercept) 14.283957280 1.507763e+01  0.9473609 3.488740e-01\n",
       "2 religion     0.020070901 8.638054e-02  0.2323544 8.173913e-01\n",
       "3 price       -0.042363106 2.222320e-02 -1.9062555 6.347505e-02\n",
       "4 laws        -0.873101786 2.376566e+00 -0.3673795 7.151807e-01\n",
       "5 funds        2.820003024 2.783475e+00  1.0131233 3.168024e-01\n",
       "6 educ        -0.287255121 1.995545e-01 -1.4394818 1.574261e-01\n",
       "7 income       0.002400682 4.551884e-04  5.2740410 4.354736e-06\n",
       "8 picket      -0.116871214 4.217986e-02 -2.7707823 8.295326e-03"
      ]
     },
     "metadata": {},
     "output_type": "display_data"
    },
    {
     "data": {
      "text/html": [
       "<table class=\"dataframe\">\n",
       "<caption>A tibble: 1 × 12</caption>\n",
       "<thead>\n",
       "\t<tr><th scope=col>r.squared</th><th scope=col>adj.r.squared</th><th scope=col>sigma</th><th scope=col>statistic</th><th scope=col>p.value</th><th scope=col>df</th><th scope=col>logLik</th><th scope=col>AIC</th><th scope=col>BIC</th><th scope=col>deviance</th><th scope=col>df.residual</th><th scope=col>nobs</th></tr>\n",
       "\t<tr><th scope=col>&lt;dbl&gt;</th><th scope=col>&lt;dbl&gt;</th><th scope=col>&lt;dbl&gt;</th><th scope=col>&lt;dbl&gt;</th><th scope=col>&lt;dbl&gt;</th><th scope=col>&lt;dbl&gt;</th><th scope=col>&lt;dbl&gt;</th><th scope=col>&lt;dbl&gt;</th><th scope=col>&lt;dbl&gt;</th><th scope=col>&lt;dbl&gt;</th><th scope=col>&lt;int&gt;</th><th scope=col>&lt;int&gt;</th></tr>\n",
       "</thead>\n",
       "<tbody>\n",
       "\t<tr><td>0.5774263</td><td>0.5069973</td><td>7.062582</td><td>8.198706</td><td>2.847197e-06</td><td>7</td><td>-164.3286</td><td>346.6572</td><td>363.8655</td><td>2094.962</td><td>42</td><td>50</td></tr>\n",
       "</tbody>\n",
       "</table>\n"
      ],
      "text/latex": [
       "A tibble: 1 × 12\n",
       "\\begin{tabular}{llllllllllll}\n",
       " r.squared & adj.r.squared & sigma & statistic & p.value & df & logLik & AIC & BIC & deviance & df.residual & nobs\\\\\n",
       " <dbl> & <dbl> & <dbl> & <dbl> & <dbl> & <dbl> & <dbl> & <dbl> & <dbl> & <dbl> & <int> & <int>\\\\\n",
       "\\hline\n",
       "\t 0.5774263 & 0.5069973 & 7.062582 & 8.198706 & 2.847197e-06 & 7 & -164.3286 & 346.6572 & 363.8655 & 2094.962 & 42 & 50\\\\\n",
       "\\end{tabular}\n"
      ],
      "text/markdown": [
       "\n",
       "A tibble: 1 × 12\n",
       "\n",
       "| r.squared &lt;dbl&gt; | adj.r.squared &lt;dbl&gt; | sigma &lt;dbl&gt; | statistic &lt;dbl&gt; | p.value &lt;dbl&gt; | df &lt;dbl&gt; | logLik &lt;dbl&gt; | AIC &lt;dbl&gt; | BIC &lt;dbl&gt; | deviance &lt;dbl&gt; | df.residual &lt;int&gt; | nobs &lt;int&gt; |\n",
       "|---|---|---|---|---|---|---|---|---|---|---|---|\n",
       "| 0.5774263 | 0.5069973 | 7.062582 | 8.198706 | 2.847197e-06 | 7 | -164.3286 | 346.6572 | 363.8655 | 2094.962 | 42 | 50 |\n",
       "\n"
      ],
      "text/plain": [
       "      r.squared adj.r.squared sigma    statistic p.value      df logLik   \n",
       "value 0.5774263 0.5069973     7.062582 8.198706  2.847197e-06 7  -164.3286\n",
       "      AIC      BIC      deviance df.residual nobs\n",
       "value 346.6572 363.8655 2094.962 42          50  "
      ]
     },
     "metadata": {},
     "output_type": "display_data"
    }
   ],
   "source": [
    "model <- lm(abortion ~ religion + price + laws + funds + educ + income + picket, data =df)\n",
    "tidy(model)\n",
    "glance(model)"
   ]
  },
  {
   "cell_type": "code",
   "execution_count": 4,
   "id": "dde46b04-860d-40eb-b5ff-020b80e45da4",
   "metadata": {},
   "outputs": [
    {
     "data": {
      "image/png": "[encoded data removed]",
      "text/plain": [
       "plot without title"
      ]
     },
     "metadata": {
      "image/png": {
       "height": 420,
       "width": 420
      }
     },
     "output_type": "display_data"
    }
   ],
   "source": [
    "data <-augment(model)\n",
    "data <- data |> \n",
    "mutate(squared_resid = .resid^2)\n",
    "data |>\n",
    "ggplot(aes(x = squared_resid)) +\n",
    "geom_histogram(bins  = 10)"
   ]
  },
  {
   "cell_type": "code",
   "execution_count": 5,
   "id": "2c9fd299-9bbb-4bcd-af7f-644a8d23d929",
   "metadata": {},
   "outputs": [
    {
     "data": {
      "image/png": "[encoded data removed]",
      "text/plain": [
       "plot without title"
      ]
     },
     "metadata": {
      "image/png": {
       "height": 420,
       "width": 420
      }
     },
     "output_type": "display_data"
    }
   ],
   "source": [
    "ggplot(data, aes(x = .fitted, y = squared_resid))+\n",
    "geom_point()"
   ]
  },
  {
   "cell_type": "markdown",
   "id": "5eacd0cd-efb0-4a59-a74b-b8466cdb3849",
   "metadata": {},
   "source": [
    "## Breusch–Pagan (BP) test"
   ]
  },
  {
   "cell_type": "code",
   "execution_count": 6,
   "id": "913030c9-5fa9-46cb-a584-5590a34fcc6e",
   "metadata": {},
   "outputs": [
    {
     "data": {
      "text/plain": [
       "\n",
       "\tstudentized Breusch-Pagan test\n",
       "\n",
       "data:  model\n",
       "BP = 16.001, df = 7, p-value = 0.02511\n"
      ]
     },
     "metadata": {},
     "output_type": "display_data"
    }
   ],
   "source": [
    "bptest(model, studentize = TRUE, data = df)"
   ]
  },
  {
   "cell_type": "markdown",
   "id": "5ef75785-4ea2-46b7-832c-23b9afbff288",
   "metadata": {},
   "source": [
    "## White test"
   ]
  },
  {
   "cell_type": "code",
   "execution_count": 7,
   "id": "83ab8954-ed4e-4493-bbca-baf66fd636a8",
   "metadata": {},
   "outputs": [
    {
     "name": "stdout",
     "output_type": "stream",
     "text": [
      "\n",
      "\tstudentized Breusch-Pagan test\n",
      "\n",
      "data:  model\n",
      "BP = 32.102, df = 33, p-value = 0.5116\n",
      "\n",
      "Do not reject the null hypothesis of homoscedasticity. The model does not suffer from heteroscedasticity.\n"
     ]
    }
   ],
   "source": [
    "white_test_result <- bptest(model, ~ religion + price + laws + funds + educ + income + picket + I(religion^2) + I(price^2) + I(laws^2) + I(funds^2) + I(educ^2) + I(income^2) + I(picket^2) +\n",
    "                            religion:price + religion:laws + religion:funds + religion:educ + religion:income + \n",
    "                            religion:picket + price:laws + price:funds + price:educ + price:income + price:picket + laws:funds + \n",
    "                            laws:educ + laws:income + laws:picket + funds:educ + funds:income + funds:picket + educ:income + educ:picket + income:picket, \n",
    "                            data = df)\n",
    "\n",
    "# Print the test results\n",
    "print(white_test_result)\n",
    "\n",
    "# Check if we reject the null hypothesis of homoscedasticity\n",
    "if (white_test_result$p.value < 0.05) {\n",
    "  cat(\"Reject the null hypothesis of homoscedasticity. The model suffers from heteroscedasticity.\\n\")\n",
    "} else {\n",
    "  cat(\"Do not reject the null hypothesis of homoscedasticity. The model does not suffer from heteroscedasticity.\\n\")\n",
    "}"
   ]
  },
  {
   "cell_type": "markdown",
   "id": "701e1f3a-dda3-4db7-b94f-3034b9fb61d9",
   "metadata": {},
   "source": [
    "## Abridged white test"
   ]
  },
  {
   "cell_type": "code",
   "execution_count": 8,
   "id": "922ada62-8791-4c36-835a-6477002e368e",
   "metadata": {},
   "outputs": [],
   "source": [
    "data <- augment(model)\n",
    "data <- data |>\n",
    "    mutate(squared_resid = .resid^2)"
   ]
  },
  {
   "cell_type": "code",
   "execution_count": 9,
   "id": "2bb2c257-ea7b-489a-93c7-00aa3def5648",
   "metadata": {},
   "outputs": [
    {
     "data": {
      "text/html": [
       "<table class=\"dataframe\">\n",
       "<caption>A tibble: 3 × 5</caption>\n",
       "<thead>\n",
       "\t<tr><th scope=col>term</th><th scope=col>estimate</th><th scope=col>std.error</th><th scope=col>statistic</th><th scope=col>p.value</th></tr>\n",
       "\t<tr><th scope=col>&lt;chr&gt;</th><th scope=col>&lt;dbl&gt;</th><th scope=col>&lt;dbl&gt;</th><th scope=col>&lt;dbl&gt;</th><th scope=col>&lt;dbl&gt;</th></tr>\n",
       "</thead>\n",
       "<tbody>\n",
       "\t<tr><td>(Intercept) </td><td>20.2023995</td><td>49.030794</td><td> 0.4120349</td><td>0.6821871</td></tr>\n",
       "\t<tr><td>.fitted     </td><td>-1.4552665</td><td> 4.759941</td><td>-0.3057321</td><td>0.7611587</td></tr>\n",
       "\t<tr><td>I(.fitted^2)</td><td> 0.1074319</td><td> 0.107890</td><td> 0.9957548</td><td>0.3244684</td></tr>\n",
       "</tbody>\n",
       "</table>\n"
      ],
      "text/latex": [
       "A tibble: 3 × 5\n",
       "\\begin{tabular}{lllll}\n",
       " term & estimate & std.error & statistic & p.value\\\\\n",
       " <chr> & <dbl> & <dbl> & <dbl> & <dbl>\\\\\n",
       "\\hline\n",
       "\t (Intercept)  & 20.2023995 & 49.030794 &  0.4120349 & 0.6821871\\\\\n",
       "\t .fitted      & -1.4552665 &  4.759941 & -0.3057321 & 0.7611587\\\\\n",
       "\t I(.fitted\\textasciicircum{}2) &  0.1074319 &  0.107890 &  0.9957548 & 0.3244684\\\\\n",
       "\\end{tabular}\n"
      ],
      "text/markdown": [
       "\n",
       "A tibble: 3 × 5\n",
       "\n",
       "| term &lt;chr&gt; | estimate &lt;dbl&gt; | std.error &lt;dbl&gt; | statistic &lt;dbl&gt; | p.value &lt;dbl&gt; |\n",
       "|---|---|---|---|---|\n",
       "| (Intercept)  | 20.2023995 | 49.030794 |  0.4120349 | 0.6821871 |\n",
       "| .fitted      | -1.4552665 |  4.759941 | -0.3057321 | 0.7611587 |\n",
       "| I(.fitted^2) |  0.1074319 |  0.107890 |  0.9957548 | 0.3244684 |\n",
       "\n"
      ],
      "text/plain": [
       "  term         estimate   std.error statistic  p.value  \n",
       "1 (Intercept)  20.2023995 49.030794  0.4120349 0.6821871\n",
       "2 .fitted      -1.4552665  4.759941 -0.3057321 0.7611587\n",
       "3 I(.fitted^2)  0.1074319  0.107890  0.9957548 0.3244684"
      ]
     },
     "metadata": {},
     "output_type": "display_data"
    },
    {
     "data": {
      "text/html": [
       "<table class=\"dataframe\">\n",
       "<caption>A tibble: 1 × 12</caption>\n",
       "<thead>\n",
       "\t<tr><th scope=col>r.squared</th><th scope=col>adj.r.squared</th><th scope=col>sigma</th><th scope=col>statistic</th><th scope=col>p.value</th><th scope=col>df</th><th scope=col>logLik</th><th scope=col>AIC</th><th scope=col>BIC</th><th scope=col>deviance</th><th scope=col>df.residual</th><th scope=col>nobs</th></tr>\n",
       "\t<tr><th scope=col>&lt;dbl&gt;</th><th scope=col>&lt;dbl&gt;</th><th scope=col>&lt;dbl&gt;</th><th scope=col>&lt;dbl&gt;</th><th scope=col>&lt;dbl&gt;</th><th scope=col>&lt;dbl&gt;</th><th scope=col>&lt;dbl&gt;</th><th scope=col>&lt;dbl&gt;</th><th scope=col>&lt;dbl&gt;</th><th scope=col>&lt;dbl&gt;</th><th scope=col>&lt;int&gt;</th><th scope=col>&lt;int&gt;</th></tr>\n",
       "</thead>\n",
       "<tbody>\n",
       "\t<tr><td>0.1930826</td><td>0.1587457</td><td>53.13374</td><td>5.623181</td><td>0.006463723</td><td>2</td><td>-268.0407</td><td>544.0813</td><td>551.7294</td><td>132690.2</td><td>47</td><td>50</td></tr>\n",
       "</tbody>\n",
       "</table>\n"
      ],
      "text/latex": [
       "A tibble: 1 × 12\n",
       "\\begin{tabular}{llllllllllll}\n",
       " r.squared & adj.r.squared & sigma & statistic & p.value & df & logLik & AIC & BIC & deviance & df.residual & nobs\\\\\n",
       " <dbl> & <dbl> & <dbl> & <dbl> & <dbl> & <dbl> & <dbl> & <dbl> & <dbl> & <dbl> & <int> & <int>\\\\\n",
       "\\hline\n",
       "\t 0.1930826 & 0.1587457 & 53.13374 & 5.623181 & 0.006463723 & 2 & -268.0407 & 544.0813 & 551.7294 & 132690.2 & 47 & 50\\\\\n",
       "\\end{tabular}\n"
      ],
      "text/markdown": [
       "\n",
       "A tibble: 1 × 12\n",
       "\n",
       "| r.squared &lt;dbl&gt; | adj.r.squared &lt;dbl&gt; | sigma &lt;dbl&gt; | statistic &lt;dbl&gt; | p.value &lt;dbl&gt; | df &lt;dbl&gt; | logLik &lt;dbl&gt; | AIC &lt;dbl&gt; | BIC &lt;dbl&gt; | deviance &lt;dbl&gt; | df.residual &lt;int&gt; | nobs &lt;int&gt; |\n",
       "|---|---|---|---|---|---|---|---|---|---|---|---|\n",
       "| 0.1930826 | 0.1587457 | 53.13374 | 5.623181 | 0.006463723 | 2 | -268.0407 | 544.0813 | 551.7294 | 132690.2 | 47 | 50 |\n",
       "\n"
      ],
      "text/plain": [
       "      r.squared adj.r.squared sigma    statistic p.value     df logLik   \n",
       "value 0.1930826 0.1587457     53.13374 5.623181  0.006463723 2  -268.0407\n",
       "      AIC      BIC      deviance df.residual nobs\n",
       "value 544.0813 551.7294 132690.2 47          50  "
      ]
     },
     "metadata": {},
     "output_type": "display_data"
    }
   ],
   "source": [
    "model2 <- lm(squared_resid ~ .fitted + I(.fitted^2), data = data)\n",
    "tidy(model2)\n",
    "glance(model2)"
   ]
  },
  {
   "cell_type": "markdown",
   "id": "7c92e1d3-2dc9-4d2a-b03d-72da2a026d80",
   "metadata": {},
   "source": [
    "p value for F = 0.006463723, we suffer from heteroscedasticity"
   ]
  },
  {
   "cell_type": "code",
   "execution_count": 10,
   "id": "3b01cabf-2112-49fc-9d89-2c14e349e058",
   "metadata": {},
   "outputs": [
    {
     "data": {
      "text/html": [
       "<table class=\"dataframe\">\n",
       "<caption>A tibble: 8 × 5</caption>\n",
       "<thead>\n",
       "\t<tr><th scope=col>term</th><th scope=col>estimate</th><th scope=col>std.error</th><th scope=col>statistic</th><th scope=col>p.value</th></tr>\n",
       "\t<tr><th scope=col>&lt;chr&gt;</th><th scope=col>&lt;dbl&gt;</th><th scope=col>&lt;dbl&gt;</th><th scope=col>&lt;dbl&gt;</th><th scope=col>&lt;dbl&gt;</th></tr>\n",
       "</thead>\n",
       "<tbody>\n",
       "\t<tr><td>(Intercept)</td><td> 0.8973606106</td><td>0.786093091</td><td> 1.14154497</td><td>0.2601101</td></tr>\n",
       "\t<tr><td>religion   </td><td> 0.0480774987</td><td>0.075204771</td><td> 0.63928788</td><td>0.5261073</td></tr>\n",
       "\t<tr><td>price      </td><td>-0.0134525362</td><td>0.037889433</td><td>-0.35504717</td><td>0.7243310</td></tr>\n",
       "\t<tr><td>laws       </td><td>-0.5879502539</td><td>2.179388159</td><td>-0.26977767</td><td>0.7886524</td></tr>\n",
       "\t<tr><td>funds      </td><td> 0.1956207473</td><td>3.709311583</td><td> 0.05273775</td><td>0.9581909</td></tr>\n",
       "\t<tr><td>educ       </td><td> 0.0288684135</td><td>0.174382545</td><td> 0.16554646</td><td>0.8693082</td></tr>\n",
       "\t<tr><td>income     </td><td> 0.0000652594</td><td>0.002101188</td><td> 0.03105833</td><td>0.9753701</td></tr>\n",
       "\t<tr><td>picket     </td><td> 0.0223771929</td><td>0.084639962</td><td> 0.26438094</td><td>0.7927795</td></tr>\n",
       "</tbody>\n",
       "</table>\n"
      ],
      "text/latex": [
       "A tibble: 8 × 5\n",
       "\\begin{tabular}{lllll}\n",
       " term & estimate & std.error & statistic & p.value\\\\\n",
       " <chr> & <dbl> & <dbl> & <dbl> & <dbl>\\\\\n",
       "\\hline\n",
       "\t (Intercept) &  0.8973606106 & 0.786093091 &  1.14154497 & 0.2601101\\\\\n",
       "\t religion    &  0.0480774987 & 0.075204771 &  0.63928788 & 0.5261073\\\\\n",
       "\t price       & -0.0134525362 & 0.037889433 & -0.35504717 & 0.7243310\\\\\n",
       "\t laws        & -0.5879502539 & 2.179388159 & -0.26977767 & 0.7886524\\\\\n",
       "\t funds       &  0.1956207473 & 3.709311583 &  0.05273775 & 0.9581909\\\\\n",
       "\t educ        &  0.0288684135 & 0.174382545 &  0.16554646 & 0.8693082\\\\\n",
       "\t income      &  0.0000652594 & 0.002101188 &  0.03105833 & 0.9753701\\\\\n",
       "\t picket      &  0.0223771929 & 0.084639962 &  0.26438094 & 0.7927795\\\\\n",
       "\\end{tabular}\n"
      ],
      "text/markdown": [
       "\n",
       "A tibble: 8 × 5\n",
       "\n",
       "| term &lt;chr&gt; | estimate &lt;dbl&gt; | std.error &lt;dbl&gt; | statistic &lt;dbl&gt; | p.value &lt;dbl&gt; |\n",
       "|---|---|---|---|---|\n",
       "| (Intercept) |  0.8973606106 | 0.786093091 |  1.14154497 | 0.2601101 |\n",
       "| religion    |  0.0480774987 | 0.075204771 |  0.63928788 | 0.5261073 |\n",
       "| price       | -0.0134525362 | 0.037889433 | -0.35504717 | 0.7243310 |\n",
       "| laws        | -0.5879502539 | 2.179388159 | -0.26977767 | 0.7886524 |\n",
       "| funds       |  0.1956207473 | 3.709311583 |  0.05273775 | 0.9581909 |\n",
       "| educ        |  0.0288684135 | 0.174382545 |  0.16554646 | 0.8693082 |\n",
       "| income      |  0.0000652594 | 0.002101188 |  0.03105833 | 0.9753701 |\n",
       "| picket      |  0.0223771929 | 0.084639962 |  0.26438094 | 0.7927795 |\n",
       "\n"
      ],
      "text/plain": [
       "  term        estimate      std.error   statistic   p.value  \n",
       "1 (Intercept)  0.8973606106 0.786093091  1.14154497 0.2601101\n",
       "2 religion     0.0480774987 0.075204771  0.63928788 0.5261073\n",
       "3 price       -0.0134525362 0.037889433 -0.35504717 0.7243310\n",
       "4 laws        -0.5879502539 2.179388159 -0.26977767 0.7886524\n",
       "5 funds        0.1956207473 3.709311583  0.05273775 0.9581909\n",
       "6 educ         0.0288684135 0.174382545  0.16554646 0.8693082\n",
       "7 income       0.0000652594 0.002101188  0.03105833 0.9753701\n",
       "8 picket       0.0223771929 0.084639962  0.26438094 0.7927795"
      ]
     },
     "metadata": {},
     "output_type": "display_data"
    },
    {
     "data": {
      "text/html": [
       "<table class=\"dataframe\">\n",
       "<caption>A tibble: 1 × 12</caption>\n",
       "<thead>\n",
       "\t<tr><th scope=col>r.squared</th><th scope=col>adj.r.squared</th><th scope=col>sigma</th><th scope=col>statistic</th><th scope=col>p.value</th><th scope=col>df</th><th scope=col>logLik</th><th scope=col>AIC</th><th scope=col>BIC</th><th scope=col>deviance</th><th scope=col>df.residual</th><th scope=col>nobs</th></tr>\n",
       "\t<tr><th scope=col>&lt;dbl&gt;</th><th scope=col>&lt;dbl&gt;</th><th scope=col>&lt;dbl&gt;</th><th scope=col>&lt;dbl&gt;</th><th scope=col>&lt;dbl&gt;</th><th scope=col>&lt;dbl&gt;</th><th scope=col>&lt;dbl&gt;</th><th scope=col>&lt;dbl&gt;</th><th scope=col>&lt;dbl&gt;</th><th scope=col>&lt;dbl&gt;</th><th scope=col>&lt;int&gt;</th><th scope=col>&lt;int&gt;</th></tr>\n",
       "</thead>\n",
       "<tbody>\n",
       "\t<tr><td>0.07414331</td><td>-0.08016613</td><td>0.3473963</td><td>0.4804846</td><td>0.8432493</td><td>7</td><td>-13.72363</td><td>45.44726</td><td>62.65547</td><td>5.068735</td><td>42</td><td>50</td></tr>\n",
       "</tbody>\n",
       "</table>\n"
      ],
      "text/latex": [
       "A tibble: 1 × 12\n",
       "\\begin{tabular}{llllllllllll}\n",
       " r.squared & adj.r.squared & sigma & statistic & p.value & df & logLik & AIC & BIC & deviance & df.residual & nobs\\\\\n",
       " <dbl> & <dbl> & <dbl> & <dbl> & <dbl> & <dbl> & <dbl> & <dbl> & <dbl> & <dbl> & <int> & <int>\\\\\n",
       "\\hline\n",
       "\t 0.07414331 & -0.08016613 & 0.3473963 & 0.4804846 & 0.8432493 & 7 & -13.72363 & 45.44726 & 62.65547 & 5.068735 & 42 & 50\\\\\n",
       "\\end{tabular}\n"
      ],
      "text/markdown": [
       "\n",
       "A tibble: 1 × 12\n",
       "\n",
       "| r.squared &lt;dbl&gt; | adj.r.squared &lt;dbl&gt; | sigma &lt;dbl&gt; | statistic &lt;dbl&gt; | p.value &lt;dbl&gt; | df &lt;dbl&gt; | logLik &lt;dbl&gt; | AIC &lt;dbl&gt; | BIC &lt;dbl&gt; | deviance &lt;dbl&gt; | df.residual &lt;int&gt; | nobs &lt;int&gt; |\n",
       "|---|---|---|---|---|---|---|---|---|---|---|---|\n",
       "| 0.07414331 | -0.08016613 | 0.3473963 | 0.4804846 | 0.8432493 | 7 | -13.72363 | 45.44726 | 62.65547 | 5.068735 | 42 | 50 |\n",
       "\n"
      ],
      "text/plain": [
       "      r.squared  adj.r.squared sigma     statistic p.value   df logLik   \n",
       "value 0.07414331 -0.08016613   0.3473963 0.4804846 0.8432493 7  -13.72363\n",
       "      AIC      BIC      deviance df.residual nobs\n",
       "value 45.44726 62.65547 5.068735 42          50  "
      ]
     },
     "metadata": {},
     "output_type": "display_data"
    }
   ],
   "source": [
    "df <- read_excel(\"data/Table5_1.xls\")\n",
    "model <- lm(abortion ~ religion + price + laws + funds + educ + income + picket, data =df)\n",
    "\n",
    "fitted_values <- fitted(model)\n",
    "\n",
    "df_transformed <- df\n",
    "\n",
    "df_transformed <- df_transformed %>%\n",
    "  mutate(across(where(is.numeric), ~ ./fitted_values))\n",
    "\n",
    "\n",
    "model2 <- lm(abortion ~ religion + price + laws + funds + \n",
    "             educ + income + picket, data = df_transformed)\n",
    "tidy(model2)\n",
    "glance(model2)"
   ]
  },
  {
   "cell_type": "code",
   "execution_count": 11,
   "id": "34fc9515-1399-4161-a96d-eb10a5011720",
   "metadata": {},
   "outputs": [
    {
     "data": {
      "text/plain": [
       "\n",
       "\tstudentized Breusch-Pagan test\n",
       "\n",
       "data:  model2\n",
       "BP = 12.679, df = 7, p-value = 0.08034\n"
      ]
     },
     "metadata": {},
     "output_type": "display_data"
    }
   ],
   "source": [
    "bptest(model2)"
   ]
  },
  {
   "cell_type": "code",
   "execution_count": 12,
   "id": "20114bb9-f3a7-4ba2-8f4e-ec04d114782f",
   "metadata": {},
   "outputs": [
    {
     "data": {
      "text/html": [
       "<table class=\"dataframe\">\n",
       "<caption>A tibble: 8 × 5</caption>\n",
       "<thead>\n",
       "\t<tr><th scope=col>term</th><th scope=col>estimate</th><th scope=col>std.error</th><th scope=col>statistic</th><th scope=col>p.value</th></tr>\n",
       "\t<tr><th scope=col>&lt;chr&gt;</th><th scope=col>&lt;dbl&gt;</th><th scope=col>&lt;dbl&gt;</th><th scope=col>&lt;dbl&gt;</th><th scope=col>&lt;dbl&gt;</th></tr>\n",
       "</thead>\n",
       "<tbody>\n",
       "\t<tr><td>(Intercept)</td><td> 2.8332642773</td><td>7.552630e-01</td><td> 3.7513612</td><td>5.328625e-04</td></tr>\n",
       "\t<tr><td>religion   </td><td> 0.0004575404</td><td>4.326942e-03</td><td> 0.1057422</td><td>9.162903e-01</td></tr>\n",
       "\t<tr><td>price      </td><td>-0.0031121205</td><td>1.113196e-03</td><td>-2.7956615</td><td>7.776827e-03</td></tr>\n",
       "\t<tr><td>laws       </td><td>-0.0128839175</td><td>1.190461e-01</td><td>-0.1082263</td><td>9.143316e-01</td></tr>\n",
       "\t<tr><td>funds      </td><td> 0.0876876479</td><td>1.394288e-01</td><td> 0.6289064</td><td>5.328161e-01</td></tr>\n",
       "\t<tr><td>educ       </td><td>-0.0144883794</td><td>9.996011e-03</td><td>-1.4494161</td><td>1.546477e-01</td></tr>\n",
       "\t<tr><td>income     </td><td> 0.0001264777</td><td>2.280113e-05</td><td> 5.5469947</td><td>1.775782e-06</td></tr>\n",
       "\t<tr><td>picket     </td><td>-0.0065152887</td><td>2.112858e-03</td><td>-3.0836379</td><td>3.606917e-03</td></tr>\n",
       "</tbody>\n",
       "</table>\n"
      ],
      "text/latex": [
       "A tibble: 8 × 5\n",
       "\\begin{tabular}{lllll}\n",
       " term & estimate & std.error & statistic & p.value\\\\\n",
       " <chr> & <dbl> & <dbl> & <dbl> & <dbl>\\\\\n",
       "\\hline\n",
       "\t (Intercept) &  2.8332642773 & 7.552630e-01 &  3.7513612 & 5.328625e-04\\\\\n",
       "\t religion    &  0.0004575404 & 4.326942e-03 &  0.1057422 & 9.162903e-01\\\\\n",
       "\t price       & -0.0031121205 & 1.113196e-03 & -2.7956615 & 7.776827e-03\\\\\n",
       "\t laws        & -0.0128839175 & 1.190461e-01 & -0.1082263 & 9.143316e-01\\\\\n",
       "\t funds       &  0.0876876479 & 1.394288e-01 &  0.6289064 & 5.328161e-01\\\\\n",
       "\t educ        & -0.0144883794 & 9.996011e-03 & -1.4494161 & 1.546477e-01\\\\\n",
       "\t income      &  0.0001264777 & 2.280113e-05 &  5.5469947 & 1.775782e-06\\\\\n",
       "\t picket      & -0.0065152887 & 2.112858e-03 & -3.0836379 & 3.606917e-03\\\\\n",
       "\\end{tabular}\n"
      ],
      "text/markdown": [
       "\n",
       "A tibble: 8 × 5\n",
       "\n",
       "| term &lt;chr&gt; | estimate &lt;dbl&gt; | std.error &lt;dbl&gt; | statistic &lt;dbl&gt; | p.value &lt;dbl&gt; |\n",
       "|---|---|---|---|---|\n",
       "| (Intercept) |  2.8332642773 | 7.552630e-01 |  3.7513612 | 5.328625e-04 |\n",
       "| religion    |  0.0004575404 | 4.326942e-03 |  0.1057422 | 9.162903e-01 |\n",
       "| price       | -0.0031121205 | 1.113196e-03 | -2.7956615 | 7.776827e-03 |\n",
       "| laws        | -0.0128839175 | 1.190461e-01 | -0.1082263 | 9.143316e-01 |\n",
       "| funds       |  0.0876876479 | 1.394288e-01 |  0.6289064 | 5.328161e-01 |\n",
       "| educ        | -0.0144883794 | 9.996011e-03 | -1.4494161 | 1.546477e-01 |\n",
       "| income      |  0.0001264777 | 2.280113e-05 |  5.5469947 | 1.775782e-06 |\n",
       "| picket      | -0.0065152887 | 2.112858e-03 | -3.0836379 | 3.606917e-03 |\n",
       "\n"
      ],
      "text/plain": [
       "  term        estimate      std.error    statistic  p.value     \n",
       "1 (Intercept)  2.8332642773 7.552630e-01  3.7513612 5.328625e-04\n",
       "2 religion     0.0004575404 4.326942e-03  0.1057422 9.162903e-01\n",
       "3 price       -0.0031121205 1.113196e-03 -2.7956615 7.776827e-03\n",
       "4 laws        -0.0128839175 1.190461e-01 -0.1082263 9.143316e-01\n",
       "5 funds        0.0876876479 1.394288e-01  0.6289064 5.328161e-01\n",
       "6 educ        -0.0144883794 9.996011e-03 -1.4494161 1.546477e-01\n",
       "7 income       0.0001264777 2.280113e-05  5.5469947 1.775782e-06\n",
       "8 picket      -0.0065152887 2.112858e-03 -3.0836379 3.606917e-03"
      ]
     },
     "metadata": {},
     "output_type": "display_data"
    },
    {
     "data": {
      "text/html": [
       "<table class=\"dataframe\">\n",
       "<caption>A tibble: 1 × 12</caption>\n",
       "<thead>\n",
       "\t<tr><th scope=col>r.squared</th><th scope=col>adj.r.squared</th><th scope=col>sigma</th><th scope=col>statistic</th><th scope=col>p.value</th><th scope=col>df</th><th scope=col>logLik</th><th scope=col>AIC</th><th scope=col>BIC</th><th scope=col>deviance</th><th scope=col>df.residual</th><th scope=col>nobs</th></tr>\n",
       "\t<tr><th scope=col>&lt;dbl&gt;</th><th scope=col>&lt;dbl&gt;</th><th scope=col>&lt;dbl&gt;</th><th scope=col>&lt;dbl&gt;</th><th scope=col>&lt;dbl&gt;</th><th scope=col>&lt;dbl&gt;</th><th scope=col>&lt;dbl&gt;</th><th scope=col>&lt;dbl&gt;</th><th scope=col>&lt;dbl&gt;</th><th scope=col>&lt;dbl&gt;</th><th scope=col>&lt;int&gt;</th><th scope=col>&lt;int&gt;</th></tr>\n",
       "</thead>\n",
       "<tbody>\n",
       "\t<tr><td>0.5891796</td><td>0.5207096</td><td>0.3537762</td><td>8.604923</td><td>1.649353e-06</td><td>7</td><td>-14.63355</td><td>47.26711</td><td>64.47531</td><td>5.256619</td><td>42</td><td>50</td></tr>\n",
       "</tbody>\n",
       "</table>\n"
      ],
      "text/latex": [
       "A tibble: 1 × 12\n",
       "\\begin{tabular}{llllllllllll}\n",
       " r.squared & adj.r.squared & sigma & statistic & p.value & df & logLik & AIC & BIC & deviance & df.residual & nobs\\\\\n",
       " <dbl> & <dbl> & <dbl> & <dbl> & <dbl> & <dbl> & <dbl> & <dbl> & <dbl> & <dbl> & <int> & <int>\\\\\n",
       "\\hline\n",
       "\t 0.5891796 & 0.5207096 & 0.3537762 & 8.604923 & 1.649353e-06 & 7 & -14.63355 & 47.26711 & 64.47531 & 5.256619 & 42 & 50\\\\\n",
       "\\end{tabular}\n"
      ],
      "text/markdown": [
       "\n",
       "A tibble: 1 × 12\n",
       "\n",
       "| r.squared &lt;dbl&gt; | adj.r.squared &lt;dbl&gt; | sigma &lt;dbl&gt; | statistic &lt;dbl&gt; | p.value &lt;dbl&gt; | df &lt;dbl&gt; | logLik &lt;dbl&gt; | AIC &lt;dbl&gt; | BIC &lt;dbl&gt; | deviance &lt;dbl&gt; | df.residual &lt;int&gt; | nobs &lt;int&gt; |\n",
       "|---|---|---|---|---|---|---|---|---|---|---|---|\n",
       "| 0.5891796 | 0.5207096 | 0.3537762 | 8.604923 | 1.649353e-06 | 7 | -14.63355 | 47.26711 | 64.47531 | 5.256619 | 42 | 50 |\n",
       "\n"
      ],
      "text/plain": [
       "      r.squared adj.r.squared sigma     statistic p.value      df logLik   \n",
       "value 0.5891796 0.5207096     0.3537762 8.604923  1.649353e-06 7  -14.63355\n",
       "      AIC      BIC      deviance df.residual nobs\n",
       "value 47.26711 64.47531 5.256619 42          50  "
      ]
     },
     "metadata": {},
     "output_type": "display_data"
    }
   ],
   "source": [
    "model3 <- lm( lnabortion ~ religion + price + laws + funds + educ + income + picket, data = df)\n",
    "tidy(model3)\n",
    "glance(model3)"
   ]
  },
  {
   "cell_type": "markdown",
   "id": "c3a5c439-fd55-4459-b360-e22e1619d801",
   "metadata": {},
   "source": [
    "if price goes up by a dollar, the relative\n",
    "change in the abortion rate is –0.003 or about –0.3%"
   ]
  },
  {
   "cell_type": "code",
   "execution_count": 13,
   "id": "a810f48a-ce78-4a32-ace5-62aa7080f4f1",
   "metadata": {},
   "outputs": [
    {
     "data": {
      "text/plain": [
       "\n",
       "\tstudentized Breusch-Pagan test\n",
       "\n",
       "data:  model3\n",
       "BP = 7.95, df = 7, p-value = 0.337\n"
      ]
     },
     "metadata": {},
     "output_type": "display_data"
    }
   ],
   "source": [
    "bptest(model3)"
   ]
  },
  {
   "cell_type": "markdown",
   "id": "4d5c9e0b-37d7-4ccd-8a33-7626b0f5aebc",
   "metadata": {},
   "source": [
    "## White Robust standard errors"
   ]
  },
  {
   "cell_type": "code",
   "execution_count": 14,
   "id": "00b8d683-e798-4958-ae87-078d318fd9f4",
   "metadata": {},
   "outputs": [
    {
     "data": {
      "text/plain": [
       "    Estimate          Std. Error           t value           Pr(>|t|)        \n",
       " Min.   :-0.87310   Min.   : 0.000468   Min.   :-3.1548   Min.   :0.0000069  \n",
       " 1st Qu.:-0.15947   1st Qu.: 0.033729   1st Qu.:-1.7763   1st Qu.:0.0622757  \n",
       " Median :-0.01998   Median : 0.119371   Median :-0.1347   Median :0.1924175  \n",
       " Mean   : 1.97585   Mean   : 2.304262   Mean   : 0.0245   Mean   :0.2735694  \n",
       " 3rd Qu.: 0.72005   3rd Qu.: 1.942125   3rd Qu.: 1.0086   3rd Qu.:0.3932858  \n",
       " Max.   :14.28396   Max.   :13.657414   Max.   : 5.1341   Max.   :0.7952640  "
      ]
     },
     "metadata": {},
     "output_type": "display_data"
    }
   ],
   "source": [
    "robust_se <-coeftest(model, vcov = vcovHC(model, type = \"HC0\"))\n",
    "summary(robust_se)"
   ]
  },
  {
   "cell_type": "code",
   "execution_count": 15,
   "id": "50224612-8168-4ed3-b2ea-22465575421e",
   "metadata": {},
   "outputs": [
    {
     "data": {
      "text/html": [
       "<table class=\"dataframe\">\n",
       "<caption>A tibble: 8 × 5</caption>\n",
       "<thead>\n",
       "\t<tr><th scope=col>term</th><th scope=col>estimate</th><th scope=col>std.error</th><th scope=col>statistic</th><th scope=col>p.value</th></tr>\n",
       "\t<tr><th scope=col>&lt;chr&gt;</th><th scope=col>&lt;dbl&gt;</th><th scope=col>&lt;dbl&gt;</th><th scope=col>&lt;dbl&gt;</th><th scope=col>&lt;dbl&gt;</th></tr>\n",
       "</thead>\n",
       "<tbody>\n",
       "\t<tr><td>(Intercept)</td><td>14.283957280</td><td>1.365741e+01</td><td> 1.0458757</td><td>3.016005e-01</td></tr>\n",
       "\t<tr><td>religion   </td><td> 0.020070901</td><td>7.686001e-02</td><td> 0.2611358</td><td>7.952640e-01</td></tr>\n",
       "\t<tr><td>price      </td><td>-0.042363106</td><td>2.377806e-02</td><td>-1.7816051</td><td>8.204549e-02</td></tr>\n",
       "\t<tr><td>laws       </td><td>-0.873101786</td><td>1.645923e+00</td><td>-0.5304633</td><td>5.985845e-01</td></tr>\n",
       "\t<tr><td>funds      </td><td> 2.820003024</td><td>2.830730e+00</td><td> 0.9962106</td><td>3.248529e-01</td></tr>\n",
       "\t<tr><td>educ       </td><td>-0.287255121</td><td>1.618822e-01</td><td>-1.7744696</td><td>8.323437e-02</td></tr>\n",
       "\t<tr><td>income     </td><td> 0.002400682</td><td>4.675923e-04</td><td> 5.1341349</td><td>6.879939e-06</td></tr>\n",
       "\t<tr><td>picket     </td><td>-0.116871214</td><td>3.704561e-02</td><td>-3.1547927</td><td>2.966278e-03</td></tr>\n",
       "</tbody>\n",
       "</table>\n"
      ],
      "text/latex": [
       "A tibble: 8 × 5\n",
       "\\begin{tabular}{lllll}\n",
       " term & estimate & std.error & statistic & p.value\\\\\n",
       " <chr> & <dbl> & <dbl> & <dbl> & <dbl>\\\\\n",
       "\\hline\n",
       "\t (Intercept) & 14.283957280 & 1.365741e+01 &  1.0458757 & 3.016005e-01\\\\\n",
       "\t religion    &  0.020070901 & 7.686001e-02 &  0.2611358 & 7.952640e-01\\\\\n",
       "\t price       & -0.042363106 & 2.377806e-02 & -1.7816051 & 8.204549e-02\\\\\n",
       "\t laws        & -0.873101786 & 1.645923e+00 & -0.5304633 & 5.985845e-01\\\\\n",
       "\t funds       &  2.820003024 & 2.830730e+00 &  0.9962106 & 3.248529e-01\\\\\n",
       "\t educ        & -0.287255121 & 1.618822e-01 & -1.7744696 & 8.323437e-02\\\\\n",
       "\t income      &  0.002400682 & 4.675923e-04 &  5.1341349 & 6.879939e-06\\\\\n",
       "\t picket      & -0.116871214 & 3.704561e-02 & -3.1547927 & 2.966278e-03\\\\\n",
       "\\end{tabular}\n"
      ],
      "text/markdown": [
       "\n",
       "A tibble: 8 × 5\n",
       "\n",
       "| term &lt;chr&gt; | estimate &lt;dbl&gt; | std.error &lt;dbl&gt; | statistic &lt;dbl&gt; | p.value &lt;dbl&gt; |\n",
       "|---|---|---|---|---|\n",
       "| (Intercept) | 14.283957280 | 1.365741e+01 |  1.0458757 | 3.016005e-01 |\n",
       "| religion    |  0.020070901 | 7.686001e-02 |  0.2611358 | 7.952640e-01 |\n",
       "| price       | -0.042363106 | 2.377806e-02 | -1.7816051 | 8.204549e-02 |\n",
       "| laws        | -0.873101786 | 1.645923e+00 | -0.5304633 | 5.985845e-01 |\n",
       "| funds       |  2.820003024 | 2.830730e+00 |  0.9962106 | 3.248529e-01 |\n",
       "| educ        | -0.287255121 | 1.618822e-01 | -1.7744696 | 8.323437e-02 |\n",
       "| income      |  0.002400682 | 4.675923e-04 |  5.1341349 | 6.879939e-06 |\n",
       "| picket      | -0.116871214 | 3.704561e-02 | -3.1547927 | 2.966278e-03 |\n",
       "\n"
      ],
      "text/plain": [
       "  term        estimate     std.error    statistic  p.value     \n",
       "1 (Intercept) 14.283957280 1.365741e+01  1.0458757 3.016005e-01\n",
       "2 religion     0.020070901 7.686001e-02  0.2611358 7.952640e-01\n",
       "3 price       -0.042363106 2.377806e-02 -1.7816051 8.204549e-02\n",
       "4 laws        -0.873101786 1.645923e+00 -0.5304633 5.985845e-01\n",
       "5 funds        2.820003024 2.830730e+00  0.9962106 3.248529e-01\n",
       "6 educ        -0.287255121 1.618822e-01 -1.7744696 8.323437e-02\n",
       "7 income       0.002400682 4.675923e-04  5.1341349 6.879939e-06\n",
       "8 picket      -0.116871214 3.704561e-02 -3.1547927 2.966278e-03"
      ]
     },
     "metadata": {},
     "output_type": "display_data"
    }
   ],
   "source": [
    "tidy(robust_se)"
   ]
  },
  {
   "cell_type": "code",
   "execution_count": 16,
   "id": "97982fd1-b380-49f3-bd42-13a0f85913e3",
   "metadata": {},
   "outputs": [
    {
     "name": "stderr",
     "output_type": "stream",
     "text": [
      "Original model not retained as part of coeftest object. For additional model summary information (r.squared, df, etc.), consider passing `glance.coeftest()` an object where the underlying model has been saved, i.e.`lmtest::coeftest(..., save = TRUE)`.\n",
      "\u001b[90mThis message is displayed once per session.\u001b[39m\n"
     ]
    },
    {
     "data": {
      "text/html": [
       "<table class=\"dataframe\">\n",
       "<caption>A tibble: 1 × 4</caption>\n",
       "<thead>\n",
       "\t<tr><th scope=col>logLik</th><th scope=col>AIC</th><th scope=col>BIC</th><th scope=col>nobs</th></tr>\n",
       "\t<tr><th scope=col>&lt;chr&gt;</th><th scope=col>&lt;dbl&gt;</th><th scope=col>&lt;dbl&gt;</th><th scope=col>&lt;int&gt;</th></tr>\n",
       "</thead>\n",
       "<tbody>\n",
       "\t<tr><td>-164.329</td><td>346.6572</td><td>363.8655</td><td>50</td></tr>\n",
       "</tbody>\n",
       "</table>\n"
      ],
      "text/latex": [
       "A tibble: 1 × 4\n",
       "\\begin{tabular}{llll}\n",
       " logLik & AIC & BIC & nobs\\\\\n",
       " <chr> & <dbl> & <dbl> & <int>\\\\\n",
       "\\hline\n",
       "\t -164.329 & 346.6572 & 363.8655 & 50\\\\\n",
       "\\end{tabular}\n"
      ],
      "text/markdown": [
       "\n",
       "A tibble: 1 × 4\n",
       "\n",
       "| logLik &lt;chr&gt; | AIC &lt;dbl&gt; | BIC &lt;dbl&gt; | nobs &lt;int&gt; |\n",
       "|---|---|---|---|\n",
       "| -164.329 | 346.6572 | 363.8655 | 50 |\n",
       "\n"
      ],
      "text/plain": [
       "  logLik   AIC      BIC      nobs\n",
       "1 -164.329 346.6572 363.8655 50  "
      ]
     },
     "metadata": {},
     "output_type": "display_data"
    }
   ],
   "source": [
    "glance(robust_se)"
   ]
  },
  {
   "cell_type": "code",
   "execution_count": 17,
   "id": "edf1d86e-07c2-4d3b-8db5-bc84d0a022ec",
   "metadata": {},
   "outputs": [
    {
     "data": {
      "text/html": [
       "<table class=\"dataframe\">\n",
       "<caption>A tibble: 6 × 17</caption>\n",
       "<thead>\n",
       "\t<tr><th scope=col>obs</th><th scope=col>wage</th><th scope=col>female</th><th scope=col>nonwhite</th><th scope=col>union</th><th scope=col>education</th><th scope=col>exper</th><th scope=col>age</th><th scope=col>wind</th><th scope=col>femalenonw</th><th scope=col>lnwage</th><th scope=col>education_exper</th><th scope=col>_Ifemale_1</th><th scope=col>_IfemXeduca_1</th><th scope=col>_IfemXexper_1</th><th scope=col>_Inonwhite_1</th><th scope=col>_InonXeduca_1</th></tr>\n",
       "\t<tr><th scope=col>&lt;dbl&gt;</th><th scope=col>&lt;dbl&gt;</th><th scope=col>&lt;dbl&gt;</th><th scope=col>&lt;dbl&gt;</th><th scope=col>&lt;dbl&gt;</th><th scope=col>&lt;dbl&gt;</th><th scope=col>&lt;dbl&gt;</th><th scope=col>&lt;dbl&gt;</th><th scope=col>&lt;dbl&gt;</th><th scope=col>&lt;dbl&gt;</th><th scope=col>&lt;dbl&gt;</th><th scope=col>&lt;dbl&gt;</th><th scope=col>&lt;dbl&gt;</th><th scope=col>&lt;dbl&gt;</th><th scope=col>&lt;dbl&gt;</th><th scope=col>&lt;dbl&gt;</th><th scope=col>&lt;dbl&gt;</th></tr>\n",
       "</thead>\n",
       "<tbody>\n",
       "\t<tr><td>1</td><td>11.55</td><td>1</td><td>0</td><td>0</td><td>12</td><td>20</td><td>38</td><td>1</td><td>0</td><td>2.446686</td><td>240</td><td>1</td><td>12</td><td>20</td><td>0</td><td> 0</td></tr>\n",
       "\t<tr><td>2</td><td> 5.00</td><td>0</td><td>0</td><td>0</td><td> 9</td><td> 9</td><td>24</td><td>0</td><td>0</td><td>1.609438</td><td> 81</td><td>0</td><td> 0</td><td> 0</td><td>0</td><td> 0</td></tr>\n",
       "\t<tr><td>3</td><td>12.00</td><td>0</td><td>0</td><td>0</td><td>16</td><td>15</td><td>37</td><td>1</td><td>0</td><td>2.484907</td><td>240</td><td>0</td><td> 0</td><td> 0</td><td>0</td><td> 0</td></tr>\n",
       "\t<tr><td>4</td><td> 7.00</td><td>0</td><td>1</td><td>1</td><td>14</td><td>38</td><td>58</td><td>0</td><td>0</td><td>1.945910</td><td>532</td><td>0</td><td> 0</td><td> 0</td><td>1</td><td>14</td></tr>\n",
       "\t<tr><td>5</td><td>21.15</td><td>1</td><td>1</td><td>0</td><td>16</td><td>19</td><td>41</td><td>1</td><td>1</td><td>3.051640</td><td>304</td><td>1</td><td>16</td><td>19</td><td>1</td><td>16</td></tr>\n",
       "\t<tr><td>6</td><td> 6.92</td><td>1</td><td>0</td><td>0</td><td>12</td><td> 4</td><td>22</td><td>1</td><td>0</td><td>1.934416</td><td> 48</td><td>1</td><td>12</td><td> 4</td><td>0</td><td> 0</td></tr>\n",
       "</tbody>\n",
       "</table>\n"
      ],
      "text/latex": [
       "A tibble: 6 × 17\n",
       "\\begin{tabular}{lllllllllllllllll}\n",
       " obs & wage & female & nonwhite & union & education & exper & age & wind & femalenonw & lnwage & education\\_exper & \\_Ifemale\\_1 & \\_IfemXeduca\\_1 & \\_IfemXexper\\_1 & \\_Inonwhite\\_1 & \\_InonXeduca\\_1\\\\\n",
       " <dbl> & <dbl> & <dbl> & <dbl> & <dbl> & <dbl> & <dbl> & <dbl> & <dbl> & <dbl> & <dbl> & <dbl> & <dbl> & <dbl> & <dbl> & <dbl> & <dbl>\\\\\n",
       "\\hline\n",
       "\t 1 & 11.55 & 1 & 0 & 0 & 12 & 20 & 38 & 1 & 0 & 2.446686 & 240 & 1 & 12 & 20 & 0 &  0\\\\\n",
       "\t 2 &  5.00 & 0 & 0 & 0 &  9 &  9 & 24 & 0 & 0 & 1.609438 &  81 & 0 &  0 &  0 & 0 &  0\\\\\n",
       "\t 3 & 12.00 & 0 & 0 & 0 & 16 & 15 & 37 & 1 & 0 & 2.484907 & 240 & 0 &  0 &  0 & 0 &  0\\\\\n",
       "\t 4 &  7.00 & 0 & 1 & 1 & 14 & 38 & 58 & 0 & 0 & 1.945910 & 532 & 0 &  0 &  0 & 1 & 14\\\\\n",
       "\t 5 & 21.15 & 1 & 1 & 0 & 16 & 19 & 41 & 1 & 1 & 3.051640 & 304 & 1 & 16 & 19 & 1 & 16\\\\\n",
       "\t 6 &  6.92 & 1 & 0 & 0 & 12 &  4 & 22 & 1 & 0 & 1.934416 &  48 & 1 & 12 &  4 & 0 &  0\\\\\n",
       "\\end{tabular}\n"
      ],
      "text/markdown": [
       "\n",
       "A tibble: 6 × 17\n",
       "\n",
       "| obs &lt;dbl&gt; | wage &lt;dbl&gt; | female &lt;dbl&gt; | nonwhite &lt;dbl&gt; | union &lt;dbl&gt; | education &lt;dbl&gt; | exper &lt;dbl&gt; | age &lt;dbl&gt; | wind &lt;dbl&gt; | femalenonw &lt;dbl&gt; | lnwage &lt;dbl&gt; | education_exper &lt;dbl&gt; | _Ifemale_1 &lt;dbl&gt; | _IfemXeduca_1 &lt;dbl&gt; | _IfemXexper_1 &lt;dbl&gt; | _Inonwhite_1 &lt;dbl&gt; | _InonXeduca_1 &lt;dbl&gt; |\n",
       "|---|---|---|---|---|---|---|---|---|---|---|---|---|---|---|---|---|\n",
       "| 1 | 11.55 | 1 | 0 | 0 | 12 | 20 | 38 | 1 | 0 | 2.446686 | 240 | 1 | 12 | 20 | 0 |  0 |\n",
       "| 2 |  5.00 | 0 | 0 | 0 |  9 |  9 | 24 | 0 | 0 | 1.609438 |  81 | 0 |  0 |  0 | 0 |  0 |\n",
       "| 3 | 12.00 | 0 | 0 | 0 | 16 | 15 | 37 | 1 | 0 | 2.484907 | 240 | 0 |  0 |  0 | 0 |  0 |\n",
       "| 4 |  7.00 | 0 | 1 | 1 | 14 | 38 | 58 | 0 | 0 | 1.945910 | 532 | 0 |  0 |  0 | 1 | 14 |\n",
       "| 5 | 21.15 | 1 | 1 | 0 | 16 | 19 | 41 | 1 | 1 | 3.051640 | 304 | 1 | 16 | 19 | 1 | 16 |\n",
       "| 6 |  6.92 | 1 | 0 | 0 | 12 |  4 | 22 | 1 | 0 | 1.934416 |  48 | 1 | 12 |  4 | 0 |  0 |\n",
       "\n"
      ],
      "text/plain": [
       "  obs wage  female nonwhite union education exper age wind femalenonw lnwage  \n",
       "1 1   11.55 1      0        0     12        20    38  1    0          2.446686\n",
       "2 2    5.00 0      0        0      9         9    24  0    0          1.609438\n",
       "3 3   12.00 0      0        0     16        15    37  1    0          2.484907\n",
       "4 4    7.00 0      1        1     14        38    58  0    0          1.945910\n",
       "5 5   21.15 1      1        0     16        19    41  1    1          3.051640\n",
       "6 6    6.92 1      0        0     12         4    22  1    0          1.934416\n",
       "  education_exper _Ifemale_1 _IfemXeduca_1 _IfemXexper_1 _Inonwhite_1\n",
       "1 240             1          12            20            0           \n",
       "2  81             0           0             0            0           \n",
       "3 240             0           0             0            0           \n",
       "4 532             0           0             0            1           \n",
       "5 304             1          16            19            1           \n",
       "6  48             1          12             4            0           \n",
       "  _InonXeduca_1\n",
       "1  0           \n",
       "2  0           \n",
       "3  0           \n",
       "4 14           \n",
       "5 16           \n",
       "6  0           "
      ]
     },
     "metadata": {},
     "output_type": "display_data"
    }
   ],
   "source": [
    "df2 <- read_excel(\"data/Table1_1.xls\")\n",
    "head(df2)"
   ]
  },
  {
   "cell_type": "code",
   "execution_count": 18,
   "id": "e78a837c-c3c4-43c5-ace5-41b28d717181",
   "metadata": {},
   "outputs": [
    {
     "data": {
      "text/html": [
       "<table class=\"dataframe\">\n",
       "<caption>A tibble: 6 × 5</caption>\n",
       "<thead>\n",
       "\t<tr><th scope=col>term</th><th scope=col>estimate</th><th scope=col>std.error</th><th scope=col>statistic</th><th scope=col>p.value</th></tr>\n",
       "\t<tr><th scope=col>&lt;chr&gt;</th><th scope=col>&lt;dbl&gt;</th><th scope=col>&lt;dbl&gt;</th><th scope=col>&lt;dbl&gt;</th><th scope=col>&lt;dbl&gt;</th></tr>\n",
       "</thead>\n",
       "<tbody>\n",
       "\t<tr><td>(Intercept)</td><td>-7.1833382</td><td>1.01578786</td><td>-7.071691</td><td>2.508276e-12</td></tr>\n",
       "\t<tr><td>female     </td><td>-3.0748754</td><td>0.36461621</td><td>-8.433184</td><td>8.939423e-17</td></tr>\n",
       "\t<tr><td>nonwhite   </td><td>-1.5653133</td><td>0.50918754</td><td>-3.074139</td><td>2.155664e-03</td></tr>\n",
       "\t<tr><td>union      </td><td> 1.0959758</td><td>0.50607809</td><td> 2.165626</td><td>3.052356e-02</td></tr>\n",
       "\t<tr><td>education  </td><td> 1.3703010</td><td>0.06590421</td><td>20.792312</td><td>5.507613e-83</td></tr>\n",
       "\t<tr><td>exper      </td><td> 0.1666065</td><td>0.01604756</td><td>10.382050</td><td>2.659960e-24</td></tr>\n",
       "</tbody>\n",
       "</table>\n"
      ],
      "text/latex": [
       "A tibble: 6 × 5\n",
       "\\begin{tabular}{lllll}\n",
       " term & estimate & std.error & statistic & p.value\\\\\n",
       " <chr> & <dbl> & <dbl> & <dbl> & <dbl>\\\\\n",
       "\\hline\n",
       "\t (Intercept) & -7.1833382 & 1.01578786 & -7.071691 & 2.508276e-12\\\\\n",
       "\t female      & -3.0748754 & 0.36461621 & -8.433184 & 8.939423e-17\\\\\n",
       "\t nonwhite    & -1.5653133 & 0.50918754 & -3.074139 & 2.155664e-03\\\\\n",
       "\t union       &  1.0959758 & 0.50607809 &  2.165626 & 3.052356e-02\\\\\n",
       "\t education   &  1.3703010 & 0.06590421 & 20.792312 & 5.507613e-83\\\\\n",
       "\t exper       &  0.1666065 & 0.01604756 & 10.382050 & 2.659960e-24\\\\\n",
       "\\end{tabular}\n"
      ],
      "text/markdown": [
       "\n",
       "A tibble: 6 × 5\n",
       "\n",
       "| term &lt;chr&gt; | estimate &lt;dbl&gt; | std.error &lt;dbl&gt; | statistic &lt;dbl&gt; | p.value &lt;dbl&gt; |\n",
       "|---|---|---|---|---|\n",
       "| (Intercept) | -7.1833382 | 1.01578786 | -7.071691 | 2.508276e-12 |\n",
       "| female      | -3.0748754 | 0.36461621 | -8.433184 | 8.939423e-17 |\n",
       "| nonwhite    | -1.5653133 | 0.50918754 | -3.074139 | 2.155664e-03 |\n",
       "| union       |  1.0959758 | 0.50607809 |  2.165626 | 3.052356e-02 |\n",
       "| education   |  1.3703010 | 0.06590421 | 20.792312 | 5.507613e-83 |\n",
       "| exper       |  0.1666065 | 0.01604756 | 10.382050 | 2.659960e-24 |\n",
       "\n"
      ],
      "text/plain": [
       "  term        estimate   std.error  statistic p.value     \n",
       "1 (Intercept) -7.1833382 1.01578786 -7.071691 2.508276e-12\n",
       "2 female      -3.0748754 0.36461621 -8.433184 8.939423e-17\n",
       "3 nonwhite    -1.5653133 0.50918754 -3.074139 2.155664e-03\n",
       "4 union        1.0959758 0.50607809  2.165626 3.052356e-02\n",
       "5 education    1.3703010 0.06590421 20.792312 5.507613e-83\n",
       "6 exper        0.1666065 0.01604756 10.382050 2.659960e-24"
      ]
     },
     "metadata": {},
     "output_type": "display_data"
    },
    {
     "data": {
      "text/html": [
       "<table class=\"dataframe\">\n",
       "<caption>A tibble: 1 × 12</caption>\n",
       "<thead>\n",
       "\t<tr><th scope=col>r.squared</th><th scope=col>adj.r.squared</th><th scope=col>sigma</th><th scope=col>statistic</th><th scope=col>p.value</th><th scope=col>df</th><th scope=col>logLik</th><th scope=col>AIC</th><th scope=col>BIC</th><th scope=col>deviance</th><th scope=col>df.residual</th><th scope=col>nobs</th></tr>\n",
       "\t<tr><th scope=col>&lt;dbl&gt;</th><th scope=col>&lt;dbl&gt;</th><th scope=col>&lt;dbl&gt;</th><th scope=col>&lt;dbl&gt;</th><th scope=col>&lt;dbl&gt;</th><th scope=col>&lt;dbl&gt;</th><th scope=col>&lt;dbl&gt;</th><th scope=col>&lt;dbl&gt;</th><th scope=col>&lt;dbl&gt;</th><th scope=col>&lt;dbl&gt;</th><th scope=col>&lt;int&gt;</th><th scope=col>&lt;int&gt;</th></tr>\n",
       "</thead>\n",
       "<tbody>\n",
       "\t<tr><td>0.3233388</td><td>0.3207018</td><td>6.508137</td><td>122.6149</td><td>3.453151e-106</td><td>5</td><td>-4240.37</td><td>8494.741</td><td>8530.872</td><td>54342.54</td><td>1283</td><td>1289</td></tr>\n",
       "</tbody>\n",
       "</table>\n"
      ],
      "text/latex": [
       "A tibble: 1 × 12\n",
       "\\begin{tabular}{llllllllllll}\n",
       " r.squared & adj.r.squared & sigma & statistic & p.value & df & logLik & AIC & BIC & deviance & df.residual & nobs\\\\\n",
       " <dbl> & <dbl> & <dbl> & <dbl> & <dbl> & <dbl> & <dbl> & <dbl> & <dbl> & <dbl> & <int> & <int>\\\\\n",
       "\\hline\n",
       "\t 0.3233388 & 0.3207018 & 6.508137 & 122.6149 & 3.453151e-106 & 5 & -4240.37 & 8494.741 & 8530.872 & 54342.54 & 1283 & 1289\\\\\n",
       "\\end{tabular}\n"
      ],
      "text/markdown": [
       "\n",
       "A tibble: 1 × 12\n",
       "\n",
       "| r.squared &lt;dbl&gt; | adj.r.squared &lt;dbl&gt; | sigma &lt;dbl&gt; | statistic &lt;dbl&gt; | p.value &lt;dbl&gt; | df &lt;dbl&gt; | logLik &lt;dbl&gt; | AIC &lt;dbl&gt; | BIC &lt;dbl&gt; | deviance &lt;dbl&gt; | df.residual &lt;int&gt; | nobs &lt;int&gt; |\n",
       "|---|---|---|---|---|---|---|---|---|---|---|---|\n",
       "| 0.3233388 | 0.3207018 | 6.508137 | 122.6149 | 3.453151e-106 | 5 | -4240.37 | 8494.741 | 8530.872 | 54342.54 | 1283 | 1289 |\n",
       "\n"
      ],
      "text/plain": [
       "      r.squared adj.r.squared sigma    statistic p.value       df logLik  \n",
       "value 0.3233388 0.3207018     6.508137 122.6149  3.453151e-106 5  -4240.37\n",
       "      AIC      BIC      deviance df.residual nobs\n",
       "value 8494.741 8530.872 54342.54 1283        1289"
      ]
     },
     "metadata": {},
     "output_type": "display_data"
    }
   ],
   "source": [
    "model4 <- lm(wage ~ female + nonwhite + union + education + exper, data = df2)\n",
    "tidy(model4)\n",
    "glance(model4)"
   ]
  },
  {
   "cell_type": "code",
   "execution_count": 19,
   "id": "b83321af-8812-4073-a690-6e1e68bc097b",
   "metadata": {},
   "outputs": [
    {
     "data": {
      "text/plain": [
       "\n",
       "\tstudentized Breusch-Pagan test\n",
       "\n",
       "data:  model4\n",
       "BP = 55.327, df = 5, p-value = 1.118e-10\n"
      ]
     },
     "metadata": {},
     "output_type": "display_data"
    }
   ],
   "source": [
    "bptest(model4)"
   ]
  },
  {
   "cell_type": "code",
   "execution_count": 20,
   "id": "ff15b20f-b9ab-407d-bc18-adb4f5c72c62",
   "metadata": {},
   "outputs": [
    {
     "data": {
      "text/html": [
       "<table class=\"dataframe\">\n",
       "<caption>A tibble: 8 × 5</caption>\n",
       "<thead>\n",
       "\t<tr><th scope=col>term</th><th scope=col>estimate</th><th scope=col>std.error</th><th scope=col>statistic</th><th scope=col>p.value</th></tr>\n",
       "\t<tr><th scope=col>&lt;chr&gt;</th><th scope=col>&lt;dbl&gt;</th><th scope=col>&lt;dbl&gt;</th><th scope=col>&lt;dbl&gt;</th><th scope=col>&lt;dbl&gt;</th></tr>\n",
       "</thead>\n",
       "<tbody>\n",
       "\t<tr><td>(Intercept)</td><td>14.283957280</td><td>1.365741e+01</td><td> 1.0458757</td><td>3.016005e-01</td></tr>\n",
       "\t<tr><td>religion   </td><td> 0.020070901</td><td>7.686001e-02</td><td> 0.2611358</td><td>7.952640e-01</td></tr>\n",
       "\t<tr><td>price      </td><td>-0.042363106</td><td>2.377806e-02</td><td>-1.7816051</td><td>8.204549e-02</td></tr>\n",
       "\t<tr><td>laws       </td><td>-0.873101786</td><td>1.645923e+00</td><td>-0.5304633</td><td>5.985845e-01</td></tr>\n",
       "\t<tr><td>funds      </td><td> 2.820003024</td><td>2.830730e+00</td><td> 0.9962106</td><td>3.248529e-01</td></tr>\n",
       "\t<tr><td>educ       </td><td>-0.287255121</td><td>1.618822e-01</td><td>-1.7744696</td><td>8.323437e-02</td></tr>\n",
       "\t<tr><td>income     </td><td> 0.002400682</td><td>4.675923e-04</td><td> 5.1341349</td><td>6.879939e-06</td></tr>\n",
       "\t<tr><td>picket     </td><td>-0.116871214</td><td>3.704561e-02</td><td>-3.1547927</td><td>2.966278e-03</td></tr>\n",
       "</tbody>\n",
       "</table>\n"
      ],
      "text/latex": [
       "A tibble: 8 × 5\n",
       "\\begin{tabular}{lllll}\n",
       " term & estimate & std.error & statistic & p.value\\\\\n",
       " <chr> & <dbl> & <dbl> & <dbl> & <dbl>\\\\\n",
       "\\hline\n",
       "\t (Intercept) & 14.283957280 & 1.365741e+01 &  1.0458757 & 3.016005e-01\\\\\n",
       "\t religion    &  0.020070901 & 7.686001e-02 &  0.2611358 & 7.952640e-01\\\\\n",
       "\t price       & -0.042363106 & 2.377806e-02 & -1.7816051 & 8.204549e-02\\\\\n",
       "\t laws        & -0.873101786 & 1.645923e+00 & -0.5304633 & 5.985845e-01\\\\\n",
       "\t funds       &  2.820003024 & 2.830730e+00 &  0.9962106 & 3.248529e-01\\\\\n",
       "\t educ        & -0.287255121 & 1.618822e-01 & -1.7744696 & 8.323437e-02\\\\\n",
       "\t income      &  0.002400682 & 4.675923e-04 &  5.1341349 & 6.879939e-06\\\\\n",
       "\t picket      & -0.116871214 & 3.704561e-02 & -3.1547927 & 2.966278e-03\\\\\n",
       "\\end{tabular}\n"
      ],
      "text/markdown": [
       "\n",
       "A tibble: 8 × 5\n",
       "\n",
       "| term &lt;chr&gt; | estimate &lt;dbl&gt; | std.error &lt;dbl&gt; | statistic &lt;dbl&gt; | p.value &lt;dbl&gt; |\n",
       "|---|---|---|---|---|\n",
       "| (Intercept) | 14.283957280 | 1.365741e+01 |  1.0458757 | 3.016005e-01 |\n",
       "| religion    |  0.020070901 | 7.686001e-02 |  0.2611358 | 7.952640e-01 |\n",
       "| price       | -0.042363106 | 2.377806e-02 | -1.7816051 | 8.204549e-02 |\n",
       "| laws        | -0.873101786 | 1.645923e+00 | -0.5304633 | 5.985845e-01 |\n",
       "| funds       |  2.820003024 | 2.830730e+00 |  0.9962106 | 3.248529e-01 |\n",
       "| educ        | -0.287255121 | 1.618822e-01 | -1.7744696 | 8.323437e-02 |\n",
       "| income      |  0.002400682 | 4.675923e-04 |  5.1341349 | 6.879939e-06 |\n",
       "| picket      | -0.116871214 | 3.704561e-02 | -3.1547927 | 2.966278e-03 |\n",
       "\n"
      ],
      "text/plain": [
       "  term        estimate     std.error    statistic  p.value     \n",
       "1 (Intercept) 14.283957280 1.365741e+01  1.0458757 3.016005e-01\n",
       "2 religion     0.020070901 7.686001e-02  0.2611358 7.952640e-01\n",
       "3 price       -0.042363106 2.377806e-02 -1.7816051 8.204549e-02\n",
       "4 laws        -0.873101786 1.645923e+00 -0.5304633 5.985845e-01\n",
       "5 funds        2.820003024 2.830730e+00  0.9962106 3.248529e-01\n",
       "6 educ        -0.287255121 1.618822e-01 -1.7744696 8.323437e-02\n",
       "7 income       0.002400682 4.675923e-04  5.1341349 6.879939e-06\n",
       "8 picket      -0.116871214 3.704561e-02 -3.1547927 2.966278e-03"
      ]
     },
     "metadata": {},
     "output_type": "display_data"
    },
    {
     "data": {
      "text/html": [
       "<table class=\"dataframe\">\n",
       "<caption>A tibble: 1 × 4</caption>\n",
       "<thead>\n",
       "\t<tr><th scope=col>logLik</th><th scope=col>AIC</th><th scope=col>BIC</th><th scope=col>nobs</th></tr>\n",
       "\t<tr><th scope=col>&lt;chr&gt;</th><th scope=col>&lt;dbl&gt;</th><th scope=col>&lt;dbl&gt;</th><th scope=col>&lt;int&gt;</th></tr>\n",
       "</thead>\n",
       "<tbody>\n",
       "\t<tr><td>-164.329</td><td>346.6572</td><td>363.8655</td><td>50</td></tr>\n",
       "</tbody>\n",
       "</table>\n"
      ],
      "text/latex": [
       "A tibble: 1 × 4\n",
       "\\begin{tabular}{llll}\n",
       " logLik & AIC & BIC & nobs\\\\\n",
       " <chr> & <dbl> & <dbl> & <int>\\\\\n",
       "\\hline\n",
       "\t -164.329 & 346.6572 & 363.8655 & 50\\\\\n",
       "\\end{tabular}\n"
      ],
      "text/markdown": [
       "\n",
       "A tibble: 1 × 4\n",
       "\n",
       "| logLik &lt;chr&gt; | AIC &lt;dbl&gt; | BIC &lt;dbl&gt; | nobs &lt;int&gt; |\n",
       "|---|---|---|---|\n",
       "| -164.329 | 346.6572 | 363.8655 | 50 |\n",
       "\n"
      ],
      "text/plain": [
       "  logLik   AIC      BIC      nobs\n",
       "1 -164.329 346.6572 363.8655 50  "
      ]
     },
     "metadata": {},
     "output_type": "display_data"
    }
   ],
   "source": [
    "model5 <- coeftest(model, vcov = vcovHC(model, type = \"HC0\"))\n",
    "tidy(model5)\n",
    "glance(model5)"
   ]
  },
  {
   "cell_type": "markdown",
   "id": "688cc014-fbe2-4c02-b073-3631d711bd33",
   "metadata": {},
   "source": [
    "## Exercises"
   ]
  },
  {
   "cell_type": "markdown",
   "id": "b7a2139d-ea82-4896-91bb-1c5af1690237",
   "metadata": {},
   "source": [
    "🚧 Under Construction"
   ]
  }
 ],
 "metadata": {
  "kernelspec": {
   "display_name": "R",
   "language": "R",
   "name": "ir"
  },
  "language_info": {
   "codemirror_mode": "r",
   "file_extension": ".r",
   "mimetype": "text/x-r-source",
   "name": "R",
   "pygments_lexer": "r",
   "version": "4.4.1"
  }
 },
 "nbformat": 4,
 "nbformat_minor": 5
}
