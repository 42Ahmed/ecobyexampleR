{
 "cells": [
  {
   "cell_type": "markdown",
   "id": "58965e8f-e020-488d-93a4-38e517bb85c2",
   "metadata": {},
   "source": [
    "# 18. Survival analysis "
   ]
  },
  {
   "cell_type": "markdown",
   "id": "7c1ce84f-03b9-4afe-bda9-73a51f706df6",
   "metadata": {},
   "source": [
    "🚧 Under construction"
   ]
  }
 ],
 "metadata": {
  "kernelspec": {
   "display_name": "R",
   "language": "R",
   "name": "ir"
  },
  "language_info": {
   "codemirror_mode": "r",
   "file_extension": ".r",
   "mimetype": "text/x-r-source",
   "name": "R",
   "pygments_lexer": "r",
   "version": "4.4.1"
  }
 },
 "nbformat": 4,
 "nbformat_minor": 5
}
