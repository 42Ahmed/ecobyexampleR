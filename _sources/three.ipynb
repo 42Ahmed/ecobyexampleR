{
 "cells": [
  {
   "cell_type": "markdown",
   "id": "c88f1951-e8bb-4cd5-b995-e70d86fb6ded",
   "metadata": {},
   "source": [
    "# 3. Qualitative Explanatory Variables Regression Models"
   ]
  },
  {
   "cell_type": "code",
   "execution_count": 1,
   "id": "e6154a82-bd96-48a2-bd57-71ab058ed1be",
   "metadata": {},
   "outputs": [],
   "source": [
    "suppressPackageStartupMessages({\n",
    "  library(tidyverse)\n",
    "  library(tidymodels)\n",
    "  library(readxl)\n",
    "  library(multcomp)\n",
    "  library(car)\n",
    "})"
   ]
  },
  {
   "cell_type": "markdown",
   "id": "4e70663e-0c48-424e-9f9e-621f9a94a632",
   "metadata": {},
   "source": [
    "## Wage function"
   ]
  },
  {
   "cell_type": "markdown",
   "id": "c11374a9-d8d3-4600-a4c9-16c032c55e25",
   "metadata": {},
   "source": [
    "$$\n",
    "Wage_i = \\beta_1 + \\beta_2D_{2i} + \\beta_3D_{3i} + \\beta_4D_{4i} + \\beta_5Educ_i + \\beta_6Exper_i + ui\n",
    "$$"
   ]
  },
  {
   "cell_type": "markdown",
   "id": "f23d3042-2a1f-4568-a84d-0bcfbd591bda",
   "metadata": {},
   "source": [
    "$D_2$ = 1 if female, 0 for male  \n",
    "$D_3$ = 1 for nonwhite, 0 for white\n",
    "$D_4$ = 1 union member, 0 non union\n",
    "All $D$ are dummy variables"
   ]
  },
  {
   "cell_type": "code",
   "execution_count": 2,
   "id": "1e81fca6-1444-4ad1-929b-cf96b5760e77",
   "metadata": {},
   "outputs": [
    {
     "data": {
      "text/html": [
       "<table class=\"dataframe\">\n",
       "<caption>A tibble: 3 × 17</caption>\n",
       "<thead>\n",
       "\t<tr><th scope=col>obs</th><th scope=col>wage</th><th scope=col>female</th><th scope=col>nonwhite</th><th scope=col>union</th><th scope=col>education</th><th scope=col>exper</th><th scope=col>age</th><th scope=col>wind</th><th scope=col>femalenonw</th><th scope=col>lnwage</th><th scope=col>education_exper</th><th scope=col>_Ifemale_1</th><th scope=col>_IfemXeduca_1</th><th scope=col>_IfemXexper_1</th><th scope=col>_Inonwhite_1</th><th scope=col>_InonXeduca_1</th></tr>\n",
       "\t<tr><th scope=col>&lt;dbl&gt;</th><th scope=col>&lt;dbl&gt;</th><th scope=col>&lt;dbl&gt;</th><th scope=col>&lt;dbl&gt;</th><th scope=col>&lt;dbl&gt;</th><th scope=col>&lt;dbl&gt;</th><th scope=col>&lt;dbl&gt;</th><th scope=col>&lt;dbl&gt;</th><th scope=col>&lt;dbl&gt;</th><th scope=col>&lt;dbl&gt;</th><th scope=col>&lt;dbl&gt;</th><th scope=col>&lt;dbl&gt;</th><th scope=col>&lt;dbl&gt;</th><th scope=col>&lt;dbl&gt;</th><th scope=col>&lt;dbl&gt;</th><th scope=col>&lt;dbl&gt;</th><th scope=col>&lt;dbl&gt;</th></tr>\n",
       "</thead>\n",
       "<tbody>\n",
       "\t<tr><td>1</td><td>11.55</td><td>1</td><td>0</td><td>0</td><td>12</td><td>20</td><td>38</td><td>1</td><td>0</td><td>2.446686</td><td>240</td><td>1</td><td>12</td><td>20</td><td>0</td><td>0</td></tr>\n",
       "\t<tr><td>2</td><td> 5.00</td><td>0</td><td>0</td><td>0</td><td> 9</td><td> 9</td><td>24</td><td>0</td><td>0</td><td>1.609438</td><td> 81</td><td>0</td><td> 0</td><td> 0</td><td>0</td><td>0</td></tr>\n",
       "\t<tr><td>3</td><td>12.00</td><td>0</td><td>0</td><td>0</td><td>16</td><td>15</td><td>37</td><td>1</td><td>0</td><td>2.484907</td><td>240</td><td>0</td><td> 0</td><td> 0</td><td>0</td><td>0</td></tr>\n",
       "</tbody>\n",
       "</table>\n"
      ],
      "text/latex": [
       "A tibble: 3 × 17\n",
       "\\begin{tabular}{lllllllllllllllll}\n",
       " obs & wage & female & nonwhite & union & education & exper & age & wind & femalenonw & lnwage & education\\_exper & \\_Ifemale\\_1 & \\_IfemXeduca\\_1 & \\_IfemXexper\\_1 & \\_Inonwhite\\_1 & \\_InonXeduca\\_1\\\\\n",
       " <dbl> & <dbl> & <dbl> & <dbl> & <dbl> & <dbl> & <dbl> & <dbl> & <dbl> & <dbl> & <dbl> & <dbl> & <dbl> & <dbl> & <dbl> & <dbl> & <dbl>\\\\\n",
       "\\hline\n",
       "\t 1 & 11.55 & 1 & 0 & 0 & 12 & 20 & 38 & 1 & 0 & 2.446686 & 240 & 1 & 12 & 20 & 0 & 0\\\\\n",
       "\t 2 &  5.00 & 0 & 0 & 0 &  9 &  9 & 24 & 0 & 0 & 1.609438 &  81 & 0 &  0 &  0 & 0 & 0\\\\\n",
       "\t 3 & 12.00 & 0 & 0 & 0 & 16 & 15 & 37 & 1 & 0 & 2.484907 & 240 & 0 &  0 &  0 & 0 & 0\\\\\n",
       "\\end{tabular}\n"
      ],
      "text/markdown": [
       "\n",
       "A tibble: 3 × 17\n",
       "\n",
       "| obs &lt;dbl&gt; | wage &lt;dbl&gt; | female &lt;dbl&gt; | nonwhite &lt;dbl&gt; | union &lt;dbl&gt; | education &lt;dbl&gt; | exper &lt;dbl&gt; | age &lt;dbl&gt; | wind &lt;dbl&gt; | femalenonw &lt;dbl&gt; | lnwage &lt;dbl&gt; | education_exper &lt;dbl&gt; | _Ifemale_1 &lt;dbl&gt; | _IfemXeduca_1 &lt;dbl&gt; | _IfemXexper_1 &lt;dbl&gt; | _Inonwhite_1 &lt;dbl&gt; | _InonXeduca_1 &lt;dbl&gt; |\n",
       "|---|---|---|---|---|---|---|---|---|---|---|---|---|---|---|---|---|\n",
       "| 1 | 11.55 | 1 | 0 | 0 | 12 | 20 | 38 | 1 | 0 | 2.446686 | 240 | 1 | 12 | 20 | 0 | 0 |\n",
       "| 2 |  5.00 | 0 | 0 | 0 |  9 |  9 | 24 | 0 | 0 | 1.609438 |  81 | 0 |  0 |  0 | 0 | 0 |\n",
       "| 3 | 12.00 | 0 | 0 | 0 | 16 | 15 | 37 | 1 | 0 | 2.484907 | 240 | 0 |  0 |  0 | 0 | 0 |\n",
       "\n"
      ],
      "text/plain": [
       "  obs wage  female nonwhite union education exper age wind femalenonw lnwage  \n",
       "1 1   11.55 1      0        0     12        20    38  1    0          2.446686\n",
       "2 2    5.00 0      0        0      9         9    24  0    0          1.609438\n",
       "3 3   12.00 0      0        0     16        15    37  1    0          2.484907\n",
       "  education_exper _Ifemale_1 _IfemXeduca_1 _IfemXexper_1 _Inonwhite_1\n",
       "1 240             1          12            20            0           \n",
       "2  81             0           0             0            0           \n",
       "3 240             0           0             0            0           \n",
       "  _InonXeduca_1\n",
       "1 0            \n",
       "2 0            \n",
       "3 0            "
      ]
     },
     "metadata": {},
     "output_type": "display_data"
    }
   ],
   "source": [
    "df <- read_excel(\"data/Table1_1.xls\")\n",
    "head(df,3)"
   ]
  },
  {
   "cell_type": "code",
   "execution_count": 3,
   "id": "c3283298-744a-492f-b962-63e017e4fc1f",
   "metadata": {},
   "outputs": [
    {
     "data": {
      "text/html": [
       "<table class=\"dataframe\">\n",
       "<caption>A tibble: 6 × 5</caption>\n",
       "<thead>\n",
       "\t<tr><th scope=col>term</th><th scope=col>estimate</th><th scope=col>std.error</th><th scope=col>statistic</th><th scope=col>p.value</th></tr>\n",
       "\t<tr><th scope=col>&lt;chr&gt;</th><th scope=col>&lt;dbl&gt;</th><th scope=col>&lt;dbl&gt;</th><th scope=col>&lt;dbl&gt;</th><th scope=col>&lt;dbl&gt;</th></tr>\n",
       "</thead>\n",
       "<tbody>\n",
       "\t<tr><td>(Intercept)</td><td>-7.1833382</td><td>1.01578786</td><td>-7.071691</td><td>2.508276e-12</td></tr>\n",
       "\t<tr><td>female     </td><td>-3.0748754</td><td>0.36461621</td><td>-8.433184</td><td>8.939423e-17</td></tr>\n",
       "\t<tr><td>nonwhite   </td><td>-1.5653133</td><td>0.50918754</td><td>-3.074139</td><td>2.155664e-03</td></tr>\n",
       "\t<tr><td>union      </td><td> 1.0959758</td><td>0.50607809</td><td> 2.165626</td><td>3.052356e-02</td></tr>\n",
       "\t<tr><td>education  </td><td> 1.3703010</td><td>0.06590421</td><td>20.792312</td><td>5.507613e-83</td></tr>\n",
       "\t<tr><td>exper      </td><td> 0.1666065</td><td>0.01604756</td><td>10.382050</td><td>2.659960e-24</td></tr>\n",
       "</tbody>\n",
       "</table>\n"
      ],
      "text/latex": [
       "A tibble: 6 × 5\n",
       "\\begin{tabular}{lllll}\n",
       " term & estimate & std.error & statistic & p.value\\\\\n",
       " <chr> & <dbl> & <dbl> & <dbl> & <dbl>\\\\\n",
       "\\hline\n",
       "\t (Intercept) & -7.1833382 & 1.01578786 & -7.071691 & 2.508276e-12\\\\\n",
       "\t female      & -3.0748754 & 0.36461621 & -8.433184 & 8.939423e-17\\\\\n",
       "\t nonwhite    & -1.5653133 & 0.50918754 & -3.074139 & 2.155664e-03\\\\\n",
       "\t union       &  1.0959758 & 0.50607809 &  2.165626 & 3.052356e-02\\\\\n",
       "\t education   &  1.3703010 & 0.06590421 & 20.792312 & 5.507613e-83\\\\\n",
       "\t exper       &  0.1666065 & 0.01604756 & 10.382050 & 2.659960e-24\\\\\n",
       "\\end{tabular}\n"
      ],
      "text/markdown": [
       "\n",
       "A tibble: 6 × 5\n",
       "\n",
       "| term &lt;chr&gt; | estimate &lt;dbl&gt; | std.error &lt;dbl&gt; | statistic &lt;dbl&gt; | p.value &lt;dbl&gt; |\n",
       "|---|---|---|---|---|\n",
       "| (Intercept) | -7.1833382 | 1.01578786 | -7.071691 | 2.508276e-12 |\n",
       "| female      | -3.0748754 | 0.36461621 | -8.433184 | 8.939423e-17 |\n",
       "| nonwhite    | -1.5653133 | 0.50918754 | -3.074139 | 2.155664e-03 |\n",
       "| union       |  1.0959758 | 0.50607809 |  2.165626 | 3.052356e-02 |\n",
       "| education   |  1.3703010 | 0.06590421 | 20.792312 | 5.507613e-83 |\n",
       "| exper       |  0.1666065 | 0.01604756 | 10.382050 | 2.659960e-24 |\n",
       "\n"
      ],
      "text/plain": [
       "  term        estimate   std.error  statistic p.value     \n",
       "1 (Intercept) -7.1833382 1.01578786 -7.071691 2.508276e-12\n",
       "2 female      -3.0748754 0.36461621 -8.433184 8.939423e-17\n",
       "3 nonwhite    -1.5653133 0.50918754 -3.074139 2.155664e-03\n",
       "4 union        1.0959758 0.50607809  2.165626 3.052356e-02\n",
       "5 education    1.3703010 0.06590421 20.792312 5.507613e-83\n",
       "6 exper        0.1666065 0.01604756 10.382050 2.659960e-24"
      ]
     },
     "metadata": {},
     "output_type": "display_data"
    },
    {
     "data": {
      "text/html": [
       "<table class=\"dataframe\">\n",
       "<caption>A tibble: 1 × 12</caption>\n",
       "<thead>\n",
       "\t<tr><th scope=col>r.squared</th><th scope=col>adj.r.squared</th><th scope=col>sigma</th><th scope=col>statistic</th><th scope=col>p.value</th><th scope=col>df</th><th scope=col>logLik</th><th scope=col>AIC</th><th scope=col>BIC</th><th scope=col>deviance</th><th scope=col>df.residual</th><th scope=col>nobs</th></tr>\n",
       "\t<tr><th scope=col>&lt;dbl&gt;</th><th scope=col>&lt;dbl&gt;</th><th scope=col>&lt;dbl&gt;</th><th scope=col>&lt;dbl&gt;</th><th scope=col>&lt;dbl&gt;</th><th scope=col>&lt;dbl&gt;</th><th scope=col>&lt;dbl&gt;</th><th scope=col>&lt;dbl&gt;</th><th scope=col>&lt;dbl&gt;</th><th scope=col>&lt;dbl&gt;</th><th scope=col>&lt;int&gt;</th><th scope=col>&lt;int&gt;</th></tr>\n",
       "</thead>\n",
       "<tbody>\n",
       "\t<tr><td>0.3233388</td><td>0.3207018</td><td>6.508137</td><td>122.6149</td><td>3.453151e-106</td><td>5</td><td>-4240.37</td><td>8494.741</td><td>8530.872</td><td>54342.54</td><td>1283</td><td>1289</td></tr>\n",
       "</tbody>\n",
       "</table>\n"
      ],
      "text/latex": [
       "A tibble: 1 × 12\n",
       "\\begin{tabular}{llllllllllll}\n",
       " r.squared & adj.r.squared & sigma & statistic & p.value & df & logLik & AIC & BIC & deviance & df.residual & nobs\\\\\n",
       " <dbl> & <dbl> & <dbl> & <dbl> & <dbl> & <dbl> & <dbl> & <dbl> & <dbl> & <dbl> & <int> & <int>\\\\\n",
       "\\hline\n",
       "\t 0.3233388 & 0.3207018 & 6.508137 & 122.6149 & 3.453151e-106 & 5 & -4240.37 & 8494.741 & 8530.872 & 54342.54 & 1283 & 1289\\\\\n",
       "\\end{tabular}\n"
      ],
      "text/markdown": [
       "\n",
       "A tibble: 1 × 12\n",
       "\n",
       "| r.squared &lt;dbl&gt; | adj.r.squared &lt;dbl&gt; | sigma &lt;dbl&gt; | statistic &lt;dbl&gt; | p.value &lt;dbl&gt; | df &lt;dbl&gt; | logLik &lt;dbl&gt; | AIC &lt;dbl&gt; | BIC &lt;dbl&gt; | deviance &lt;dbl&gt; | df.residual &lt;int&gt; | nobs &lt;int&gt; |\n",
       "|---|---|---|---|---|---|---|---|---|---|---|---|\n",
       "| 0.3233388 | 0.3207018 | 6.508137 | 122.6149 | 3.453151e-106 | 5 | -4240.37 | 8494.741 | 8530.872 | 54342.54 | 1283 | 1289 |\n",
       "\n"
      ],
      "text/plain": [
       "      r.squared adj.r.squared sigma    statistic p.value       df logLik  \n",
       "value 0.3233388 0.3207018     6.508137 122.6149  3.453151e-106 5  -4240.37\n",
       "      AIC      BIC      deviance df.residual nobs\n",
       "value 8494.741 8530.872 54342.54 1283        1289"
      ]
     },
     "metadata": {},
     "output_type": "display_data"
    }
   ],
   "source": [
    "model <- lm(wage~ female + nonwhite + union + education + exper, data = df)\n",
    "tidy(model)\n",
    "glance(model)"
   ]
  },
  {
   "cell_type": "markdown",
   "id": "d366e0ff-99e2-4727-8323-de8ec1577694",
   "metadata": {},
   "source": [
    "**female dummy variable:** average wage of female is lower by $3.07 as compared to average wage of a male(reference category), ceteris paribus \n",
    "\n",
    "**union dummy variable:** average wage of union is higher by $1.10 as compared to average wage of non union workers, , ceteris paribus \n",
    "\n",
    "**nonwhite dummy variable:** average wage of nonwhite worker is lower by $1.56 as compared to average wage of white workers, , ceteris paribus \n",
    "\n",
    "**Intercept:** –7.18 isthe expected\n",
    "hourly wage for white, non-union, male worker  \n",
    "\n",
    "called **differential intercept dummies**"
   ]
  },
  {
   "cell_type": "markdown",
   "id": "14c2adf1-0821-481a-a9b5-f1c71644f392",
   "metadata": {},
   "source": [
    "## Refinement of the wage function"
   ]
  },
  {
   "cell_type": "markdown",
   "id": "7c94d83c-59fa-4fa7-8756-1defc627aabd",
   "metadata": {},
   "source": [
    "**Interactive dummy:** female non white worker"
   ]
  },
  {
   "cell_type": "code",
   "execution_count": 4,
   "id": "030c0430-b304-447f-b715-6d73f8d0fb6a",
   "metadata": {},
   "outputs": [
    {
     "data": {
      "text/html": [
       "<table class=\"dataframe\">\n",
       "<caption>A tibble: 7 × 5</caption>\n",
       "<thead>\n",
       "\t<tr><th scope=col>term</th><th scope=col>estimate</th><th scope=col>std.error</th><th scope=col>statistic</th><th scope=col>p.value</th></tr>\n",
       "\t<tr><th scope=col>&lt;chr&gt;</th><th scope=col>&lt;dbl&gt;</th><th scope=col>&lt;dbl&gt;</th><th scope=col>&lt;dbl&gt;</th><th scope=col>&lt;dbl&gt;</th></tr>\n",
       "</thead>\n",
       "<tbody>\n",
       "\t<tr><td>(Intercept)    </td><td>-7.088725</td><td>1.01948176</td><td>-6.953264</td><td>5.671212e-12</td></tr>\n",
       "\t<tr><td>female         </td><td>-3.240148</td><td>0.39532778</td><td>-8.196106</td><td>5.961063e-16</td></tr>\n",
       "\t<tr><td>nonwhite       </td><td>-2.158525</td><td>0.74842579</td><td>-2.884087</td><td>3.991105e-03</td></tr>\n",
       "\t<tr><td>union          </td><td> 1.115044</td><td>0.50635176</td><td> 2.202113</td><td>2.783489e-02</td></tr>\n",
       "\t<tr><td>education      </td><td> 1.370113</td><td>0.06590009</td><td>20.790761</td><td>5.752227e-83</td></tr>\n",
       "\t<tr><td>exper          </td><td> 0.165856</td><td>0.01606150</td><td>10.326307</td><td>4.560482e-24</td></tr>\n",
       "\t<tr><td>female:nonwhite</td><td> 1.095371</td><td>1.01289673</td><td> 1.081424</td><td>2.797118e-01</td></tr>\n",
       "</tbody>\n",
       "</table>\n"
      ],
      "text/latex": [
       "A tibble: 7 × 5\n",
       "\\begin{tabular}{lllll}\n",
       " term & estimate & std.error & statistic & p.value\\\\\n",
       " <chr> & <dbl> & <dbl> & <dbl> & <dbl>\\\\\n",
       "\\hline\n",
       "\t (Intercept)     & -7.088725 & 1.01948176 & -6.953264 & 5.671212e-12\\\\\n",
       "\t female          & -3.240148 & 0.39532778 & -8.196106 & 5.961063e-16\\\\\n",
       "\t nonwhite        & -2.158525 & 0.74842579 & -2.884087 & 3.991105e-03\\\\\n",
       "\t union           &  1.115044 & 0.50635176 &  2.202113 & 2.783489e-02\\\\\n",
       "\t education       &  1.370113 & 0.06590009 & 20.790761 & 5.752227e-83\\\\\n",
       "\t exper           &  0.165856 & 0.01606150 & 10.326307 & 4.560482e-24\\\\\n",
       "\t female:nonwhite &  1.095371 & 1.01289673 &  1.081424 & 2.797118e-01\\\\\n",
       "\\end{tabular}\n"
      ],
      "text/markdown": [
       "\n",
       "A tibble: 7 × 5\n",
       "\n",
       "| term &lt;chr&gt; | estimate &lt;dbl&gt; | std.error &lt;dbl&gt; | statistic &lt;dbl&gt; | p.value &lt;dbl&gt; |\n",
       "|---|---|---|---|---|\n",
       "| (Intercept)     | -7.088725 | 1.01948176 | -6.953264 | 5.671212e-12 |\n",
       "| female          | -3.240148 | 0.39532778 | -8.196106 | 5.961063e-16 |\n",
       "| nonwhite        | -2.158525 | 0.74842579 | -2.884087 | 3.991105e-03 |\n",
       "| union           |  1.115044 | 0.50635176 |  2.202113 | 2.783489e-02 |\n",
       "| education       |  1.370113 | 0.06590009 | 20.790761 | 5.752227e-83 |\n",
       "| exper           |  0.165856 | 0.01606150 | 10.326307 | 4.560482e-24 |\n",
       "| female:nonwhite |  1.095371 | 1.01289673 |  1.081424 | 2.797118e-01 |\n",
       "\n"
      ],
      "text/plain": [
       "  term            estimate  std.error  statistic p.value     \n",
       "1 (Intercept)     -7.088725 1.01948176 -6.953264 5.671212e-12\n",
       "2 female          -3.240148 0.39532778 -8.196106 5.961063e-16\n",
       "3 nonwhite        -2.158525 0.74842579 -2.884087 3.991105e-03\n",
       "4 union            1.115044 0.50635176  2.202113 2.783489e-02\n",
       "5 education        1.370113 0.06590009 20.790761 5.752227e-83\n",
       "6 exper            0.165856 0.01606150 10.326307 4.560482e-24\n",
       "7 female:nonwhite  1.095371 1.01289673  1.081424 2.797118e-01"
      ]
     },
     "metadata": {},
     "output_type": "display_data"
    },
    {
     "data": {
      "text/html": [
       "<table class=\"dataframe\">\n",
       "<caption>A tibble: 1 × 12</caption>\n",
       "<thead>\n",
       "\t<tr><th scope=col>r.squared</th><th scope=col>adj.r.squared</th><th scope=col>sigma</th><th scope=col>statistic</th><th scope=col>p.value</th><th scope=col>df</th><th scope=col>logLik</th><th scope=col>AIC</th><th scope=col>BIC</th><th scope=col>deviance</th><th scope=col>df.residual</th><th scope=col>nobs</th></tr>\n",
       "\t<tr><th scope=col>&lt;dbl&gt;</th><th scope=col>&lt;dbl&gt;</th><th scope=col>&lt;dbl&gt;</th><th scope=col>&lt;dbl&gt;</th><th scope=col>&lt;dbl&gt;</th><th scope=col>&lt;dbl&gt;</th><th scope=col>&lt;dbl&gt;</th><th scope=col>&lt;dbl&gt;</th><th scope=col>&lt;dbl&gt;</th><th scope=col>&lt;dbl&gt;</th><th scope=col>&lt;int&gt;</th><th scope=col>&lt;int&gt;</th></tr>\n",
       "</thead>\n",
       "<tbody>\n",
       "\t<tr><td>0.3239555</td><td>0.3207915</td><td>6.507707</td><td>102.3875</td><td>2.252543e-105</td><td>6</td><td>-4239.783</td><td>8495.565</td><td>8536.858</td><td>54293.02</td><td>1282</td><td>1289</td></tr>\n",
       "</tbody>\n",
       "</table>\n"
      ],
      "text/latex": [
       "A tibble: 1 × 12\n",
       "\\begin{tabular}{llllllllllll}\n",
       " r.squared & adj.r.squared & sigma & statistic & p.value & df & logLik & AIC & BIC & deviance & df.residual & nobs\\\\\n",
       " <dbl> & <dbl> & <dbl> & <dbl> & <dbl> & <dbl> & <dbl> & <dbl> & <dbl> & <dbl> & <int> & <int>\\\\\n",
       "\\hline\n",
       "\t 0.3239555 & 0.3207915 & 6.507707 & 102.3875 & 2.252543e-105 & 6 & -4239.783 & 8495.565 & 8536.858 & 54293.02 & 1282 & 1289\\\\\n",
       "\\end{tabular}\n"
      ],
      "text/markdown": [
       "\n",
       "A tibble: 1 × 12\n",
       "\n",
       "| r.squared &lt;dbl&gt; | adj.r.squared &lt;dbl&gt; | sigma &lt;dbl&gt; | statistic &lt;dbl&gt; | p.value &lt;dbl&gt; | df &lt;dbl&gt; | logLik &lt;dbl&gt; | AIC &lt;dbl&gt; | BIC &lt;dbl&gt; | deviance &lt;dbl&gt; | df.residual &lt;int&gt; | nobs &lt;int&gt; |\n",
       "|---|---|---|---|---|---|---|---|---|---|---|---|\n",
       "| 0.3239555 | 0.3207915 | 6.507707 | 102.3875 | 2.252543e-105 | 6 | -4239.783 | 8495.565 | 8536.858 | 54293.02 | 1282 | 1289 |\n",
       "\n"
      ],
      "text/plain": [
       "      r.squared adj.r.squared sigma    statistic p.value       df logLik   \n",
       "value 0.3239555 0.3207915     6.507707 102.3875  2.252543e-105 6  -4239.783\n",
       "      AIC      BIC      deviance df.residual nobs\n",
       "value 8495.565 8536.858 54293.02 1282        1289"
      ]
     },
     "metadata": {},
     "output_type": "display_data"
    }
   ],
   "source": [
    "model2 <- lm(wage~ female + nonwhite + union + education + exper + female*nonwhite, data = df)\n",
    "tidy(model2)\n",
    "glance(model2)"
   ]
  },
  {
   "cell_type": "markdown",
   "id": "92840eb9-a342-4ede-b93d-4e4577caf7d6",
   "metadata": {},
   "source": [
    "**Interactive dummy:** Being a female has a lower salary by 3.2.  \n",
    "Being a nonwhite worker has a lower salary by 2.15.  \n",
    "Being both a female nonwhite worker has a lower salary (-3.2 - 2.15 + 1.10) = -4.25.\n"
   ]
  },
  {
   "cell_type": "markdown",
   "id": "f7d5d7d2-d359-455a-ad0b-0f169b05ed89",
   "metadata": {},
   "source": [
    "## Another refinement of the wage function"
   ]
  },
  {
   "cell_type": "markdown",
   "id": "7ea5d005-199c-402a-b54b-8dd921bf26c6",
   "metadata": {},
   "source": [
    "\\begin{align}\n",
    "\\text{wage}_i &= \\beta_1  + \\beta_2 \\text{female} + \\beta_3  \\text{nonwhite} +\\beta_4 \\text{union}+\\beta_5 \\text{educ}\\\\\n",
    "&+\\beta_6 \\text{exper} +\\beta_7( \\text{female * Educ}) +\\beta_8 (\\text{nonwhite * Educ}) \\\\\n",
    "&+\\beta_9 (\\text{union * Educ}) +\\beta_{10} (\\text{female * exper}) +\\beta_{11} (\\text{nonwhite * exper})\\\\\n",
    "&+ \\beta_{12} (\\text{union * exper}) + u_i\n",
    "\\end{align}"
   ]
  },
  {
   "cell_type": "markdown",
   "id": "19db39c2-a909-4591-8ab3-0f051b099452",
   "metadata": {},
   "source": [
    "$\\beta_2, \\beta_3, \\beta_4$ are diferential intercept dummies  \n",
    "$\\beta_7 \\to \\beta_{11}$ are **differential slope dummies**"
   ]
  },
  {
   "cell_type": "code",
   "execution_count": 5,
   "id": "a83cc700-0c91-4fc3-81bf-155e4fdfe463",
   "metadata": {},
   "outputs": [
    {
     "data": {
      "text/html": [
       "<table class=\"dataframe\">\n",
       "<caption>A tibble: 12 × 5</caption>\n",
       "<thead>\n",
       "\t<tr><th scope=col>term</th><th scope=col>estimate</th><th scope=col>std.error</th><th scope=col>statistic</th><th scope=col>p.value</th></tr>\n",
       "\t<tr><th scope=col>&lt;chr&gt;</th><th scope=col>&lt;dbl&gt;</th><th scope=col>&lt;dbl&gt;</th><th scope=col>&lt;dbl&gt;</th><th scope=col>&lt;dbl&gt;</th></tr>\n",
       "</thead>\n",
       "<tbody>\n",
       "\t<tr><td>(Intercept)       </td><td>-11.09128575</td><td>1.42184620</td><td>-7.8006227</td><td>1.272876e-14</td></tr>\n",
       "\t<tr><td>female            </td><td>  3.17415751</td><td>1.96646494</td><td> 1.6141440</td><td>1.067433e-01</td></tr>\n",
       "\t<tr><td>nonwhite          </td><td>  2.90912852</td><td>2.78006592</td><td> 1.0464243</td><td>2.955632e-01</td></tr>\n",
       "\t<tr><td>union             </td><td>  4.45421150</td><td>2.97349392</td><td> 1.4979723</td><td>1.343876e-01</td></tr>\n",
       "\t<tr><td>education         </td><td>  1.58712500</td><td>0.09381936</td><td>16.9168183</td><td>4.408735e-58</td></tr>\n",
       "\t<tr><td>exper             </td><td>  0.22091235</td><td>0.02510676</td><td> 8.7989186</td><td>4.394876e-18</td></tr>\n",
       "\t<tr><td>female:education  </td><td> -0.33688760</td><td>0.13199299</td><td>-2.5523143</td><td>1.081657e-02</td></tr>\n",
       "\t<tr><td>female:exper      </td><td> -0.09612482</td><td>0.03181329</td><td>-3.0215303</td><td>2.565047e-03</td></tr>\n",
       "\t<tr><td>nonwhite:education</td><td> -0.32185517</td><td>0.19534842</td><td>-1.6475954</td><td>9.968173e-02</td></tr>\n",
       "\t<tr><td>nonwhite:exper    </td><td> -0.02204137</td><td>0.04437560</td><td>-0.4967001</td><td>6.194861e-01</td></tr>\n",
       "\t<tr><td>union:education   </td><td> -0.19832332</td><td>0.19137307</td><td>-1.0363178</td><td>3.002501e-01</td></tr>\n",
       "\t<tr><td>union:exper       </td><td> -0.03345389</td><td>0.04605375</td><td>-0.7264096</td><td>4.677208e-01</td></tr>\n",
       "</tbody>\n",
       "</table>\n"
      ],
      "text/latex": [
       "A tibble: 12 × 5\n",
       "\\begin{tabular}{lllll}\n",
       " term & estimate & std.error & statistic & p.value\\\\\n",
       " <chr> & <dbl> & <dbl> & <dbl> & <dbl>\\\\\n",
       "\\hline\n",
       "\t (Intercept)        & -11.09128575 & 1.42184620 & -7.8006227 & 1.272876e-14\\\\\n",
       "\t female             &   3.17415751 & 1.96646494 &  1.6141440 & 1.067433e-01\\\\\n",
       "\t nonwhite           &   2.90912852 & 2.78006592 &  1.0464243 & 2.955632e-01\\\\\n",
       "\t union              &   4.45421150 & 2.97349392 &  1.4979723 & 1.343876e-01\\\\\n",
       "\t education          &   1.58712500 & 0.09381936 & 16.9168183 & 4.408735e-58\\\\\n",
       "\t exper              &   0.22091235 & 0.02510676 &  8.7989186 & 4.394876e-18\\\\\n",
       "\t female:education   &  -0.33688760 & 0.13199299 & -2.5523143 & 1.081657e-02\\\\\n",
       "\t female:exper       &  -0.09612482 & 0.03181329 & -3.0215303 & 2.565047e-03\\\\\n",
       "\t nonwhite:education &  -0.32185517 & 0.19534842 & -1.6475954 & 9.968173e-02\\\\\n",
       "\t nonwhite:exper     &  -0.02204137 & 0.04437560 & -0.4967001 & 6.194861e-01\\\\\n",
       "\t union:education    &  -0.19832332 & 0.19137307 & -1.0363178 & 3.002501e-01\\\\\n",
       "\t union:exper        &  -0.03345389 & 0.04605375 & -0.7264096 & 4.677208e-01\\\\\n",
       "\\end{tabular}\n"
      ],
      "text/markdown": [
       "\n",
       "A tibble: 12 × 5\n",
       "\n",
       "| term &lt;chr&gt; | estimate &lt;dbl&gt; | std.error &lt;dbl&gt; | statistic &lt;dbl&gt; | p.value &lt;dbl&gt; |\n",
       "|---|---|---|---|---|\n",
       "| (Intercept)        | -11.09128575 | 1.42184620 | -7.8006227 | 1.272876e-14 |\n",
       "| female             |   3.17415751 | 1.96646494 |  1.6141440 | 1.067433e-01 |\n",
       "| nonwhite           |   2.90912852 | 2.78006592 |  1.0464243 | 2.955632e-01 |\n",
       "| union              |   4.45421150 | 2.97349392 |  1.4979723 | 1.343876e-01 |\n",
       "| education          |   1.58712500 | 0.09381936 | 16.9168183 | 4.408735e-58 |\n",
       "| exper              |   0.22091235 | 0.02510676 |  8.7989186 | 4.394876e-18 |\n",
       "| female:education   |  -0.33688760 | 0.13199299 | -2.5523143 | 1.081657e-02 |\n",
       "| female:exper       |  -0.09612482 | 0.03181329 | -3.0215303 | 2.565047e-03 |\n",
       "| nonwhite:education |  -0.32185517 | 0.19534842 | -1.6475954 | 9.968173e-02 |\n",
       "| nonwhite:exper     |  -0.02204137 | 0.04437560 | -0.4967001 | 6.194861e-01 |\n",
       "| union:education    |  -0.19832332 | 0.19137307 | -1.0363178 | 3.002501e-01 |\n",
       "| union:exper        |  -0.03345389 | 0.04605375 | -0.7264096 | 4.677208e-01 |\n",
       "\n"
      ],
      "text/plain": [
       "   term               estimate     std.error  statistic  p.value     \n",
       "1  (Intercept)        -11.09128575 1.42184620 -7.8006227 1.272876e-14\n",
       "2  female               3.17415751 1.96646494  1.6141440 1.067433e-01\n",
       "3  nonwhite             2.90912852 2.78006592  1.0464243 2.955632e-01\n",
       "4  union                4.45421150 2.97349392  1.4979723 1.343876e-01\n",
       "5  education            1.58712500 0.09381936 16.9168183 4.408735e-58\n",
       "6  exper                0.22091235 0.02510676  8.7989186 4.394876e-18\n",
       "7  female:education    -0.33688760 0.13199299 -2.5523143 1.081657e-02\n",
       "8  female:exper        -0.09612482 0.03181329 -3.0215303 2.565047e-03\n",
       "9  nonwhite:education  -0.32185517 0.19534842 -1.6475954 9.968173e-02\n",
       "10 nonwhite:exper      -0.02204137 0.04437560 -0.4967001 6.194861e-01\n",
       "11 union:education     -0.19832332 0.19137307 -1.0363178 3.002501e-01\n",
       "12 union:exper         -0.03345389 0.04605375 -0.7264096 4.677208e-01"
      ]
     },
     "metadata": {},
     "output_type": "display_data"
    },
    {
     "data": {
      "text/html": [
       "<table class=\"dataframe\">\n",
       "<caption>A tibble: 1 × 12</caption>\n",
       "<thead>\n",
       "\t<tr><th scope=col>r.squared</th><th scope=col>adj.r.squared</th><th scope=col>sigma</th><th scope=col>statistic</th><th scope=col>p.value</th><th scope=col>df</th><th scope=col>logLik</th><th scope=col>AIC</th><th scope=col>BIC</th><th scope=col>deviance</th><th scope=col>df.residual</th><th scope=col>nobs</th></tr>\n",
       "\t<tr><th scope=col>&lt;dbl&gt;</th><th scope=col>&lt;dbl&gt;</th><th scope=col>&lt;dbl&gt;</th><th scope=col>&lt;dbl&gt;</th><th scope=col>&lt;dbl&gt;</th><th scope=col>&lt;dbl&gt;</th><th scope=col>&lt;dbl&gt;</th><th scope=col>&lt;dbl&gt;</th><th scope=col>&lt;dbl&gt;</th><th scope=col>&lt;dbl&gt;</th><th scope=col>&lt;int&gt;</th><th scope=col>&lt;int&gt;</th></tr>\n",
       "</thead>\n",
       "<tbody>\n",
       "\t<tr><td>0.3328109</td><td>0.3270637</td><td>6.477589</td><td>57.90909</td><td>3.562619e-104</td><td>11</td><td>-4231.285</td><td>8488.569</td><td>8555.67</td><td>53581.84</td><td>1277</td><td>1289</td></tr>\n",
       "</tbody>\n",
       "</table>\n"
      ],
      "text/latex": [
       "A tibble: 1 × 12\n",
       "\\begin{tabular}{llllllllllll}\n",
       " r.squared & adj.r.squared & sigma & statistic & p.value & df & logLik & AIC & BIC & deviance & df.residual & nobs\\\\\n",
       " <dbl> & <dbl> & <dbl> & <dbl> & <dbl> & <dbl> & <dbl> & <dbl> & <dbl> & <dbl> & <int> & <int>\\\\\n",
       "\\hline\n",
       "\t 0.3328109 & 0.3270637 & 6.477589 & 57.90909 & 3.562619e-104 & 11 & -4231.285 & 8488.569 & 8555.67 & 53581.84 & 1277 & 1289\\\\\n",
       "\\end{tabular}\n"
      ],
      "text/markdown": [
       "\n",
       "A tibble: 1 × 12\n",
       "\n",
       "| r.squared &lt;dbl&gt; | adj.r.squared &lt;dbl&gt; | sigma &lt;dbl&gt; | statistic &lt;dbl&gt; | p.value &lt;dbl&gt; | df &lt;dbl&gt; | logLik &lt;dbl&gt; | AIC &lt;dbl&gt; | BIC &lt;dbl&gt; | deviance &lt;dbl&gt; | df.residual &lt;int&gt; | nobs &lt;int&gt; |\n",
       "|---|---|---|---|---|---|---|---|---|---|---|---|\n",
       "| 0.3328109 | 0.3270637 | 6.477589 | 57.90909 | 3.562619e-104 | 11 | -4231.285 | 8488.569 | 8555.67 | 53581.84 | 1277 | 1289 |\n",
       "\n"
      ],
      "text/plain": [
       "      r.squared adj.r.squared sigma    statistic p.value       df logLik   \n",
       "value 0.3328109 0.3270637     6.477589 57.90909  3.562619e-104 11 -4231.285\n",
       "      AIC      BIC     deviance df.residual nobs\n",
       "value 8488.569 8555.67 53581.84 1277        1289"
      ]
     },
     "metadata": {},
     "output_type": "display_data"
    }
   ],
   "source": [
    "model3 <- lm(wage~ female + nonwhite + union + education + exper +\n",
    "             female*education + female*exper +\n",
    "             nonwhite*education + nonwhite*exper +\n",
    "             union*education + union*exper, data = df)\n",
    "tidy(model3)\n",
    "glance(model3)"
   ]
  },
  {
   "cell_type": "markdown",
   "id": "94047156-1fa6-4ba6-9d0f-19fcf87a8e32",
   "metadata": {},
   "source": [
    "**female*experience:** for each additional year of experience, the increase in income for females is 0.09 units less than for males."
   ]
  },
  {
   "cell_type": "markdown",
   "id": "13c26b6a-258d-44c9-a7f3-9a56a748f168",
   "metadata": {},
   "source": [
    "## Functional form of wage regression"
   ]
  },
  {
   "cell_type": "code",
   "execution_count": 6,
   "id": "ca3788f2-5247-4dd4-a9d0-140e9942c47e",
   "metadata": {},
   "outputs": [
    {
     "data": {
      "text/plain": [
       "   Min. 1st Qu.  Median    Mean 3rd Qu.    Max. \n",
       "   0.84    6.92   10.08   12.37   15.63   64.08 "
      ]
     },
     "metadata": {},
     "output_type": "display_data"
    },
    {
     "data": {
      "text/plain": [
       "\n",
       "\tShapiro-Wilk normality test\n",
       "\n",
       "data:  df$wage\n",
       "W = 0.84488, p-value < 2.2e-16\n"
      ]
     },
     "metadata": {},
     "output_type": "display_data"
    },
    {
     "data": {
      "image/png": "[encoded data removed]",
      "text/plain": [
       "plot without title"
      ]
     },
     "metadata": {
      "image/png": {
       "height": 420,
       "width": 420
      }
     },
     "output_type": "display_data"
    }
   ],
   "source": [
    "summary(df$wage)\n",
    "\n",
    "ggplot(df, aes(x = wage))+ \n",
    "        geom_histogram(bins = 30)\n",
    "\n",
    "shapiro.test(df$wage)"
   ]
  },
  {
   "cell_type": "code",
   "execution_count": 7,
   "id": "ca5e207f-2e59-4617-b375-0c3fb1db9286",
   "metadata": {},
   "outputs": [
    {
     "data": {
      "text/html": [
       "1.848114127393"
      ],
      "text/latex": [
       "1.848114127393"
      ],
      "text/markdown": [
       "1.848114127393"
      ],
      "text/plain": [
       "[1] 1.848114"
      ]
     },
     "metadata": {},
     "output_type": "display_data"
    },
    {
     "data": {
      "text/html": [
       "7.83656558034119"
      ],
      "text/latex": [
       "7.83656558034119"
      ],
      "text/markdown": [
       "7.83656558034119"
      ],
      "text/plain": [
       "[1] 7.836566"
      ]
     },
     "metadata": {},
     "output_type": "display_data"
    }
   ],
   "source": [
    "library(moments)\n",
    "skewness(df$wage)\n",
    "kurtosis(df$wage)"
   ]
  },
  {
   "cell_type": "code",
   "execution_count": 8,
   "id": "a94e74ab-a20d-414d-b69f-11593752c1fd",
   "metadata": {},
   "outputs": [
    {
     "data": {
      "text/plain": [
       "   Min. 1st Qu.  Median    Mean 3rd Qu.    Max. \n",
       "-0.1744  1.9344  2.3106  2.3424  2.7492  4.1601 "
      ]
     },
     "metadata": {},
     "output_type": "display_data"
    },
    {
     "data": {
      "text/html": [
       "0.0133949929381925"
      ],
      "text/latex": [
       "0.0133949929381925"
      ],
      "text/markdown": [
       "0.0133949929381925"
      ],
      "text/plain": [
       "[1] 0.01339499"
      ]
     },
     "metadata": {},
     "output_type": "display_data"
    },
    {
     "data": {
      "text/html": [
       "3.22633731089373"
      ],
      "text/latex": [
       "3.22633731089373"
      ],
      "text/markdown": [
       "3.22633731089373"
      ],
      "text/plain": [
       "[1] 3.226337"
      ]
     },
     "metadata": {},
     "output_type": "display_data"
    },
    {
     "data": {
      "image/png": "[encoded data removed]",
      "text/plain": [
       "plot without title"
      ]
     },
     "metadata": {
      "image/png": {
       "height": 420,
       "width": 420
      }
     },
     "output_type": "display_data"
    }
   ],
   "source": [
    "summary(df$lnwage)\n",
    "skewness(df$lnwage)\n",
    "kurtosis(df$lnwage)\n",
    "\n",
    "ggplot(df, aes(x = lnwage))+ \n",
    "        geom_histogram(bins = 30)"
   ]
  },
  {
   "cell_type": "code",
   "execution_count": 9,
   "id": "c1eee635-1299-4646-a5b2-b7f85d20e782",
   "metadata": {},
   "outputs": [
    {
     "name": "stderr",
     "output_type": "stream",
     "text": [
      "Registered S3 method overwritten by 'quantmod':\n",
      "  method            from\n",
      "  as.zoo.data.frame zoo \n",
      "\n"
     ]
    },
    {
     "data": {
      "text/plain": [
       "\n",
       "\tJarque Bera Test\n",
       "\n",
       "data:  df$lnwage\n",
       "X-squared = 2.7899, df = 2, p-value = 0.2478\n"
      ]
     },
     "metadata": {},
     "output_type": "display_data"
    },
    {
     "data": {
      "text/plain": [
       "\n",
       "\tShapiro-Wilk normality test\n",
       "\n",
       "data:  df$lnwage\n",
       "W = 0.99175, p-value = 1.268e-06\n"
      ]
     },
     "metadata": {},
     "output_type": "display_data"
    }
   ],
   "source": [
    "library('tseries')\n",
    "jarque.bera.test(df$lnwage)\n",
    "shapiro.test(df$lnwage)"
   ]
  },
  {
   "cell_type": "code",
   "execution_count": 10,
   "id": "439fa7d4-1858-408e-bcf4-cf871c435284",
   "metadata": {},
   "outputs": [
    {
     "data": {
      "text/html": [
       "<table class=\"dataframe\">\n",
       "<caption>A tibble: 6 × 5</caption>\n",
       "<thead>\n",
       "\t<tr><th scope=col>term</th><th scope=col>estimate</th><th scope=col>std.error</th><th scope=col>statistic</th><th scope=col>p.value</th></tr>\n",
       "\t<tr><th scope=col>&lt;chr&gt;</th><th scope=col>&lt;dbl&gt;</th><th scope=col>&lt;dbl&gt;</th><th scope=col>&lt;dbl&gt;</th><th scope=col>&lt;dbl&gt;</th></tr>\n",
       "</thead>\n",
       "<tbody>\n",
       "\t<tr><td>(Intercept)</td><td> 0.90550368</td><td>0.074174901</td><td>12.207683</td><td>1.662727e-32</td></tr>\n",
       "\t<tr><td>female     </td><td>-0.24915404</td><td>0.026625019</td><td>-9.357891</td><td>3.511043e-20</td></tr>\n",
       "\t<tr><td>nonwhite   </td><td>-0.13353510</td><td>0.037181913</td><td>-3.591399</td><td>3.413335e-04</td></tr>\n",
       "\t<tr><td>union      </td><td> 0.18020354</td><td>0.036954854</td><td> 4.876316</td><td>1.216066e-06</td></tr>\n",
       "\t<tr><td>education  </td><td> 0.09987030</td><td>0.004812460</td><td>20.752442</td><td>1.025031e-82</td></tr>\n",
       "\t<tr><td>exper      </td><td> 0.01276009</td><td>0.001171825</td><td>10.889073</td><td>1.795174e-26</td></tr>\n",
       "</tbody>\n",
       "</table>\n"
      ],
      "text/latex": [
       "A tibble: 6 × 5\n",
       "\\begin{tabular}{lllll}\n",
       " term & estimate & std.error & statistic & p.value\\\\\n",
       " <chr> & <dbl> & <dbl> & <dbl> & <dbl>\\\\\n",
       "\\hline\n",
       "\t (Intercept) &  0.90550368 & 0.074174901 & 12.207683 & 1.662727e-32\\\\\n",
       "\t female      & -0.24915404 & 0.026625019 & -9.357891 & 3.511043e-20\\\\\n",
       "\t nonwhite    & -0.13353510 & 0.037181913 & -3.591399 & 3.413335e-04\\\\\n",
       "\t union       &  0.18020354 & 0.036954854 &  4.876316 & 1.216066e-06\\\\\n",
       "\t education   &  0.09987030 & 0.004812460 & 20.752442 & 1.025031e-82\\\\\n",
       "\t exper       &  0.01276009 & 0.001171825 & 10.889073 & 1.795174e-26\\\\\n",
       "\\end{tabular}\n"
      ],
      "text/markdown": [
       "\n",
       "A tibble: 6 × 5\n",
       "\n",
       "| term &lt;chr&gt; | estimate &lt;dbl&gt; | std.error &lt;dbl&gt; | statistic &lt;dbl&gt; | p.value &lt;dbl&gt; |\n",
       "|---|---|---|---|---|\n",
       "| (Intercept) |  0.90550368 | 0.074174901 | 12.207683 | 1.662727e-32 |\n",
       "| female      | -0.24915404 | 0.026625019 | -9.357891 | 3.511043e-20 |\n",
       "| nonwhite    | -0.13353510 | 0.037181913 | -3.591399 | 3.413335e-04 |\n",
       "| union       |  0.18020354 | 0.036954854 |  4.876316 | 1.216066e-06 |\n",
       "| education   |  0.09987030 | 0.004812460 | 20.752442 | 1.025031e-82 |\n",
       "| exper       |  0.01276009 | 0.001171825 | 10.889073 | 1.795174e-26 |\n",
       "\n"
      ],
      "text/plain": [
       "  term        estimate    std.error   statistic p.value     \n",
       "1 (Intercept)  0.90550368 0.074174901 12.207683 1.662727e-32\n",
       "2 female      -0.24915404 0.026625019 -9.357891 3.511043e-20\n",
       "3 nonwhite    -0.13353510 0.037181913 -3.591399 3.413335e-04\n",
       "4 union        0.18020354 0.036954854  4.876316 1.216066e-06\n",
       "5 education    0.09987030 0.004812460 20.752442 1.025031e-82\n",
       "6 exper        0.01276009 0.001171825 10.889073 1.795174e-26"
      ]
     },
     "metadata": {},
     "output_type": "display_data"
    },
    {
     "data": {
      "text/html": [
       "<table class=\"dataframe\">\n",
       "<caption>A tibble: 1 × 12</caption>\n",
       "<thead>\n",
       "\t<tr><th scope=col>r.squared</th><th scope=col>adj.r.squared</th><th scope=col>sigma</th><th scope=col>statistic</th><th scope=col>p.value</th><th scope=col>df</th><th scope=col>logLik</th><th scope=col>AIC</th><th scope=col>BIC</th><th scope=col>deviance</th><th scope=col>df.residual</th><th scope=col>nobs</th></tr>\n",
       "\t<tr><th scope=col>&lt;dbl&gt;</th><th scope=col>&lt;dbl&gt;</th><th scope=col>&lt;dbl&gt;</th><th scope=col>&lt;dbl&gt;</th><th scope=col>&lt;dbl&gt;</th><th scope=col>&lt;dbl&gt;</th><th scope=col>&lt;dbl&gt;</th><th scope=col>&lt;dbl&gt;</th><th scope=col>&lt;dbl&gt;</th><th scope=col>&lt;dbl&gt;</th><th scope=col>&lt;int&gt;</th><th scope=col>&lt;int&gt;</th></tr>\n",
       "</thead>\n",
       "<tbody>\n",
       "\t<tr><td>0.3456505</td><td>0.3431004</td><td>0.4752374</td><td>135.5452</td><td>1.738922e-115</td><td>5</td><td>-867.0651</td><td>1748.13</td><td>1784.261</td><td>289.7663</td><td>1283</td><td>1289</td></tr>\n",
       "</tbody>\n",
       "</table>\n"
      ],
      "text/latex": [
       "A tibble: 1 × 12\n",
       "\\begin{tabular}{llllllllllll}\n",
       " r.squared & adj.r.squared & sigma & statistic & p.value & df & logLik & AIC & BIC & deviance & df.residual & nobs\\\\\n",
       " <dbl> & <dbl> & <dbl> & <dbl> & <dbl> & <dbl> & <dbl> & <dbl> & <dbl> & <dbl> & <int> & <int>\\\\\n",
       "\\hline\n",
       "\t 0.3456505 & 0.3431004 & 0.4752374 & 135.5452 & 1.738922e-115 & 5 & -867.0651 & 1748.13 & 1784.261 & 289.7663 & 1283 & 1289\\\\\n",
       "\\end{tabular}\n"
      ],
      "text/markdown": [
       "\n",
       "A tibble: 1 × 12\n",
       "\n",
       "| r.squared &lt;dbl&gt; | adj.r.squared &lt;dbl&gt; | sigma &lt;dbl&gt; | statistic &lt;dbl&gt; | p.value &lt;dbl&gt; | df &lt;dbl&gt; | logLik &lt;dbl&gt; | AIC &lt;dbl&gt; | BIC &lt;dbl&gt; | deviance &lt;dbl&gt; | df.residual &lt;int&gt; | nobs &lt;int&gt; |\n",
       "|---|---|---|---|---|---|---|---|---|---|---|---|\n",
       "| 0.3456505 | 0.3431004 | 0.4752374 | 135.5452 | 1.738922e-115 | 5 | -867.0651 | 1748.13 | 1784.261 | 289.7663 | 1283 | 1289 |\n",
       "\n"
      ],
      "text/plain": [
       "      r.squared adj.r.squared sigma     statistic p.value       df logLik   \n",
       "value 0.3456505 0.3431004     0.4752374 135.5452  1.738922e-115 5  -867.0651\n",
       "      AIC     BIC      deviance df.residual nobs\n",
       "value 1748.13 1784.261 289.7663 1283        1289"
      ]
     },
     "metadata": {},
     "output_type": "display_data"
    }
   ],
   "source": [
    "model4 <-  lm(lnwage~ female + nonwhite + union + education + exper, data = df)\n",
    "tidy(model4)\n",
    "glance(model4)"
   ]
  },
  {
   "cell_type": "markdown",
   "id": "b9cb7a1d-1003-42b1-8f26-fb14f7781d80",
   "metadata": {},
   "source": [
    "**education coefficient** of 0.0999 suggests that\n",
    "for every additional year of schooling, the average wage rate goes up by about 9.99%,\n",
    "ceteris paribus"
   ]
  },
  {
   "cell_type": "markdown",
   "id": "54265d8d-3925-4c3d-b817-f00d6a9710dd",
   "metadata": {},
   "source": [
    "**female dummy coefficient** of –0.2492 as suggesting that the average female wage rate is lower by\n",
    "24.92% as compared to the male average wage rate. (approximately)"
   ]
  },
  {
   "cell_type": "code",
   "execution_count": 11,
   "id": "9a4513be-6c17-4c55-97b6-8615f9ad094f",
   "metadata": {},
   "outputs": [
    {
     "data": {
      "text/html": [
       "-22.0575927019416"
      ],
      "text/latex": [
       "-22.0575927019416"
      ],
      "text/markdown": [
       "-22.0575927019416"
      ],
      "text/plain": [
       "[1] -22.05759"
      ]
     },
     "metadata": {},
     "output_type": "display_data"
    }
   ],
   "source": [
    "(exp(-0.2492) - 1) * 100"
   ]
  },
  {
   "cell_type": "markdown",
   "id": "1d9881ee-c317-4d94-8ad8-98b8286bd16a",
   "metadata": {},
   "source": [
    " average female wage rate is lower by 22% as compared to the male average wage rate. (exact)"
   ]
  },
  {
   "cell_type": "markdown",
   "id": "c0491492-785b-4c4a-a306-8fee5139819c",
   "metadata": {},
   "source": [
    "## Dummy variables in structural change"
   ]
  },
  {
   "cell_type": "markdown",
   "id": "70009f59-4953-45b5-b135-09c7029bd10e",
   "metadata": {},
   "source": [
    "$$\n",
    "GPI_t = B_1 + B_2GPS_t +u_t, \n",
    "$$\n",
    "**GPS:** gross private savings  \n",
    "**GPI:** gross private investments"
   ]
  },
  {
   "cell_type": "code",
   "execution_count": 12,
   "id": "a2c6c2a0-2ebb-443e-9021-c69772aa4141",
   "metadata": {},
   "outputs": [
    {
     "data": {
      "text/html": [
       "<table class=\"dataframe\">\n",
       "<caption>A tibble: 3 × 5</caption>\n",
       "<thead>\n",
       "\t<tr><th scope=col>obs</th><th scope=col>gpi</th><th scope=col>gps</th><th scope=col>recession81</th><th scope=col>gpsrec81</th></tr>\n",
       "\t<tr><th scope=col>&lt;dbl&gt;</th><th scope=col>&lt;dbl&gt;</th><th scope=col>&lt;dbl&gt;</th><th scope=col>&lt;dbl&gt;</th><th scope=col>&lt;dbl&gt;</th></tr>\n",
       "</thead>\n",
       "<tbody>\n",
       "\t<tr><td>1959</td><td>78.5</td><td>84.6</td><td>0</td><td>0</td></tr>\n",
       "\t<tr><td>1960</td><td>78.9</td><td>84.8</td><td>0</td><td>0</td></tr>\n",
       "\t<tr><td>1961</td><td>78.2</td><td>91.8</td><td>0</td><td>0</td></tr>\n",
       "</tbody>\n",
       "</table>\n"
      ],
      "text/latex": [
       "A tibble: 3 × 5\n",
       "\\begin{tabular}{lllll}\n",
       " obs & gpi & gps & recession81 & gpsrec81\\\\\n",
       " <dbl> & <dbl> & <dbl> & <dbl> & <dbl>\\\\\n",
       "\\hline\n",
       "\t 1959 & 78.5 & 84.6 & 0 & 0\\\\\n",
       "\t 1960 & 78.9 & 84.8 & 0 & 0\\\\\n",
       "\t 1961 & 78.2 & 91.8 & 0 & 0\\\\\n",
       "\\end{tabular}\n"
      ],
      "text/markdown": [
       "\n",
       "A tibble: 3 × 5\n",
       "\n",
       "| obs &lt;dbl&gt; | gpi &lt;dbl&gt; | gps &lt;dbl&gt; | recession81 &lt;dbl&gt; | gpsrec81 &lt;dbl&gt; |\n",
       "|---|---|---|---|---|\n",
       "| 1959 | 78.5 | 84.6 | 0 | 0 |\n",
       "| 1960 | 78.9 | 84.8 | 0 | 0 |\n",
       "| 1961 | 78.2 | 91.8 | 0 | 0 |\n",
       "\n"
      ],
      "text/plain": [
       "  obs  gpi  gps  recession81 gpsrec81\n",
       "1 1959 78.5 84.6 0           0       \n",
       "2 1960 78.9 84.8 0           0       \n",
       "3 1961 78.2 91.8 0           0       "
      ]
     },
     "metadata": {},
     "output_type": "display_data"
    }
   ],
   "source": [
    "df2 <- read_excel(\"data/Table3_6.xls\")\n",
    "head(df2,3)"
   ]
  },
  {
   "cell_type": "code",
   "execution_count": 13,
   "id": "8ac0ce39-1a94-4814-bbfc-394e2c0189b0",
   "metadata": {},
   "outputs": [
    {
     "data": {
      "text/html": [
       "<table class=\"dataframe\">\n",
       "<caption>A tibble: 2 × 5</caption>\n",
       "<thead>\n",
       "\t<tr><th scope=col>term</th><th scope=col>estimate</th><th scope=col>std.error</th><th scope=col>statistic</th><th scope=col>p.value</th></tr>\n",
       "\t<tr><th scope=col>&lt;chr&gt;</th><th scope=col>&lt;dbl&gt;</th><th scope=col>&lt;dbl&gt;</th><th scope=col>&lt;dbl&gt;</th><th scope=col>&lt;dbl&gt;</th></tr>\n",
       "</thead>\n",
       "<tbody>\n",
       "\t<tr><td>(Intercept)</td><td>-78.721047</td><td>27.48474252</td><td>-2.864173</td><td>6.230637e-03</td></tr>\n",
       "\t<tr><td>gps        </td><td>  1.107395</td><td> 0.02907993</td><td>38.081092</td><td>5.567391e-37</td></tr>\n",
       "</tbody>\n",
       "</table>\n"
      ],
      "text/latex": [
       "A tibble: 2 × 5\n",
       "\\begin{tabular}{lllll}\n",
       " term & estimate & std.error & statistic & p.value\\\\\n",
       " <chr> & <dbl> & <dbl> & <dbl> & <dbl>\\\\\n",
       "\\hline\n",
       "\t (Intercept) & -78.721047 & 27.48474252 & -2.864173 & 6.230637e-03\\\\\n",
       "\t gps         &   1.107395 &  0.02907993 & 38.081092 & 5.567391e-37\\\\\n",
       "\\end{tabular}\n"
      ],
      "text/markdown": [
       "\n",
       "A tibble: 2 × 5\n",
       "\n",
       "| term &lt;chr&gt; | estimate &lt;dbl&gt; | std.error &lt;dbl&gt; | statistic &lt;dbl&gt; | p.value &lt;dbl&gt; |\n",
       "|---|---|---|---|---|\n",
       "| (Intercept) | -78.721047 | 27.48474252 | -2.864173 | 6.230637e-03 |\n",
       "| gps         |   1.107395 |  0.02907993 | 38.081092 | 5.567391e-37 |\n",
       "\n"
      ],
      "text/plain": [
       "  term        estimate   std.error   statistic p.value     \n",
       "1 (Intercept) -78.721047 27.48474252 -2.864173 6.230637e-03\n",
       "2 gps           1.107395  0.02907993 38.081092 5.567391e-37"
      ]
     },
     "metadata": {},
     "output_type": "display_data"
    },
    {
     "data": {
      "text/html": [
       "<table class=\"dataframe\">\n",
       "<caption>A tibble: 1 × 12</caption>\n",
       "<thead>\n",
       "\t<tr><th scope=col>r.squared</th><th scope=col>adj.r.squared</th><th scope=col>sigma</th><th scope=col>statistic</th><th scope=col>p.value</th><th scope=col>df</th><th scope=col>logLik</th><th scope=col>AIC</th><th scope=col>BIC</th><th scope=col>deviance</th><th scope=col>df.residual</th><th scope=col>nobs</th></tr>\n",
       "\t<tr><th scope=col>&lt;dbl&gt;</th><th scope=col>&lt;dbl&gt;</th><th scope=col>&lt;dbl&gt;</th><th scope=col>&lt;dbl&gt;</th><th scope=col>&lt;dbl&gt;</th><th scope=col>&lt;dbl&gt;</th><th scope=col>&lt;dbl&gt;</th><th scope=col>&lt;dbl&gt;</th><th scope=col>&lt;dbl&gt;</th><th scope=col>&lt;dbl&gt;</th><th scope=col>&lt;int&gt;</th><th scope=col>&lt;int&gt;</th></tr>\n",
       "</thead>\n",
       "<tbody>\n",
       "\t<tr><td>0.9686074</td><td>0.9679395</td><td>114.8681</td><td>1450.17</td><td>5.567391e-37</td><td>1</td><td>-300.9524</td><td>607.9049</td><td>613.5803</td><td>620149.8</td><td>47</td><td>49</td></tr>\n",
       "</tbody>\n",
       "</table>\n"
      ],
      "text/latex": [
       "A tibble: 1 × 12\n",
       "\\begin{tabular}{llllllllllll}\n",
       " r.squared & adj.r.squared & sigma & statistic & p.value & df & logLik & AIC & BIC & deviance & df.residual & nobs\\\\\n",
       " <dbl> & <dbl> & <dbl> & <dbl> & <dbl> & <dbl> & <dbl> & <dbl> & <dbl> & <dbl> & <int> & <int>\\\\\n",
       "\\hline\n",
       "\t 0.9686074 & 0.9679395 & 114.8681 & 1450.17 & 5.567391e-37 & 1 & -300.9524 & 607.9049 & 613.5803 & 620149.8 & 47 & 49\\\\\n",
       "\\end{tabular}\n"
      ],
      "text/markdown": [
       "\n",
       "A tibble: 1 × 12\n",
       "\n",
       "| r.squared &lt;dbl&gt; | adj.r.squared &lt;dbl&gt; | sigma &lt;dbl&gt; | statistic &lt;dbl&gt; | p.value &lt;dbl&gt; | df &lt;dbl&gt; | logLik &lt;dbl&gt; | AIC &lt;dbl&gt; | BIC &lt;dbl&gt; | deviance &lt;dbl&gt; | df.residual &lt;int&gt; | nobs &lt;int&gt; |\n",
       "|---|---|---|---|---|---|---|---|---|---|---|---|\n",
       "| 0.9686074 | 0.9679395 | 114.8681 | 1450.17 | 5.567391e-37 | 1 | -300.9524 | 607.9049 | 613.5803 | 620149.8 | 47 | 49 |\n",
       "\n"
      ],
      "text/plain": [
       "      r.squared adj.r.squared sigma    statistic p.value      df logLik   \n",
       "value 0.9686074 0.9679395     114.8681 1450.17   5.567391e-37 1  -300.9524\n",
       "      AIC      BIC      deviance df.residual nobs\n",
       "value 607.9049 613.5803 620149.8 47          49  "
      ]
     },
     "metadata": {},
     "output_type": "display_data"
    }
   ],
   "source": [
    "model5 <- lm(gpi ~ gps, data = df2)\n",
    "tidy(model5)\n",
    "glance(model5)"
   ]
  },
  {
   "cell_type": "markdown",
   "id": "894ae1a0-19fb-4487-8fd0-0d8001aa3f05",
   "metadata": {},
   "source": [
    "if GPS increases by a dollar, the average GPI goes up by about $1.10."
   ]
  },
  {
   "cell_type": "markdown",
   "id": "c0a3146d-4055-4b3a-8c7e-57800749f141",
   "metadata": {},
   "source": [
    "### Check for structural break"
   ]
  },
  {
   "cell_type": "markdown",
   "id": "f566f250-4f4f-41fc-a652-98b4ce787d4f",
   "metadata": {},
   "source": [
    "$$\n",
    "GPI_t = B_1 + B_2GPS_t + \\beta_3 \\text{Recession81}_t + u_t, \n",
    "$$\n",
    "**GPS:** gross private savings  \n",
    "**GPI:** gross private investments  \n",
    "**Recession81:** 0 before year 1981, 1 afterwords"
   ]
  },
  {
   "cell_type": "code",
   "execution_count": 14,
   "id": "a49f63b7-3083-4157-8fe6-7c130ec1761b",
   "metadata": {},
   "outputs": [
    {
     "data": {
      "text/html": [
       "<table class=\"dataframe\">\n",
       "<caption>A tibble: 3 × 5</caption>\n",
       "<thead>\n",
       "\t<tr><th scope=col>term</th><th scope=col>estimate</th><th scope=col>std.error</th><th scope=col>statistic</th><th scope=col>p.value</th></tr>\n",
       "\t<tr><th scope=col>&lt;chr&gt;</th><th scope=col>&lt;dbl&gt;</th><th scope=col>&lt;dbl&gt;</th><th scope=col>&lt;dbl&gt;</th><th scope=col>&lt;dbl&gt;</th></tr>\n",
       "</thead>\n",
       "<tbody>\n",
       "\t<tr><td>(Intercept)</td><td> -83.486025</td><td>23.15912656</td><td>-3.604887</td><td>7.649795e-04</td></tr>\n",
       "\t<tr><td>gps        </td><td>   1.288672</td><td> 0.04706553</td><td>27.380380</td><td>4.045379e-30</td></tr>\n",
       "\t<tr><td>recession81</td><td>-240.787848</td><td>53.39662813</td><td>-4.509420</td><td>4.464419e-05</td></tr>\n",
       "</tbody>\n",
       "</table>\n"
      ],
      "text/latex": [
       "A tibble: 3 × 5\n",
       "\\begin{tabular}{lllll}\n",
       " term & estimate & std.error & statistic & p.value\\\\\n",
       " <chr> & <dbl> & <dbl> & <dbl> & <dbl>\\\\\n",
       "\\hline\n",
       "\t (Intercept) &  -83.486025 & 23.15912656 & -3.604887 & 7.649795e-04\\\\\n",
       "\t gps         &    1.288672 &  0.04706553 & 27.380380 & 4.045379e-30\\\\\n",
       "\t recession81 & -240.787848 & 53.39662813 & -4.509420 & 4.464419e-05\\\\\n",
       "\\end{tabular}\n"
      ],
      "text/markdown": [
       "\n",
       "A tibble: 3 × 5\n",
       "\n",
       "| term &lt;chr&gt; | estimate &lt;dbl&gt; | std.error &lt;dbl&gt; | statistic &lt;dbl&gt; | p.value &lt;dbl&gt; |\n",
       "|---|---|---|---|---|\n",
       "| (Intercept) |  -83.486025 | 23.15912656 | -3.604887 | 7.649795e-04 |\n",
       "| gps         |    1.288672 |  0.04706553 | 27.380380 | 4.045379e-30 |\n",
       "| recession81 | -240.787848 | 53.39662813 | -4.509420 | 4.464419e-05 |\n",
       "\n"
      ],
      "text/plain": [
       "  term        estimate    std.error   statistic p.value     \n",
       "1 (Intercept)  -83.486025 23.15912656 -3.604887 7.649795e-04\n",
       "2 gps            1.288672  0.04706553 27.380380 4.045379e-30\n",
       "3 recession81 -240.787848 53.39662813 -4.509420 4.464419e-05"
      ]
     },
     "metadata": {},
     "output_type": "display_data"
    },
    {
     "data": {
      "text/html": [
       "<table class=\"dataframe\">\n",
       "<caption>A tibble: 1 × 12</caption>\n",
       "<thead>\n",
       "\t<tr><th scope=col>r.squared</th><th scope=col>adj.r.squared</th><th scope=col>sigma</th><th scope=col>statistic</th><th scope=col>p.value</th><th scope=col>df</th><th scope=col>logLik</th><th scope=col>AIC</th><th scope=col>BIC</th><th scope=col>deviance</th><th scope=col>df.residual</th><th scope=col>nobs</th></tr>\n",
       "\t<tr><th scope=col>&lt;dbl&gt;</th><th scope=col>&lt;dbl&gt;</th><th scope=col>&lt;dbl&gt;</th><th scope=col>&lt;dbl&gt;</th><th scope=col>&lt;dbl&gt;</th><th scope=col>&lt;dbl&gt;</th><th scope=col>&lt;dbl&gt;</th><th scope=col>&lt;dbl&gt;</th><th scope=col>&lt;dbl&gt;</th><th scope=col>&lt;dbl&gt;</th><th scope=col>&lt;int&gt;</th><th scope=col>&lt;int&gt;</th></tr>\n",
       "</thead>\n",
       "<tbody>\n",
       "\t<tr><td>0.9782308</td><td>0.9772843</td><td>96.68906</td><td>1033.538</td><td>5.893647e-39</td><td>2</td><td>-291.9836</td><td>591.9672</td><td>599.5345</td><td>430043.7</td><td>46</td><td>49</td></tr>\n",
       "</tbody>\n",
       "</table>\n"
      ],
      "text/latex": [
       "A tibble: 1 × 12\n",
       "\\begin{tabular}{llllllllllll}\n",
       " r.squared & adj.r.squared & sigma & statistic & p.value & df & logLik & AIC & BIC & deviance & df.residual & nobs\\\\\n",
       " <dbl> & <dbl> & <dbl> & <dbl> & <dbl> & <dbl> & <dbl> & <dbl> & <dbl> & <dbl> & <int> & <int>\\\\\n",
       "\\hline\n",
       "\t 0.9782308 & 0.9772843 & 96.68906 & 1033.538 & 5.893647e-39 & 2 & -291.9836 & 591.9672 & 599.5345 & 430043.7 & 46 & 49\\\\\n",
       "\\end{tabular}\n"
      ],
      "text/markdown": [
       "\n",
       "A tibble: 1 × 12\n",
       "\n",
       "| r.squared &lt;dbl&gt; | adj.r.squared &lt;dbl&gt; | sigma &lt;dbl&gt; | statistic &lt;dbl&gt; | p.value &lt;dbl&gt; | df &lt;dbl&gt; | logLik &lt;dbl&gt; | AIC &lt;dbl&gt; | BIC &lt;dbl&gt; | deviance &lt;dbl&gt; | df.residual &lt;int&gt; | nobs &lt;int&gt; |\n",
       "|---|---|---|---|---|---|---|---|---|---|---|---|\n",
       "| 0.9782308 | 0.9772843 | 96.68906 | 1033.538 | 5.893647e-39 | 2 | -291.9836 | 591.9672 | 599.5345 | 430043.7 | 46 | 49 |\n",
       "\n"
      ],
      "text/plain": [
       "      r.squared adj.r.squared sigma    statistic p.value      df logLik   \n",
       "value 0.9782308 0.9772843     96.68906 1033.538  5.893647e-39 2  -291.9836\n",
       "      AIC      BIC      deviance df.residual nobs\n",
       "value 591.9672 599.5345 430043.7 46          49  "
      ]
     },
     "metadata": {},
     "output_type": "display_data"
    }
   ],
   "source": [
    "model6 <- lm(gpi ~ gps + recession81, data = df2)\n",
    "tidy(model6)\n",
    "glance(model6)"
   ]
  },
  {
   "cell_type": "markdown",
   "id": "e8720073-6e2e-4b0d-be1c-8150861b524c",
   "metadata": {},
   "source": [
    "Intercept pre recession: -83  \n",
    "Intercept post recession: (-83-240) = -324"
   ]
  },
  {
   "cell_type": "markdown",
   "id": "4fb42bef-12c9-4c57-9bec-d184cb631010",
   "metadata": {},
   "source": [
    "To check for slope:"
   ]
  },
  {
   "cell_type": "markdown",
   "id": "8d03e6d1-8d0a-46f5-a0d5-af7468fdbfef",
   "metadata": {},
   "source": [
    "$$\n",
    "GPI_t = B_1 + B_2GPS_t + \\beta_3 \\text{Recession81}_t +  \\beta_4 \\text{GPS * Recession81}+ u_t, \n",
    "$$"
   ]
  },
  {
   "cell_type": "code",
   "execution_count": 15,
   "id": "2934c8ed-a4e6-4ebc-8ace-54f4a11430ba",
   "metadata": {},
   "outputs": [
    {
     "data": {
      "text/html": [
       "<table class=\"dataframe\">\n",
       "<caption>A tibble: 4 × 5</caption>\n",
       "<thead>\n",
       "\t<tr><th scope=col>term</th><th scope=col>estimate</th><th scope=col>std.error</th><th scope=col>statistic</th><th scope=col>p.value</th></tr>\n",
       "\t<tr><th scope=col>&lt;chr&gt;</th><th scope=col>&lt;dbl&gt;</th><th scope=col>&lt;dbl&gt;</th><th scope=col>&lt;dbl&gt;</th><th scope=col>&lt;dbl&gt;</th></tr>\n",
       "</thead>\n",
       "<tbody>\n",
       "\t<tr><td>(Intercept)    </td><td>  -7.7798689</td><td>38.4495931</td><td>-0.2023394</td><td>8.405634e-01</td></tr>\n",
       "\t<tr><td>gps            </td><td>   0.9510818</td><td> 0.1474505</td><td> 6.4501785</td><td>6.686678e-08</td></tr>\n",
       "\t<tr><td>recession81    </td><td>-357.4586528</td><td>70.2863017</td><td>-5.0857513</td><td>6.910536e-06</td></tr>\n",
       "\t<tr><td>gps:recession81</td><td>   0.3719201</td><td> 0.1547662</td><td> 2.4031102</td><td>2.044029e-02</td></tr>\n",
       "</tbody>\n",
       "</table>\n"
      ],
      "text/latex": [
       "A tibble: 4 × 5\n",
       "\\begin{tabular}{lllll}\n",
       " term & estimate & std.error & statistic & p.value\\\\\n",
       " <chr> & <dbl> & <dbl> & <dbl> & <dbl>\\\\\n",
       "\\hline\n",
       "\t (Intercept)     &   -7.7798689 & 38.4495931 & -0.2023394 & 8.405634e-01\\\\\n",
       "\t gps             &    0.9510818 &  0.1474505 &  6.4501785 & 6.686678e-08\\\\\n",
       "\t recession81     & -357.4586528 & 70.2863017 & -5.0857513 & 6.910536e-06\\\\\n",
       "\t gps:recession81 &    0.3719201 &  0.1547662 &  2.4031102 & 2.044029e-02\\\\\n",
       "\\end{tabular}\n"
      ],
      "text/markdown": [
       "\n",
       "A tibble: 4 × 5\n",
       "\n",
       "| term &lt;chr&gt; | estimate &lt;dbl&gt; | std.error &lt;dbl&gt; | statistic &lt;dbl&gt; | p.value &lt;dbl&gt; |\n",
       "|---|---|---|---|---|\n",
       "| (Intercept)     |   -7.7798689 | 38.4495931 | -0.2023394 | 8.405634e-01 |\n",
       "| gps             |    0.9510818 |  0.1474505 |  6.4501785 | 6.686678e-08 |\n",
       "| recession81     | -357.4586528 | 70.2863017 | -5.0857513 | 6.910536e-06 |\n",
       "| gps:recession81 |    0.3719201 |  0.1547662 |  2.4031102 | 2.044029e-02 |\n",
       "\n"
      ],
      "text/plain": [
       "  term            estimate     std.error  statistic  p.value     \n",
       "1 (Intercept)       -7.7798689 38.4495931 -0.2023394 8.405634e-01\n",
       "2 gps                0.9510818  0.1474505  6.4501785 6.686678e-08\n",
       "3 recession81     -357.4586528 70.2863017 -5.0857513 6.910536e-06\n",
       "4 gps:recession81    0.3719201  0.1547662  2.4031102 2.044029e-02"
      ]
     },
     "metadata": {},
     "output_type": "display_data"
    },
    {
     "data": {
      "text/html": [
       "<table class=\"dataframe\">\n",
       "<caption>A tibble: 1 × 12</caption>\n",
       "<thead>\n",
       "\t<tr><th scope=col>r.squared</th><th scope=col>adj.r.squared</th><th scope=col>sigma</th><th scope=col>statistic</th><th scope=col>p.value</th><th scope=col>df</th><th scope=col>logLik</th><th scope=col>AIC</th><th scope=col>BIC</th><th scope=col>deviance</th><th scope=col>df.residual</th><th scope=col>nobs</th></tr>\n",
       "\t<tr><th scope=col>&lt;dbl&gt;</th><th scope=col>&lt;dbl&gt;</th><th scope=col>&lt;dbl&gt;</th><th scope=col>&lt;dbl&gt;</th><th scope=col>&lt;dbl&gt;</th><th scope=col>&lt;dbl&gt;</th><th scope=col>&lt;dbl&gt;</th><th scope=col>&lt;dbl&gt;</th><th scope=col>&lt;dbl&gt;</th><th scope=col>&lt;dbl&gt;</th><th scope=col>&lt;int&gt;</th><th scope=col>&lt;int&gt;</th></tr>\n",
       "</thead>\n",
       "<tbody>\n",
       "\t<tr><td>0.9807067</td><td>0.9794205</td><td>92.03045</td><td>762.4731</td><td>1.42319e-38</td><td>3</td><td>-289.0255</td><td>588.051</td><td>597.5101</td><td>381132.2</td><td>45</td><td>49</td></tr>\n",
       "</tbody>\n",
       "</table>\n"
      ],
      "text/latex": [
       "A tibble: 1 × 12\n",
       "\\begin{tabular}{llllllllllll}\n",
       " r.squared & adj.r.squared & sigma & statistic & p.value & df & logLik & AIC & BIC & deviance & df.residual & nobs\\\\\n",
       " <dbl> & <dbl> & <dbl> & <dbl> & <dbl> & <dbl> & <dbl> & <dbl> & <dbl> & <dbl> & <int> & <int>\\\\\n",
       "\\hline\n",
       "\t 0.9807067 & 0.9794205 & 92.03045 & 762.4731 & 1.42319e-38 & 3 & -289.0255 & 588.051 & 597.5101 & 381132.2 & 45 & 49\\\\\n",
       "\\end{tabular}\n"
      ],
      "text/markdown": [
       "\n",
       "A tibble: 1 × 12\n",
       "\n",
       "| r.squared &lt;dbl&gt; | adj.r.squared &lt;dbl&gt; | sigma &lt;dbl&gt; | statistic &lt;dbl&gt; | p.value &lt;dbl&gt; | df &lt;dbl&gt; | logLik &lt;dbl&gt; | AIC &lt;dbl&gt; | BIC &lt;dbl&gt; | deviance &lt;dbl&gt; | df.residual &lt;int&gt; | nobs &lt;int&gt; |\n",
       "|---|---|---|---|---|---|---|---|---|---|---|---|\n",
       "| 0.9807067 | 0.9794205 | 92.03045 | 762.4731 | 1.42319e-38 | 3 | -289.0255 | 588.051 | 597.5101 | 381132.2 | 45 | 49 |\n",
       "\n"
      ],
      "text/plain": [
       "      r.squared adj.r.squared sigma    statistic p.value     df logLik   \n",
       "value 0.9807067 0.9794205     92.03045 762.4731  1.42319e-38 3  -289.0255\n",
       "      AIC     BIC      deviance df.residual nobs\n",
       "value 588.051 597.5101 381132.2 45          49  "
      ]
     },
     "metadata": {},
     "output_type": "display_data"
    }
   ],
   "source": [
    "model7 <- lm(gpi ~ gps + recession81 + gps*recession81, data = df2)\n",
    "tidy(model7)\n",
    "glance(model7)"
   ]
  },
  {
   "cell_type": "markdown",
   "id": "debc993a-c7df-4b15-abca-98dbebe7a0b0",
   "metadata": {},
   "source": [
    "GPI pre recession: -7.78 + 0.95 GPS  \n",
    "GPI post recession: (-7.78 - 357.45) + (0.95 + 0.37) GPS"
   ]
  },
  {
   "cell_type": "markdown",
   "id": "d60f3a34-f74c-4406-8999-1df5200b8633",
   "metadata": {},
   "source": [
    "## Dummy variables in seasonal data (deseasonalization)"
   ]
  },
  {
   "cell_type": "code",
   "execution_count": 16,
   "id": "d0f4a94c-46a5-4239-bfc9-af72b79ad760",
   "metadata": {},
   "outputs": [
    {
     "data": {
      "text/html": [
       "<table class=\"dataframe\">\n",
       "<caption>A tibble: 3 × 10</caption>\n",
       "<thead>\n",
       "\t<tr><th scope=col>obs</th><th scope=col>sales</th><th scope=col>rpdi</th><th scope=col>conf</th><th scope=col>d2</th><th scope=col>d3</th><th scope=col>d4</th><th scope=col>lnsales</th><th scope=col>yearq</th><th scope=col>trend</th></tr>\n",
       "\t<tr><th scope=col>&lt;chr&gt;</th><th scope=col>&lt;dbl&gt;</th><th scope=col>&lt;dbl&gt;</th><th scope=col>&lt;dbl&gt;</th><th scope=col>&lt;dbl&gt;</th><th scope=col>&lt;dbl&gt;</th><th scope=col>&lt;dbl&gt;</th><th scope=col>&lt;dbl&gt;</th><th scope=col>&lt;dbl&gt;</th><th scope=col>&lt;dbl&gt;</th></tr>\n",
       "</thead>\n",
       "<tbody>\n",
       "\t<tr><td>1986:1</td><td>53.714</td><td>84.18</td><td>286.6</td><td>0</td><td>0</td><td>0</td><td>3.983674</td><td>21916</td><td>1</td></tr>\n",
       "\t<tr><td>1986:2</td><td>71.501</td><td>85.04</td><td>290.3</td><td>1</td><td>0</td><td>0</td><td>4.269711</td><td>21916</td><td>2</td></tr>\n",
       "\t<tr><td>1986:3</td><td>96.374</td><td>84.57</td><td>284.5</td><td>0</td><td>1</td><td>0</td><td>4.568236</td><td>21916</td><td>3</td></tr>\n",
       "</tbody>\n",
       "</table>\n"
      ],
      "text/latex": [
       "A tibble: 3 × 10\n",
       "\\begin{tabular}{llllllllll}\n",
       " obs & sales & rpdi & conf & d2 & d3 & d4 & lnsales & yearq & trend\\\\\n",
       " <chr> & <dbl> & <dbl> & <dbl> & <dbl> & <dbl> & <dbl> & <dbl> & <dbl> & <dbl>\\\\\n",
       "\\hline\n",
       "\t 1986:1 & 53.714 & 84.18 & 286.6 & 0 & 0 & 0 & 3.983674 & 21916 & 1\\\\\n",
       "\t 1986:2 & 71.501 & 85.04 & 290.3 & 1 & 0 & 0 & 4.269711 & 21916 & 2\\\\\n",
       "\t 1986:3 & 96.374 & 84.57 & 284.5 & 0 & 1 & 0 & 4.568236 & 21916 & 3\\\\\n",
       "\\end{tabular}\n"
      ],
      "text/markdown": [
       "\n",
       "A tibble: 3 × 10\n",
       "\n",
       "| obs &lt;chr&gt; | sales &lt;dbl&gt; | rpdi &lt;dbl&gt; | conf &lt;dbl&gt; | d2 &lt;dbl&gt; | d3 &lt;dbl&gt; | d4 &lt;dbl&gt; | lnsales &lt;dbl&gt; | yearq &lt;dbl&gt; | trend &lt;dbl&gt; |\n",
       "|---|---|---|---|---|---|---|---|---|---|\n",
       "| 1986:1 | 53.714 | 84.18 | 286.6 | 0 | 0 | 0 | 3.983674 | 21916 | 1 |\n",
       "| 1986:2 | 71.501 | 85.04 | 290.3 | 1 | 0 | 0 | 4.269711 | 21916 | 2 |\n",
       "| 1986:3 | 96.374 | 84.57 | 284.5 | 0 | 1 | 0 | 4.568236 | 21916 | 3 |\n",
       "\n"
      ],
      "text/plain": [
       "  obs    sales  rpdi  conf  d2 d3 d4 lnsales  yearq trend\n",
       "1 1986:1 53.714 84.18 286.6 0  0  0  3.983674 21916 1    \n",
       "2 1986:2 71.501 85.04 290.3 1  0  0  4.269711 21916 2    \n",
       "3 1986:3 96.374 84.57 284.5 0  1  0  4.568236 21916 3    "
      ]
     },
     "metadata": {},
     "output_type": "display_data"
    }
   ],
   "source": [
    "df3 <- read_excel(\"data/Table3_10.xls\")\n",
    "head(df3,3)"
   ]
  },
  {
   "cell_type": "markdown",
   "id": "923bb2bc-7284-4ee3-969e-1ebe06683eeb",
   "metadata": {},
   "source": [
    "$$\n",
    "Sales_t = A_1 + A_2D_{2t} + A_3D_{3t} + A_4D_{4t} + u_t \n",
    "$$\n",
    "$D_2$ = 1 for second quarter  \n",
    "$D_3$ = 1 for third quarter  \n",
    "$D_4$ = 1 for fourth quarter  "
   ]
  },
  {
   "cell_type": "code",
   "execution_count": 17,
   "id": "7861d26c-72ac-484e-9464-b40a592e8775",
   "metadata": {},
   "outputs": [
    {
     "data": {
      "text/html": [
       "<table class=\"dataframe\">\n",
       "<caption>A tibble: 4 × 5</caption>\n",
       "<thead>\n",
       "\t<tr><th scope=col>term</th><th scope=col>estimate</th><th scope=col>std.error</th><th scope=col>statistic</th><th scope=col>p.value</th></tr>\n",
       "\t<tr><th scope=col>&lt;chr&gt;</th><th scope=col>&lt;dbl&gt;</th><th scope=col>&lt;dbl&gt;</th><th scope=col>&lt;dbl&gt;</th><th scope=col>&lt;dbl&gt;</th></tr>\n",
       "</thead>\n",
       "<tbody>\n",
       "\t<tr><td>(Intercept)</td><td>73.18343</td><td>3.977483</td><td>18.399433</td><td>1.178376e-15</td></tr>\n",
       "\t<tr><td>d2         </td><td>14.69229</td><td>5.625010</td><td> 2.611957</td><td>1.528526e-02</td></tr>\n",
       "\t<tr><td>d3         </td><td>27.96472</td><td>5.625010</td><td> 4.971496</td><td>4.468310e-05</td></tr>\n",
       "\t<tr><td>d4         </td><td>57.11472</td><td>5.625010</td><td>10.153709</td><td>3.646049e-10</td></tr>\n",
       "</tbody>\n",
       "</table>\n"
      ],
      "text/latex": [
       "A tibble: 4 × 5\n",
       "\\begin{tabular}{lllll}\n",
       " term & estimate & std.error & statistic & p.value\\\\\n",
       " <chr> & <dbl> & <dbl> & <dbl> & <dbl>\\\\\n",
       "\\hline\n",
       "\t (Intercept) & 73.18343 & 3.977483 & 18.399433 & 1.178376e-15\\\\\n",
       "\t d2          & 14.69229 & 5.625010 &  2.611957 & 1.528526e-02\\\\\n",
       "\t d3          & 27.96472 & 5.625010 &  4.971496 & 4.468310e-05\\\\\n",
       "\t d4          & 57.11472 & 5.625010 & 10.153709 & 3.646049e-10\\\\\n",
       "\\end{tabular}\n"
      ],
      "text/markdown": [
       "\n",
       "A tibble: 4 × 5\n",
       "\n",
       "| term &lt;chr&gt; | estimate &lt;dbl&gt; | std.error &lt;dbl&gt; | statistic &lt;dbl&gt; | p.value &lt;dbl&gt; |\n",
       "|---|---|---|---|---|\n",
       "| (Intercept) | 73.18343 | 3.977483 | 18.399433 | 1.178376e-15 |\n",
       "| d2          | 14.69229 | 5.625010 |  2.611957 | 1.528526e-02 |\n",
       "| d3          | 27.96472 | 5.625010 |  4.971496 | 4.468310e-05 |\n",
       "| d4          | 57.11472 | 5.625010 | 10.153709 | 3.646049e-10 |\n",
       "\n"
      ],
      "text/plain": [
       "  term        estimate std.error statistic p.value     \n",
       "1 (Intercept) 73.18343 3.977483  18.399433 1.178376e-15\n",
       "2 d2          14.69229 5.625010   2.611957 1.528526e-02\n",
       "3 d3          27.96472 5.625010   4.971496 4.468310e-05\n",
       "4 d4          57.11472 5.625010  10.153709 3.646049e-10"
      ]
     },
     "metadata": {},
     "output_type": "display_data"
    },
    {
     "data": {
      "text/html": [
       "<table class=\"dataframe\">\n",
       "<caption>A tibble: 1 × 12</caption>\n",
       "<thead>\n",
       "\t<tr><th scope=col>r.squared</th><th scope=col>adj.r.squared</th><th scope=col>sigma</th><th scope=col>statistic</th><th scope=col>p.value</th><th scope=col>df</th><th scope=col>logLik</th><th scope=col>AIC</th><th scope=col>BIC</th><th scope=col>deviance</th><th scope=col>df.residual</th><th scope=col>nobs</th></tr>\n",
       "\t<tr><th scope=col>&lt;dbl&gt;</th><th scope=col>&lt;dbl&gt;</th><th scope=col>&lt;dbl&gt;</th><th scope=col>&lt;dbl&gt;</th><th scope=col>&lt;dbl&gt;</th><th scope=col>&lt;dbl&gt;</th><th scope=col>&lt;dbl&gt;</th><th scope=col>&lt;dbl&gt;</th><th scope=col>&lt;dbl&gt;</th><th scope=col>&lt;dbl&gt;</th><th scope=col>&lt;int&gt;</th><th scope=col>&lt;int&gt;</th></tr>\n",
       "</thead>\n",
       "<tbody>\n",
       "\t<tr><td>0.8234883</td><td>0.8014244</td><td>10.52343</td><td>37.32278</td><td>3.372103e-09</td><td>3</td><td>-103.4731</td><td>216.9462</td><td>223.6072</td><td>2657.822</td><td>24</td><td>28</td></tr>\n",
       "</tbody>\n",
       "</table>\n"
      ],
      "text/latex": [
       "A tibble: 1 × 12\n",
       "\\begin{tabular}{llllllllllll}\n",
       " r.squared & adj.r.squared & sigma & statistic & p.value & df & logLik & AIC & BIC & deviance & df.residual & nobs\\\\\n",
       " <dbl> & <dbl> & <dbl> & <dbl> & <dbl> & <dbl> & <dbl> & <dbl> & <dbl> & <dbl> & <int> & <int>\\\\\n",
       "\\hline\n",
       "\t 0.8234883 & 0.8014244 & 10.52343 & 37.32278 & 3.372103e-09 & 3 & -103.4731 & 216.9462 & 223.6072 & 2657.822 & 24 & 28\\\\\n",
       "\\end{tabular}\n"
      ],
      "text/markdown": [
       "\n",
       "A tibble: 1 × 12\n",
       "\n",
       "| r.squared &lt;dbl&gt; | adj.r.squared &lt;dbl&gt; | sigma &lt;dbl&gt; | statistic &lt;dbl&gt; | p.value &lt;dbl&gt; | df &lt;dbl&gt; | logLik &lt;dbl&gt; | AIC &lt;dbl&gt; | BIC &lt;dbl&gt; | deviance &lt;dbl&gt; | df.residual &lt;int&gt; | nobs &lt;int&gt; |\n",
       "|---|---|---|---|---|---|---|---|---|---|---|---|\n",
       "| 0.8234883 | 0.8014244 | 10.52343 | 37.32278 | 3.372103e-09 | 3 | -103.4731 | 216.9462 | 223.6072 | 2657.822 | 24 | 28 |\n",
       "\n"
      ],
      "text/plain": [
       "      r.squared adj.r.squared sigma    statistic p.value      df logLik   \n",
       "value 0.8234883 0.8014244     10.52343 37.32278  3.372103e-09 3  -103.4731\n",
       "      AIC      BIC      deviance df.residual nobs\n",
       "value 216.9462 223.6072 2657.822 24          28  "
      ]
     },
     "metadata": {},
     "output_type": "display_data"
    }
   ],
   "source": [
    "model8 <- lm(sales ~  d2 + d3 + d4, data = df3)\n",
    "tidy(model8)\n",
    "glance(model8)"
   ]
  },
  {
   "cell_type": "markdown",
   "id": "8e59e8c3-a2ec-4a6c-a9bd-fd9b5b4e875d",
   "metadata": {},
   "source": [
    "**Interpretation ofD2** is that the mean sales value in\n",
    "the second quarter is greater than the mean sales in the first, or reference, quarter\n",
    "by 14.69229 units; the actual mean sales value in the second quarter is (73.18343 +\n",
    "14.69229) = 87.87572. "
   ]
  },
  {
   "cell_type": "markdown",
   "id": "63e2cab2-566a-4cf3-a6de-80f0a36187d1",
   "metadata": {},
   "source": [
    "### Deseasonalize\n",
    "1. obtain estimated sales  volume\n",
    "2. obtain residuals (actual sales - estimated sales)\n",
    "3. add mean value of sales to residuals"
   ]
  },
  {
   "cell_type": "code",
   "execution_count": 18,
   "id": "36dc822f-0a3e-4bf8-b129-293a833697ef",
   "metadata": {},
   "outputs": [],
   "source": [
    "augmented <- augment(model8)"
   ]
  },
  {
   "cell_type": "code",
   "execution_count": 19,
   "id": "e121cf56-7ec9-42f6-820d-82f7b1feaeb6",
   "metadata": {},
   "outputs": [],
   "source": [
    "augmented <- augmented %>%\n",
    "mutate(deseasonalized_sales = .resid + mean(augmented$sales))"
   ]
  },
  {
   "cell_type": "code",
   "execution_count": 20,
   "id": "723b79e1-0ba4-4d6b-98e6-ae02f1f8b6b3",
   "metadata": {},
   "outputs": [
    {
     "data": {
      "text/html": [
       "<table class=\"dataframe\">\n",
       "<caption>A tibble: 6 × 11</caption>\n",
       "<thead>\n",
       "\t<tr><th scope=col>sales</th><th scope=col>d2</th><th scope=col>d3</th><th scope=col>d4</th><th scope=col>.fitted</th><th scope=col>.resid</th><th scope=col>.hat</th><th scope=col>.sigma</th><th scope=col>.cooksd</th><th scope=col>.std.resid</th><th scope=col>deseasonalized_sales</th></tr>\n",
       "\t<tr><th scope=col>&lt;dbl&gt;</th><th scope=col>&lt;dbl&gt;</th><th scope=col>&lt;dbl&gt;</th><th scope=col>&lt;dbl&gt;</th><th scope=col>&lt;dbl&gt;</th><th scope=col>&lt;dbl&gt;</th><th scope=col>&lt;dbl&gt;</th><th scope=col>&lt;dbl&gt;</th><th scope=col>&lt;dbl&gt;</th><th scope=col>&lt;dbl&gt;</th><th scope=col>&lt;dbl&gt;</th></tr>\n",
       "</thead>\n",
       "<tbody>\n",
       "\t<tr><td> 53.714</td><td>0</td><td>0</td><td>0</td><td> 73.18343</td><td>-19.469427</td><td>0.1428571</td><td> 9.814778</td><td>0.166390008</td><td>-1.9983394</td><td> 78.65693</td></tr>\n",
       "\t<tr><td> 71.501</td><td>1</td><td>0</td><td>0</td><td> 87.87571</td><td>-16.374714</td><td>0.1428571</td><td>10.097357</td><td>0.117697809</td><td>-1.6806985</td><td> 81.75164</td></tr>\n",
       "\t<tr><td> 96.374</td><td>0</td><td>1</td><td>0</td><td>101.14814</td><td> -4.774144</td><td>0.1428571</td><td>10.695856</td><td>0.010004880</td><td>-0.4900175</td><td> 93.35221</td></tr>\n",
       "\t<tr><td>125.041</td><td>0</td><td>0</td><td>1</td><td>130.29814</td><td> -5.257143</td><td>0.1428571</td><td>10.684361</td><td>0.012131669</td><td>-0.5395925</td><td> 92.86921</td></tr>\n",
       "\t<tr><td> 78.610</td><td>0</td><td>0</td><td>0</td><td> 73.18343</td><td>  5.426573</td><td>0.1428571</td><td>10.680063</td><td>0.012926240</td><td> 0.5569827</td><td>103.55293</td></tr>\n",
       "\t<tr><td> 89.609</td><td>1</td><td>0</td><td>0</td><td> 87.87571</td><td>  1.733287</td><td>0.1428571</td><td>10.742676</td><td>0.001318749</td><td> 0.1779044</td><td> 99.85964</td></tr>\n",
       "</tbody>\n",
       "</table>\n"
      ],
      "text/latex": [
       "A tibble: 6 × 11\n",
       "\\begin{tabular}{lllllllllll}\n",
       " sales & d2 & d3 & d4 & .fitted & .resid & .hat & .sigma & .cooksd & .std.resid & deseasonalized\\_sales\\\\\n",
       " <dbl> & <dbl> & <dbl> & <dbl> & <dbl> & <dbl> & <dbl> & <dbl> & <dbl> & <dbl> & <dbl>\\\\\n",
       "\\hline\n",
       "\t  53.714 & 0 & 0 & 0 &  73.18343 & -19.469427 & 0.1428571 &  9.814778 & 0.166390008 & -1.9983394 &  78.65693\\\\\n",
       "\t  71.501 & 1 & 0 & 0 &  87.87571 & -16.374714 & 0.1428571 & 10.097357 & 0.117697809 & -1.6806985 &  81.75164\\\\\n",
       "\t  96.374 & 0 & 1 & 0 & 101.14814 &  -4.774144 & 0.1428571 & 10.695856 & 0.010004880 & -0.4900175 &  93.35221\\\\\n",
       "\t 125.041 & 0 & 0 & 1 & 130.29814 &  -5.257143 & 0.1428571 & 10.684361 & 0.012131669 & -0.5395925 &  92.86921\\\\\n",
       "\t  78.610 & 0 & 0 & 0 &  73.18343 &   5.426573 & 0.1428571 & 10.680063 & 0.012926240 &  0.5569827 & 103.55293\\\\\n",
       "\t  89.609 & 1 & 0 & 0 &  87.87571 &   1.733287 & 0.1428571 & 10.742676 & 0.001318749 &  0.1779044 &  99.85964\\\\\n",
       "\\end{tabular}\n"
      ],
      "text/markdown": [
       "\n",
       "A tibble: 6 × 11\n",
       "\n",
       "| sales &lt;dbl&gt; | d2 &lt;dbl&gt; | d3 &lt;dbl&gt; | d4 &lt;dbl&gt; | .fitted &lt;dbl&gt; | .resid &lt;dbl&gt; | .hat &lt;dbl&gt; | .sigma &lt;dbl&gt; | .cooksd &lt;dbl&gt; | .std.resid &lt;dbl&gt; | deseasonalized_sales &lt;dbl&gt; |\n",
       "|---|---|---|---|---|---|---|---|---|---|---|\n",
       "|  53.714 | 0 | 0 | 0 |  73.18343 | -19.469427 | 0.1428571 |  9.814778 | 0.166390008 | -1.9983394 |  78.65693 |\n",
       "|  71.501 | 1 | 0 | 0 |  87.87571 | -16.374714 | 0.1428571 | 10.097357 | 0.117697809 | -1.6806985 |  81.75164 |\n",
       "|  96.374 | 0 | 1 | 0 | 101.14814 |  -4.774144 | 0.1428571 | 10.695856 | 0.010004880 | -0.4900175 |  93.35221 |\n",
       "| 125.041 | 0 | 0 | 1 | 130.29814 |  -5.257143 | 0.1428571 | 10.684361 | 0.012131669 | -0.5395925 |  92.86921 |\n",
       "|  78.610 | 0 | 0 | 0 |  73.18343 |   5.426573 | 0.1428571 | 10.680063 | 0.012926240 |  0.5569827 | 103.55293 |\n",
       "|  89.609 | 1 | 0 | 0 |  87.87571 |   1.733287 | 0.1428571 | 10.742676 | 0.001318749 |  0.1779044 |  99.85964 |\n",
       "\n"
      ],
      "text/plain": [
       "  sales   d2 d3 d4 .fitted   .resid     .hat      .sigma    .cooksd    \n",
       "1  53.714 0  0  0   73.18343 -19.469427 0.1428571  9.814778 0.166390008\n",
       "2  71.501 1  0  0   87.87571 -16.374714 0.1428571 10.097357 0.117697809\n",
       "3  96.374 0  1  0  101.14814  -4.774144 0.1428571 10.695856 0.010004880\n",
       "4 125.041 0  0  1  130.29814  -5.257143 0.1428571 10.684361 0.012131669\n",
       "5  78.610 0  0  0   73.18343   5.426573 0.1428571 10.680063 0.012926240\n",
       "6  89.609 1  0  0   87.87571   1.733287 0.1428571 10.742676 0.001318749\n",
       "  .std.resid deseasonalized_sales\n",
       "1 -1.9983394  78.65693           \n",
       "2 -1.6806985  81.75164           \n",
       "3 -0.4900175  93.35221           \n",
       "4 -0.5395925  92.86921           \n",
       "5  0.5569827 103.55293           \n",
       "6  0.1779044  99.85964           "
      ]
     },
     "metadata": {},
     "output_type": "display_data"
    }
   ],
   "source": [
    "head(augmented)"
   ]
  },
  {
   "cell_type": "markdown",
   "id": "1e32dbf4-9bcb-47d1-a098-682ed7cece34",
   "metadata": {},
   "source": [
    "## Expanded sales function\n",
    "Frisch_Waugh Theorem"
   ]
  },
  {
   "cell_type": "code",
   "execution_count": 21,
   "id": "fdf81297-d14c-4c60-91a5-f9630e5082fc",
   "metadata": {},
   "outputs": [
    {
     "data": {
      "text/html": [
       "<table class=\"dataframe\">\n",
       "<caption>A tibble: 6 × 5</caption>\n",
       "<thead>\n",
       "\t<tr><th scope=col>term</th><th scope=col>estimate</th><th scope=col>std.error</th><th scope=col>statistic</th><th scope=col>p.value</th></tr>\n",
       "\t<tr><th scope=col>&lt;chr&gt;</th><th scope=col>&lt;dbl&gt;</th><th scope=col>&lt;dbl&gt;</th><th scope=col>&lt;dbl&gt;</th><th scope=col>&lt;dbl&gt;</th></tr>\n",
       "</thead>\n",
       "<tbody>\n",
       "\t<tr><td>(Intercept)</td><td>-152.9292193</td><td>52.59149307</td><td>-2.907870</td><td>8.156667e-03</td></tr>\n",
       "\t<tr><td>rpdi       </td><td>   1.5989033</td><td> 0.37015528</td><td> 4.319547</td><td>2.764247e-04</td></tr>\n",
       "\t<tr><td>conf       </td><td>   0.2939096</td><td> 0.08437568</td><td> 3.483344</td><td>2.106581e-03</td></tr>\n",
       "\t<tr><td>d2         </td><td>  15.0452205</td><td> 4.31537708</td><td> 3.486421</td><td>2.091102e-03</td></tr>\n",
       "\t<tr><td>d3         </td><td>  26.0024741</td><td> 4.32524385</td><td> 6.011794</td><td>4.741138e-06</td></tr>\n",
       "\t<tr><td>d4         </td><td>  60.8722628</td><td> 4.42743714</td><td>13.748871</td><td>2.795431e-12</td></tr>\n",
       "</tbody>\n",
       "</table>\n"
      ],
      "text/latex": [
       "A tibble: 6 × 5\n",
       "\\begin{tabular}{lllll}\n",
       " term & estimate & std.error & statistic & p.value\\\\\n",
       " <chr> & <dbl> & <dbl> & <dbl> & <dbl>\\\\\n",
       "\\hline\n",
       "\t (Intercept) & -152.9292193 & 52.59149307 & -2.907870 & 8.156667e-03\\\\\n",
       "\t rpdi        &    1.5989033 &  0.37015528 &  4.319547 & 2.764247e-04\\\\\n",
       "\t conf        &    0.2939096 &  0.08437568 &  3.483344 & 2.106581e-03\\\\\n",
       "\t d2          &   15.0452205 &  4.31537708 &  3.486421 & 2.091102e-03\\\\\n",
       "\t d3          &   26.0024741 &  4.32524385 &  6.011794 & 4.741138e-06\\\\\n",
       "\t d4          &   60.8722628 &  4.42743714 & 13.748871 & 2.795431e-12\\\\\n",
       "\\end{tabular}\n"
      ],
      "text/markdown": [
       "\n",
       "A tibble: 6 × 5\n",
       "\n",
       "| term &lt;chr&gt; | estimate &lt;dbl&gt; | std.error &lt;dbl&gt; | statistic &lt;dbl&gt; | p.value &lt;dbl&gt; |\n",
       "|---|---|---|---|---|\n",
       "| (Intercept) | -152.9292193 | 52.59149307 | -2.907870 | 8.156667e-03 |\n",
       "| rpdi        |    1.5989033 |  0.37015528 |  4.319547 | 2.764247e-04 |\n",
       "| conf        |    0.2939096 |  0.08437568 |  3.483344 | 2.106581e-03 |\n",
       "| d2          |   15.0452205 |  4.31537708 |  3.486421 | 2.091102e-03 |\n",
       "| d3          |   26.0024741 |  4.32524385 |  6.011794 | 4.741138e-06 |\n",
       "| d4          |   60.8722628 |  4.42743714 | 13.748871 | 2.795431e-12 |\n",
       "\n"
      ],
      "text/plain": [
       "  term        estimate     std.error   statistic p.value     \n",
       "1 (Intercept) -152.9292193 52.59149307 -2.907870 8.156667e-03\n",
       "2 rpdi           1.5989033  0.37015528  4.319547 2.764247e-04\n",
       "3 conf           0.2939096  0.08437568  3.483344 2.106581e-03\n",
       "4 d2            15.0452205  4.31537708  3.486421 2.091102e-03\n",
       "5 d3            26.0024741  4.32524385  6.011794 4.741138e-06\n",
       "6 d4            60.8722628  4.42743714 13.748871 2.795431e-12"
      ]
     },
     "metadata": {},
     "output_type": "display_data"
    },
    {
     "data": {
      "text/html": [
       "<table class=\"dataframe\">\n",
       "<caption>A tibble: 1 × 12</caption>\n",
       "<thead>\n",
       "\t<tr><th scope=col>r.squared</th><th scope=col>adj.r.squared</th><th scope=col>sigma</th><th scope=col>statistic</th><th scope=col>p.value</th><th scope=col>df</th><th scope=col>logLik</th><th scope=col>AIC</th><th scope=col>BIC</th><th scope=col>deviance</th><th scope=col>df.residual</th><th scope=col>nobs</th></tr>\n",
       "\t<tr><th scope=col>&lt;dbl&gt;</th><th scope=col>&lt;dbl&gt;</th><th scope=col>&lt;dbl&gt;</th><th scope=col>&lt;dbl&gt;</th><th scope=col>&lt;dbl&gt;</th><th scope=col>&lt;dbl&gt;</th><th scope=col>&lt;dbl&gt;</th><th scope=col>&lt;dbl&gt;</th><th scope=col>&lt;dbl&gt;</th><th scope=col>&lt;dbl&gt;</th><th scope=col>&lt;int&gt;</th><th scope=col>&lt;int&gt;</th></tr>\n",
       "</thead>\n",
       "<tbody>\n",
       "\t<tr><td>0.9053748</td><td>0.883869</td><td>8.047637</td><td>42.09922</td><td>1.53222e-10</td><td>5</td><td>-94.74461</td><td>203.4892</td><td>212.8146</td><td>1424.818</td><td>22</td><td>28</td></tr>\n",
       "</tbody>\n",
       "</table>\n"
      ],
      "text/latex": [
       "A tibble: 1 × 12\n",
       "\\begin{tabular}{llllllllllll}\n",
       " r.squared & adj.r.squared & sigma & statistic & p.value & df & logLik & AIC & BIC & deviance & df.residual & nobs\\\\\n",
       " <dbl> & <dbl> & <dbl> & <dbl> & <dbl> & <dbl> & <dbl> & <dbl> & <dbl> & <dbl> & <int> & <int>\\\\\n",
       "\\hline\n",
       "\t 0.9053748 & 0.883869 & 8.047637 & 42.09922 & 1.53222e-10 & 5 & -94.74461 & 203.4892 & 212.8146 & 1424.818 & 22 & 28\\\\\n",
       "\\end{tabular}\n"
      ],
      "text/markdown": [
       "\n",
       "A tibble: 1 × 12\n",
       "\n",
       "| r.squared &lt;dbl&gt; | adj.r.squared &lt;dbl&gt; | sigma &lt;dbl&gt; | statistic &lt;dbl&gt; | p.value &lt;dbl&gt; | df &lt;dbl&gt; | logLik &lt;dbl&gt; | AIC &lt;dbl&gt; | BIC &lt;dbl&gt; | deviance &lt;dbl&gt; | df.residual &lt;int&gt; | nobs &lt;int&gt; |\n",
       "|---|---|---|---|---|---|---|---|---|---|---|---|\n",
       "| 0.9053748 | 0.883869 | 8.047637 | 42.09922 | 1.53222e-10 | 5 | -94.74461 | 203.4892 | 212.8146 | 1424.818 | 22 | 28 |\n",
       "\n"
      ],
      "text/plain": [
       "      r.squared adj.r.squared sigma    statistic p.value     df logLik   \n",
       "value 0.9053748 0.883869      8.047637 42.09922  1.53222e-10 5  -94.74461\n",
       "      AIC      BIC      deviance df.residual nobs\n",
       "value 203.4892 212.8146 1424.818 22          28  "
      ]
     },
     "metadata": {},
     "output_type": "display_data"
    }
   ],
   "source": [
    "model9 <- lm(sales ~  rpdi + conf+ d2 + d3 + d4, data = df3)\n",
    "tidy(model9)\n",
    "glance(model9)"
   ]
  },
  {
   "cell_type": "markdown",
   "id": "1d33a9d8-5f3b-44d2-81e8-43f9d5c8e0fa",
   "metadata": {},
   "source": [
    "## Piecewise Linear Regression\n",
    "introduce threshold (knot)"
   ]
  },
  {
   "cell_type": "code",
   "execution_count": 22,
   "id": "787bedd2-0afd-4eda-b67d-b1e9aaf053d0",
   "metadata": {},
   "outputs": [
    {
     "data": {
      "text/html": [
       "<table class=\"dataframe\">\n",
       "<caption>A tibble: 6 × 6</caption>\n",
       "<thead>\n",
       "\t<tr><th scope=col>obs</th><th scope=col>avgcost</th><th scope=col>lotsize</th><th scope=col>z</th><th scope=col>d</th><th scope=col>zd</th></tr>\n",
       "\t<tr><th scope=col>&lt;dbl&gt;</th><th scope=col>&lt;dbl&gt;</th><th scope=col>&lt;dbl&gt;</th><th scope=col>&lt;dbl&gt;</th><th scope=col>&lt;dbl&gt;</th><th scope=col>&lt;dbl&gt;</th></tr>\n",
       "</thead>\n",
       "<tbody>\n",
       "\t<tr><td>1</td><td>9.73</td><td>100</td><td>-100</td><td>0</td><td>0</td></tr>\n",
       "\t<tr><td>2</td><td>9.61</td><td>120</td><td> -80</td><td>0</td><td>0</td></tr>\n",
       "\t<tr><td>3</td><td>8.15</td><td>140</td><td> -60</td><td>0</td><td>0</td></tr>\n",
       "\t<tr><td>4</td><td>6.98</td><td>160</td><td> -40</td><td>0</td><td>0</td></tr>\n",
       "\t<tr><td>5</td><td>5.87</td><td>180</td><td> -20</td><td>0</td><td>0</td></tr>\n",
       "\t<tr><td>6</td><td>4.98</td><td>200</td><td>   0</td><td>0</td><td>0</td></tr>\n",
       "</tbody>\n",
       "</table>\n"
      ],
      "text/latex": [
       "A tibble: 6 × 6\n",
       "\\begin{tabular}{llllll}\n",
       " obs & avgcost & lotsize & z & d & zd\\\\\n",
       " <dbl> & <dbl> & <dbl> & <dbl> & <dbl> & <dbl>\\\\\n",
       "\\hline\n",
       "\t 1 & 9.73 & 100 & -100 & 0 & 0\\\\\n",
       "\t 2 & 9.61 & 120 &  -80 & 0 & 0\\\\\n",
       "\t 3 & 8.15 & 140 &  -60 & 0 & 0\\\\\n",
       "\t 4 & 6.98 & 160 &  -40 & 0 & 0\\\\\n",
       "\t 5 & 5.87 & 180 &  -20 & 0 & 0\\\\\n",
       "\t 6 & 4.98 & 200 &    0 & 0 & 0\\\\\n",
       "\\end{tabular}\n"
      ],
      "text/markdown": [
       "\n",
       "A tibble: 6 × 6\n",
       "\n",
       "| obs &lt;dbl&gt; | avgcost &lt;dbl&gt; | lotsize &lt;dbl&gt; | z &lt;dbl&gt; | d &lt;dbl&gt; | zd &lt;dbl&gt; |\n",
       "|---|---|---|---|---|---|\n",
       "| 1 | 9.73 | 100 | -100 | 0 | 0 |\n",
       "| 2 | 9.61 | 120 |  -80 | 0 | 0 |\n",
       "| 3 | 8.15 | 140 |  -60 | 0 | 0 |\n",
       "| 4 | 6.98 | 160 |  -40 | 0 | 0 |\n",
       "| 5 | 5.87 | 180 |  -20 | 0 | 0 |\n",
       "| 6 | 4.98 | 200 |    0 | 0 | 0 |\n",
       "\n"
      ],
      "text/plain": [
       "  obs avgcost lotsize z    d zd\n",
       "1 1   9.73    100     -100 0 0 \n",
       "2 2   9.61    120      -80 0 0 \n",
       "3 3   8.15    140      -60 0 0 \n",
       "4 4   6.98    160      -40 0 0 \n",
       "5 5   5.87    180      -20 0 0 \n",
       "6 6   4.98    200        0 0 0 "
      ]
     },
     "metadata": {},
     "output_type": "display_data"
    }
   ],
   "source": [
    "df4 <- read_excel(\"data/Table3_16.xls\")\n",
    "head(df4)"
   ]
  },
  {
   "cell_type": "code",
   "execution_count": 23,
   "id": "c04bb028-bb09-4704-8389-e67dfd20b672",
   "metadata": {},
   "outputs": [
    {
     "data": {
      "image/png": "[encoded data removed]",
      "text/plain": [
       "plot without title"
      ]
     },
     "metadata": {
      "image/png": {
       "height": 420,
       "width": 420
      }
     },
     "output_type": "display_data"
    }
   ],
   "source": [
    "ggplot(df4, aes(x = lotsize, y = avgcost)) +\n",
    "geom_point()"
   ]
  },
  {
   "cell_type": "markdown",
   "id": "04af4b83-9e20-4c32-9e98-c6224b7537f4",
   "metadata": {},
   "source": [
    "$$\n",
    "Y_i = \\beta_0 + \\beta_1 X_i + \\beta_2(X_i-X^*)D_i + u_i\n",
    "$$\n",
    "Y = average production cost,  \n",
    "X = lot size,  \n",
    "X* = threshold value of lot size,  \n",
    "D = 1 if Xi > X*  \n",
    "D = 0 if Xi < X"
   ]
  },
  {
   "cell_type": "code",
   "execution_count": 24,
   "id": "efee9c6d-a212-415b-b0c7-a58dbe8fb95a",
   "metadata": {},
   "outputs": [
    {
     "data": {
      "text/html": [
       "<table class=\"dataframe\">\n",
       "<caption>A tibble: 2 × 5</caption>\n",
       "<thead>\n",
       "\t<tr><th scope=col>term</th><th scope=col>estimate</th><th scope=col>std.error</th><th scope=col>statistic</th><th scope=col>p.value</th></tr>\n",
       "\t<tr><th scope=col>&lt;chr&gt;</th><th scope=col>&lt;dbl&gt;</th><th scope=col>&lt;dbl&gt;</th><th scope=col>&lt;dbl&gt;</th><th scope=col>&lt;dbl&gt;</th></tr>\n",
       "</thead>\n",
       "<tbody>\n",
       "\t<tr><td>(Intercept)</td><td>12.29090855</td><td>0.749146219</td><td>16.406555</td><td>5.167361e-08</td></tr>\n",
       "\t<tr><td>lotsize    </td><td>-0.03077273</td><td>0.003571414</td><td>-8.616397</td><td>1.217549e-05</td></tr>\n",
       "</tbody>\n",
       "</table>\n"
      ],
      "text/latex": [
       "A tibble: 2 × 5\n",
       "\\begin{tabular}{lllll}\n",
       " term & estimate & std.error & statistic & p.value\\\\\n",
       " <chr> & <dbl> & <dbl> & <dbl> & <dbl>\\\\\n",
       "\\hline\n",
       "\t (Intercept) & 12.29090855 & 0.749146219 & 16.406555 & 5.167361e-08\\\\\n",
       "\t lotsize     & -0.03077273 & 0.003571414 & -8.616397 & 1.217549e-05\\\\\n",
       "\\end{tabular}\n"
      ],
      "text/markdown": [
       "\n",
       "A tibble: 2 × 5\n",
       "\n",
       "| term &lt;chr&gt; | estimate &lt;dbl&gt; | std.error &lt;dbl&gt; | statistic &lt;dbl&gt; | p.value &lt;dbl&gt; |\n",
       "|---|---|---|---|---|\n",
       "| (Intercept) | 12.29090855 | 0.749146219 | 16.406555 | 5.167361e-08 |\n",
       "| lotsize     | -0.03077273 | 0.003571414 | -8.616397 | 1.217549e-05 |\n",
       "\n"
      ],
      "text/plain": [
       "  term        estimate    std.error   statistic p.value     \n",
       "1 (Intercept) 12.29090855 0.749146219 16.406555 5.167361e-08\n",
       "2 lotsize     -0.03077273 0.003571414 -8.616397 1.217549e-05"
      ]
     },
     "metadata": {},
     "output_type": "display_data"
    },
    {
     "data": {
      "text/html": [
       "<table class=\"dataframe\">\n",
       "<caption>A tibble: 1 × 12</caption>\n",
       "<thead>\n",
       "\t<tr><th scope=col>r.squared</th><th scope=col>adj.r.squared</th><th scope=col>sigma</th><th scope=col>statistic</th><th scope=col>p.value</th><th scope=col>df</th><th scope=col>logLik</th><th scope=col>AIC</th><th scope=col>BIC</th><th scope=col>deviance</th><th scope=col>df.residual</th><th scope=col>nobs</th></tr>\n",
       "\t<tr><th scope=col>&lt;dbl&gt;</th><th scope=col>&lt;dbl&gt;</th><th scope=col>&lt;dbl&gt;</th><th scope=col>&lt;dbl&gt;</th><th scope=col>&lt;dbl&gt;</th><th scope=col>&lt;dbl&gt;</th><th scope=col>&lt;dbl&gt;</th><th scope=col>&lt;dbl&gt;</th><th scope=col>&lt;dbl&gt;</th><th scope=col>&lt;dbl&gt;</th><th scope=col>&lt;int&gt;</th><th scope=col>&lt;int&gt;</th></tr>\n",
       "</thead>\n",
       "<tbody>\n",
       "\t<tr><td>0.8918819</td><td>0.8798688</td><td>0.7491462</td><td>74.2423</td><td>1.217549e-05</td><td>1</td><td>-11.3276</td><td>28.65521</td><td>29.84889</td><td>5.050981</td><td>9</td><td>11</td></tr>\n",
       "</tbody>\n",
       "</table>\n"
      ],
      "text/latex": [
       "A tibble: 1 × 12\n",
       "\\begin{tabular}{llllllllllll}\n",
       " r.squared & adj.r.squared & sigma & statistic & p.value & df & logLik & AIC & BIC & deviance & df.residual & nobs\\\\\n",
       " <dbl> & <dbl> & <dbl> & <dbl> & <dbl> & <dbl> & <dbl> & <dbl> & <dbl> & <dbl> & <int> & <int>\\\\\n",
       "\\hline\n",
       "\t 0.8918819 & 0.8798688 & 0.7491462 & 74.2423 & 1.217549e-05 & 1 & -11.3276 & 28.65521 & 29.84889 & 5.050981 & 9 & 11\\\\\n",
       "\\end{tabular}\n"
      ],
      "text/markdown": [
       "\n",
       "A tibble: 1 × 12\n",
       "\n",
       "| r.squared &lt;dbl&gt; | adj.r.squared &lt;dbl&gt; | sigma &lt;dbl&gt; | statistic &lt;dbl&gt; | p.value &lt;dbl&gt; | df &lt;dbl&gt; | logLik &lt;dbl&gt; | AIC &lt;dbl&gt; | BIC &lt;dbl&gt; | deviance &lt;dbl&gt; | df.residual &lt;int&gt; | nobs &lt;int&gt; |\n",
       "|---|---|---|---|---|---|---|---|---|---|---|---|\n",
       "| 0.8918819 | 0.8798688 | 0.7491462 | 74.2423 | 1.217549e-05 | 1 | -11.3276 | 28.65521 | 29.84889 | 5.050981 | 9 | 11 |\n",
       "\n"
      ],
      "text/plain": [
       "      r.squared adj.r.squared sigma     statistic p.value      df logLik  \n",
       "value 0.8918819 0.8798688     0.7491462 74.2423   1.217549e-05 1  -11.3276\n",
       "      AIC      BIC      deviance df.residual nobs\n",
       "value 28.65521 29.84889 5.050981 9           11  "
      ]
     },
     "metadata": {},
     "output_type": "display_data"
    }
   ],
   "source": [
    "model10 <- lm(avgcost ~ lotsize, data = df4)\n",
    "tidy(model10)\n",
    "glance(model10)"
   ]
  },
  {
   "cell_type": "code",
   "execution_count": 25,
   "id": "7f06cea0-abd0-4397-ac96-b27b671c345e",
   "metadata": {},
   "outputs": [
    {
     "data": {
      "text/html": [
       "<table class=\"dataframe\">\n",
       "<caption>A tibble: 3 × 5</caption>\n",
       "<thead>\n",
       "\t<tr><th scope=col>term</th><th scope=col>estimate</th><th scope=col>std.error</th><th scope=col>statistic</th><th scope=col>p.value</th></tr>\n",
       "\t<tr><th scope=col>&lt;chr&gt;</th><th scope=col>&lt;dbl&gt;</th><th scope=col>&lt;dbl&gt;</th><th scope=col>&lt;dbl&gt;</th><th scope=col>&lt;dbl&gt;</th></tr>\n",
       "</thead>\n",
       "<tbody>\n",
       "\t<tr><td>(Intercept)</td><td>15.11647994</td><td>0.535382569</td><td> 28.234912</td><td>2.674940e-09</td></tr>\n",
       "\t<tr><td>lotsize    </td><td>-0.05019853</td><td>0.003332127</td><td>-15.065011</td><td>3.726359e-07</td></tr>\n",
       "\t<tr><td>zd         </td><td> 0.03885161</td><td>0.005945966</td><td>  6.534112</td><td>1.814740e-04</td></tr>\n",
       "</tbody>\n",
       "</table>\n"
      ],
      "text/latex": [
       "A tibble: 3 × 5\n",
       "\\begin{tabular}{lllll}\n",
       " term & estimate & std.error & statistic & p.value\\\\\n",
       " <chr> & <dbl> & <dbl> & <dbl> & <dbl>\\\\\n",
       "\\hline\n",
       "\t (Intercept) & 15.11647994 & 0.535382569 &  28.234912 & 2.674940e-09\\\\\n",
       "\t lotsize     & -0.05019853 & 0.003332127 & -15.065011 & 3.726359e-07\\\\\n",
       "\t zd          &  0.03885161 & 0.005945966 &   6.534112 & 1.814740e-04\\\\\n",
       "\\end{tabular}\n"
      ],
      "text/markdown": [
       "\n",
       "A tibble: 3 × 5\n",
       "\n",
       "| term &lt;chr&gt; | estimate &lt;dbl&gt; | std.error &lt;dbl&gt; | statistic &lt;dbl&gt; | p.value &lt;dbl&gt; |\n",
       "|---|---|---|---|---|\n",
       "| (Intercept) | 15.11647994 | 0.535382569 |  28.234912 | 2.674940e-09 |\n",
       "| lotsize     | -0.05019853 | 0.003332127 | -15.065011 | 3.726359e-07 |\n",
       "| zd          |  0.03885161 | 0.005945966 |   6.534112 | 1.814740e-04 |\n",
       "\n"
      ],
      "text/plain": [
       "  term        estimate    std.error   statistic  p.value     \n",
       "1 (Intercept) 15.11647994 0.535382569  28.234912 2.674940e-09\n",
       "2 lotsize     -0.05019853 0.003332127 -15.065011 3.726359e-07\n",
       "3 zd           0.03885161 0.005945966   6.534112 1.814740e-04"
      ]
     },
     "metadata": {},
     "output_type": "display_data"
    },
    {
     "data": {
      "text/html": [
       "<table class=\"dataframe\">\n",
       "<caption>A tibble: 1 × 12</caption>\n",
       "<thead>\n",
       "\t<tr><th scope=col>r.squared</th><th scope=col>adj.r.squared</th><th scope=col>sigma</th><th scope=col>statistic</th><th scope=col>p.value</th><th scope=col>df</th><th scope=col>logLik</th><th scope=col>AIC</th><th scope=col>BIC</th><th scope=col>deviance</th><th scope=col>df.residual</th><th scope=col>nobs</th></tr>\n",
       "\t<tr><th scope=col>&lt;dbl&gt;</th><th scope=col>&lt;dbl&gt;</th><th scope=col>&lt;dbl&gt;</th><th scope=col>&lt;dbl&gt;</th><th scope=col>&lt;dbl&gt;</th><th scope=col>&lt;dbl&gt;</th><th scope=col>&lt;dbl&gt;</th><th scope=col>&lt;dbl&gt;</th><th scope=col>&lt;dbl&gt;</th><th scope=col>&lt;dbl&gt;</th><th scope=col>&lt;int&gt;</th><th scope=col>&lt;int&gt;</th></tr>\n",
       "</thead>\n",
       "<tbody>\n",
       "\t<tr><td>0.9829381</td><td>0.9786727</td><td>0.3156508</td><td>230.4409</td><td>8.474347e-08</td><td>2</td><td>-1.172523</td><td>10.34505</td><td>11.93663</td><td>0.7970835</td><td>8</td><td>11</td></tr>\n",
       "</tbody>\n",
       "</table>\n"
      ],
      "text/latex": [
       "A tibble: 1 × 12\n",
       "\\begin{tabular}{llllllllllll}\n",
       " r.squared & adj.r.squared & sigma & statistic & p.value & df & logLik & AIC & BIC & deviance & df.residual & nobs\\\\\n",
       " <dbl> & <dbl> & <dbl> & <dbl> & <dbl> & <dbl> & <dbl> & <dbl> & <dbl> & <dbl> & <int> & <int>\\\\\n",
       "\\hline\n",
       "\t 0.9829381 & 0.9786727 & 0.3156508 & 230.4409 & 8.474347e-08 & 2 & -1.172523 & 10.34505 & 11.93663 & 0.7970835 & 8 & 11\\\\\n",
       "\\end{tabular}\n"
      ],
      "text/markdown": [
       "\n",
       "A tibble: 1 × 12\n",
       "\n",
       "| r.squared &lt;dbl&gt; | adj.r.squared &lt;dbl&gt; | sigma &lt;dbl&gt; | statistic &lt;dbl&gt; | p.value &lt;dbl&gt; | df &lt;dbl&gt; | logLik &lt;dbl&gt; | AIC &lt;dbl&gt; | BIC &lt;dbl&gt; | deviance &lt;dbl&gt; | df.residual &lt;int&gt; | nobs &lt;int&gt; |\n",
       "|---|---|---|---|---|---|---|---|---|---|---|---|\n",
       "| 0.9829381 | 0.9786727 | 0.3156508 | 230.4409 | 8.474347e-08 | 2 | -1.172523 | 10.34505 | 11.93663 | 0.7970835 | 8 | 11 |\n",
       "\n"
      ],
      "text/plain": [
       "      r.squared adj.r.squared sigma     statistic p.value      df logLik   \n",
       "value 0.9829381 0.9786727     0.3156508 230.4409  8.474347e-08 2  -1.172523\n",
       "      AIC      BIC      deviance  df.residual nobs\n",
       "value 10.34505 11.93663 0.7970835 8           11  "
      ]
     },
     "metadata": {},
     "output_type": "display_data"
    }
   ],
   "source": [
    "model10 <- lm(avgcost ~ lotsize + zd, data = df4)\n",
    "tidy(model10)\n",
    "glance(model10)"
   ]
  },
  {
   "cell_type": "markdown",
   "id": "bc574990-bf51-439b-9d38-2cf01ef3f789",
   "metadata": {},
   "source": [
    "lot size < 200  \n",
    "Average cost = 15.1164 – 0.0502 lot size,            \n",
    "\n",
    "lot size > 200   \n",
    "Average cost = (15.1164 – 0.0385 × 200) + (–0.0502 + 0.0388) lot size\n",
    "= 7.4164 – 0.0114 lot size,       "
   ]
  },
  {
   "cell_type": "markdown",
   "id": "4c0d0f7e-e001-4239-951f-767fb576f981",
   "metadata": {},
   "source": [
    "up to a lot size of 200\n",
    "units, the unit cost decreases by 5 cents per unit increase in the lot size, but beyond\n",
    "the lot size of 200 units, it decreases only by about 1 cent"
   ]
  },
  {
   "cell_type": "markdown",
   "id": "8288a75e-baaa-4099-b1c8-b48100a5a51b",
   "metadata": {},
   "source": [
    "## Exercises"
   ]
  },
  {
   "cell_type": "markdown",
   "id": "ade26656-fb34-49e9-a136-704b398a54d0",
   "metadata": {},
   "source": [
    "🚧 Under Construction"
   ]
  }
 ],
 "metadata": {
  "kernelspec": {
   "display_name": "R",
   "language": "R",
   "name": "ir"
  },
  "language_info": {
   "codemirror_mode": "r",
   "file_extension": ".r",
   "mimetype": "text/x-r-source",
   "name": "R",
   "pygments_lexer": "r",
   "version": "4.4.1"
  }
 },
 "nbformat": 4,
 "nbformat_minor": 5
}
