{
 "cells": [
  {
   "cell_type": "markdown",
   "id": "455edf49-9277-4f08-a089-6feaacb62b86",
   "metadata": {},
   "source": [
    "# 8. The Logit And Probit Models "
   ]
  },
  {
   "cell_type": "markdown",
   "id": "96002719-96e9-41ef-a85b-4d84de52e219",
   "metadata": {},
   "source": [
    "🚧 Under Construction"
   ]
  }
 ],
 "metadata": {
  "kernelspec": {
   "display_name": "R",
   "language": "R",
   "name": "ir"
  },
  "language_info": {
   "codemirror_mode": "r",
   "file_extension": ".r",
   "mimetype": "text/x-r-source",
   "name": "R",
   "pygments_lexer": "r",
   "version": "4.4.1"
  }
 },
 "nbformat": 4,
 "nbformat_minor": 5
}
