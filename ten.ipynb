{
 "cells": [
  {
   "cell_type": "markdown",
   "id": "774c6332-771f-4899-ba48-231536dc85d0",
   "metadata": {},
   "source": [
    "# 10. Ordinal Regression Models"
   ]
  },
  {
   "cell_type": "markdown",
   "id": "6611eb3e-4012-4f5f-bd9c-837433ede013",
   "metadata": {},
   "source": [
    "🚧 Under construction"
   ]
  }
 ],
 "metadata": {
  "kernelspec": {
   "display_name": "R",
   "language": "R",
   "name": "ir"
  },
  "language_info": {
   "codemirror_mode": "r",
   "file_extension": ".r",
   "mimetype": "text/x-r-source",
   "name": "R",
   "pygments_lexer": "r",
   "version": "4.4.1"
  }
 },
 "nbformat": 4,
 "nbformat_minor": 5
}
