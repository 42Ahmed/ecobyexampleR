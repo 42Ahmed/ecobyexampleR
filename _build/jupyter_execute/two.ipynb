{
 "cells": [
  {
   "cell_type": "code",
   "execution_count": 91,
   "id": "9adbd654-5546-49f0-921f-43d148ef07b3",
   "metadata": {},
   "outputs": [],
   "source": [
    "suppressPackageStartupMessages({\n",
    "  library(tidyverse)\n",
    "  library(tidymodels)\n",
    "  library(readxl)\n",
    "  library(multcomp)\n",
    "  library(car)\n",
    "})"
   ]
  },
  {
   "cell_type": "markdown",
   "id": "bc6f9e3d-82d3-41ec-85eb-445afe580db0",
   "metadata": {},
   "source": [
    "## Cobb Douglas Function"
   ]
  },
  {
   "cell_type": "markdown",
   "id": "93b47857-bb9f-4785-bcea-05e641d57a2e",
   "metadata": {},
   "source": [
    "### Log-log model (Double log) (Constant elasticity) (log-linear)"
   ]
  },
  {
   "cell_type": "markdown",
   "id": "fa33360b-627d-4147-8a88-ec12bdace957",
   "metadata": {},
   "source": [
    "\\begin{align}\n",
    "\\text{output} &= \\beta_0 \\text{labor}^{\\beta_1}\\text{capital}^{\\beta_2}\\\\\n",
    "\\ln \\text{output}_i &= \\ln \\beta_0 + \\beta_1 \\ln \\text{labor}_i + \\beta_2 \\ln \\text{capital}_i +u\n",
    "\\end{align}"
   ]
  },
  {
   "cell_type": "markdown",
   "id": "f9f2900d-192a-4b12-9889-dcc8f18485a9",
   "metadata": {},
   "source": [
    "labor input (worker hours, in thousands),  \n",
    "and capital input (capital expenditure, in thousands of dollars) for the US manufacturing sector.   \n",
    "The data is cross-sectional, covering 50 states and Washington, DC, for the year 2005. "
   ]
  },
  {
   "cell_type": "code",
   "execution_count": 2,
   "id": "227af89c-cfc5-4a5e-b9d5-f71f22c2ea2f",
   "metadata": {},
   "outputs": [
    {
     "data": {
      "text/html": [
       "<table class=\"dataframe\">\n",
       "<caption>A tibble: 6 × 12</caption>\n",
       "<thead>\n",
       "\t<tr><th scope=col>obs</th><th scope=col>output</th><th scope=col>labor</th><th scope=col>capital</th><th scope=col>lnoutput</th><th scope=col>lnlabor</th><th scope=col>lncapital</th><th scope=col>lnoutlab</th><th scope=col>lncaplab</th><th scope=col>outputstar</th><th scope=col>capitalstar</th><th scope=col>laborstar</th></tr>\n",
       "\t<tr><th scope=col>&lt;dbl&gt;</th><th scope=col>&lt;dbl&gt;</th><th scope=col>&lt;dbl&gt;</th><th scope=col>&lt;dbl&gt;</th><th scope=col>&lt;dbl&gt;</th><th scope=col>&lt;dbl&gt;</th><th scope=col>&lt;dbl&gt;</th><th scope=col>&lt;dbl&gt;</th><th scope=col>&lt;dbl&gt;</th><th scope=col>&lt;dbl&gt;</th><th scope=col>&lt;dbl&gt;</th><th scope=col>&lt;dbl&gt;</th></tr>\n",
       "</thead>\n",
       "<tbody>\n",
       "\t<tr><td>1</td><td> 38372840</td><td> 424471</td><td> 2689076</td><td>17.46286</td><td>12.958599</td><td>14.80471</td><td>4.504261</td><td>1.846109</td><td>-0.1079874</td><td> 0.06368887</td><td> 0.1343891</td></tr>\n",
       "\t<tr><td>2</td><td>  1805427</td><td>  19895</td><td>   57997</td><td>14.40631</td><td> 9.898224</td><td>10.96815</td><td>4.508084</td><td>1.069923</td><td>-0.9230660</td><td>-0.90551400</td><td>-0.9410533</td></tr>\n",
       "\t<tr><td>3</td><td> 23736129</td><td> 206893</td><td> 2308272</td><td>16.98251</td><td>12.239957</td><td>14.65201</td><td>4.742552</td><td>2.412053</td><td>-0.4342360</td><td>-0.07658678</td><td>-0.4439759</td></tr>\n",
       "\t<tr><td>4</td><td> 26981983</td><td> 304055</td><td> 1376235</td><td>17.11068</td><td>12.624964</td><td>14.13486</td><td>4.485716</td><td>1.509898</td><td>-0.3618868</td><td>-0.41991854</td><td>-0.1857003</td></tr>\n",
       "\t<tr><td>5</td><td>217546032</td><td>1809756</td><td>13554116</td><td>19.19792</td><td>14.408703</td><td>16.42220</td><td>4.789218</td><td>2.013498</td><td> 3.8857391</td><td> 4.06601191</td><td> 3.8167481</td></tr>\n",
       "\t<tr><td>6</td><td> 19462751</td><td> 180366</td><td> 1790751</td><td>16.78401</td><td>12.102743</td><td>14.39815</td><td>4.681270</td><td>2.295402</td><td>-0.5294886</td><td>-0.26722449</td><td>-0.5144899</td></tr>\n",
       "</tbody>\n",
       "</table>\n"
      ],
      "text/latex": [
       "A tibble: 6 × 12\n",
       "\\begin{tabular}{llllllllllll}\n",
       " obs & output & labor & capital & lnoutput & lnlabor & lncapital & lnoutlab & lncaplab & outputstar & capitalstar & laborstar\\\\\n",
       " <dbl> & <dbl> & <dbl> & <dbl> & <dbl> & <dbl> & <dbl> & <dbl> & <dbl> & <dbl> & <dbl> & <dbl>\\\\\n",
       "\\hline\n",
       "\t 1 &  38372840 &  424471 &  2689076 & 17.46286 & 12.958599 & 14.80471 & 4.504261 & 1.846109 & -0.1079874 &  0.06368887 &  0.1343891\\\\\n",
       "\t 2 &   1805427 &   19895 &    57997 & 14.40631 &  9.898224 & 10.96815 & 4.508084 & 1.069923 & -0.9230660 & -0.90551400 & -0.9410533\\\\\n",
       "\t 3 &  23736129 &  206893 &  2308272 & 16.98251 & 12.239957 & 14.65201 & 4.742552 & 2.412053 & -0.4342360 & -0.07658678 & -0.4439759\\\\\n",
       "\t 4 &  26981983 &  304055 &  1376235 & 17.11068 & 12.624964 & 14.13486 & 4.485716 & 1.509898 & -0.3618868 & -0.41991854 & -0.1857003\\\\\n",
       "\t 5 & 217546032 & 1809756 & 13554116 & 19.19792 & 14.408703 & 16.42220 & 4.789218 & 2.013498 &  3.8857391 &  4.06601191 &  3.8167481\\\\\n",
       "\t 6 &  19462751 &  180366 &  1790751 & 16.78401 & 12.102743 & 14.39815 & 4.681270 & 2.295402 & -0.5294886 & -0.26722449 & -0.5144899\\\\\n",
       "\\end{tabular}\n"
      ],
      "text/markdown": [
       "\n",
       "A tibble: 6 × 12\n",
       "\n",
       "| obs &lt;dbl&gt; | output &lt;dbl&gt; | labor &lt;dbl&gt; | capital &lt;dbl&gt; | lnoutput &lt;dbl&gt; | lnlabor &lt;dbl&gt; | lncapital &lt;dbl&gt; | lnoutlab &lt;dbl&gt; | lncaplab &lt;dbl&gt; | outputstar &lt;dbl&gt; | capitalstar &lt;dbl&gt; | laborstar &lt;dbl&gt; |\n",
       "|---|---|---|---|---|---|---|---|---|---|---|---|\n",
       "| 1 |  38372840 |  424471 |  2689076 | 17.46286 | 12.958599 | 14.80471 | 4.504261 | 1.846109 | -0.1079874 |  0.06368887 |  0.1343891 |\n",
       "| 2 |   1805427 |   19895 |    57997 | 14.40631 |  9.898224 | 10.96815 | 4.508084 | 1.069923 | -0.9230660 | -0.90551400 | -0.9410533 |\n",
       "| 3 |  23736129 |  206893 |  2308272 | 16.98251 | 12.239957 | 14.65201 | 4.742552 | 2.412053 | -0.4342360 | -0.07658678 | -0.4439759 |\n",
       "| 4 |  26981983 |  304055 |  1376235 | 17.11068 | 12.624964 | 14.13486 | 4.485716 | 1.509898 | -0.3618868 | -0.41991854 | -0.1857003 |\n",
       "| 5 | 217546032 | 1809756 | 13554116 | 19.19792 | 14.408703 | 16.42220 | 4.789218 | 2.013498 |  3.8857391 |  4.06601191 |  3.8167481 |\n",
       "| 6 |  19462751 |  180366 |  1790751 | 16.78401 | 12.102743 | 14.39815 | 4.681270 | 2.295402 | -0.5294886 | -0.26722449 | -0.5144899 |\n",
       "\n"
      ],
      "text/plain": [
       "  obs output    labor   capital  lnoutput lnlabor   lncapital lnoutlab lncaplab\n",
       "1 1    38372840  424471  2689076 17.46286 12.958599 14.80471  4.504261 1.846109\n",
       "2 2     1805427   19895    57997 14.40631  9.898224 10.96815  4.508084 1.069923\n",
       "3 3    23736129  206893  2308272 16.98251 12.239957 14.65201  4.742552 2.412053\n",
       "4 4    26981983  304055  1376235 17.11068 12.624964 14.13486  4.485716 1.509898\n",
       "5 5   217546032 1809756 13554116 19.19792 14.408703 16.42220  4.789218 2.013498\n",
       "6 6    19462751  180366  1790751 16.78401 12.102743 14.39815  4.681270 2.295402\n",
       "  outputstar capitalstar laborstar \n",
       "1 -0.1079874  0.06368887  0.1343891\n",
       "2 -0.9230660 -0.90551400 -0.9410533\n",
       "3 -0.4342360 -0.07658678 -0.4439759\n",
       "4 -0.3618868 -0.41991854 -0.1857003\n",
       "5  3.8857391  4.06601191  3.8167481\n",
       "6 -0.5294886 -0.26722449 -0.5144899"
      ]
     },
     "metadata": {},
     "output_type": "display_data"
    }
   ],
   "source": [
    "df <- read_excel(\"G:/Datasets/Econometrics BY Example/Excel/Table2_1.xls\")\n",
    "head(df)"
   ]
  },
  {
   "cell_type": "code",
   "execution_count": 3,
   "id": "8cd8402c-1b2d-4ccf-bfcd-cc4c1a2a5a47",
   "metadata": {},
   "outputs": [],
   "source": [
    "model <- lm(lnoutput~ lnlabor+ lncapital, data = df)"
   ]
  },
  {
   "cell_type": "code",
   "execution_count": 4,
   "id": "d1be224d-58b9-463a-9108-c4147546e508",
   "metadata": {},
   "outputs": [
    {
     "data": {
      "text/html": [
       "<table class=\"dataframe\">\n",
       "<caption>A tibble: 3 × 5</caption>\n",
       "<thead>\n",
       "\t<tr><th scope=col>term</th><th scope=col>estimate</th><th scope=col>std.error</th><th scope=col>statistic</th><th scope=col>p.value</th></tr>\n",
       "\t<tr><th scope=col>&lt;chr&gt;</th><th scope=col>&lt;dbl&gt;</th><th scope=col>&lt;dbl&gt;</th><th scope=col>&lt;dbl&gt;</th><th scope=col>&lt;dbl&gt;</th></tr>\n",
       "</thead>\n",
       "<tbody>\n",
       "\t<tr><td>(Intercept)</td><td>3.8875990</td><td>0.39622813</td><td>9.811517</td><td>4.704731e-13</td></tr>\n",
       "\t<tr><td>lnlabor    </td><td>0.4683318</td><td>0.09892588</td><td>4.734169</td><td>1.980888e-05</td></tr>\n",
       "\t<tr><td>lncapital  </td><td>0.5212795</td><td>0.09688703</td><td>5.380281</td><td>2.183108e-06</td></tr>\n",
       "</tbody>\n",
       "</table>\n"
      ],
      "text/latex": [
       "A tibble: 3 × 5\n",
       "\\begin{tabular}{lllll}\n",
       " term & estimate & std.error & statistic & p.value\\\\\n",
       " <chr> & <dbl> & <dbl> & <dbl> & <dbl>\\\\\n",
       "\\hline\n",
       "\t (Intercept) & 3.8875990 & 0.39622813 & 9.811517 & 4.704731e-13\\\\\n",
       "\t lnlabor     & 0.4683318 & 0.09892588 & 4.734169 & 1.980888e-05\\\\\n",
       "\t lncapital   & 0.5212795 & 0.09688703 & 5.380281 & 2.183108e-06\\\\\n",
       "\\end{tabular}\n"
      ],
      "text/markdown": [
       "\n",
       "A tibble: 3 × 5\n",
       "\n",
       "| term &lt;chr&gt; | estimate &lt;dbl&gt; | std.error &lt;dbl&gt; | statistic &lt;dbl&gt; | p.value &lt;dbl&gt; |\n",
       "|---|---|---|---|---|\n",
       "| (Intercept) | 3.8875990 | 0.39622813 | 9.811517 | 4.704731e-13 |\n",
       "| lnlabor     | 0.4683318 | 0.09892588 | 4.734169 | 1.980888e-05 |\n",
       "| lncapital   | 0.5212795 | 0.09688703 | 5.380281 | 2.183108e-06 |\n",
       "\n"
      ],
      "text/plain": [
       "  term        estimate  std.error  statistic p.value     \n",
       "1 (Intercept) 3.8875990 0.39622813 9.811517  4.704731e-13\n",
       "2 lnlabor     0.4683318 0.09892588 4.734169  1.980888e-05\n",
       "3 lncapital   0.5212795 0.09688703 5.380281  2.183108e-06"
      ]
     },
     "metadata": {},
     "output_type": "display_data"
    },
    {
     "data": {
      "text/html": [
       "<table class=\"dataframe\">\n",
       "<caption>A tibble: 1 × 12</caption>\n",
       "<thead>\n",
       "\t<tr><th scope=col>r.squared</th><th scope=col>adj.r.squared</th><th scope=col>sigma</th><th scope=col>statistic</th><th scope=col>p.value</th><th scope=col>df</th><th scope=col>logLik</th><th scope=col>AIC</th><th scope=col>BIC</th><th scope=col>deviance</th><th scope=col>df.residual</th><th scope=col>nobs</th></tr>\n",
       "\t<tr><th scope=col>&lt;dbl&gt;</th><th scope=col>&lt;dbl&gt;</th><th scope=col>&lt;dbl&gt;</th><th scope=col>&lt;dbl&gt;</th><th scope=col>&lt;dbl&gt;</th><th scope=col>&lt;dbl&gt;</th><th scope=col>&lt;dbl&gt;</th><th scope=col>&lt;dbl&gt;</th><th scope=col>&lt;dbl&gt;</th><th scope=col>&lt;dbl&gt;</th><th scope=col>&lt;int&gt;</th><th scope=col>&lt;int&gt;</th></tr>\n",
       "</thead>\n",
       "<tbody>\n",
       "\t<tr><td>0.9641754</td><td>0.9626828</td><td>0.266752</td><td>645.9316</td><td>1.996821e-35</td><td>2</td><td>-3.426703</td><td>14.85341</td><td>22.58071</td><td>3.415518</td><td>48</td><td>51</td></tr>\n",
       "</tbody>\n",
       "</table>\n"
      ],
      "text/latex": [
       "A tibble: 1 × 12\n",
       "\\begin{tabular}{llllllllllll}\n",
       " r.squared & adj.r.squared & sigma & statistic & p.value & df & logLik & AIC & BIC & deviance & df.residual & nobs\\\\\n",
       " <dbl> & <dbl> & <dbl> & <dbl> & <dbl> & <dbl> & <dbl> & <dbl> & <dbl> & <dbl> & <int> & <int>\\\\\n",
       "\\hline\n",
       "\t 0.9641754 & 0.9626828 & 0.266752 & 645.9316 & 1.996821e-35 & 2 & -3.426703 & 14.85341 & 22.58071 & 3.415518 & 48 & 51\\\\\n",
       "\\end{tabular}\n"
      ],
      "text/markdown": [
       "\n",
       "A tibble: 1 × 12\n",
       "\n",
       "| r.squared &lt;dbl&gt; | adj.r.squared &lt;dbl&gt; | sigma &lt;dbl&gt; | statistic &lt;dbl&gt; | p.value &lt;dbl&gt; | df &lt;dbl&gt; | logLik &lt;dbl&gt; | AIC &lt;dbl&gt; | BIC &lt;dbl&gt; | deviance &lt;dbl&gt; | df.residual &lt;int&gt; | nobs &lt;int&gt; |\n",
       "|---|---|---|---|---|---|---|---|---|---|---|---|\n",
       "| 0.9641754 | 0.9626828 | 0.266752 | 645.9316 | 1.996821e-35 | 2 | -3.426703 | 14.85341 | 22.58071 | 3.415518 | 48 | 51 |\n",
       "\n"
      ],
      "text/plain": [
       "      r.squared adj.r.squared sigma    statistic p.value      df logLik   \n",
       "value 0.9641754 0.9626828     0.266752 645.9316  1.996821e-35 2  -3.426703\n",
       "      AIC      BIC      deviance df.residual nobs\n",
       "value 14.85341 22.58071 3.415518 48          51  "
      ]
     },
     "metadata": {},
     "output_type": "display_data"
    }
   ],
   "source": [
    "tidy(model)\n",
    "glance(model)"
   ]
  },
  {
   "cell_type": "markdown",
   "id": "0cd533c5-6742-4e70-893a-8101f627c494",
   "metadata": {},
   "source": [
    "**interpretation of the coefficient of lnlabor** of about 0.47 is that if we\n",
    "increase the labor input by 1%, on average, output goes up by about 0.47 %, holding\n",
    "the capital input constant"
   ]
  },
  {
   "cell_type": "markdown",
   "id": "b0e1226f-77fc-4077-bedf-a448d46085f4",
   "metadata": {},
   "source": [
    "**interpretation of the coefficient of lncapital** of about 0.52 is that if we increase capital input by 1%, on average, the output increases by about 0.52%, holding the labot input constant"
   ]
  },
  {
   "cell_type": "code",
   "execution_count": 5,
   "id": "d4995128-ee61-40fd-b5f5-372e2b6f41dc",
   "metadata": {},
   "outputs": [
    {
     "data": {
      "text/html": [
       "<style>\n",
       ".list-inline {list-style: none; margin:0; padding: 0}\n",
       ".list-inline>li {display: inline-block}\n",
       ".list-inline>li:not(:last-child)::after {content: \"\\00b7\"; padding: 0 .5ex}\n",
       "</style>\n",
       "<ol class=list-inline><li>'term'</li><li>'estimate'</li><li>'std.error'</li><li>'statistic'</li><li>'p.value'</li></ol>\n"
      ],
      "text/latex": [
       "\\begin{enumerate*}\n",
       "\\item 'term'\n",
       "\\item 'estimate'\n",
       "\\item 'std.error'\n",
       "\\item 'statistic'\n",
       "\\item 'p.value'\n",
       "\\end{enumerate*}\n"
      ],
      "text/markdown": [
       "1. 'term'\n",
       "2. 'estimate'\n",
       "3. 'std.error'\n",
       "4. 'statistic'\n",
       "5. 'p.value'\n",
       "\n",
       "\n"
      ],
      "text/plain": [
       "[1] \"term\"      \"estimate\"  \"std.error\" \"statistic\" \"p.value\"  "
      ]
     },
     "metadata": {},
     "output_type": "display_data"
    },
    {
     "data": {
      "text/html": [
       "<style>\n",
       ".list-inline {list-style: none; margin:0; padding: 0}\n",
       ".list-inline>li {display: inline-block}\n",
       ".list-inline>li:not(:last-child)::after {content: \"\\00b7\"; padding: 0 .5ex}\n",
       "</style>\n",
       "<ol class=list-inline><li>'1'</li><li>'2'</li><li>'3'</li></ol>\n"
      ],
      "text/latex": [
       "\\begin{enumerate*}\n",
       "\\item '1'\n",
       "\\item '2'\n",
       "\\item '3'\n",
       "\\end{enumerate*}\n"
      ],
      "text/markdown": [
       "1. '1'\n",
       "2. '2'\n",
       "3. '3'\n",
       "\n",
       "\n"
      ],
      "text/plain": [
       "[1] \"1\" \"2\" \"3\""
      ]
     },
     "metadata": {},
     "output_type": "display_data"
    }
   ],
   "source": [
    "tidy_model <- tidy(model)\n",
    "colnames(tidy_model)\n",
    "rownames(tidy_model)"
   ]
  },
  {
   "cell_type": "code",
   "execution_count": 6,
   "id": "cb645aae-c4bc-4b72-82bb-ad4844dc3d49",
   "metadata": {},
   "outputs": [
    {
     "data": {
      "text/html": [
       "3.88759899084757"
      ],
      "text/latex": [
       "3.88759899084757"
      ],
      "text/markdown": [
       "3.88759899084757"
      ],
      "text/plain": [
       "[1] 3.887599"
      ]
     },
     "metadata": {},
     "output_type": "display_data"
    },
    {
     "data": {
      "text/html": [
       "48.7935919066084"
      ],
      "text/latex": [
       "48.7935919066084"
      ],
      "text/markdown": [
       "48.7935919066084"
      ],
      "text/plain": [
       "[1] 48.79359"
      ]
     },
     "metadata": {},
     "output_type": "display_data"
    }
   ],
   "source": [
    "(intercept <- tidy_model[[1,'estimate']])\n",
    "exp(intercept)"
   ]
  },
  {
   "cell_type": "code",
   "execution_count": 7,
   "id": "752c0eee-3dc4-4217-9ac6-1982f08da974",
   "metadata": {},
   "outputs": [
    {
     "data": {
      "text/html": [
       "0.468331833346232"
      ],
      "text/latex": [
       "0.468331833346232"
      ],
      "text/markdown": [
       "0.468331833346232"
      ],
      "text/plain": [
       "[1] 0.4683318"
      ]
     },
     "metadata": {},
     "output_type": "display_data"
    },
    {
     "data": {
      "text/html": [
       "0.521279475667115"
      ],
      "text/latex": [
       "0.521279475667115"
      ],
      "text/markdown": [
       "0.521279475667115"
      ],
      "text/plain": [
       "[1] 0.5212795"
      ]
     },
     "metadata": {},
     "output_type": "display_data"
    }
   ],
   "source": [
    "(beta_1 <- tidy_model[[2, 'estimate']])\n",
    "(beta_2 <- tidy_model[[3, 'estimate']])"
   ]
  },
  {
   "cell_type": "code",
   "execution_count": 8,
   "id": "1472b1e5-cc49-4303-8462-09d337f79bf1",
   "metadata": {},
   "outputs": [
    {
     "data": {
      "text/html": [
       "0.989611309013347"
      ],
      "text/latex": [
       "0.989611309013347"
      ],
      "text/markdown": [
       "0.989611309013347"
      ],
      "text/plain": [
       "[1] 0.9896113"
      ]
     },
     "metadata": {},
     "output_type": "display_data"
    }
   ],
   "source": [
    "(return_to_scale <- beta_1 + beta_2)"
   ]
  },
  {
   "cell_type": "markdown",
   "id": "04544e18-cea0-4ca3-93bc-f395de68b7b0",
   "metadata": {},
   "source": [
    "$$ output = 48.79 \\text{labour}^{0.47} \\text{capital}^{0.51} $$"
   ]
  },
  {
   "cell_type": "markdown",
   "id": "6985a006-ba0d-436b-a6f0-b97ac11931da",
   "metadata": {},
   "source": [
    "### linear model"
   ]
  },
  {
   "cell_type": "markdown",
   "id": "9ca208d9-cb47-42a1-ba0b-f967d0b09657",
   "metadata": {},
   "source": [
    "$$ \\text{output} =  \\beta_0 + \\beta_1  \\text{labor} + \\beta_2  \\text{capital} $$"
   ]
  },
  {
   "cell_type": "code",
   "execution_count": 9,
   "id": "780dc10b-2a3e-4a17-82b6-b64a262a55b4",
   "metadata": {},
   "outputs": [
    {
     "data": {
      "text/html": [
       "<table class=\"dataframe\">\n",
       "<caption>A tibble: 3 × 5</caption>\n",
       "<thead>\n",
       "\t<tr><th scope=col>term</th><th scope=col>estimate</th><th scope=col>std.error</th><th scope=col>statistic</th><th scope=col>p.value</th></tr>\n",
       "\t<tr><th scope=col>&lt;chr&gt;</th><th scope=col>&lt;dbl&gt;</th><th scope=col>&lt;dbl&gt;</th><th scope=col>&lt;dbl&gt;</th><th scope=col>&lt;dbl&gt;</th></tr>\n",
       "</thead>\n",
       "<tbody>\n",
       "\t<tr><td>(Intercept)</td><td>2.336216e+05</td><td>1.250364e+06</td><td> 0.1868428</td><td>8.525714e-01</td></tr>\n",
       "\t<tr><td>labor      </td><td>4.798736e+01</td><td>7.058245e+00</td><td> 6.7987660</td><td>1.496564e-08</td></tr>\n",
       "\t<tr><td>capital    </td><td>9.951891e+00</td><td>9.781165e-01</td><td>10.1745459</td><td>1.433023e-13</td></tr>\n",
       "</tbody>\n",
       "</table>\n"
      ],
      "text/latex": [
       "A tibble: 3 × 5\n",
       "\\begin{tabular}{lllll}\n",
       " term & estimate & std.error & statistic & p.value\\\\\n",
       " <chr> & <dbl> & <dbl> & <dbl> & <dbl>\\\\\n",
       "\\hline\n",
       "\t (Intercept) & 2.336216e+05 & 1.250364e+06 &  0.1868428 & 8.525714e-01\\\\\n",
       "\t labor       & 4.798736e+01 & 7.058245e+00 &  6.7987660 & 1.496564e-08\\\\\n",
       "\t capital     & 9.951891e+00 & 9.781165e-01 & 10.1745459 & 1.433023e-13\\\\\n",
       "\\end{tabular}\n"
      ],
      "text/markdown": [
       "\n",
       "A tibble: 3 × 5\n",
       "\n",
       "| term &lt;chr&gt; | estimate &lt;dbl&gt; | std.error &lt;dbl&gt; | statistic &lt;dbl&gt; | p.value &lt;dbl&gt; |\n",
       "|---|---|---|---|---|\n",
       "| (Intercept) | 2.336216e+05 | 1.250364e+06 |  0.1868428 | 8.525714e-01 |\n",
       "| labor       | 4.798736e+01 | 7.058245e+00 |  6.7987660 | 1.496564e-08 |\n",
       "| capital     | 9.951891e+00 | 9.781165e-01 | 10.1745459 | 1.433023e-13 |\n",
       "\n"
      ],
      "text/plain": [
       "  term        estimate     std.error    statistic  p.value     \n",
       "1 (Intercept) 2.336216e+05 1.250364e+06  0.1868428 8.525714e-01\n",
       "2 labor       4.798736e+01 7.058245e+00  6.7987660 1.496564e-08\n",
       "3 capital     9.951891e+00 9.781165e-01 10.1745459 1.433023e-13"
      ]
     },
     "metadata": {},
     "output_type": "display_data"
    },
    {
     "data": {
      "text/html": [
       "<table class=\"dataframe\">\n",
       "<caption>A tibble: 1 × 12</caption>\n",
       "<thead>\n",
       "\t<tr><th scope=col>r.squared</th><th scope=col>adj.r.squared</th><th scope=col>sigma</th><th scope=col>statistic</th><th scope=col>p.value</th><th scope=col>df</th><th scope=col>logLik</th><th scope=col>AIC</th><th scope=col>BIC</th><th scope=col>deviance</th><th scope=col>df.residual</th><th scope=col>nobs</th></tr>\n",
       "\t<tr><th scope=col>&lt;dbl&gt;</th><th scope=col>&lt;dbl&gt;</th><th scope=col>&lt;dbl&gt;</th><th scope=col>&lt;dbl&gt;</th><th scope=col>&lt;dbl&gt;</th><th scope=col>&lt;dbl&gt;</th><th scope=col>&lt;dbl&gt;</th><th scope=col>&lt;dbl&gt;</th><th scope=col>&lt;dbl&gt;</th><th scope=col>&lt;dbl&gt;</th><th scope=col>&lt;int&gt;</th><th scope=col>&lt;int&gt;</th></tr>\n",
       "</thead>\n",
       "<tbody>\n",
       "\t<tr><td>0.9810653</td><td>0.9802763</td><td>6300694</td><td>1243.514</td><td>4.510314e-42</td><td>2</td><td>-869.2846</td><td>1746.569</td><td>1754.297</td><td>1.90554e+15</td><td>48</td><td>51</td></tr>\n",
       "</tbody>\n",
       "</table>\n"
      ],
      "text/latex": [
       "A tibble: 1 × 12\n",
       "\\begin{tabular}{llllllllllll}\n",
       " r.squared & adj.r.squared & sigma & statistic & p.value & df & logLik & AIC & BIC & deviance & df.residual & nobs\\\\\n",
       " <dbl> & <dbl> & <dbl> & <dbl> & <dbl> & <dbl> & <dbl> & <dbl> & <dbl> & <dbl> & <int> & <int>\\\\\n",
       "\\hline\n",
       "\t 0.9810653 & 0.9802763 & 6300694 & 1243.514 & 4.510314e-42 & 2 & -869.2846 & 1746.569 & 1754.297 & 1.90554e+15 & 48 & 51\\\\\n",
       "\\end{tabular}\n"
      ],
      "text/markdown": [
       "\n",
       "A tibble: 1 × 12\n",
       "\n",
       "| r.squared &lt;dbl&gt; | adj.r.squared &lt;dbl&gt; | sigma &lt;dbl&gt; | statistic &lt;dbl&gt; | p.value &lt;dbl&gt; | df &lt;dbl&gt; | logLik &lt;dbl&gt; | AIC &lt;dbl&gt; | BIC &lt;dbl&gt; | deviance &lt;dbl&gt; | df.residual &lt;int&gt; | nobs &lt;int&gt; |\n",
       "|---|---|---|---|---|---|---|---|---|---|---|---|\n",
       "| 0.9810653 | 0.9802763 | 6300694 | 1243.514 | 4.510314e-42 | 2 | -869.2846 | 1746.569 | 1754.297 | 1.90554e+15 | 48 | 51 |\n",
       "\n"
      ],
      "text/plain": [
       "      r.squared adj.r.squared sigma   statistic p.value      df logLik   \n",
       "value 0.9810653 0.9802763     6300694 1243.514  4.510314e-42 2  -869.2846\n",
       "      AIC      BIC      deviance    df.residual nobs\n",
       "value 1746.569 1754.297 1.90554e+15 48          51  "
      ]
     },
     "metadata": {},
     "output_type": "display_data"
    }
   ],
   "source": [
    "model2 <- lm(output~ labor + capital, data = df)\n",
    "tidy(model2)\n",
    "glance(model2)"
   ]
  },
  {
   "cell_type": "code",
   "execution_count": 10,
   "id": "444560ff-7419-4505-a8af-23c2061c2e24",
   "metadata": {},
   "outputs": [
    {
     "data": {
      "text/html": [
       "<style>\n",
       ".list-inline {list-style: none; margin:0; padding: 0}\n",
       ".list-inline>li {display: inline-block}\n",
       ".list-inline>li:not(:last-child)::after {content: \"\\00b7\"; padding: 0 .5ex}\n",
       "</style>\n",
       "<ol class=list-inline><li>233621.609858679</li><li>47.987358368403</li><li>9.95189072306451</li></ol>\n"
      ],
      "text/latex": [
       "\\begin{enumerate*}\n",
       "\\item 233621.609858679\n",
       "\\item 47.987358368403\n",
       "\\item 9.95189072306451\n",
       "\\end{enumerate*}\n"
      ],
      "text/markdown": [
       "1. 233621.609858679\n",
       "2. 47.987358368403\n",
       "3. 9.95189072306451\n",
       "\n",
       "\n"
      ],
      "text/plain": [
       "[1] 2.336216e+05 4.798736e+01 9.951891e+00"
      ]
     },
     "metadata": {},
     "output_type": "display_data"
    },
    {
     "data": {
      "text/html": [
       "<style>\n",
       ".list-inline {list-style: none; margin:0; padding: 0}\n",
       ".list-inline>li {display: inline-block}\n",
       ".list-inline>li:not(:last-child)::after {content: \"\\00b7\"; padding: 0 .5ex}\n",
       "</style>\n",
       "<ol class=list-inline><li>0.852571362047071</li><li>1.49656436518791e-08</li><li>1.43302279569064e-13</li></ol>\n"
      ],
      "text/latex": [
       "\\begin{enumerate*}\n",
       "\\item 0.852571362047071\n",
       "\\item 1.49656436518791e-08\n",
       "\\item 1.43302279569064e-13\n",
       "\\end{enumerate*}\n"
      ],
      "text/markdown": [
       "1. 0.852571362047071\n",
       "2. 1.49656436518791e-08\n",
       "3. 1.43302279569064e-13\n",
       "\n",
       "\n"
      ],
      "text/plain": [
       "[1] 8.525714e-01 1.496564e-08 1.433023e-13"
      ]
     },
     "metadata": {},
     "output_type": "display_data"
    }
   ],
   "source": [
    "tidy_model2 <- tidy(model2)\n",
    "as.numeric(tidy_model2$estimate)\n",
    "as.numeric(tidy_model2$p.value)"
   ]
  },
  {
   "cell_type": "markdown",
   "id": "054a2d71-a708-4d35-b73f-633c00c63f1a",
   "metadata": {},
   "source": [
    " If labor input increases by a **unit**, the average output goes up by about 48\n",
    "**units**, holding capital constant"
   ]
  },
  {
   "cell_type": "markdown",
   "id": "1e28fced-6286-448b-9cef-19179ea322ee",
   "metadata": {},
   "source": [
    "## Linear restriction"
   ]
  },
  {
   "cell_type": "markdown",
   "id": "572945e6-695a-410c-8adb-52356f3760fd",
   "metadata": {},
   "source": [
    "$$\\beta_1 + \\beta_2 = 1$$\n",
    "$$\\beta_1 = 1 - \\beta_2  $$"
   ]
  },
  {
   "cell_type": "markdown",
   "id": "07bfbc7a-fd71-4e9d-bbba-ad7d27fb5ac1",
   "metadata": {},
   "source": [
    "### Manual calculation"
   ]
  },
  {
   "cell_type": "markdown",
   "id": "2b50bae7-2159-4ecb-b1db-9db004e2e76a",
   "metadata": {},
   "source": [
    "$$ \\ln \\text{output}_i = \\ln \\beta_0 + \\beta_1 \\ln \\text{labor}_i + \\beta_2 \\ln \\text{capital}_i + u_i $$"
   ]
  },
  {
   "cell_type": "markdown",
   "id": "94d2a73e-d793-4042-b3b0-2794c43ffcd7",
   "metadata": {},
   "source": [
    "$$ \\ln \\text{output}_i = \\ln \\beta_0 + (1- \\beta_2) \\ln \\text{labor}_i + \\beta_2 \\ln \\text{capital}_i + u_i$$"
   ]
  },
  {
   "cell_type": "markdown",
   "id": "af305d7c-b511-46c3-96db-1cee5f4d7854",
   "metadata": {},
   "source": [
    "$$\n",
    "\\ln \\text{output}_i - \\ln \\text{labor}_i = \\ln \\beta_0 + \n",
    "\\beta_2(\\ln \\text{capital}_i - \\ln \\text{labor}_i) + u_i\n",
    "$$"
   ]
  },
  {
   "cell_type": "markdown",
   "id": "be87dab2-ff2d-4396-8527-f09307821718",
   "metadata": {},
   "source": [
    "$$\\ln \\left (\\frac{\\text{output}_i}{\\text{labor}_i} \\right) = \\ln \\beta_0 + \\beta_2 \\ln \\left(\\frac{\\text{capital}_i}{\\text{labor}_i}\\right) + u_i $$"
   ]
  },
  {
   "cell_type": "markdown",
   "id": "9a1872c6-6e6c-4cb2-9518-5bed486d9080",
   "metadata": {},
   "source": [
    "$$F = \\frac{(\\text{RSS}_{R} -\\text{RSS}_{UR}) / m}{\\text{RSS}_{UR} / (n - k)} \\sim F_{m,n-k}\n",
    "$$"
   ]
  },
  {
   "cell_type": "markdown",
   "id": "2e1a6ee8-1766-4c10-92af-4b915a499eff",
   "metadata": {},
   "source": [
    "$RSS_R$= residual sum of squares from the restricted regression  \n",
    "$RSS_{UR}$= residual sum of squares from the unrestricted regression  \n",
    "$m$ = number of linear restrictions (1 here)  \n",
    "$k$ = number of parameters in the unrestricted regression (3 here) "
   ]
  },
  {
   "cell_type": "code",
   "execution_count": 11,
   "id": "e549ec08-b244-4429-95e9-e40e2438bbcb",
   "metadata": {},
   "outputs": [
    {
     "data": {
      "text/html": [
       "<table class=\"dataframe\">\n",
       "<caption>A tibble: 2 × 5</caption>\n",
       "<thead>\n",
       "\t<tr><th scope=col>term</th><th scope=col>estimate</th><th scope=col>std.error</th><th scope=col>statistic</th><th scope=col>p.value</th></tr>\n",
       "\t<tr><th scope=col>&lt;chr&gt;</th><th scope=col>&lt;dbl&gt;</th><th scope=col>&lt;dbl&gt;</th><th scope=col>&lt;dbl&gt;</th><th scope=col>&lt;dbl&gt;</th></tr>\n",
       "</thead>\n",
       "<tbody>\n",
       "\t<tr><td>(Intercept)       </td><td>3.7562419</td><td>0.18536786</td><td>20.263717</td><td>1.816211e-25</td></tr>\n",
       "\t<tr><td>log(capital/labor)</td><td>0.5237564</td><td>0.09581225</td><td> 5.466487</td><td>1.535206e-06</td></tr>\n",
       "</tbody>\n",
       "</table>\n"
      ],
      "text/latex": [
       "A tibble: 2 × 5\n",
       "\\begin{tabular}{lllll}\n",
       " term & estimate & std.error & statistic & p.value\\\\\n",
       " <chr> & <dbl> & <dbl> & <dbl> & <dbl>\\\\\n",
       "\\hline\n",
       "\t (Intercept)        & 3.7562419 & 0.18536786 & 20.263717 & 1.816211e-25\\\\\n",
       "\t log(capital/labor) & 0.5237564 & 0.09581225 &  5.466487 & 1.535206e-06\\\\\n",
       "\\end{tabular}\n"
      ],
      "text/markdown": [
       "\n",
       "A tibble: 2 × 5\n",
       "\n",
       "| term &lt;chr&gt; | estimate &lt;dbl&gt; | std.error &lt;dbl&gt; | statistic &lt;dbl&gt; | p.value &lt;dbl&gt; |\n",
       "|---|---|---|---|---|\n",
       "| (Intercept)        | 3.7562419 | 0.18536786 | 20.263717 | 1.816211e-25 |\n",
       "| log(capital/labor) | 0.5237564 | 0.09581225 |  5.466487 | 1.535206e-06 |\n",
       "\n"
      ],
      "text/plain": [
       "  term               estimate  std.error  statistic p.value     \n",
       "1 (Intercept)        3.7562419 0.18536786 20.263717 1.816211e-25\n",
       "2 log(capital/labor) 0.5237564 0.09581225  5.466487 1.535206e-06"
      ]
     },
     "metadata": {},
     "output_type": "display_data"
    },
    {
     "data": {
      "text/html": [
       "<table class=\"dataframe\">\n",
       "<caption>A tibble: 1 × 12</caption>\n",
       "<thead>\n",
       "\t<tr><th scope=col>r.squared</th><th scope=col>adj.r.squared</th><th scope=col>sigma</th><th scope=col>statistic</th><th scope=col>p.value</th><th scope=col>df</th><th scope=col>logLik</th><th scope=col>AIC</th><th scope=col>BIC</th><th scope=col>deviance</th><th scope=col>df.residual</th><th scope=col>nobs</th></tr>\n",
       "\t<tr><th scope=col>&lt;dbl&gt;</th><th scope=col>&lt;dbl&gt;</th><th scope=col>&lt;dbl&gt;</th><th scope=col>&lt;dbl&gt;</th><th scope=col>&lt;dbl&gt;</th><th scope=col>&lt;dbl&gt;</th><th scope=col>&lt;dbl&gt;</th><th scope=col>&lt;dbl&gt;</th><th scope=col>&lt;dbl&gt;</th><th scope=col>&lt;dbl&gt;</th><th scope=col>&lt;int&gt;</th><th scope=col>&lt;int&gt;</th></tr>\n",
       "</thead>\n",
       "<tbody>\n",
       "\t<tr><td>0.3788227</td><td>0.3661456</td><td>0.2644047</td><td>29.88247</td><td>1.535206e-06</td><td>1</td><td>-3.501733</td><td>13.00347</td><td>18.79894</td><td>3.425582</td><td>49</td><td>51</td></tr>\n",
       "</tbody>\n",
       "</table>\n"
      ],
      "text/latex": [
       "A tibble: 1 × 12\n",
       "\\begin{tabular}{llllllllllll}\n",
       " r.squared & adj.r.squared & sigma & statistic & p.value & df & logLik & AIC & BIC & deviance & df.residual & nobs\\\\\n",
       " <dbl> & <dbl> & <dbl> & <dbl> & <dbl> & <dbl> & <dbl> & <dbl> & <dbl> & <dbl> & <int> & <int>\\\\\n",
       "\\hline\n",
       "\t 0.3788227 & 0.3661456 & 0.2644047 & 29.88247 & 1.535206e-06 & 1 & -3.501733 & 13.00347 & 18.79894 & 3.425582 & 49 & 51\\\\\n",
       "\\end{tabular}\n"
      ],
      "text/markdown": [
       "\n",
       "A tibble: 1 × 12\n",
       "\n",
       "| r.squared &lt;dbl&gt; | adj.r.squared &lt;dbl&gt; | sigma &lt;dbl&gt; | statistic &lt;dbl&gt; | p.value &lt;dbl&gt; | df &lt;dbl&gt; | logLik &lt;dbl&gt; | AIC &lt;dbl&gt; | BIC &lt;dbl&gt; | deviance &lt;dbl&gt; | df.residual &lt;int&gt; | nobs &lt;int&gt; |\n",
       "|---|---|---|---|---|---|---|---|---|---|---|---|\n",
       "| 0.3788227 | 0.3661456 | 0.2644047 | 29.88247 | 1.535206e-06 | 1 | -3.501733 | 13.00347 | 18.79894 | 3.425582 | 49 | 51 |\n",
       "\n"
      ],
      "text/plain": [
       "      r.squared adj.r.squared sigma     statistic p.value      df logLik   \n",
       "value 0.3788227 0.3661456     0.2644047 29.88247  1.535206e-06 1  -3.501733\n",
       "      AIC      BIC      deviance df.residual nobs\n",
       "value 13.00347 18.79894 3.425582 49          51  "
      ]
     },
     "metadata": {},
     "output_type": "display_data"
    }
   ],
   "source": [
    "model3 <- lm(log(output/labor) ~ log(capital/labor), data = df)\n",
    "tidy(model3)\n",
    "glance(model3)"
   ]
  },
  {
   "cell_type": "code",
   "execution_count": 12,
   "id": "04b16040-39b7-478b-83ef-fc4e98e12480",
   "metadata": {},
   "outputs": [
    {
     "data": {
      "text/plain": [
       "\n",
       "Call:\n",
       "lm(formula = log(output/labor) ~ log(capital/labor), data = df)\n",
       "\n",
       "Residuals:\n",
       "     Min       1Q   Median       3Q      Max \n",
       "-0.43644 -0.12465 -0.05083  0.04356  1.23075 \n",
       "\n",
       "Coefficients:\n",
       "                   Estimate Std. Error t value Pr(>|t|)    \n",
       "(Intercept)         3.75624    0.18537  20.264  < 2e-16 ***\n",
       "log(capital/labor)  0.52376    0.09581   5.466 1.54e-06 ***\n",
       "---\n",
       "Signif. codes:  0 '***' 0.001 '**' 0.01 '*' 0.05 '.' 0.1 ' ' 1\n",
       "\n",
       "Residual standard error: 0.2644 on 49 degrees of freedom\n",
       "Multiple R-squared:  0.3788,\tAdjusted R-squared:  0.3661 \n",
       "F-statistic: 29.88 on 1 and 49 DF,  p-value: 1.535e-06\n"
      ]
     },
     "metadata": {},
     "output_type": "display_data"
    }
   ],
   "source": [
    "summary(model3)"
   ]
  },
  {
   "cell_type": "code",
   "execution_count": 13,
   "id": "c1642e1a-b1f0-490b-9f20-7813020be5e8",
   "metadata": {},
   "outputs": [
    {
     "data": {
      "text/html": [
       "<table class=\"dataframe\">\n",
       "<caption>A anova: 3 × 5</caption>\n",
       "<thead>\n",
       "\t<tr><th></th><th scope=col>Df</th><th scope=col>Sum Sq</th><th scope=col>Mean Sq</th><th scope=col>F value</th><th scope=col>Pr(&gt;F)</th></tr>\n",
       "\t<tr><th></th><th scope=col>&lt;int&gt;</th><th scope=col>&lt;dbl&gt;</th><th scope=col>&lt;dbl&gt;</th><th scope=col>&lt;dbl&gt;</th><th scope=col>&lt;dbl&gt;</th></tr>\n",
       "</thead>\n",
       "<tbody>\n",
       "\t<tr><th scope=row>lnlabor</th><td> 1</td><td>89.864812</td><td>89.86481250</td><td>1262.91571</td><td>3.933902e-36</td></tr>\n",
       "\t<tr><th scope=row>lncapital</th><td> 1</td><td> 2.059801</td><td> 2.05980082</td><td>  28.94742</td><td>2.183108e-06</td></tr>\n",
       "\t<tr><th scope=row>Residuals</th><td>48</td><td> 3.415518</td><td> 0.07115662</td><td>        NA</td><td>          NA</td></tr>\n",
       "</tbody>\n",
       "</table>\n"
      ],
      "text/latex": [
       "A anova: 3 × 5\n",
       "\\begin{tabular}{r|lllll}\n",
       "  & Df & Sum Sq & Mean Sq & F value & Pr(>F)\\\\\n",
       "  & <int> & <dbl> & <dbl> & <dbl> & <dbl>\\\\\n",
       "\\hline\n",
       "\tlnlabor &  1 & 89.864812 & 89.86481250 & 1262.91571 & 3.933902e-36\\\\\n",
       "\tlncapital &  1 &  2.059801 &  2.05980082 &   28.94742 & 2.183108e-06\\\\\n",
       "\tResiduals & 48 &  3.415518 &  0.07115662 &         NA &           NA\\\\\n",
       "\\end{tabular}\n"
      ],
      "text/markdown": [
       "\n",
       "A anova: 3 × 5\n",
       "\n",
       "| <!--/--> | Df &lt;int&gt; | Sum Sq &lt;dbl&gt; | Mean Sq &lt;dbl&gt; | F value &lt;dbl&gt; | Pr(&gt;F) &lt;dbl&gt; |\n",
       "|---|---|---|---|---|---|\n",
       "| lnlabor |  1 | 89.864812 | 89.86481250 | 1262.91571 | 3.933902e-36 |\n",
       "| lncapital |  1 |  2.059801 |  2.05980082 |   28.94742 | 2.183108e-06 |\n",
       "| Residuals | 48 |  3.415518 |  0.07115662 |         NA |           NA |\n",
       "\n"
      ],
      "text/plain": [
       "          Df Sum Sq    Mean Sq     F value    Pr(>F)      \n",
       "lnlabor    1 89.864812 89.86481250 1262.91571 3.933902e-36\n",
       "lncapital  1  2.059801  2.05980082   28.94742 2.183108e-06\n",
       "Residuals 48  3.415518  0.07115662         NA           NA"
      ]
     },
     "metadata": {},
     "output_type": "display_data"
    }
   ],
   "source": [
    "anova(model)"
   ]
  },
  {
   "cell_type": "code",
   "execution_count": 85,
   "id": "b08aa86e-936f-49ce-90d5-dc5c90e6cf68",
   "metadata": {},
   "outputs": [
    {
     "data": {
      "text/html": [
       "<style>\n",
       ".list-inline {list-style: none; margin:0; padding: 0}\n",
       ".list-inline>li {display: inline-block}\n",
       ".list-inline>li:not(:last-child)::after {content: \"\\00b7\"; padding: 0 .5ex}\n",
       "</style>\n",
       "<ol class=list-inline><li>'Df'</li><li>'Sum Sq'</li><li>'Mean Sq'</li><li>'F value'</li><li>'Pr(&gt;F)'</li></ol>\n"
      ],
      "text/latex": [
       "\\begin{enumerate*}\n",
       "\\item 'Df'\n",
       "\\item 'Sum Sq'\n",
       "\\item 'Mean Sq'\n",
       "\\item 'F value'\n",
       "\\item 'Pr(>F)'\n",
       "\\end{enumerate*}\n"
      ],
      "text/markdown": [
       "1. 'Df'\n",
       "2. 'Sum Sq'\n",
       "3. 'Mean Sq'\n",
       "4. 'F value'\n",
       "5. 'Pr(&gt;F)'\n",
       "\n",
       "\n"
      ],
      "text/plain": [
       "[1] \"Df\"      \"Sum Sq\"  \"Mean Sq\" \"F value\" \"Pr(>F)\" "
      ]
     },
     "metadata": {},
     "output_type": "display_data"
    },
    {
     "data": {
      "text/html": [
       "<style>\n",
       ".list-inline {list-style: none; margin:0; padding: 0}\n",
       ".list-inline>li {display: inline-block}\n",
       ".list-inline>li:not(:last-child)::after {content: \"\\00b7\"; padding: 0 .5ex}\n",
       "</style>\n",
       "<ol class=list-inline><li>'lnlabor'</li><li>'lncapital'</li><li>'Residuals'</li></ol>\n"
      ],
      "text/latex": [
       "\\begin{enumerate*}\n",
       "\\item 'lnlabor'\n",
       "\\item 'lncapital'\n",
       "\\item 'Residuals'\n",
       "\\end{enumerate*}\n"
      ],
      "text/markdown": [
       "1. 'lnlabor'\n",
       "2. 'lncapital'\n",
       "3. 'Residuals'\n",
       "\n",
       "\n"
      ],
      "text/plain": [
       "[1] \"lnlabor\"   \"lncapital\" \"Residuals\""
      ]
     },
     "metadata": {},
     "output_type": "display_data"
    }
   ],
   "source": [
    "colnames(anova(model))\n",
    "rownames(anova(model))"
   ]
  },
  {
   "cell_type": "code",
   "execution_count": 15,
   "id": "ac3f394b-ebaa-446d-ae25-3409d4e89535",
   "metadata": {},
   "outputs": [
    {
     "data": {
      "text/html": [
       "3.41551772437328"
      ],
      "text/latex": [
       "3.41551772437328"
      ],
      "text/markdown": [
       "3.41551772437328"
      ],
      "text/plain": [
       "[1] 3.415518"
      ]
     },
     "metadata": {},
     "output_type": "display_data"
    },
    {
     "data": {
      "text/html": [
       "48"
      ],
      "text/latex": [
       "48"
      ],
      "text/markdown": [
       "48"
      ],
      "text/plain": [
       "[1] 48"
      ]
     },
     "metadata": {},
     "output_type": "display_data"
    }
   ],
   "source": [
    "(RSSur <- anova(model)[\"Residuals\",\"Sum Sq\"])\n",
    "(DFur <-anova(model)[\"Residuals\",\"Df\"])"
   ]
  },
  {
   "cell_type": "code",
   "execution_count": 16,
   "id": "9cd3c23e-015f-47a5-a880-440f6c2e3132",
   "metadata": {
    "scrolled": true
   },
   "outputs": [
    {
     "data": {
      "text/html": [
       "<table class=\"dataframe\">\n",
       "<caption>A anova: 2 × 5</caption>\n",
       "<thead>\n",
       "\t<tr><th></th><th scope=col>Df</th><th scope=col>Sum Sq</th><th scope=col>Mean Sq</th><th scope=col>F value</th><th scope=col>Pr(&gt;F)</th></tr>\n",
       "\t<tr><th></th><th scope=col>&lt;int&gt;</th><th scope=col>&lt;dbl&gt;</th><th scope=col>&lt;dbl&gt;</th><th scope=col>&lt;dbl&gt;</th><th scope=col>&lt;dbl&gt;</th></tr>\n",
       "</thead>\n",
       "<tbody>\n",
       "\t<tr><th scope=row>log(capital/labor)</th><td> 1</td><td>2.089079</td><td>2.08907903</td><td>29.88247</td><td>1.535206e-06</td></tr>\n",
       "\t<tr><th scope=row>Residuals</th><td>49</td><td>3.425582</td><td>0.06990984</td><td>      NA</td><td>          NA</td></tr>\n",
       "</tbody>\n",
       "</table>\n"
      ],
      "text/latex": [
       "A anova: 2 × 5\n",
       "\\begin{tabular}{r|lllll}\n",
       "  & Df & Sum Sq & Mean Sq & F value & Pr(>F)\\\\\n",
       "  & <int> & <dbl> & <dbl> & <dbl> & <dbl>\\\\\n",
       "\\hline\n",
       "\tlog(capital/labor) &  1 & 2.089079 & 2.08907903 & 29.88247 & 1.535206e-06\\\\\n",
       "\tResiduals & 49 & 3.425582 & 0.06990984 &       NA &           NA\\\\\n",
       "\\end{tabular}\n"
      ],
      "text/markdown": [
       "\n",
       "A anova: 2 × 5\n",
       "\n",
       "| <!--/--> | Df &lt;int&gt; | Sum Sq &lt;dbl&gt; | Mean Sq &lt;dbl&gt; | F value &lt;dbl&gt; | Pr(&gt;F) &lt;dbl&gt; |\n",
       "|---|---|---|---|---|---|\n",
       "| log(capital/labor) |  1 | 2.089079 | 2.08907903 | 29.88247 | 1.535206e-06 |\n",
       "| Residuals | 49 | 3.425582 | 0.06990984 |       NA |           NA |\n",
       "\n"
      ],
      "text/plain": [
       "                   Df Sum Sq   Mean Sq    F value  Pr(>F)      \n",
       "log(capital/labor)  1 2.089079 2.08907903 29.88247 1.535206e-06\n",
       "Residuals          49 3.425582 0.06990984       NA           NA"
      ]
     },
     "metadata": {},
     "output_type": "display_data"
    },
    {
     "data": {
      "text/html": [
       "3.42558215188511"
      ],
      "text/latex": [
       "3.42558215188511"
      ],
      "text/markdown": [
       "3.42558215188511"
      ],
      "text/plain": [
       "[1] 3.425582"
      ]
     },
     "metadata": {},
     "output_type": "display_data"
    }
   ],
   "source": [
    "anova(model3)\n",
    "(RSSr <- anova(model3)[\"Residuals\",\"Sum Sq\"])"
   ]
  },
  {
   "cell_type": "code",
   "execution_count": 17,
   "id": "c32ad1e1-92a7-4536-9992-c4b02ff4680d",
   "metadata": {},
   "outputs": [
    {
     "data": {
      "text/html": [
       "0.141440495864081"
      ],
      "text/latex": [
       "0.141440495864081"
      ],
      "text/markdown": [
       "0.141440495864081"
      ],
      "text/plain": [
       "[1] 0.1414405"
      ]
     },
     "metadata": {},
     "output_type": "display_data"
    }
   ],
   "source": [
    "(f = ((RSSr-RSSur)/1)/(RSSur/(DFur)))"
   ]
  },
  {
   "cell_type": "code",
   "execution_count": 81,
   "id": "75ee6c6b-ace3-4e8f-b864-850d334c26c0",
   "metadata": {},
   "outputs": [
    {
     "data": {
      "text/html": [
       "0.7085103234663"
      ],
      "text/latex": [
       "0.7085103234663"
      ],
      "text/markdown": [
       "0.7085103234663"
      ],
      "text/plain": [
       "[1] 0.7085103"
      ]
     },
     "metadata": {},
     "output_type": "display_data"
    }
   ],
   "source": [
    "(p_value <- pf(f, 1, DFur, lower.tail = FALSE))"
   ]
  },
  {
   "cell_type": "markdown",
   "id": "3e9bbe3f-eb3b-44d4-94f5-e91cc250613b",
   "metadata": {},
   "source": [
    "**conclusion**: The restirction was correct, can use restricted model"
   ]
  },
  {
   "cell_type": "markdown",
   "id": "d29c65c6-e333-414c-9326-41e47de85d54",
   "metadata": {},
   "source": [
    "### using car package"
   ]
  },
  {
   "cell_type": "code",
   "execution_count": 88,
   "id": "15f4c5cb-4075-44b6-9272-50aae63c4d23",
   "metadata": {},
   "outputs": [
    {
     "data": {
      "text/html": [
       "<table class=\"dataframe\">\n",
       "<caption>A anova: 2 × 6</caption>\n",
       "<thead>\n",
       "\t<tr><th></th><th scope=col>Res.Df</th><th scope=col>RSS</th><th scope=col>Df</th><th scope=col>Sum of Sq</th><th scope=col>F</th><th scope=col>Pr(&gt;F)</th></tr>\n",
       "\t<tr><th></th><th scope=col>&lt;dbl&gt;</th><th scope=col>&lt;dbl&gt;</th><th scope=col>&lt;dbl&gt;</th><th scope=col>&lt;dbl&gt;</th><th scope=col>&lt;dbl&gt;</th><th scope=col>&lt;dbl&gt;</th></tr>\n",
       "</thead>\n",
       "<tbody>\n",
       "\t<tr><th scope=row>1</th><td>49</td><td>3.425582</td><td>NA</td><td>        NA</td><td>       NA</td><td>       NA</td></tr>\n",
       "\t<tr><th scope=row>2</th><td>48</td><td>3.415520</td><td> 1</td><td>0.01006201</td><td>0.1414065</td><td>0.7085437</td></tr>\n",
       "</tbody>\n",
       "</table>\n"
      ],
      "text/latex": [
       "A anova: 2 × 6\n",
       "\\begin{tabular}{r|llllll}\n",
       "  & Res.Df & RSS & Df & Sum of Sq & F & Pr(>F)\\\\\n",
       "  & <dbl> & <dbl> & <dbl> & <dbl> & <dbl> & <dbl>\\\\\n",
       "\\hline\n",
       "\t1 & 49 & 3.425582 & NA &         NA &        NA &        NA\\\\\n",
       "\t2 & 48 & 3.415520 &  1 & 0.01006201 & 0.1414065 & 0.7085437\\\\\n",
       "\\end{tabular}\n"
      ],
      "text/markdown": [
       "\n",
       "A anova: 2 × 6\n",
       "\n",
       "| <!--/--> | Res.Df &lt;dbl&gt; | RSS &lt;dbl&gt; | Df &lt;dbl&gt; | Sum of Sq &lt;dbl&gt; | F &lt;dbl&gt; | Pr(&gt;F) &lt;dbl&gt; |\n",
       "|---|---|---|---|---|---|---|\n",
       "| 1 | 49 | 3.425582 | NA |         NA |        NA |        NA |\n",
       "| 2 | 48 | 3.415520 |  1 | 0.01006201 | 0.1414065 | 0.7085437 |\n",
       "\n"
      ],
      "text/plain": [
       "  Res.Df RSS      Df Sum of Sq  F         Pr(>F)   \n",
       "1 49     3.425582 NA         NA        NA        NA\n",
       "2 48     3.415520  1 0.01006201 0.1414065 0.7085437"
      ]
     },
     "metadata": {},
     "output_type": "display_data"
    }
   ],
   "source": [
    "unrestricted_model <- lm(log(output) ~ log(labor) + log(capital), data = df)\n",
    "hypothesis <- \"log(labor) + log(capital) = 1\"\n",
    "\n",
    "(test_result <- linearHypothesis(unrestricted_model, hypothesis))\n"
   ]
  },
  {
   "cell_type": "markdown",
   "id": "3630d586-73be-4a4d-b49f-2e0a98841c55",
   "metadata": {},
   "source": [
    "## Log-lin model (growth model)"
   ]
  },
  {
   "cell_type": "markdown",
   "id": "bbac8199-03d4-4a4d-a485-a059014842a4",
   "metadata": {},
   "source": [
    "$$\n",
    "\\text{RGDP}_t = \\text{RGDP}_{1960}(1+r)^t\n",
    "$$"
   ]
  },
  {
   "cell_type": "markdown",
   "id": "acbcee57-af52-4427-85a7-f1bf2f518bfc",
   "metadata": {},
   "source": [
    "$$\n",
    "\\ln \\text{RGDP}_t = \\ln \\text{RGDP}_{1960}+ t \\ln(1+r)\n",
    "$$"
   ]
  },
  {
   "cell_type": "markdown",
   "id": "1089ace3-b6e7-46ed-870f-41d959f9b352",
   "metadata": {},
   "source": [
    "$$\n",
    "\\ln \\text{RGDP}_t = \\beta_0 + \\beta_1t + u_t\n",
    "$$"
   ]
  },
  {
   "cell_type": "code",
   "execution_count": 19,
   "id": "3f9170c0-f6a6-4a3c-8c3c-b604f15b06d6",
   "metadata": {},
   "outputs": [
    {
     "data": {
      "text/html": [
       "<table class=\"dataframe\">\n",
       "<caption>A tibble: 3 × 4</caption>\n",
       "<thead>\n",
       "\t<tr><th scope=col>rgdp</th><th scope=col>time</th><th scope=col>time2</th><th scope=col>lnrgdp</th></tr>\n",
       "\t<tr><th scope=col>&lt;dbl&gt;</th><th scope=col>&lt;dbl&gt;</th><th scope=col>&lt;dbl&gt;</th><th scope=col>&lt;dbl&gt;</th></tr>\n",
       "</thead>\n",
       "<tbody>\n",
       "\t<tr><td>2501.8</td><td>1</td><td>1</td><td>7.824766</td></tr>\n",
       "\t<tr><td>2560.0</td><td>2</td><td>4</td><td>7.847763</td></tr>\n",
       "\t<tr><td>2715.2</td><td>3</td><td>9</td><td>7.906621</td></tr>\n",
       "</tbody>\n",
       "</table>\n"
      ],
      "text/latex": [
       "A tibble: 3 × 4\n",
       "\\begin{tabular}{llll}\n",
       " rgdp & time & time2 & lnrgdp\\\\\n",
       " <dbl> & <dbl> & <dbl> & <dbl>\\\\\n",
       "\\hline\n",
       "\t 2501.8 & 1 & 1 & 7.824766\\\\\n",
       "\t 2560.0 & 2 & 4 & 7.847763\\\\\n",
       "\t 2715.2 & 3 & 9 & 7.906621\\\\\n",
       "\\end{tabular}\n"
      ],
      "text/markdown": [
       "\n",
       "A tibble: 3 × 4\n",
       "\n",
       "| rgdp &lt;dbl&gt; | time &lt;dbl&gt; | time2 &lt;dbl&gt; | lnrgdp &lt;dbl&gt; |\n",
       "|---|---|---|---|\n",
       "| 2501.8 | 1 | 1 | 7.824766 |\n",
       "| 2560.0 | 2 | 4 | 7.847763 |\n",
       "| 2715.2 | 3 | 9 | 7.906621 |\n",
       "\n"
      ],
      "text/plain": [
       "  rgdp   time time2 lnrgdp  \n",
       "1 2501.8 1    1     7.824766\n",
       "2 2560.0 2    4     7.847763\n",
       "3 2715.2 3    9     7.906621"
      ]
     },
     "metadata": {},
     "output_type": "display_data"
    },
    {
     "data": {
      "text/html": [
       "<table class=\"dataframe\">\n",
       "<caption>A tibble: 3 × 4</caption>\n",
       "<thead>\n",
       "\t<tr><th scope=col>rgdp</th><th scope=col>time</th><th scope=col>time2</th><th scope=col>lnrgdp</th></tr>\n",
       "\t<tr><th scope=col>&lt;dbl&gt;</th><th scope=col>&lt;dbl&gt;</th><th scope=col>&lt;dbl&gt;</th><th scope=col>&lt;dbl&gt;</th></tr>\n",
       "</thead>\n",
       "<tbody>\n",
       "\t<tr><td>10989.5</td><td>46</td><td>2116</td><td>9.304695</td></tr>\n",
       "\t<tr><td>11294.8</td><td>47</td><td>2209</td><td>9.332098</td></tr>\n",
       "\t<tr><td>11523.9</td><td>48</td><td>2304</td><td>9.352179</td></tr>\n",
       "</tbody>\n",
       "</table>\n"
      ],
      "text/latex": [
       "A tibble: 3 × 4\n",
       "\\begin{tabular}{llll}\n",
       " rgdp & time & time2 & lnrgdp\\\\\n",
       " <dbl> & <dbl> & <dbl> & <dbl>\\\\\n",
       "\\hline\n",
       "\t 10989.5 & 46 & 2116 & 9.304695\\\\\n",
       "\t 11294.8 & 47 & 2209 & 9.332098\\\\\n",
       "\t 11523.9 & 48 & 2304 & 9.352179\\\\\n",
       "\\end{tabular}\n"
      ],
      "text/markdown": [
       "\n",
       "A tibble: 3 × 4\n",
       "\n",
       "| rgdp &lt;dbl&gt; | time &lt;dbl&gt; | time2 &lt;dbl&gt; | lnrgdp &lt;dbl&gt; |\n",
       "|---|---|---|---|\n",
       "| 10989.5 | 46 | 2116 | 9.304695 |\n",
       "| 11294.8 | 47 | 2209 | 9.332098 |\n",
       "| 11523.9 | 48 | 2304 | 9.352179 |\n",
       "\n"
      ],
      "text/plain": [
       "  rgdp    time time2 lnrgdp  \n",
       "1 10989.5 46   2116  9.304695\n",
       "2 11294.8 47   2209  9.332098\n",
       "3 11523.9 48   2304  9.352179"
      ]
     },
     "metadata": {},
     "output_type": "display_data"
    }
   ],
   "source": [
    "df2 <- read_excel(\"G:/Datasets/Econometrics BY Example/Excel/Table2_5.xls\")\n",
    "head(df2,3)\n",
    "tail(df2,3)"
   ]
  },
  {
   "cell_type": "markdown",
   "id": "409fd7dc-1ce9-41f8-97d4-8dda19ec102d",
   "metadata": {},
   "source": [
    "Data shows Real GDP for USA for 1960-2007"
   ]
  },
  {
   "cell_type": "code",
   "execution_count": 20,
   "id": "067293cc-0dc0-4a81-bfca-809454577bcd",
   "metadata": {},
   "outputs": [
    {
     "data": {
      "text/html": [
       "<table class=\"dataframe\">\n",
       "<caption>A tibble: 2 × 5</caption>\n",
       "<thead>\n",
       "\t<tr><th scope=col>term</th><th scope=col>estimate</th><th scope=col>std.error</th><th scope=col>statistic</th><th scope=col>p.value</th></tr>\n",
       "\t<tr><th scope=col>&lt;chr&gt;</th><th scope=col>&lt;dbl&gt;</th><th scope=col>&lt;dbl&gt;</th><th scope=col>&lt;dbl&gt;</th><th scope=col>&lt;dbl&gt;</th></tr>\n",
       "</thead>\n",
       "<tbody>\n",
       "\t<tr><td>(Intercept)</td><td>7.87566236</td><td>0.0097591072</td><td>807.00644</td><td>3.931863e-97</td></tr>\n",
       "\t<tr><td>time       </td><td>0.03148955</td><td>0.0003467383</td><td> 90.81649</td><td>1.519344e-53</td></tr>\n",
       "</tbody>\n",
       "</table>\n"
      ],
      "text/latex": [
       "A tibble: 2 × 5\n",
       "\\begin{tabular}{lllll}\n",
       " term & estimate & std.error & statistic & p.value\\\\\n",
       " <chr> & <dbl> & <dbl> & <dbl> & <dbl>\\\\\n",
       "\\hline\n",
       "\t (Intercept) & 7.87566236 & 0.0097591072 & 807.00644 & 3.931863e-97\\\\\n",
       "\t time        & 0.03148955 & 0.0003467383 &  90.81649 & 1.519344e-53\\\\\n",
       "\\end{tabular}\n"
      ],
      "text/markdown": [
       "\n",
       "A tibble: 2 × 5\n",
       "\n",
       "| term &lt;chr&gt; | estimate &lt;dbl&gt; | std.error &lt;dbl&gt; | statistic &lt;dbl&gt; | p.value &lt;dbl&gt; |\n",
       "|---|---|---|---|---|\n",
       "| (Intercept) | 7.87566236 | 0.0097591072 | 807.00644 | 3.931863e-97 |\n",
       "| time        | 0.03148955 | 0.0003467383 |  90.81649 | 1.519344e-53 |\n",
       "\n"
      ],
      "text/plain": [
       "  term        estimate   std.error    statistic p.value     \n",
       "1 (Intercept) 7.87566236 0.0097591072 807.00644 3.931863e-97\n",
       "2 time        0.03148955 0.0003467383  90.81649 1.519344e-53"
      ]
     },
     "metadata": {},
     "output_type": "display_data"
    },
    {
     "data": {
      "text/html": [
       "<table class=\"dataframe\">\n",
       "<caption>A tibble: 1 × 12</caption>\n",
       "<thead>\n",
       "\t<tr><th scope=col>r.squared</th><th scope=col>adj.r.squared</th><th scope=col>sigma</th><th scope=col>statistic</th><th scope=col>p.value</th><th scope=col>df</th><th scope=col>logLik</th><th scope=col>AIC</th><th scope=col>BIC</th><th scope=col>deviance</th><th scope=col>df.residual</th><th scope=col>nobs</th></tr>\n",
       "\t<tr><th scope=col>&lt;dbl&gt;</th><th scope=col>&lt;dbl&gt;</th><th scope=col>&lt;dbl&gt;</th><th scope=col>&lt;dbl&gt;</th><th scope=col>&lt;dbl&gt;</th><th scope=col>&lt;dbl&gt;</th><th scope=col>&lt;dbl&gt;</th><th scope=col>&lt;dbl&gt;</th><th scope=col>&lt;dbl&gt;</th><th scope=col>&lt;dbl&gt;</th><th scope=col>&lt;int&gt;</th><th scope=col>&lt;int&gt;</th></tr>\n",
       "</thead>\n",
       "<tbody>\n",
       "\t<tr><td>0.9944536</td><td>0.994333</td><td>0.03327965</td><td>8247.634</td><td>1.519344e-53</td><td>1</td><td>96.24722</td><td>-186.4944</td><td>-180.8808</td><td>0.05094662</td><td>46</td><td>48</td></tr>\n",
       "</tbody>\n",
       "</table>\n"
      ],
      "text/latex": [
       "A tibble: 1 × 12\n",
       "\\begin{tabular}{llllllllllll}\n",
       " r.squared & adj.r.squared & sigma & statistic & p.value & df & logLik & AIC & BIC & deviance & df.residual & nobs\\\\\n",
       " <dbl> & <dbl> & <dbl> & <dbl> & <dbl> & <dbl> & <dbl> & <dbl> & <dbl> & <dbl> & <int> & <int>\\\\\n",
       "\\hline\n",
       "\t 0.9944536 & 0.994333 & 0.03327965 & 8247.634 & 1.519344e-53 & 1 & 96.24722 & -186.4944 & -180.8808 & 0.05094662 & 46 & 48\\\\\n",
       "\\end{tabular}\n"
      ],
      "text/markdown": [
       "\n",
       "A tibble: 1 × 12\n",
       "\n",
       "| r.squared &lt;dbl&gt; | adj.r.squared &lt;dbl&gt; | sigma &lt;dbl&gt; | statistic &lt;dbl&gt; | p.value &lt;dbl&gt; | df &lt;dbl&gt; | logLik &lt;dbl&gt; | AIC &lt;dbl&gt; | BIC &lt;dbl&gt; | deviance &lt;dbl&gt; | df.residual &lt;int&gt; | nobs &lt;int&gt; |\n",
       "|---|---|---|---|---|---|---|---|---|---|---|---|\n",
       "| 0.9944536 | 0.994333 | 0.03327965 | 8247.634 | 1.519344e-53 | 1 | 96.24722 | -186.4944 | -180.8808 | 0.05094662 | 46 | 48 |\n",
       "\n"
      ],
      "text/plain": [
       "      r.squared adj.r.squared sigma      statistic p.value      df logLik  \n",
       "value 0.9944536 0.994333      0.03327965 8247.634  1.519344e-53 1  96.24722\n",
       "      AIC       BIC       deviance   df.residual nobs\n",
       "value -186.4944 -180.8808 0.05094662 46          48  "
      ]
     },
     "metadata": {},
     "output_type": "display_data"
    }
   ],
   "source": [
    "model4 <- lm(lnrgdp ~ time, data = df2)\n",
    "tidy(model4)\n",
    "glance(model4)"
   ]
  },
  {
   "cell_type": "markdown",
   "id": "803f8bcf-fa50-436a-b302-74594bfe361f",
   "metadata": {},
   "source": [
    "**Time Coefficient:** Real GDP increases at raate 3.15% per year"
   ]
  },
  {
   "cell_type": "markdown",
   "id": "3b6a13a5-a20d-4ffd-9c69-91ed64080724",
   "metadata": {},
   "source": [
    "**Intercept result:** exp(7.87) = 2632.27 is the beginning value of real GDP at the beginning of 1960"
   ]
  },
  {
   "cell_type": "markdown",
   "id": "4dde4784-0e17-45b2-a0e1-40b2543cd9e6",
   "metadata": {},
   "source": [
    "**compound interest:** $\\beta_2 = \\ln(1+r)$. r = exp($\\beta_2$)-1, r = 3.2%"
   ]
  },
  {
   "cell_type": "markdown",
   "id": "d3d06d95-6234-4e7e-97f3-1be21df6797c",
   "metadata": {},
   "source": [
    "### Compare it with linear model"
   ]
  },
  {
   "cell_type": "markdown",
   "id": "c1ae4196-5ebf-40cc-8558-abf0aaee7e2d",
   "metadata": {},
   "source": [
    "$$\n",
    "RGDP_t = \\beta_0  + \\beta_1 \\text{time} + u_t\n",
    "$$"
   ]
  },
  {
   "cell_type": "code",
   "execution_count": 21,
   "id": "23f378e1-0427-4186-adcf-b89bdf8b1c89",
   "metadata": {},
   "outputs": [
    {
     "data": {
      "text/html": [
       "<table class=\"dataframe\">\n",
       "<caption>A tibble: 2 × 5</caption>\n",
       "<thead>\n",
       "\t<tr><th scope=col>term</th><th scope=col>estimate</th><th scope=col>std.error</th><th scope=col>statistic</th><th scope=col>p.value</th></tr>\n",
       "\t<tr><th scope=col>&lt;chr&gt;</th><th scope=col>&lt;dbl&gt;</th><th scope=col>&lt;dbl&gt;</th><th scope=col>&lt;dbl&gt;</th><th scope=col>&lt;dbl&gt;</th></tr>\n",
       "</thead>\n",
       "<tbody>\n",
       "\t<tr><td>(Intercept)</td><td>1664.2176</td><td>131.998983</td><td>12.60781</td><td>1.570394e-16</td></tr>\n",
       "\t<tr><td>time       </td><td> 186.9939</td><td>  4.689886</td><td>39.87174</td><td>2.523710e-37</td></tr>\n",
       "</tbody>\n",
       "</table>\n"
      ],
      "text/latex": [
       "A tibble: 2 × 5\n",
       "\\begin{tabular}{lllll}\n",
       " term & estimate & std.error & statistic & p.value\\\\\n",
       " <chr> & <dbl> & <dbl> & <dbl> & <dbl>\\\\\n",
       "\\hline\n",
       "\t (Intercept) & 1664.2176 & 131.998983 & 12.60781 & 1.570394e-16\\\\\n",
       "\t time        &  186.9939 &   4.689886 & 39.87174 & 2.523710e-37\\\\\n",
       "\\end{tabular}\n"
      ],
      "text/markdown": [
       "\n",
       "A tibble: 2 × 5\n",
       "\n",
       "| term &lt;chr&gt; | estimate &lt;dbl&gt; | std.error &lt;dbl&gt; | statistic &lt;dbl&gt; | p.value &lt;dbl&gt; |\n",
       "|---|---|---|---|---|\n",
       "| (Intercept) | 1664.2176 | 131.998983 | 12.60781 | 1.570394e-16 |\n",
       "| time        |  186.9939 |   4.689886 | 39.87174 | 2.523710e-37 |\n",
       "\n"
      ],
      "text/plain": [
       "  term        estimate  std.error  statistic p.value     \n",
       "1 (Intercept) 1664.2176 131.998983 12.60781  1.570394e-16\n",
       "2 time         186.9939   4.689886 39.87174  2.523710e-37"
      ]
     },
     "metadata": {},
     "output_type": "display_data"
    },
    {
     "data": {
      "text/html": [
       "<table class=\"dataframe\">\n",
       "<caption>A tibble: 1 × 12</caption>\n",
       "<thead>\n",
       "\t<tr><th scope=col>r.squared</th><th scope=col>adj.r.squared</th><th scope=col>sigma</th><th scope=col>statistic</th><th scope=col>p.value</th><th scope=col>df</th><th scope=col>logLik</th><th scope=col>AIC</th><th scope=col>BIC</th><th scope=col>deviance</th><th scope=col>df.residual</th><th scope=col>nobs</th></tr>\n",
       "\t<tr><th scope=col>&lt;dbl&gt;</th><th scope=col>&lt;dbl&gt;</th><th scope=col>&lt;dbl&gt;</th><th scope=col>&lt;dbl&gt;</th><th scope=col>&lt;dbl&gt;</th><th scope=col>&lt;dbl&gt;</th><th scope=col>&lt;dbl&gt;</th><th scope=col>&lt;dbl&gt;</th><th scope=col>&lt;dbl&gt;</th><th scope=col>&lt;dbl&gt;</th><th scope=col>&lt;int&gt;</th><th scope=col>&lt;int&gt;</th></tr>\n",
       "</thead>\n",
       "<tbody>\n",
       "\t<tr><td>0.9718784</td><td>0.9712671</td><td>450.1314</td><td>1589.756</td><td>2.52371e-37</td><td>1</td><td>-360.3455</td><td>726.691</td><td>732.3046</td><td>9320439</td><td>46</td><td>48</td></tr>\n",
       "</tbody>\n",
       "</table>\n"
      ],
      "text/latex": [
       "A tibble: 1 × 12\n",
       "\\begin{tabular}{llllllllllll}\n",
       " r.squared & adj.r.squared & sigma & statistic & p.value & df & logLik & AIC & BIC & deviance & df.residual & nobs\\\\\n",
       " <dbl> & <dbl> & <dbl> & <dbl> & <dbl> & <dbl> & <dbl> & <dbl> & <dbl> & <dbl> & <int> & <int>\\\\\n",
       "\\hline\n",
       "\t 0.9718784 & 0.9712671 & 450.1314 & 1589.756 & 2.52371e-37 & 1 & -360.3455 & 726.691 & 732.3046 & 9320439 & 46 & 48\\\\\n",
       "\\end{tabular}\n"
      ],
      "text/markdown": [
       "\n",
       "A tibble: 1 × 12\n",
       "\n",
       "| r.squared &lt;dbl&gt; | adj.r.squared &lt;dbl&gt; | sigma &lt;dbl&gt; | statistic &lt;dbl&gt; | p.value &lt;dbl&gt; | df &lt;dbl&gt; | logLik &lt;dbl&gt; | AIC &lt;dbl&gt; | BIC &lt;dbl&gt; | deviance &lt;dbl&gt; | df.residual &lt;int&gt; | nobs &lt;int&gt; |\n",
       "|---|---|---|---|---|---|---|---|---|---|---|---|\n",
       "| 0.9718784 | 0.9712671 | 450.1314 | 1589.756 | 2.52371e-37 | 1 | -360.3455 | 726.691 | 732.3046 | 9320439 | 46 | 48 |\n",
       "\n"
      ],
      "text/plain": [
       "      r.squared adj.r.squared sigma    statistic p.value     df logLik   \n",
       "value 0.9718784 0.9712671     450.1314 1589.756  2.52371e-37 1  -360.3455\n",
       "      AIC     BIC      deviance df.residual nobs\n",
       "value 726.691 732.3046 9320439  46          48  "
      ]
     },
     "metadata": {},
     "output_type": "display_data"
    }
   ],
   "source": [
    "model5 <- lm(rgdp ~ time, data = df2)\n",
    "tidy(model5)\n",
    "glance(model5)"
   ]
  },
  {
   "cell_type": "markdown",
   "id": "e672d54a-cd83-45db-8372-c4b1fcfdccdd",
   "metadata": {},
   "source": [
    "**Time coefficient:** real gdp increases by $187 billion per year showing positive trend"
   ]
  },
  {
   "cell_type": "code",
   "execution_count": 22,
   "id": "3a4f2f2b-4ca7-43be-8714-b162659fd814",
   "metadata": {},
   "outputs": [],
   "source": [
    "df2$residuals <- residuals(model5)\n",
    "df2$fitted_values <- fitted(model5)"
   ]
  },
  {
   "cell_type": "code",
   "execution_count": 23,
   "id": "6ff371cd-edda-47ce-bf06-e13c51022aef",
   "metadata": {},
   "outputs": [
    {
     "data": {
      "image/png": "[encoded data removed]",
      "text/plain": [
       "plot without title"
      ]
     },
     "metadata": {
      "image/png": {
       "height": 420,
       "width": 420
      }
     },
     "output_type": "display_data"
    }
   ],
   "source": [
    "ggplot(df2, aes(x = time, y = rgdp)) +\n",
    "  geom_point() +\n",
    "  labs(title = \"dependent vs independent Plot\",\n",
    "       x = \"time\",\n",
    "       y = \"real gdp\") +\n",
    "  theme_minimal()"
   ]
  },
  {
   "cell_type": "markdown",
   "id": "b69343c8-2137-4bf8-a256-f7ad398d0e65",
   "metadata": {},
   "source": [
    "## Lin-LOg model"
   ]
  },
  {
   "cell_type": "markdown",
   "id": "79421f78-858f-40c4-bac1-23779720ce31",
   "metadata": {},
   "source": [
    "$$\n",
    "Y_i = \\beta_0 + \\beta_1 \\ln X_i + u_i\n",
    "$$"
   ]
  },
  {
   "cell_type": "code",
   "execution_count": 24,
   "id": "f72e9945-02b5-4c7c-9d82-33ca2dea5003",
   "metadata": {},
   "outputs": [
    {
     "data": {
      "text/html": [
       "<table class=\"dataframe\">\n",
       "<caption>A tibble: 3 × 6</caption>\n",
       "<thead>\n",
       "\t<tr><th scope=col>fdho</th><th scope=col>expend</th><th scope=col>sfdho</th><th scope=col>lnexpend</th><th scope=col>expend_rec</th><th scope=col>expend2</th></tr>\n",
       "\t<tr><th scope=col>&lt;dbl&gt;</th><th scope=col>&lt;dbl&gt;</th><th scope=col>&lt;dbl&gt;</th><th scope=col>&lt;dbl&gt;</th><th scope=col>&lt;dbl&gt;</th><th scope=col>&lt;dbl&gt;</th></tr>\n",
       "</thead>\n",
       "<tbody>\n",
       "\t<tr><td>6475</td><td>40516.75</td><td>0.15981045</td><td>10.609470</td><td>2.468115e-05</td><td>1641607040</td></tr>\n",
       "\t<tr><td>3146</td><td>33540.50</td><td>0.09379705</td><td>10.420509</td><td>2.981470e-05</td><td>1124965120</td></tr>\n",
       "\t<tr><td>1632</td><td> 5181.85</td><td>0.31494543</td><td> 8.552917</td><td>1.929813e-04</td><td>  26851570</td></tr>\n",
       "</tbody>\n",
       "</table>\n"
      ],
      "text/latex": [
       "A tibble: 3 × 6\n",
       "\\begin{tabular}{llllll}\n",
       " fdho & expend & sfdho & lnexpend & expend\\_rec & expend2\\\\\n",
       " <dbl> & <dbl> & <dbl> & <dbl> & <dbl> & <dbl>\\\\\n",
       "\\hline\n",
       "\t 6475 & 40516.75 & 0.15981045 & 10.609470 & 2.468115e-05 & 1641607040\\\\\n",
       "\t 3146 & 33540.50 & 0.09379705 & 10.420509 & 2.981470e-05 & 1124965120\\\\\n",
       "\t 1632 &  5181.85 & 0.31494543 &  8.552917 & 1.929813e-04 &   26851570\\\\\n",
       "\\end{tabular}\n"
      ],
      "text/markdown": [
       "\n",
       "A tibble: 3 × 6\n",
       "\n",
       "| fdho &lt;dbl&gt; | expend &lt;dbl&gt; | sfdho &lt;dbl&gt; | lnexpend &lt;dbl&gt; | expend_rec &lt;dbl&gt; | expend2 &lt;dbl&gt; |\n",
       "|---|---|---|---|---|---|\n",
       "| 6475 | 40516.75 | 0.15981045 | 10.609470 | 2.468115e-05 | 1641607040 |\n",
       "| 3146 | 33540.50 | 0.09379705 | 10.420509 | 2.981470e-05 | 1124965120 |\n",
       "| 1632 |  5181.85 | 0.31494543 |  8.552917 | 1.929813e-04 |   26851570 |\n",
       "\n"
      ],
      "text/plain": [
       "  fdho expend   sfdho      lnexpend  expend_rec   expend2   \n",
       "1 6475 40516.75 0.15981045 10.609470 2.468115e-05 1641607040\n",
       "2 3146 33540.50 0.09379705 10.420509 2.981470e-05 1124965120\n",
       "3 1632  5181.85 0.31494543  8.552917 1.929813e-04   26851570"
      ]
     },
     "metadata": {},
     "output_type": "display_data"
    },
    {
     "data": {
      "text/html": [
       "<table class=\"dataframe\">\n",
       "<caption>A tibble: 3 × 6</caption>\n",
       "<thead>\n",
       "\t<tr><th scope=col>fdho</th><th scope=col>expend</th><th scope=col>sfdho</th><th scope=col>lnexpend</th><th scope=col>expend_rec</th><th scope=col>expend2</th></tr>\n",
       "\t<tr><th scope=col>&lt;dbl&gt;</th><th scope=col>&lt;dbl&gt;</th><th scope=col>&lt;dbl&gt;</th><th scope=col>&lt;dbl&gt;</th><th scope=col>&lt;dbl&gt;</th><th scope=col>&lt;dbl&gt;</th></tr>\n",
       "</thead>\n",
       "<tbody>\n",
       "\t<tr><td>5811</td><td>31922.20</td><td>0.1820363</td><td>10.371057</td><td>3.132616e-05</td><td>1019026816</td></tr>\n",
       "\t<tr><td>4594</td><td>25357.25</td><td>0.1811711</td><td>10.140820</td><td>3.943645e-05</td><td> 642990144</td></tr>\n",
       "\t<tr><td>2108</td><td> 7313.60</td><td>0.2882302</td><td> 8.897491</td><td>1.367316e-04</td><td>  53488748</td></tr>\n",
       "</tbody>\n",
       "</table>\n"
      ],
      "text/latex": [
       "A tibble: 3 × 6\n",
       "\\begin{tabular}{llllll}\n",
       " fdho & expend & sfdho & lnexpend & expend\\_rec & expend2\\\\\n",
       " <dbl> & <dbl> & <dbl> & <dbl> & <dbl> & <dbl>\\\\\n",
       "\\hline\n",
       "\t 5811 & 31922.20 & 0.1820363 & 10.371057 & 3.132616e-05 & 1019026816\\\\\n",
       "\t 4594 & 25357.25 & 0.1811711 & 10.140820 & 3.943645e-05 &  642990144\\\\\n",
       "\t 2108 &  7313.60 & 0.2882302 &  8.897491 & 1.367316e-04 &   53488748\\\\\n",
       "\\end{tabular}\n"
      ],
      "text/markdown": [
       "\n",
       "A tibble: 3 × 6\n",
       "\n",
       "| fdho &lt;dbl&gt; | expend &lt;dbl&gt; | sfdho &lt;dbl&gt; | lnexpend &lt;dbl&gt; | expend_rec &lt;dbl&gt; | expend2 &lt;dbl&gt; |\n",
       "|---|---|---|---|---|---|\n",
       "| 5811 | 31922.20 | 0.1820363 | 10.371057 | 3.132616e-05 | 1019026816 |\n",
       "| 4594 | 25357.25 | 0.1811711 | 10.140820 | 3.943645e-05 |  642990144 |\n",
       "| 2108 |  7313.60 | 0.2882302 |  8.897491 | 1.367316e-04 |   53488748 |\n",
       "\n"
      ],
      "text/plain": [
       "  fdho expend   sfdho     lnexpend  expend_rec   expend2   \n",
       "1 5811 31922.20 0.1820363 10.371057 3.132616e-05 1019026816\n",
       "2 4594 25357.25 0.1811711 10.140820 3.943645e-05  642990144\n",
       "3 2108  7313.60 0.2882302  8.897491 1.367316e-04   53488748"
      ]
     },
     "metadata": {},
     "output_type": "display_data"
    }
   ],
   "source": [
    "df3 <- read_excel(\"G:/Datasets/Econometrics BY Example/Excel/Table2_8.xls\")\n",
    "head(df3,3)\n",
    "tail(df3,3)"
   ]
  },
  {
   "cell_type": "markdown",
   "id": "1b0713e1-5893-4ea8-901d-58e78885ec95",
   "metadata": {},
   "source": [
    "**Engel expenditure function theory:** the total\n",
    "expenditure that is devoted to food tends to increase in arithmetic progression as\n",
    "total expenditure increases in geometric proportion.   \n",
    "In other words:  share of expenditure on food decreases as total expenditure increases"
   ]
  },
  {
   "cell_type": "markdown",
   "id": "72e6bb15-b0aa-4cdd-b5aa-2b16622b4273",
   "metadata": {},
   "source": [
    "**Expend:** total household expenditure  \n",
    "**SFDHO:** share of food expenditure  \n",
    "869 US households in 1995"
   ]
  },
  {
   "cell_type": "code",
   "execution_count": 25,
   "id": "fdac62be-ee2c-4880-9aa2-53a785079b49",
   "metadata": {},
   "outputs": [
    {
     "data": {
      "text/html": [
       "<table class=\"dataframe\">\n",
       "<caption>A tibble: 2 × 5</caption>\n",
       "<thead>\n",
       "\t<tr><th scope=col>term</th><th scope=col>estimate</th><th scope=col>std.error</th><th scope=col>statistic</th><th scope=col>p.value</th></tr>\n",
       "\t<tr><th scope=col>&lt;chr&gt;</th><th scope=col>&lt;dbl&gt;</th><th scope=col>&lt;dbl&gt;</th><th scope=col>&lt;dbl&gt;</th><th scope=col>&lt;dbl&gt;</th></tr>\n",
       "</thead>\n",
       "<tbody>\n",
       "\t<tr><td>(Intercept)</td><td> 0.93038679</td><td>0.036366542</td><td> 25.58359</td><td>5.360528e-108</td></tr>\n",
       "\t<tr><td>lnexpend   </td><td>-0.07773725</td><td>0.003590929</td><td>-21.64823</td><td> 2.011079e-83</td></tr>\n",
       "</tbody>\n",
       "</table>\n"
      ],
      "text/latex": [
       "A tibble: 2 × 5\n",
       "\\begin{tabular}{lllll}\n",
       " term & estimate & std.error & statistic & p.value\\\\\n",
       " <chr> & <dbl> & <dbl> & <dbl> & <dbl>\\\\\n",
       "\\hline\n",
       "\t (Intercept) &  0.93038679 & 0.036366542 &  25.58359 & 5.360528e-108\\\\\n",
       "\t lnexpend    & -0.07773725 & 0.003590929 & -21.64823 &  2.011079e-83\\\\\n",
       "\\end{tabular}\n"
      ],
      "text/markdown": [
       "\n",
       "A tibble: 2 × 5\n",
       "\n",
       "| term &lt;chr&gt; | estimate &lt;dbl&gt; | std.error &lt;dbl&gt; | statistic &lt;dbl&gt; | p.value &lt;dbl&gt; |\n",
       "|---|---|---|---|---|\n",
       "| (Intercept) |  0.93038679 | 0.036366542 |  25.58359 | 5.360528e-108 |\n",
       "| lnexpend    | -0.07773725 | 0.003590929 | -21.64823 |  2.011079e-83 |\n",
       "\n"
      ],
      "text/plain": [
       "  term        estimate    std.error   statistic p.value      \n",
       "1 (Intercept)  0.93038679 0.036366542  25.58359 5.360528e-108\n",
       "2 lnexpend    -0.07773725 0.003590929 -21.64823  2.011079e-83"
      ]
     },
     "metadata": {},
     "output_type": "display_data"
    },
    {
     "data": {
      "text/html": [
       "<table class=\"dataframe\">\n",
       "<caption>A tibble: 1 × 12</caption>\n",
       "<thead>\n",
       "\t<tr><th scope=col>r.squared</th><th scope=col>adj.r.squared</th><th scope=col>sigma</th><th scope=col>statistic</th><th scope=col>p.value</th><th scope=col>df</th><th scope=col>logLik</th><th scope=col>AIC</th><th scope=col>BIC</th><th scope=col>deviance</th><th scope=col>df.residual</th><th scope=col>nobs</th></tr>\n",
       "\t<tr><th scope=col>&lt;dbl&gt;</th><th scope=col>&lt;dbl&gt;</th><th scope=col>&lt;dbl&gt;</th><th scope=col>&lt;dbl&gt;</th><th scope=col>&lt;dbl&gt;</th><th scope=col>&lt;dbl&gt;</th><th scope=col>&lt;dbl&gt;</th><th scope=col>&lt;dbl&gt;</th><th scope=col>&lt;dbl&gt;</th><th scope=col>&lt;dbl&gt;</th><th scope=col>&lt;int&gt;</th><th scope=col>&lt;int&gt;</th></tr>\n",
       "</thead>\n",
       "<tbody>\n",
       "\t<tr><td>0.3508757</td><td>0.350127</td><td>0.06875045</td><td>468.6456</td><td>2.011079e-83</td><td>1</td><td>1094.493</td><td>-2182.986</td><td>-2168.684</td><td>4.097984</td><td>867</td><td>869</td></tr>\n",
       "</tbody>\n",
       "</table>\n"
      ],
      "text/latex": [
       "A tibble: 1 × 12\n",
       "\\begin{tabular}{llllllllllll}\n",
       " r.squared & adj.r.squared & sigma & statistic & p.value & df & logLik & AIC & BIC & deviance & df.residual & nobs\\\\\n",
       " <dbl> & <dbl> & <dbl> & <dbl> & <dbl> & <dbl> & <dbl> & <dbl> & <dbl> & <dbl> & <int> & <int>\\\\\n",
       "\\hline\n",
       "\t 0.3508757 & 0.350127 & 0.06875045 & 468.6456 & 2.011079e-83 & 1 & 1094.493 & -2182.986 & -2168.684 & 4.097984 & 867 & 869\\\\\n",
       "\\end{tabular}\n"
      ],
      "text/markdown": [
       "\n",
       "A tibble: 1 × 12\n",
       "\n",
       "| r.squared &lt;dbl&gt; | adj.r.squared &lt;dbl&gt; | sigma &lt;dbl&gt; | statistic &lt;dbl&gt; | p.value &lt;dbl&gt; | df &lt;dbl&gt; | logLik &lt;dbl&gt; | AIC &lt;dbl&gt; | BIC &lt;dbl&gt; | deviance &lt;dbl&gt; | df.residual &lt;int&gt; | nobs &lt;int&gt; |\n",
       "|---|---|---|---|---|---|---|---|---|---|---|---|\n",
       "| 0.3508757 | 0.350127 | 0.06875045 | 468.6456 | 2.011079e-83 | 1 | 1094.493 | -2182.986 | -2168.684 | 4.097984 | 867 | 869 |\n",
       "\n"
      ],
      "text/plain": [
       "      r.squared adj.r.squared sigma      statistic p.value      df logLik  \n",
       "value 0.3508757 0.350127      0.06875045 468.6456  2.011079e-83 1  1094.493\n",
       "      AIC       BIC       deviance df.residual nobs\n",
       "value -2182.986 -2168.684 4.097984 867         869 "
      ]
     },
     "metadata": {},
     "output_type": "display_data"
    }
   ],
   "source": [
    "model6 <- lm(sfdho ~ lnexpend, data = df3)\n",
    "tidy(model6)\n",
    "glance(model6)"
   ]
  },
  {
   "cell_type": "markdown",
   "id": "f5de8cf1-d891-4d82-b398-2cfd883a3040",
   "metadata": {},
   "source": [
    "**lnexpend coefficient:** -0.08:  \n",
    "if expenditure increases by 1%, on average, sfhdo decreases by 0.0008 units  \n",
    "if expenditure increases by 100%, on average, sdfho decreases by 0.08 units"
   ]
  },
  {
   "cell_type": "code",
   "execution_count": 26,
   "id": "1d210b9f-a360-4b92-9a7a-072d800ed228",
   "metadata": {},
   "outputs": [],
   "source": [
    "df3$residuals <- residuals(model6)\n",
    "df3$fitted_values <- fitted(model6)"
   ]
  },
  {
   "cell_type": "code",
   "execution_count": 27,
   "id": "bfc9dc7b-3b36-493f-a5fc-be5903151aad",
   "metadata": {},
   "outputs": [
    {
     "data": {
      "image/png": "[encoded data removed]",
      "text/plain": [
       "plot without title"
      ]
     },
     "metadata": {
      "image/png": {
       "height": 420,
       "width": 420
      }
     },
     "output_type": "display_data"
    }
   ],
   "source": [
    "ggplot(df3, aes(x = lnexpend, y = sfdho)) +\n",
    "  geom_point() +\n",
    "  geom_smooth(method = 'lm',formula = y ~ x, se = FALSE) +\n",
    "  labs(title = \"independent vs dependent\",\n",
    "       x = \"lnexpend\",\n",
    "       y = \"sfdho\") +\n",
    "  theme_minimal()"
   ]
  },
  {
   "cell_type": "markdown",
   "id": "8ba345cc-7f82-41a5-87fc-22db25d33852",
   "metadata": {},
   "source": [
    "## Reciprocol models"
   ]
  },
  {
   "cell_type": "markdown",
   "id": "1d69f040-205b-48f4-8a8f-e19067619aa6",
   "metadata": {},
   "source": [
    "$$\n",
    "Y_i = \\beta_0 + \\beta_1 \\left(\\frac{1}{X_i}\\right) + u_i\n",
    "$$"
   ]
  },
  {
   "cell_type": "markdown",
   "id": "d8502afd-731f-4d95-b8cf-fda12f002970",
   "metadata": {},
   "source": [
    "Note: \n",
    "$$\n",
    "\\frac{dY_i}{dX_i} = -\\beta_1\\left(\\frac{1}{X_i}^2\\right)\n",
    "$$"
   ]
  },
  {
   "cell_type": "code",
   "execution_count": 28,
   "id": "e3fcfecb-b03c-498e-a9f1-01fba7e4cad0",
   "metadata": {},
   "outputs": [
    {
     "data": {
      "text/html": [
       "<table class=\"dataframe\">\n",
       "<caption>A tibble: 2 × 5</caption>\n",
       "<thead>\n",
       "\t<tr><th scope=col>term</th><th scope=col>estimate</th><th scope=col>std.error</th><th scope=col>statistic</th><th scope=col>p.value</th></tr>\n",
       "\t<tr><th scope=col>&lt;chr&gt;</th><th scope=col>&lt;dbl&gt;</th><th scope=col>&lt;dbl&gt;</th><th scope=col>&lt;dbl&gt;</th><th scope=col>&lt;dbl&gt;</th></tr>\n",
       "</thead>\n",
       "<tbody>\n",
       "\t<tr><td>(Intercept)</td><td>7.726305e-02</td><td> 0.004011685</td><td>19.2595</td><td>4.376382e-69</td></tr>\n",
       "\t<tr><td>I(1/expend)</td><td>1.331338e+03</td><td>63.957133553</td><td>20.8161</td><td>2.303454e-78</td></tr>\n",
       "</tbody>\n",
       "</table>\n"
      ],
      "text/latex": [
       "A tibble: 2 × 5\n",
       "\\begin{tabular}{lllll}\n",
       " term & estimate & std.error & statistic & p.value\\\\\n",
       " <chr> & <dbl> & <dbl> & <dbl> & <dbl>\\\\\n",
       "\\hline\n",
       "\t (Intercept) & 7.726305e-02 &  0.004011685 & 19.2595 & 4.376382e-69\\\\\n",
       "\t I(1/expend) & 1.331338e+03 & 63.957133553 & 20.8161 & 2.303454e-78\\\\\n",
       "\\end{tabular}\n"
      ],
      "text/markdown": [
       "\n",
       "A tibble: 2 × 5\n",
       "\n",
       "| term &lt;chr&gt; | estimate &lt;dbl&gt; | std.error &lt;dbl&gt; | statistic &lt;dbl&gt; | p.value &lt;dbl&gt; |\n",
       "|---|---|---|---|---|\n",
       "| (Intercept) | 7.726305e-02 |  0.004011685 | 19.2595 | 4.376382e-69 |\n",
       "| I(1/expend) | 1.331338e+03 | 63.957133553 | 20.8161 | 2.303454e-78 |\n",
       "\n"
      ],
      "text/plain": [
       "  term        estimate     std.error    statistic p.value     \n",
       "1 (Intercept) 7.726305e-02  0.004011685 19.2595   4.376382e-69\n",
       "2 I(1/expend) 1.331338e+03 63.957133553 20.8161   2.303454e-78"
      ]
     },
     "metadata": {},
     "output_type": "display_data"
    },
    {
     "data": {
      "text/html": [
       "<table class=\"dataframe\">\n",
       "<caption>A tibble: 1 × 12</caption>\n",
       "<thead>\n",
       "\t<tr><th scope=col>r.squared</th><th scope=col>adj.r.squared</th><th scope=col>sigma</th><th scope=col>statistic</th><th scope=col>p.value</th><th scope=col>df</th><th scope=col>logLik</th><th scope=col>AIC</th><th scope=col>BIC</th><th scope=col>deviance</th><th scope=col>df.residual</th><th scope=col>nobs</th></tr>\n",
       "\t<tr><th scope=col>&lt;dbl&gt;</th><th scope=col>&lt;dbl&gt;</th><th scope=col>&lt;dbl&gt;</th><th scope=col>&lt;dbl&gt;</th><th scope=col>&lt;dbl&gt;</th><th scope=col>&lt;dbl&gt;</th><th scope=col>&lt;dbl&gt;</th><th scope=col>&lt;dbl&gt;</th><th scope=col>&lt;dbl&gt;</th><th scope=col>&lt;dbl&gt;</th><th scope=col>&lt;int&gt;</th><th scope=col>&lt;int&gt;</th></tr>\n",
       "</thead>\n",
       "<tbody>\n",
       "\t<tr><td>0.3332359</td><td>0.3324669</td><td>0.06967833</td><td>433.31</td><td>2.303454e-78</td><td>1</td><td>1082.843</td><td>-2159.686</td><td>-2145.384</td><td>4.209346</td><td>867</td><td>869</td></tr>\n",
       "</tbody>\n",
       "</table>\n"
      ],
      "text/latex": [
       "A tibble: 1 × 12\n",
       "\\begin{tabular}{llllllllllll}\n",
       " r.squared & adj.r.squared & sigma & statistic & p.value & df & logLik & AIC & BIC & deviance & df.residual & nobs\\\\\n",
       " <dbl> & <dbl> & <dbl> & <dbl> & <dbl> & <dbl> & <dbl> & <dbl> & <dbl> & <dbl> & <int> & <int>\\\\\n",
       "\\hline\n",
       "\t 0.3332359 & 0.3324669 & 0.06967833 & 433.31 & 2.303454e-78 & 1 & 1082.843 & -2159.686 & -2145.384 & 4.209346 & 867 & 869\\\\\n",
       "\\end{tabular}\n"
      ],
      "text/markdown": [
       "\n",
       "A tibble: 1 × 12\n",
       "\n",
       "| r.squared &lt;dbl&gt; | adj.r.squared &lt;dbl&gt; | sigma &lt;dbl&gt; | statistic &lt;dbl&gt; | p.value &lt;dbl&gt; | df &lt;dbl&gt; | logLik &lt;dbl&gt; | AIC &lt;dbl&gt; | BIC &lt;dbl&gt; | deviance &lt;dbl&gt; | df.residual &lt;int&gt; | nobs &lt;int&gt; |\n",
       "|---|---|---|---|---|---|---|---|---|---|---|---|\n",
       "| 0.3332359 | 0.3324669 | 0.06967833 | 433.31 | 2.303454e-78 | 1 | 1082.843 | -2159.686 | -2145.384 | 4.209346 | 867 | 869 |\n",
       "\n"
      ],
      "text/plain": [
       "      r.squared adj.r.squared sigma      statistic p.value      df logLik  \n",
       "value 0.3332359 0.3324669     0.06967833 433.31    2.303454e-78 1  1082.843\n",
       "      AIC       BIC       deviance df.residual nobs\n",
       "value -2159.686 -2145.384 4.209346 867         869 "
      ]
     },
     "metadata": {},
     "output_type": "display_data"
    }
   ],
   "source": [
    "model7 <- lm(sfdho ~ I(1/expend), data = df3)\n",
    "tidy(model7)\n",
    "glance(model7)"
   ]
  },
  {
   "cell_type": "markdown",
   "id": "ed3b7b6e-1680-4a48-97cc-90dbc366df7d",
   "metadata": {},
   "source": [
    "**Intercept coeff:** if expend increases indefinitely, sfdho will equal 8% or 0.08"
   ]
  },
  {
   "cell_type": "markdown",
   "id": "1badc954-47a2-4abb-a4c9-c91d9e2f06ef",
   "metadata": {},
   "source": [
    "**slope coeff:** positive slope, rate of change of sfdho with respect to expenditure is **negative**"
   ]
  },
  {
   "cell_type": "code",
   "execution_count": 29,
   "id": "c44e8a10-74c1-4f63-b378-06ed0c56ecc8",
   "metadata": {},
   "outputs": [
    {
     "data": {
      "image/png": "[encoded data removed]",
      "text/plain": [
       "plot without title"
      ]
     },
     "metadata": {
      "image/png": {
       "height": 420,
       "width": 420
      }
     },
     "output_type": "display_data"
    }
   ],
   "source": [
    "ggplot(df3, aes(x = expend, y = sfdho)) +\n",
    "  geom_point() +\n",
    "  labs(title = \"independent vs dependent\",\n",
    "       x = \"expend\",\n",
    "       y = \"sfdho\") +\n",
    "  theme_minimal()"
   ]
  },
  {
   "cell_type": "markdown",
   "id": "9ac1206e-641b-4a32-a0ff-72b1cb54b505",
   "metadata": {},
   "source": [
    "lin-log model performed better than reciprocol model based on $R^2$, both have same dependent variable so we can compare using it"
   ]
  },
  {
   "cell_type": "code",
   "execution_count": 30,
   "id": "d5c5de59-2fdd-4b3a-9151-d3a981f25de5",
   "metadata": {},
   "outputs": [
    {
     "data": {
      "text/html": [
       "0.350875735484601"
      ],
      "text/latex": [
       "0.350875735484601"
      ],
      "text/markdown": [
       "0.350875735484601"
      ],
      "text/plain": [
       "[1] 0.3508757"
      ]
     },
     "metadata": {},
     "output_type": "display_data"
    },
    {
     "data": {
      "text/html": [
       "0.333235927711165"
      ],
      "text/latex": [
       "0.333235927711165"
      ],
      "text/markdown": [
       "0.333235927711165"
      ],
      "text/plain": [
       "[1] 0.3332359"
      ]
     },
     "metadata": {},
     "output_type": "display_data"
    }
   ],
   "source": [
    "summary(model6)$r.squared\n",
    "summary(model7)$r.squared"
   ]
  },
  {
   "cell_type": "markdown",
   "id": "67f68577-800b-46ae-b5fb-3fe65feabe96",
   "metadata": {},
   "source": [
    "## Polynomial regression model"
   ]
  },
  {
   "cell_type": "markdown",
   "id": "fa942df4-6a05-4827-92cc-3a42132a428d",
   "metadata": {},
   "source": [
    "$$ RGDP_t = \\beta_0 + \\beta_1 \\text{time} + \\beta_2 \\text{time}^2 + u_t$$"
   ]
  },
  {
   "cell_type": "code",
   "execution_count": 31,
   "id": "bd1c7e96-d82f-46fb-8980-c5ac0d7d5bdb",
   "metadata": {},
   "outputs": [
    {
     "data": {
      "text/html": [
       "<table class=\"dataframe\">\n",
       "<caption>A tibble: 3 × 5</caption>\n",
       "<thead>\n",
       "\t<tr><th scope=col>term</th><th scope=col>estimate</th><th scope=col>std.error</th><th scope=col>statistic</th><th scope=col>p.value</th></tr>\n",
       "\t<tr><th scope=col>&lt;chr&gt;</th><th scope=col>&lt;dbl&gt;</th><th scope=col>&lt;dbl&gt;</th><th scope=col>&lt;dbl&gt;</th><th scope=col>&lt;dbl&gt;</th></tr>\n",
       "</thead>\n",
       "<tbody>\n",
       "\t<tr><td>(Intercept)</td><td>2651.380622</td><td>69.4908403</td><td>38.15439</td><td>6.449733e-36</td></tr>\n",
       "\t<tr><td>time       </td><td>  68.534362</td><td> 6.5421140</td><td>10.47587</td><td>1.187953e-13</td></tr>\n",
       "\t<tr><td>I(time^2)  </td><td>   2.417542</td><td> 0.1294432</td><td>18.67647</td><td>7.969017e-23</td></tr>\n",
       "</tbody>\n",
       "</table>\n"
      ],
      "text/latex": [
       "A tibble: 3 × 5\n",
       "\\begin{tabular}{lllll}\n",
       " term & estimate & std.error & statistic & p.value\\\\\n",
       " <chr> & <dbl> & <dbl> & <dbl> & <dbl>\\\\\n",
       "\\hline\n",
       "\t (Intercept) & 2651.380622 & 69.4908403 & 38.15439 & 6.449733e-36\\\\\n",
       "\t time        &   68.534362 &  6.5421140 & 10.47587 & 1.187953e-13\\\\\n",
       "\t I(time\\textasciicircum{}2)   &    2.417542 &  0.1294432 & 18.67647 & 7.969017e-23\\\\\n",
       "\\end{tabular}\n"
      ],
      "text/markdown": [
       "\n",
       "A tibble: 3 × 5\n",
       "\n",
       "| term &lt;chr&gt; | estimate &lt;dbl&gt; | std.error &lt;dbl&gt; | statistic &lt;dbl&gt; | p.value &lt;dbl&gt; |\n",
       "|---|---|---|---|---|\n",
       "| (Intercept) | 2651.380622 | 69.4908403 | 38.15439 | 6.449733e-36 |\n",
       "| time        |   68.534362 |  6.5421140 | 10.47587 | 1.187953e-13 |\n",
       "| I(time^2)   |    2.417542 |  0.1294432 | 18.67647 | 7.969017e-23 |\n",
       "\n"
      ],
      "text/plain": [
       "  term        estimate    std.error  statistic p.value     \n",
       "1 (Intercept) 2651.380622 69.4908403 38.15439  6.449733e-36\n",
       "2 time          68.534362  6.5421140 10.47587  1.187953e-13\n",
       "3 I(time^2)      2.417542  0.1294432 18.67647  7.969017e-23"
      ]
     },
     "metadata": {},
     "output_type": "display_data"
    },
    {
     "data": {
      "text/html": [
       "<table class=\"dataframe\">\n",
       "<caption>A tibble: 1 × 12</caption>\n",
       "<thead>\n",
       "\t<tr><th scope=col>r.squared</th><th scope=col>adj.r.squared</th><th scope=col>sigma</th><th scope=col>statistic</th><th scope=col>p.value</th><th scope=col>df</th><th scope=col>logLik</th><th scope=col>AIC</th><th scope=col>BIC</th><th scope=col>deviance</th><th scope=col>df.residual</th><th scope=col>nobs</th></tr>\n",
       "\t<tr><th scope=col>&lt;dbl&gt;</th><th scope=col>&lt;dbl&gt;</th><th scope=col>&lt;dbl&gt;</th><th scope=col>&lt;dbl&gt;</th><th scope=col>&lt;dbl&gt;</th><th scope=col>&lt;dbl&gt;</th><th scope=col>&lt;dbl&gt;</th><th scope=col>&lt;dbl&gt;</th><th scope=col>&lt;dbl&gt;</th><th scope=col>&lt;dbl&gt;</th><th scope=col>&lt;int&gt;</th><th scope=col>&lt;int&gt;</th></tr>\n",
       "</thead>\n",
       "<tbody>\n",
       "\t<tr><td>0.9967866</td><td>0.9966438</td><td>153.8419</td><td>6979.431</td><td>8.066871e-57</td><td>2</td><td>-308.2845</td><td>624.5691</td><td>632.0539</td><td>1065030</td><td>45</td><td>48</td></tr>\n",
       "</tbody>\n",
       "</table>\n"
      ],
      "text/latex": [
       "A tibble: 1 × 12\n",
       "\\begin{tabular}{llllllllllll}\n",
       " r.squared & adj.r.squared & sigma & statistic & p.value & df & logLik & AIC & BIC & deviance & df.residual & nobs\\\\\n",
       " <dbl> & <dbl> & <dbl> & <dbl> & <dbl> & <dbl> & <dbl> & <dbl> & <dbl> & <dbl> & <int> & <int>\\\\\n",
       "\\hline\n",
       "\t 0.9967866 & 0.9966438 & 153.8419 & 6979.431 & 8.066871e-57 & 2 & -308.2845 & 624.5691 & 632.0539 & 1065030 & 45 & 48\\\\\n",
       "\\end{tabular}\n"
      ],
      "text/markdown": [
       "\n",
       "A tibble: 1 × 12\n",
       "\n",
       "| r.squared &lt;dbl&gt; | adj.r.squared &lt;dbl&gt; | sigma &lt;dbl&gt; | statistic &lt;dbl&gt; | p.value &lt;dbl&gt; | df &lt;dbl&gt; | logLik &lt;dbl&gt; | AIC &lt;dbl&gt; | BIC &lt;dbl&gt; | deviance &lt;dbl&gt; | df.residual &lt;int&gt; | nobs &lt;int&gt; |\n",
       "|---|---|---|---|---|---|---|---|---|---|---|---|\n",
       "| 0.9967866 | 0.9966438 | 153.8419 | 6979.431 | 8.066871e-57 | 2 | -308.2845 | 624.5691 | 632.0539 | 1065030 | 45 | 48 |\n",
       "\n"
      ],
      "text/plain": [
       "      r.squared adj.r.squared sigma    statistic p.value      df logLik   \n",
       "value 0.9967866 0.9966438     153.8419 6979.431  8.066871e-57 2  -308.2845\n",
       "      AIC      BIC      deviance df.residual nobs\n",
       "value 624.5691 632.0539 1065030  45          48  "
      ]
     },
     "metadata": {},
     "output_type": "display_data"
    }
   ],
   "source": [
    "model8 <- lm(rgdp ~ time + I(time^2), data = df2)\n",
    "tidy(model8)\n",
    "glance(model8)"
   ]
  },
  {
   "cell_type": "markdown",
   "id": "54d6cbcb-3d6a-4d86-ae7c-b8e6358ebe4d",
   "metadata": {},
   "source": [
    "$$\n",
    "\\frac{dRGDP}{dtime} = \\beta_1 + 2\\beta_2\\text{time} = 68.53 + 4.84 \\text{time}\n",
    "$$"
   ]
  },
  {
   "cell_type": "markdown",
   "id": "70397a73-f176-4918-b499-bc27a693302a",
   "metadata": {},
   "source": [
    "The **rate of change of RGDP** increases with an increasing rate  \n",
    "unlike the linear model that showed constant rate $187\n"
   ]
  },
  {
   "cell_type": "markdown",
   "id": "f7a735b8-1b17-4414-b77a-e892246a2a63",
   "metadata": {},
   "source": [
    "### Log-lin model with quadratic trend"
   ]
  },
  {
   "cell_type": "markdown",
   "id": "aee4bf53-6421-41c1-a514-c1f9cc0a464a",
   "metadata": {},
   "source": [
    "$$ \\ln RGDP_t = \\beta_0 + \\beta_1 \\text{time} + \\beta_2 \\text{time}^2 + u_t$$"
   ]
  },
  {
   "cell_type": "markdown",
   "id": "d6904595-6dff-48ed-baff-91d4ad4f8893",
   "metadata": {},
   "source": [
    "$$\\frac{d \\ln RGDP}{dtime} = \\beta_1 + 2\\beta_2\\text{time} = 0.0365 - 0.0002\\text{time}$$"
   ]
  },
  {
   "cell_type": "markdown",
   "id": "bf311d72-84c9-42ea-a185-e0a51e8f3b6a",
   "metadata": {},
   "source": [
    "The model increases with a decreasing rate  \n",
    "unlike the quadratic RGDP model (model 8)"
   ]
  },
  {
   "cell_type": "code",
   "execution_count": 32,
   "id": "15b595e2-04fa-4063-8dcc-a3f41f165db3",
   "metadata": {},
   "outputs": [
    {
     "data": {
      "text/html": [
       "<table class=\"dataframe\">\n",
       "<caption>A tibble: 3 × 5</caption>\n",
       "<thead>\n",
       "\t<tr><th scope=col>term</th><th scope=col>estimate</th><th scope=col>std.error</th><th scope=col>statistic</th><th scope=col>p.value</th></tr>\n",
       "\t<tr><th scope=col>&lt;chr&gt;</th><th scope=col>&lt;dbl&gt;</th><th scope=col>&lt;dbl&gt;</th><th scope=col>&lt;dbl&gt;</th><th scope=col>&lt;dbl&gt;</th></tr>\n",
       "</thead>\n",
       "<tbody>\n",
       "\t<tr><td>(Intercept)</td><td> 7.8334797935</td><td>1.275348e-02</td><td>614.223018</td><td>6.228568e-90</td></tr>\n",
       "\t<tr><td>time       </td><td> 0.0365514617</td><td>1.200658e-03</td><td> 30.442868</td><td>1.147864e-31</td></tr>\n",
       "\t<tr><td>I(time^2)  </td><td>-0.0001033042</td><td>2.375639e-05</td><td> -4.348483</td><td>7.756188e-05</td></tr>\n",
       "</tbody>\n",
       "</table>\n"
      ],
      "text/latex": [
       "A tibble: 3 × 5\n",
       "\\begin{tabular}{lllll}\n",
       " term & estimate & std.error & statistic & p.value\\\\\n",
       " <chr> & <dbl> & <dbl> & <dbl> & <dbl>\\\\\n",
       "\\hline\n",
       "\t (Intercept) &  7.8334797935 & 1.275348e-02 & 614.223018 & 6.228568e-90\\\\\n",
       "\t time        &  0.0365514617 & 1.200658e-03 &  30.442868 & 1.147864e-31\\\\\n",
       "\t I(time\\textasciicircum{}2)   & -0.0001033042 & 2.375639e-05 &  -4.348483 & 7.756188e-05\\\\\n",
       "\\end{tabular}\n"
      ],
      "text/markdown": [
       "\n",
       "A tibble: 3 × 5\n",
       "\n",
       "| term &lt;chr&gt; | estimate &lt;dbl&gt; | std.error &lt;dbl&gt; | statistic &lt;dbl&gt; | p.value &lt;dbl&gt; |\n",
       "|---|---|---|---|---|\n",
       "| (Intercept) |  7.8334797935 | 1.275348e-02 | 614.223018 | 6.228568e-90 |\n",
       "| time        |  0.0365514617 | 1.200658e-03 |  30.442868 | 1.147864e-31 |\n",
       "| I(time^2)   | -0.0001033042 | 2.375639e-05 |  -4.348483 | 7.756188e-05 |\n",
       "\n"
      ],
      "text/plain": [
       "  term        estimate      std.error    statistic  p.value     \n",
       "1 (Intercept)  7.8334797935 1.275348e-02 614.223018 6.228568e-90\n",
       "2 time         0.0365514617 1.200658e-03  30.442868 1.147864e-31\n",
       "3 I(time^2)   -0.0001033042 2.375639e-05  -4.348483 7.756188e-05"
      ]
     },
     "metadata": {},
     "output_type": "display_data"
    },
    {
     "data": {
      "text/html": [
       "<table class=\"dataframe\">\n",
       "<caption>A tibble: 1 × 12</caption>\n",
       "<thead>\n",
       "\t<tr><th scope=col>r.squared</th><th scope=col>adj.r.squared</th><th scope=col>sigma</th><th scope=col>statistic</th><th scope=col>p.value</th><th scope=col>df</th><th scope=col>logLik</th><th scope=col>AIC</th><th scope=col>BIC</th><th scope=col>deviance</th><th scope=col>df.residual</th><th scope=col>nobs</th></tr>\n",
       "\t<tr><th scope=col>&lt;dbl&gt;</th><th scope=col>&lt;dbl&gt;</th><th scope=col>&lt;dbl&gt;</th><th scope=col>&lt;dbl&gt;</th><th scope=col>&lt;dbl&gt;</th><th scope=col>&lt;dbl&gt;</th><th scope=col>&lt;dbl&gt;</th><th scope=col>&lt;dbl&gt;</th><th scope=col>&lt;dbl&gt;</th><th scope=col>&lt;dbl&gt;</th><th scope=col>&lt;int&gt;</th><th scope=col>&lt;int&gt;</th></tr>\n",
       "</thead>\n",
       "<tbody>\n",
       "\t<tr><td>0.9960946</td><td>0.9959211</td><td>0.02823421</td><td>5738.809</td><td>6.492039e-55</td><td>2</td><td>104.6665</td><td>-201.333</td><td>-193.8482</td><td>0.03587268</td><td>45</td><td>48</td></tr>\n",
       "</tbody>\n",
       "</table>\n"
      ],
      "text/latex": [
       "A tibble: 1 × 12\n",
       "\\begin{tabular}{llllllllllll}\n",
       " r.squared & adj.r.squared & sigma & statistic & p.value & df & logLik & AIC & BIC & deviance & df.residual & nobs\\\\\n",
       " <dbl> & <dbl> & <dbl> & <dbl> & <dbl> & <dbl> & <dbl> & <dbl> & <dbl> & <dbl> & <int> & <int>\\\\\n",
       "\\hline\n",
       "\t 0.9960946 & 0.9959211 & 0.02823421 & 5738.809 & 6.492039e-55 & 2 & 104.6665 & -201.333 & -193.8482 & 0.03587268 & 45 & 48\\\\\n",
       "\\end{tabular}\n"
      ],
      "text/markdown": [
       "\n",
       "A tibble: 1 × 12\n",
       "\n",
       "| r.squared &lt;dbl&gt; | adj.r.squared &lt;dbl&gt; | sigma &lt;dbl&gt; | statistic &lt;dbl&gt; | p.value &lt;dbl&gt; | df &lt;dbl&gt; | logLik &lt;dbl&gt; | AIC &lt;dbl&gt; | BIC &lt;dbl&gt; | deviance &lt;dbl&gt; | df.residual &lt;int&gt; | nobs &lt;int&gt; |\n",
       "|---|---|---|---|---|---|---|---|---|---|---|---|\n",
       "| 0.9960946 | 0.9959211 | 0.02823421 | 5738.809 | 6.492039e-55 | 2 | 104.6665 | -201.333 | -193.8482 | 0.03587268 | 45 | 48 |\n",
       "\n"
      ],
      "text/plain": [
       "      r.squared adj.r.squared sigma      statistic p.value      df logLik  \n",
       "value 0.9960946 0.9959211     0.02823421 5738.809  6.492039e-55 2  104.6665\n",
       "      AIC      BIC       deviance   df.residual nobs\n",
       "value -201.333 -193.8482 0.03587268 45          48  "
      ]
     },
     "metadata": {},
     "output_type": "display_data"
    }
   ],
   "source": [
    "model9 <- lm(lnrgdp ~ time + I(time^2), data = df2)\n",
    "tidy(model9)\n",
    "glance(model9)"
   ]
  },
  {
   "cell_type": "markdown",
   "id": "510e2e49-0e71-4f6d-80b8-f6a74d9474fa",
   "metadata": {},
   "source": [
    "**rate of growth of RGDP** decreases at rate 0.0002 per unit of time"
   ]
  },
  {
   "cell_type": "markdown",
   "id": "dfde12d4-8be8-43e8-bbbf-4643a00f8dc0",
   "metadata": {},
   "source": [
    "## Comparing linear and log-log (log-linear) models"
   ]
  },
  {
   "cell_type": "code",
   "execution_count": 33,
   "id": "c3ca7854-0d05-4b5c-84f2-5b2cc666428b",
   "metadata": {},
   "outputs": [],
   "source": [
    "compare_models <- function(df, dependent_var, independent_vars) {\n",
    "  library(dplyr)\n",
    "  library(broom)\n",
    "  \n",
    "  # Step 1: Compute the geometric mean (GM) of the dependent variable\n",
    "  geom_mean <- exp(mean(log(df[[dependent_var]])))\n",
    "  \n",
    "  # Step 2: Transform the dependent variable\n",
    "  df <- df %>%\n",
    "    mutate(transformed_output = .[[dependent_var]] / geom_mean,\n",
    "           log_output = log(transformed_output))\n",
    "  \n",
    "  # Create formula strings for the models\n",
    "  independent_vars_formula <- paste(independent_vars, collapse = \" + \")\n",
    "  linear_formula <- as.formula(paste(\"transformed_output ~\", independent_vars_formula))\n",
    "  log_linear_formula <- as.formula(paste(\"log_output ~\", paste(\"log(\", independent_vars, \")\", collapse = \" + \")))\n",
    "  \n",
    "  # Step 3: Estimate the linear model using transformed_output\n",
    "  linear_model <- lm(linear_formula, data = df)\n",
    "  linear_model_tidy <- tidy(linear_model)\n",
    "  linear_model_rss <- sum(residuals(linear_model)^2)\n",
    "  \n",
    "  # Step 4: Estimate the log-linear model using log_output\n",
    "  log_linear_model <- lm(log_linear_formula, data = df)\n",
    "  log_linear_model_tidy <- tidy(log_linear_model)\n",
    "  log_linear_model_rss <- sum(residuals(log_linear_model)^2)\n",
    "  \n",
    "  # Ensure residuals sum of squares matches expected values by directly comparing them\n",
    "  rss1 <- sum((df$transformed_output - predict(linear_model))^2)\n",
    "  rss2 <- sum((df$log_output - predict(log_linear_model))^2)\n",
    "  \n",
    " # Number of observations\n",
    "  n <- nrow(df)\n",
    "  \n",
    "  # Compute the likelihood ratio test statistic\n",
    "  lambda <- (n / 2) * log(rss1 / rss2)\n",
    "  \n",
    "  # Compute the p-value from the chi-square distribution with 1 degree of freedom\n",
    "  p_value <- pchisq(lambda, df = 1,)\n",
    "  \n",
    "  # Print results\n",
    "  print(linear_model_tidy)\n",
    "  print(log_linear_model_tidy)\n",
    "  \n",
    "  # Compare RSS\n",
    "  print(paste(\"RSS for linear model:\", rss1))\n",
    "  print(paste(\"RSS for log-linear model:\", rss2))\n",
    "  print(paste(\"Lambda (test statistic):\", lambda))\n",
    "  print(paste(\"P-value:\", p_value))\n",
    "  \n",
    "  return(list(\n",
    "    linear_model = linear_model,\n",
    "    log_linear_model = log_linear_model,\n",
    "    linear_model_rss = rss1,\n",
    "    log_linear_model_rss = rss2,\n",
    "    lambda = lambda,\n",
    "    p_value = p_value\n",
    "  ))\n",
    "}\n",
    "\n"
   ]
  },
  {
   "cell_type": "code",
   "execution_count": 34,
   "id": "794bf1fb-3f92-4124-90f2-c8e94cf8ad3a",
   "metadata": {},
   "outputs": [
    {
     "name": "stdout",
     "output_type": "stream",
     "text": [
      "\u001b[90m# A tibble: 3 × 5\u001b[39m\n",
      "  term           estimate    std.error statistic  p.value\n",
      "  \u001b[3m\u001b[90m<chr>\u001b[39m\u001b[23m             \u001b[3m\u001b[90m<dbl>\u001b[39m\u001b[23m        \u001b[3m\u001b[90m<dbl>\u001b[39m\u001b[23m     \u001b[3m\u001b[90m<dbl>\u001b[39m\u001b[23m    \u001b[3m\u001b[90m<dbl>\u001b[39m\u001b[23m\n",
      "\u001b[90m1\u001b[39m (Intercept) 0.010\u001b[4m3\u001b[24m      0.054\u001b[4m9\u001b[24m           0.187 8.53\u001b[90me\u001b[39m\u001b[31m- 1\u001b[39m\n",
      "\u001b[90m2\u001b[39m labor       0.000\u001b[4m0\u001b[24m\u001b[4m0\u001b[24m\u001b[4m2\u001b[24m11  0.000\u001b[4m0\u001b[24m\u001b[4m0\u001b[24m\u001b[4m0\u001b[24m310      6.80  1.50\u001b[90me\u001b[39m\u001b[31m- 8\u001b[39m\n",
      "\u001b[90m3\u001b[39m capital     0.000\u001b[4m0\u001b[24m\u001b[4m0\u001b[24m\u001b[4m0\u001b[24m437 0.000\u001b[4m0\u001b[24m\u001b[4m0\u001b[24m\u001b[4m0\u001b[24m042\u001b[4m9\u001b[24m    10.2   1.43\u001b[90me\u001b[39m\u001b[31m-13\u001b[39m\n",
      "\u001b[90m# A tibble: 3 × 5\u001b[39m\n",
      "  term         estimate std.error statistic  p.value\n",
      "  \u001b[3m\u001b[90m<chr>\u001b[39m\u001b[23m           \u001b[3m\u001b[90m<dbl>\u001b[39m\u001b[23m     \u001b[3m\u001b[90m<dbl>\u001b[39m\u001b[23m     \u001b[3m\u001b[90m<dbl>\u001b[39m\u001b[23m    \u001b[3m\u001b[90m<dbl>\u001b[39m\u001b[23m\n",
      "\u001b[90m1\u001b[39m (Intercept)   -\u001b[31m13\u001b[39m\u001b[31m.\u001b[39m\u001b[31m1\u001b[39m      0.396     -\u001b[31m32\u001b[39m\u001b[31m.\u001b[39m\u001b[31m9\u001b[39m  1.30\u001b[90me\u001b[39m\u001b[31m-34\u001b[39m\n",
      "\u001b[90m2\u001b[39m log(labor)      0.468    0.098\u001b[4m9\u001b[24m      4.73 1.98\u001b[90me\u001b[39m\u001b[31m- 5\u001b[39m\n",
      "\u001b[90m3\u001b[39m log(capital)    0.521    0.096\u001b[4m9\u001b[24m      5.38 2.18\u001b[90me\u001b[39m\u001b[31m- 6\u001b[39m\n",
      "[1] \"RSS for linear model: 3.67211242597136\"\n",
      "[1] \"RSS for log-linear model: 3.41552013886784\"\n",
      "[1] \"Lambda (test statistic): 1.84715109633792\"\n",
      "[1] \"P-value: 0.825884897403209\"\n"
     ]
    },
    {
     "data": {
      "text/plain": [
       "$linear_model\n",
       "\n",
       "Call:\n",
       "lm(formula = linear_formula, data = df)\n",
       "\n",
       "Coefficients:\n",
       "(Intercept)        labor      capital  \n",
       "  1.026e-02    2.107e-06    4.369e-07  \n",
       "\n",
       "\n",
       "$log_linear_model\n",
       "\n",
       "Call:\n",
       "lm(formula = log_linear_formula, data = df)\n",
       "\n",
       "Coefficients:\n",
       " (Intercept)    log(labor)  log(capital)  \n",
       "    -13.0538        0.4683        0.5213  \n",
       "\n",
       "\n",
       "$linear_model_rss\n",
       "[1] 3.672112\n",
       "\n",
       "$log_linear_model_rss\n",
       "[1] 3.41552\n",
       "\n",
       "$lambda\n",
       "[1] 1.847151\n",
       "\n",
       "$p_value\n",
       "[1] 0.8258849\n"
      ]
     },
     "metadata": {},
     "output_type": "display_data"
    }
   ],
   "source": [
    "compare_models(df, \"output\", c(\"labor\", \"capital\"))"
   ]
  },
  {
   "cell_type": "markdown",
   "id": "e0e9c4ba-11be-4f15-b5fd-fd9a62a15a72",
   "metadata": {},
   "source": [
    "## Regression on standardized variables"
   ]
  },
  {
   "cell_type": "code",
   "execution_count": 35,
   "id": "e9693c0e-64e6-42cf-beb4-1e6de20f6f3c",
   "metadata": {},
   "outputs": [],
   "source": [
    "standardize_variables <- function(df, dependent_var, independent_vars) {\n",
    "  # Standardize dependent variable\n",
    "  df[[dependent_var]] <- scale(df[[dependent_var]], center = TRUE, scale = TRUE)\n",
    "  \n",
    "  # Standardize independent variables\n",
    "  for (var in independent_vars) {\n",
    "    df[[var]] <- scale(df[[var]], center = TRUE, scale = TRUE)\n",
    "  }\n",
    "  \n",
    "  return(df)\n",
    "}\n",
    "\n",
    "# Example usage\n",
    "# df_standardized <- standardize_variables(df, \"output\", c(\"labor\", \"capital\"))\n"
   ]
  },
  {
   "cell_type": "code",
   "execution_count": 36,
   "id": "11225a32-9f25-4f73-a093-77569ac53120",
   "metadata": {},
   "outputs": [],
   "source": [
    "df_standardized <- standardize_variables(df, \"output\", c(\"labor\", \"capital\"))"
   ]
  },
  {
   "cell_type": "code",
   "execution_count": 37,
   "id": "a433794e-9284-4cc3-a866-d7f688013bdc",
   "metadata": {},
   "outputs": [
    {
     "data": {
      "text/html": [
       "<table class=\"dataframe\">\n",
       "<caption>A tibble: 3 × 5</caption>\n",
       "<thead>\n",
       "\t<tr><th scope=col>term</th><th scope=col>estimate</th><th scope=col>std.error</th><th scope=col>statistic</th><th scope=col>p.value</th></tr>\n",
       "\t<tr><th scope=col>&lt;chr&gt;</th><th scope=col>&lt;dbl&gt;</th><th scope=col>&lt;dbl&gt;</th><th scope=col>&lt;dbl&gt;</th><th scope=col>&lt;dbl&gt;</th></tr>\n",
       "</thead>\n",
       "<tbody>\n",
       "\t<tr><td>(Intercept)</td><td>2.433157e-17</td><td>0.01966566</td><td>1.237262e-15</td><td>1.000000e+00</td></tr>\n",
       "\t<tr><td>labor      </td><td>4.023881e-01</td><td>0.05918546</td><td>6.798766e+00</td><td>1.496564e-08</td></tr>\n",
       "\t<tr><td>capital    </td><td>6.021852e-01</td><td>0.05918546</td><td>1.017455e+01</td><td>1.433023e-13</td></tr>\n",
       "</tbody>\n",
       "</table>\n"
      ],
      "text/latex": [
       "A tibble: 3 × 5\n",
       "\\begin{tabular}{lllll}\n",
       " term & estimate & std.error & statistic & p.value\\\\\n",
       " <chr> & <dbl> & <dbl> & <dbl> & <dbl>\\\\\n",
       "\\hline\n",
       "\t (Intercept) & 2.433157e-17 & 0.01966566 & 1.237262e-15 & 1.000000e+00\\\\\n",
       "\t labor       & 4.023881e-01 & 0.05918546 & 6.798766e+00 & 1.496564e-08\\\\\n",
       "\t capital     & 6.021852e-01 & 0.05918546 & 1.017455e+01 & 1.433023e-13\\\\\n",
       "\\end{tabular}\n"
      ],
      "text/markdown": [
       "\n",
       "A tibble: 3 × 5\n",
       "\n",
       "| term &lt;chr&gt; | estimate &lt;dbl&gt; | std.error &lt;dbl&gt; | statistic &lt;dbl&gt; | p.value &lt;dbl&gt; |\n",
       "|---|---|---|---|---|\n",
       "| (Intercept) | 2.433157e-17 | 0.01966566 | 1.237262e-15 | 1.000000e+00 |\n",
       "| labor       | 4.023881e-01 | 0.05918546 | 6.798766e+00 | 1.496564e-08 |\n",
       "| capital     | 6.021852e-01 | 0.05918546 | 1.017455e+01 | 1.433023e-13 |\n",
       "\n"
      ],
      "text/plain": [
       "  term        estimate     std.error  statistic    p.value     \n",
       "1 (Intercept) 2.433157e-17 0.01966566 1.237262e-15 1.000000e+00\n",
       "2 labor       4.023881e-01 0.05918546 6.798766e+00 1.496564e-08\n",
       "3 capital     6.021852e-01 0.05918546 1.017455e+01 1.433023e-13"
      ]
     },
     "metadata": {},
     "output_type": "display_data"
    },
    {
     "data": {
      "text/html": [
       "<table class=\"dataframe\">\n",
       "<caption>A tibble: 1 × 12</caption>\n",
       "<thead>\n",
       "\t<tr><th scope=col>r.squared</th><th scope=col>adj.r.squared</th><th scope=col>sigma</th><th scope=col>statistic</th><th scope=col>p.value</th><th scope=col>df</th><th scope=col>logLik</th><th scope=col>AIC</th><th scope=col>BIC</th><th scope=col>deviance</th><th scope=col>df.residual</th><th scope=col>nobs</th></tr>\n",
       "\t<tr><th scope=col>&lt;dbl&gt;</th><th scope=col>&lt;dbl&gt;</th><th scope=col>&lt;dbl&gt;</th><th scope=col>&lt;dbl&gt;</th><th scope=col>&lt;dbl&gt;</th><th scope=col>&lt;dbl&gt;</th><th scope=col>&lt;dbl&gt;</th><th scope=col>&lt;dbl&gt;</th><th scope=col>&lt;dbl&gt;</th><th scope=col>&lt;dbl&gt;</th><th scope=col>&lt;int&gt;</th><th scope=col>&lt;int&gt;</th></tr>\n",
       "</thead>\n",
       "<tbody>\n",
       "\t<tr><td>0.9810653</td><td>0.9802763</td><td>0.1404409</td><td>1243.514</td><td>4.510314e-42</td><td>2</td><td>29.29145</td><td>-50.58289</td><td>-42.85559</td><td>0.9467354</td><td>48</td><td>51</td></tr>\n",
       "</tbody>\n",
       "</table>\n"
      ],
      "text/latex": [
       "A tibble: 1 × 12\n",
       "\\begin{tabular}{llllllllllll}\n",
       " r.squared & adj.r.squared & sigma & statistic & p.value & df & logLik & AIC & BIC & deviance & df.residual & nobs\\\\\n",
       " <dbl> & <dbl> & <dbl> & <dbl> & <dbl> & <dbl> & <dbl> & <dbl> & <dbl> & <dbl> & <int> & <int>\\\\\n",
       "\\hline\n",
       "\t 0.9810653 & 0.9802763 & 0.1404409 & 1243.514 & 4.510314e-42 & 2 & 29.29145 & -50.58289 & -42.85559 & 0.9467354 & 48 & 51\\\\\n",
       "\\end{tabular}\n"
      ],
      "text/markdown": [
       "\n",
       "A tibble: 1 × 12\n",
       "\n",
       "| r.squared &lt;dbl&gt; | adj.r.squared &lt;dbl&gt; | sigma &lt;dbl&gt; | statistic &lt;dbl&gt; | p.value &lt;dbl&gt; | df &lt;dbl&gt; | logLik &lt;dbl&gt; | AIC &lt;dbl&gt; | BIC &lt;dbl&gt; | deviance &lt;dbl&gt; | df.residual &lt;int&gt; | nobs &lt;int&gt; |\n",
       "|---|---|---|---|---|---|---|---|---|---|---|---|\n",
       "| 0.9810653 | 0.9802763 | 0.1404409 | 1243.514 | 4.510314e-42 | 2 | 29.29145 | -50.58289 | -42.85559 | 0.9467354 | 48 | 51 |\n",
       "\n"
      ],
      "text/plain": [
       "      r.squared adj.r.squared sigma     statistic p.value      df logLik  \n",
       "value 0.9810653 0.9802763     0.1404409 1243.514  4.510314e-42 2  29.29145\n",
       "      AIC       BIC       deviance  df.residual nobs\n",
       "value -50.58289 -42.85559 0.9467354 48          51  "
      ]
     },
     "metadata": {},
     "output_type": "display_data"
    }
   ],
   "source": [
    "model10 <- lm(output ~ labor + capital, data = df_standardized)\n",
    "tidy(model10)\n",
    "glance(model10)"
   ]
  },
  {
   "cell_type": "code",
   "execution_count": 38,
   "id": "161e0609-90b7-4ed6-ad8d-497a48b9987a",
   "metadata": {},
   "outputs": [
    {
     "data": {
      "text/html": [
       "'2.43315712814819e-17 is almost zero'"
      ],
      "text/latex": [
       "'2.43315712814819e-17 is almost zero'"
      ],
      "text/markdown": [
       "'2.43315712814819e-17 is almost zero'"
      ],
      "text/plain": [
       "[1] \"2.43315712814819e-17 is almost zero\""
      ]
     },
     "metadata": {},
     "output_type": "display_data"
    }
   ],
   "source": [
    "intercept = tidy(model10)[[1,2]]\n",
    "\n",
    "ifelse(intercept < .Machine$double.eps,\n",
    "                 paste(intercept, \"is almost zero\"),\n",
    "                 paste(intercept, \"is not almost zero\"))"
   ]
  },
  {
   "cell_type": "markdown",
   "id": "629ea8cd-e135-4ea2-9fb8-bbe40ba5e638",
   "metadata": {},
   "source": [
    "**labor coefficient:** if labor increases by one standard deviation unit, average value of output goes up by about 0.40 standard deviation units, cetris paribus"
   ]
  },
  {
   "cell_type": "markdown",
   "id": "be39670b-820f-43c8-81d9-fd2f399842a3",
   "metadata": {},
   "source": [
    "**capital coefficient:** if labor increases by one standard deviation unit, average value of output goes up by about 0.60 standard deviation units, cetris paribus"
   ]
  },
  {
   "cell_type": "markdown",
   "id": "cd0ed171-486b-4385-9bc7-bf24521ff0c3",
   "metadata": {},
   "source": [
    "**Note:** same $R^2, t, F$  \n",
    "does not mean that capital is more important than labor"
   ]
  },
  {
   "cell_type": "markdown",
   "id": "1d72ab7a-45fb-464b-ac0f-95378eaa7431",
   "metadata": {},
   "source": [
    "## Regression through the origin: zero intercept model"
   ]
  },
  {
   "cell_type": "markdown",
   "id": "e060d641-1e0a-4ce9-935b-c2af48d7d404",
   "metadata": {},
   "source": [
    "### capital asset price model (CAPM)"
   ]
  },
  {
   "cell_type": "markdown",
   "id": "d30af4ea-e9be-4ef8-9fb8-5f7f0337e732",
   "metadata": {},
   "source": [
    "\\begin{align}\n",
    "(ER_i-r_f) &= \\beta_i(ER_m-r_f)\\\\\n",
    "ER_i &= \\text{expected rate of return on security}\\\\\n",
    "ER_m &= \\text{expected rate of return on market portfolio}\\\\\n",
    "r_f &= \\text{risk free rate of return} \\\\\n",
    "\\beta_i &= \\text{systematic risk}\n",
    "\\end{align}"
   ]
  },
  {
   "cell_type": "markdown",
   "id": "447786c4-f1f0-4211-b1b8-178b1db0c550",
   "metadata": {},
   "source": [
    "To estimate"
   ]
  },
  {
   "cell_type": "markdown",
   "id": "1c6641a8-f99f-4813-884f-5ffdd94fe122",
   "metadata": {},
   "source": [
    "$$ (R_i-r_f) = \\beta_i(R_m-r_f) + u_i$$"
   ]
  },
  {
   "cell_type": "markdown",
   "id": "245c17b5-9678-405a-a4c3-46f73c4dfc9f",
   "metadata": {},
   "source": [
    "Where $R_i, R_m$ are observed rates of return"
   ]
  },
  {
   "cell_type": "markdown",
   "id": "7666220e-f7fb-463e-b943-a51987ee263b",
   "metadata": {},
   "source": [
    "Let"
   ]
  },
  {
   "cell_type": "markdown",
   "id": "b244bf9c-5c24-40bf-94c4-e366109eabb1",
   "metadata": {},
   "source": [
    "\\begin{align}\n",
    "Y_i = R_i - r_f = \\text{rate of return on security i in excess of the risk-free rate of return}\\\\\n",
    "X_i = R_m - r_f = \\text{rate of return on market  in excess of the risk-free rate of return}\n",
    "\\end{align}"
   ]
  },
  {
   "cell_type": "markdown",
   "id": "014b0628-a758-4367-be2d-416fe78c704c",
   "metadata": {},
   "source": [
    "$$ Y_i = \\beta X_i + u_i $$"
   ]
  },
  {
   "cell_type": "code",
   "execution_count": 39,
   "id": "4148ba67-9bcd-4b2e-8cca-af9d83e432a6",
   "metadata": {},
   "outputs": [
    {
     "data": {
      "text/html": [
       "<table class=\"dataframe\">\n",
       "<caption>A tibble: 3 × 2</caption>\n",
       "<thead>\n",
       "\t<tr><th scope=col>y</th><th scope=col>x</th></tr>\n",
       "\t<tr><th scope=col>&lt;dbl&gt;</th><th scope=col>&lt;dbl&gt;</th></tr>\n",
       "</thead>\n",
       "<tbody>\n",
       "\t<tr><td> 6.080228</td><td> 7.263448</td></tr>\n",
       "\t<tr><td>-0.924186</td><td> 6.339896</td></tr>\n",
       "\t<tr><td>-3.286174</td><td>-9.285217</td></tr>\n",
       "</tbody>\n",
       "</table>\n"
      ],
      "text/latex": [
       "A tibble: 3 × 2\n",
       "\\begin{tabular}{ll}\n",
       " y & x\\\\\n",
       " <dbl> & <dbl>\\\\\n",
       "\\hline\n",
       "\t  6.080228 &  7.263448\\\\\n",
       "\t -0.924186 &  6.339896\\\\\n",
       "\t -3.286174 & -9.285217\\\\\n",
       "\\end{tabular}\n"
      ],
      "text/markdown": [
       "\n",
       "A tibble: 3 × 2\n",
       "\n",
       "| y &lt;dbl&gt; | x &lt;dbl&gt; |\n",
       "|---|---|\n",
       "|  6.080228 |  7.263448 |\n",
       "| -0.924186 |  6.339896 |\n",
       "| -3.286174 | -9.285217 |\n",
       "\n"
      ],
      "text/plain": [
       "  y         x        \n",
       "1  6.080228  7.263448\n",
       "2 -0.924186  6.339896\n",
       "3 -3.286174 -9.285217"
      ]
     },
     "metadata": {},
     "output_type": "display_data"
    },
    {
     "data": {
      "text/html": [
       "<style>\n",
       ".list-inline {list-style: none; margin:0; padding: 0}\n",
       ".list-inline>li {display: inline-block}\n",
       ".list-inline>li:not(:last-child)::after {content: \"\\00b7\"; padding: 0 .5ex}\n",
       "</style>\n",
       "<ol class=list-inline><li>240</li><li>2</li></ol>\n"
      ],
      "text/latex": [
       "\\begin{enumerate*}\n",
       "\\item 240\n",
       "\\item 2\n",
       "\\end{enumerate*}\n"
      ],
      "text/markdown": [
       "1. 240\n",
       "2. 2\n",
       "\n",
       "\n"
      ],
      "text/plain": [
       "[1] 240   2"
      ]
     },
     "metadata": {},
     "output_type": "display_data"
    }
   ],
   "source": [
    "df4 <- read_excel(\"G:/Datasets/Econometrics BY Example/Excel/Table2_15.xls\")\n",
    "head(df4,3)\n",
    "dim(df4)"
   ]
  },
  {
   "cell_type": "code",
   "execution_count": 40,
   "id": "5e033c67-648e-4f85-95e9-7785e659648e",
   "metadata": {},
   "outputs": [],
   "source": [
    "model11 <- lm(y ~ 0 + x, data = df4)\n",
    "model12 <- lm(y ~ x, data = df4)"
   ]
  },
  {
   "cell_type": "code",
   "execution_count": 41,
   "id": "d34eca1f-2111-4cc5-bf2b-c62601f583bf",
   "metadata": {},
   "outputs": [
    {
     "data": {
      "text/html": [
       "<table class=\"dataframe\">\n",
       "<caption>A tibble: 1 × 5</caption>\n",
       "<thead>\n",
       "\t<tr><th scope=col>term</th><th scope=col>estimate</th><th scope=col>std.error</th><th scope=col>statistic</th><th scope=col>p.value</th></tr>\n",
       "\t<tr><th scope=col>&lt;chr&gt;</th><th scope=col>&lt;dbl&gt;</th><th scope=col>&lt;dbl&gt;</th><th scope=col>&lt;dbl&gt;</th><th scope=col>&lt;dbl&gt;</th></tr>\n",
       "</thead>\n",
       "<tbody>\n",
       "\t<tr><td>x</td><td>1.155512</td><td>0.07439562</td><td>15.532</td><td>4.405444e-38</td></tr>\n",
       "</tbody>\n",
       "</table>\n"
      ],
      "text/latex": [
       "A tibble: 1 × 5\n",
       "\\begin{tabular}{lllll}\n",
       " term & estimate & std.error & statistic & p.value\\\\\n",
       " <chr> & <dbl> & <dbl> & <dbl> & <dbl>\\\\\n",
       "\\hline\n",
       "\t x & 1.155512 & 0.07439562 & 15.532 & 4.405444e-38\\\\\n",
       "\\end{tabular}\n"
      ],
      "text/markdown": [
       "\n",
       "A tibble: 1 × 5\n",
       "\n",
       "| term &lt;chr&gt; | estimate &lt;dbl&gt; | std.error &lt;dbl&gt; | statistic &lt;dbl&gt; | p.value &lt;dbl&gt; |\n",
       "|---|---|---|---|---|\n",
       "| x | 1.155512 | 0.07439562 | 15.532 | 4.405444e-38 |\n",
       "\n"
      ],
      "text/plain": [
       "  term estimate std.error  statistic p.value     \n",
       "1 x    1.155512 0.07439562 15.532    4.405444e-38"
      ]
     },
     "metadata": {},
     "output_type": "display_data"
    },
    {
     "data": {
      "text/html": [
       "<table class=\"dataframe\">\n",
       "<caption>A tibble: 1 × 12</caption>\n",
       "<thead>\n",
       "\t<tr><th scope=col>r.squared</th><th scope=col>adj.r.squared</th><th scope=col>sigma</th><th scope=col>statistic</th><th scope=col>p.value</th><th scope=col>df</th><th scope=col>logLik</th><th scope=col>AIC</th><th scope=col>BIC</th><th scope=col>deviance</th><th scope=col>df.residual</th><th scope=col>nobs</th></tr>\n",
       "\t<tr><th scope=col>&lt;dbl&gt;</th><th scope=col>&lt;dbl&gt;</th><th scope=col>&lt;dbl&gt;</th><th scope=col>&lt;dbl&gt;</th><th scope=col>&lt;dbl&gt;</th><th scope=col>&lt;dbl&gt;</th><th scope=col>&lt;dbl&gt;</th><th scope=col>&lt;dbl&gt;</th><th scope=col>&lt;dbl&gt;</th><th scope=col>&lt;dbl&gt;</th><th scope=col>&lt;int&gt;</th><th scope=col>&lt;int&gt;</th></tr>\n",
       "</thead>\n",
       "<tbody>\n",
       "\t<tr><td>0.5023352</td><td>0.5002529</td><td>5.548786</td><td>NA</td><td>NA</td><td>NA</td><td>-751.3032</td><td>1506.606</td><td>1513.568</td><td>7358.578</td><td>239</td><td>240</td></tr>\n",
       "</tbody>\n",
       "</table>\n"
      ],
      "text/latex": [
       "A tibble: 1 × 12\n",
       "\\begin{tabular}{llllllllllll}\n",
       " r.squared & adj.r.squared & sigma & statistic & p.value & df & logLik & AIC & BIC & deviance & df.residual & nobs\\\\\n",
       " <dbl> & <dbl> & <dbl> & <dbl> & <dbl> & <dbl> & <dbl> & <dbl> & <dbl> & <dbl> & <int> & <int>\\\\\n",
       "\\hline\n",
       "\t 0.5023352 & 0.5002529 & 5.548786 & NA & NA & NA & -751.3032 & 1506.606 & 1513.568 & 7358.578 & 239 & 240\\\\\n",
       "\\end{tabular}\n"
      ],
      "text/markdown": [
       "\n",
       "A tibble: 1 × 12\n",
       "\n",
       "| r.squared &lt;dbl&gt; | adj.r.squared &lt;dbl&gt; | sigma &lt;dbl&gt; | statistic &lt;dbl&gt; | p.value &lt;dbl&gt; | df &lt;dbl&gt; | logLik &lt;dbl&gt; | AIC &lt;dbl&gt; | BIC &lt;dbl&gt; | deviance &lt;dbl&gt; | df.residual &lt;int&gt; | nobs &lt;int&gt; |\n",
       "|---|---|---|---|---|---|---|---|---|---|---|---|\n",
       "| 0.5023352 | 0.5002529 | 5.548786 | NA | NA | NA | -751.3032 | 1506.606 | 1513.568 | 7358.578 | 239 | 240 |\n",
       "\n"
      ],
      "text/plain": [
       "  r.squared adj.r.squared sigma    statistic p.value df logLik    AIC     \n",
       "1 0.5023352 0.5002529     5.548786 NA        NA      NA -751.3032 1506.606\n",
       "  BIC      deviance df.residual nobs\n",
       "1 1513.568 7358.578 239         240 "
      ]
     },
     "metadata": {},
     "output_type": "display_data"
    }
   ],
   "source": [
    "tidy(model11)\n",
    "glance(model11)"
   ]
  },
  {
   "cell_type": "markdown",
   "id": "31936a70-7eaa-429c-a03c-aa02db266779",
   "metadata": {},
   "source": [
    "**Raw $R^2$:**  0.5  \n",
    "proportion of variation around the origin"
   ]
  },
  {
   "cell_type": "code",
   "execution_count": 42,
   "id": "6d369ce6-0443-473b-8674-838acd7c8495",
   "metadata": {},
   "outputs": [
    {
     "data": {
      "text/html": [
       "<table class=\"dataframe\">\n",
       "<caption>A tibble: 2 × 5</caption>\n",
       "<thead>\n",
       "\t<tr><th scope=col>term</th><th scope=col>estimate</th><th scope=col>std.error</th><th scope=col>statistic</th><th scope=col>p.value</th></tr>\n",
       "\t<tr><th scope=col>&lt;chr&gt;</th><th scope=col>&lt;dbl&gt;</th><th scope=col>&lt;dbl&gt;</th><th scope=col>&lt;dbl&gt;</th><th scope=col>&lt;dbl&gt;</th></tr>\n",
       "</thead>\n",
       "<tbody>\n",
       "\t<tr><td>(Intercept)</td><td>-0.4474811</td><td>0.36294281</td><td>-1.232925</td><td>2.188203e-01</td></tr>\n",
       "\t<tr><td>x          </td><td> 1.1711284</td><td>0.07538643</td><td>15.535004</td><td>4.752177e-38</td></tr>\n",
       "</tbody>\n",
       "</table>\n"
      ],
      "text/latex": [
       "A tibble: 2 × 5\n",
       "\\begin{tabular}{lllll}\n",
       " term & estimate & std.error & statistic & p.value\\\\\n",
       " <chr> & <dbl> & <dbl> & <dbl> & <dbl>\\\\\n",
       "\\hline\n",
       "\t (Intercept) & -0.4474811 & 0.36294281 & -1.232925 & 2.188203e-01\\\\\n",
       "\t x           &  1.1711284 & 0.07538643 & 15.535004 & 4.752177e-38\\\\\n",
       "\\end{tabular}\n"
      ],
      "text/markdown": [
       "\n",
       "A tibble: 2 × 5\n",
       "\n",
       "| term &lt;chr&gt; | estimate &lt;dbl&gt; | std.error &lt;dbl&gt; | statistic &lt;dbl&gt; | p.value &lt;dbl&gt; |\n",
       "|---|---|---|---|---|\n",
       "| (Intercept) | -0.4474811 | 0.36294281 | -1.232925 | 2.188203e-01 |\n",
       "| x           |  1.1711284 | 0.07538643 | 15.535004 | 4.752177e-38 |\n",
       "\n"
      ],
      "text/plain": [
       "  term        estimate   std.error  statistic p.value     \n",
       "1 (Intercept) -0.4474811 0.36294281 -1.232925 2.188203e-01\n",
       "2 x            1.1711284 0.07538643 15.535004 4.752177e-38"
      ]
     },
     "metadata": {},
     "output_type": "display_data"
    },
    {
     "data": {
      "text/html": [
       "<table class=\"dataframe\">\n",
       "<caption>A tibble: 1 × 12</caption>\n",
       "<thead>\n",
       "\t<tr><th scope=col>r.squared</th><th scope=col>adj.r.squared</th><th scope=col>sigma</th><th scope=col>statistic</th><th scope=col>p.value</th><th scope=col>df</th><th scope=col>logLik</th><th scope=col>AIC</th><th scope=col>BIC</th><th scope=col>deviance</th><th scope=col>df.residual</th><th scope=col>nobs</th></tr>\n",
       "\t<tr><th scope=col>&lt;dbl&gt;</th><th scope=col>&lt;dbl&gt;</th><th scope=col>&lt;dbl&gt;</th><th scope=col>&lt;dbl&gt;</th><th scope=col>&lt;dbl&gt;</th><th scope=col>&lt;dbl&gt;</th><th scope=col>&lt;dbl&gt;</th><th scope=col>&lt;dbl&gt;</th><th scope=col>&lt;dbl&gt;</th><th scope=col>&lt;dbl&gt;</th><th scope=col>&lt;int&gt;</th><th scope=col>&lt;int&gt;</th></tr>\n",
       "</thead>\n",
       "<tbody>\n",
       "\t<tr><td>0.5034802</td><td>0.501394</td><td>5.542759</td><td>241.3363</td><td>4.752177e-38</td><td>1</td><td>-750.5392</td><td>1507.078</td><td>1517.52</td><td>7311.877</td><td>238</td><td>240</td></tr>\n",
       "</tbody>\n",
       "</table>\n"
      ],
      "text/latex": [
       "A tibble: 1 × 12\n",
       "\\begin{tabular}{llllllllllll}\n",
       " r.squared & adj.r.squared & sigma & statistic & p.value & df & logLik & AIC & BIC & deviance & df.residual & nobs\\\\\n",
       " <dbl> & <dbl> & <dbl> & <dbl> & <dbl> & <dbl> & <dbl> & <dbl> & <dbl> & <dbl> & <int> & <int>\\\\\n",
       "\\hline\n",
       "\t 0.5034802 & 0.501394 & 5.542759 & 241.3363 & 4.752177e-38 & 1 & -750.5392 & 1507.078 & 1517.52 & 7311.877 & 238 & 240\\\\\n",
       "\\end{tabular}\n"
      ],
      "text/markdown": [
       "\n",
       "A tibble: 1 × 12\n",
       "\n",
       "| r.squared &lt;dbl&gt; | adj.r.squared &lt;dbl&gt; | sigma &lt;dbl&gt; | statistic &lt;dbl&gt; | p.value &lt;dbl&gt; | df &lt;dbl&gt; | logLik &lt;dbl&gt; | AIC &lt;dbl&gt; | BIC &lt;dbl&gt; | deviance &lt;dbl&gt; | df.residual &lt;int&gt; | nobs &lt;int&gt; |\n",
       "|---|---|---|---|---|---|---|---|---|---|---|---|\n",
       "| 0.5034802 | 0.501394 | 5.542759 | 241.3363 | 4.752177e-38 | 1 | -750.5392 | 1507.078 | 1517.52 | 7311.877 | 238 | 240 |\n",
       "\n"
      ],
      "text/plain": [
       "      r.squared adj.r.squared sigma    statistic p.value      df logLik   \n",
       "value 0.5034802 0.501394      5.542759 241.3363  4.752177e-38 1  -750.5392\n",
       "      AIC      BIC     deviance df.residual nobs\n",
       "value 1507.078 1517.52 7311.877 238         240 "
      ]
     },
     "metadata": {},
     "output_type": "display_data"
    }
   ],
   "source": [
    "tidy(model12)\n",
    "glance(model12)"
   ]
  },
  {
   "cell_type": "code",
   "execution_count": 43,
   "id": "1522d2b2-9e54-4521-91fd-de3fed5e2433",
   "metadata": {},
   "outputs": [
    {
     "data": {
      "text/html": [
       "0.218820272828606"
      ],
      "text/latex": [
       "0.218820272828606"
      ],
      "text/markdown": [
       "0.218820272828606"
      ],
      "text/plain": [
       "[1] 0.2188203"
      ]
     },
     "metadata": {},
     "output_type": "display_data"
    }
   ],
   "source": [
    "as.numeric(tidy(model12)[[1,'p.value']])"
   ]
  },
  {
   "cell_type": "markdown",
   "id": "7404df91-1b10-4e79-a716-78926f88ab21",
   "metadata": {},
   "source": [
    "**Intercept:** not significant, use model11 instead"
   ]
  },
  {
   "cell_type": "markdown",
   "id": "9b363064-6a7d-4ee5-a768-8e7a22acc1d9",
   "metadata": {},
   "source": [
    "## Measures of goodness of fit"
   ]
  },
  {
   "cell_type": "code",
   "execution_count": 44,
   "id": "156244ec-5497-492c-a986-052431f11782",
   "metadata": {},
   "outputs": [
    {
     "name": "stdout",
     "output_type": "stream",
     "text": [
      "[1] \"R Squared:  0.503480169868958\"\n"
     ]
    }
   ],
   "source": [
    "print(paste(\"R Squared: \",glance(model12)$r.squared))"
   ]
  },
  {
   "cell_type": "code",
   "execution_count": 45,
   "id": "fb38b54d-6023-42f0-8600-f89854ea7028",
   "metadata": {},
   "outputs": [
    {
     "name": "stdout",
     "output_type": "stream",
     "text": [
      "[1] \"Adjusted R Squared:  0.501393952095298\"\n"
     ]
    }
   ],
   "source": [
    "print(paste(\"Adjusted R Squared: \",glance(model12)$adj.r.squared))"
   ]
  },
  {
   "cell_type": "code",
   "execution_count": 46,
   "id": "82457148-8893-4c12-a96d-75e5db7ca9e3",
   "metadata": {},
   "outputs": [
    {
     "name": "stdout",
     "output_type": "stream",
     "text": [
      "[1] \"Akaike's Information Criteria:  1507.07843469119\"\n"
     ]
    }
   ],
   "source": [
    "print(paste(\"Akaike's Information Criteria: \", glance(model12)$AIC))"
   ]
  },
  {
   "cell_type": "code",
   "execution_count": 47,
   "id": "1b7d5862-8a71-47bc-a1b4-591a12b15f88",
   "metadata": {},
   "outputs": [
    {
     "name": "stdout",
     "output_type": "stream",
     "text": [
      "[1] \"Schwarz’s Information Criterion: 1517.52035146121\"\n"
     ]
    }
   ],
   "source": [
    "print(paste(\"Schwarz’s Information Criterion:\",glance(model12)$BIC))"
   ]
  },
  {
   "cell_type": "code",
   "execution_count": 48,
   "id": "f6cab924-79a0-4024-b9f6-3b9a236be630",
   "metadata": {},
   "outputs": [
    {
     "name": "stdout",
     "output_type": "stream",
     "text": [
      "[1] \"Log Likelihood: -750.539217345594\"\n"
     ]
    }
   ],
   "source": [
    "print(paste(\"Log Likelihood:\",glance(model12)$logLik))"
   ]
  },
  {
   "cell_type": "code",
   "execution_count": 49,
   "id": "e4a97ab3-ae53-4bfe-83fb-a4e7e5ac02ed",
   "metadata": {},
   "outputs": [
    {
     "data": {
      "text/html": [
       "<style>\n",
       ".list-inline {list-style: none; margin:0; padding: 0}\n",
       ".list-inline>li {display: inline-block}\n",
       ".list-inline>li:not(:last-child)::after {content: \"\\00b7\"; padding: 0 .5ex}\n",
       "</style>\n",
       "<ol class=list-inline><li>'r.squared'</li><li>'adj.r.squared'</li><li>'sigma'</li><li>'statistic'</li><li>'p.value'</li><li>'df'</li><li>'logLik'</li><li>'AIC'</li><li>'BIC'</li><li>'deviance'</li><li>'df.residual'</li><li>'nobs'</li></ol>\n"
      ],
      "text/latex": [
       "\\begin{enumerate*}\n",
       "\\item 'r.squared'\n",
       "\\item 'adj.r.squared'\n",
       "\\item 'sigma'\n",
       "\\item 'statistic'\n",
       "\\item 'p.value'\n",
       "\\item 'df'\n",
       "\\item 'logLik'\n",
       "\\item 'AIC'\n",
       "\\item 'BIC'\n",
       "\\item 'deviance'\n",
       "\\item 'df.residual'\n",
       "\\item 'nobs'\n",
       "\\end{enumerate*}\n"
      ],
      "text/markdown": [
       "1. 'r.squared'\n",
       "2. 'adj.r.squared'\n",
       "3. 'sigma'\n",
       "4. 'statistic'\n",
       "5. 'p.value'\n",
       "6. 'df'\n",
       "7. 'logLik'\n",
       "8. 'AIC'\n",
       "9. 'BIC'\n",
       "10. 'deviance'\n",
       "11. 'df.residual'\n",
       "12. 'nobs'\n",
       "\n",
       "\n"
      ],
      "text/plain": [
       " [1] \"r.squared\"     \"adj.r.squared\" \"sigma\"         \"statistic\"    \n",
       " [5] \"p.value\"       \"df\"            \"logLik\"        \"AIC\"          \n",
       " [9] \"BIC\"           \"deviance\"      \"df.residual\"   \"nobs\"         "
      ]
     },
     "metadata": {},
     "output_type": "display_data"
    }
   ],
   "source": [
    "colnames(glance(model12))"
   ]
  },
  {
   "cell_type": "markdown",
   "id": "62914ccc-fac3-4c86-876c-7934a91c9a37",
   "metadata": {},
   "source": [
    "# Exercises"
   ]
  },
  {
   "cell_type": "markdown",
   "id": "dfa0e4f9-5905-4f48-9936-be7d3b07542f",
   "metadata": {},
   "source": [
    "## 2.1\n",
    "Consider the following production function, known in the literature as the\n",
    "transcendental production function (TPF)\n"
   ]
  },
  {
   "cell_type": "markdown",
   "id": "5c25a9a2-9557-490a-a1b3-141b3afcd38e",
   "metadata": {},
   "source": [
    "$$\n",
    "Q_i = B_1L_i^{\\beta_2} K_i^{\\beta_3} e^{\\beta_4L_i+ \\beta_5K_i}  \\\\\n",
    "$$\n",
    "$\\text{where Q, L, and K represent output, labor, and capital, respectively}$"
   ]
  },
  {
   "cell_type": "markdown",
   "id": "928993d0-8cfb-4f3f-8946-42e0d2e7310b",
   "metadata": {},
   "source": [
    "### a\n",
    "How would you linearize this function?"
   ]
  },
  {
   "cell_type": "markdown",
   "id": "d241850b-2e12-4fa8-bdf2-c273b0f3dbf7",
   "metadata": {},
   "source": [
    "$$\n",
    "\\ln Q_i = \\ln \\beta_1 + \\beta_2 \\ln L_i + \\beta_3 \\ln K_i + \\beta_4 L_i + \\beta_5 K_i\n",
    "$$"
   ]
  },
  {
   "cell_type": "markdown",
   "id": "7f3340c8-f23f-41ca-afa0-f792fb6727fd",
   "metadata": {},
   "source": [
    "### b"
   ]
  },
  {
   "cell_type": "markdown",
   "id": "5d5f4b34-4c61-4f4a-a038-16bfb70be4e1",
   "metadata": {},
   "source": [
    "What is the interpretation of the various coefficients in the TPF?"
   ]
  },
  {
   "cell_type": "markdown",
   "id": "fa576260-23f0-4c65-899a-1da2b8345fc0",
   "metadata": {},
   "source": [
    "**$\\beta_1$:** y intercept  \n",
    "**labor:** elasticity = $\\beta_2 + \\beta_4 L_i$  \n",
    "**capital:**: elasticity = $\\beta_3 + \\beta_5 K_i$"
   ]
  },
  {
   "cell_type": "markdown",
   "id": "673e4914-1ad4-4859-bb7b-0e00abe0788c",
   "metadata": {},
   "source": [
    "### c\n",
    "Given the data in Table 2.1, estimate the parameters of the TPF"
   ]
  },
  {
   "cell_type": "code",
   "execution_count": 52,
   "id": "ae56bbdc-1d05-4378-a8ce-c484b6ce4492",
   "metadata": {},
   "outputs": [
    {
     "data": {
      "text/html": [
       "<table class=\"dataframe\">\n",
       "<caption>A tibble: 6 × 12</caption>\n",
       "<thead>\n",
       "\t<tr><th scope=col>obs</th><th scope=col>output</th><th scope=col>labor</th><th scope=col>capital</th><th scope=col>lnoutput</th><th scope=col>lnlabor</th><th scope=col>lncapital</th><th scope=col>lnoutlab</th><th scope=col>lncaplab</th><th scope=col>outputstar</th><th scope=col>capitalstar</th><th scope=col>laborstar</th></tr>\n",
       "\t<tr><th scope=col>&lt;dbl&gt;</th><th scope=col>&lt;dbl&gt;</th><th scope=col>&lt;dbl&gt;</th><th scope=col>&lt;dbl&gt;</th><th scope=col>&lt;dbl&gt;</th><th scope=col>&lt;dbl&gt;</th><th scope=col>&lt;dbl&gt;</th><th scope=col>&lt;dbl&gt;</th><th scope=col>&lt;dbl&gt;</th><th scope=col>&lt;dbl&gt;</th><th scope=col>&lt;dbl&gt;</th><th scope=col>&lt;dbl&gt;</th></tr>\n",
       "</thead>\n",
       "<tbody>\n",
       "\t<tr><td>1</td><td> 38372840</td><td> 424471</td><td> 2689076</td><td>17.46286</td><td>12.958599</td><td>14.80471</td><td>4.504261</td><td>1.846109</td><td>-0.1079874</td><td> 0.06368887</td><td> 0.1343891</td></tr>\n",
       "\t<tr><td>2</td><td>  1805427</td><td>  19895</td><td>   57997</td><td>14.40631</td><td> 9.898224</td><td>10.96815</td><td>4.508084</td><td>1.069923</td><td>-0.9230660</td><td>-0.90551400</td><td>-0.9410533</td></tr>\n",
       "\t<tr><td>3</td><td> 23736129</td><td> 206893</td><td> 2308272</td><td>16.98251</td><td>12.239957</td><td>14.65201</td><td>4.742552</td><td>2.412053</td><td>-0.4342360</td><td>-0.07658678</td><td>-0.4439759</td></tr>\n",
       "\t<tr><td>4</td><td> 26981983</td><td> 304055</td><td> 1376235</td><td>17.11068</td><td>12.624964</td><td>14.13486</td><td>4.485716</td><td>1.509898</td><td>-0.3618868</td><td>-0.41991854</td><td>-0.1857003</td></tr>\n",
       "\t<tr><td>5</td><td>217546032</td><td>1809756</td><td>13554116</td><td>19.19792</td><td>14.408703</td><td>16.42220</td><td>4.789218</td><td>2.013498</td><td> 3.8857391</td><td> 4.06601191</td><td> 3.8167481</td></tr>\n",
       "\t<tr><td>6</td><td> 19462751</td><td> 180366</td><td> 1790751</td><td>16.78401</td><td>12.102743</td><td>14.39815</td><td>4.681270</td><td>2.295402</td><td>-0.5294886</td><td>-0.26722449</td><td>-0.5144899</td></tr>\n",
       "</tbody>\n",
       "</table>\n"
      ],
      "text/latex": [
       "A tibble: 6 × 12\n",
       "\\begin{tabular}{llllllllllll}\n",
       " obs & output & labor & capital & lnoutput & lnlabor & lncapital & lnoutlab & lncaplab & outputstar & capitalstar & laborstar\\\\\n",
       " <dbl> & <dbl> & <dbl> & <dbl> & <dbl> & <dbl> & <dbl> & <dbl> & <dbl> & <dbl> & <dbl> & <dbl>\\\\\n",
       "\\hline\n",
       "\t 1 &  38372840 &  424471 &  2689076 & 17.46286 & 12.958599 & 14.80471 & 4.504261 & 1.846109 & -0.1079874 &  0.06368887 &  0.1343891\\\\\n",
       "\t 2 &   1805427 &   19895 &    57997 & 14.40631 &  9.898224 & 10.96815 & 4.508084 & 1.069923 & -0.9230660 & -0.90551400 & -0.9410533\\\\\n",
       "\t 3 &  23736129 &  206893 &  2308272 & 16.98251 & 12.239957 & 14.65201 & 4.742552 & 2.412053 & -0.4342360 & -0.07658678 & -0.4439759\\\\\n",
       "\t 4 &  26981983 &  304055 &  1376235 & 17.11068 & 12.624964 & 14.13486 & 4.485716 & 1.509898 & -0.3618868 & -0.41991854 & -0.1857003\\\\\n",
       "\t 5 & 217546032 & 1809756 & 13554116 & 19.19792 & 14.408703 & 16.42220 & 4.789218 & 2.013498 &  3.8857391 &  4.06601191 &  3.8167481\\\\\n",
       "\t 6 &  19462751 &  180366 &  1790751 & 16.78401 & 12.102743 & 14.39815 & 4.681270 & 2.295402 & -0.5294886 & -0.26722449 & -0.5144899\\\\\n",
       "\\end{tabular}\n"
      ],
      "text/markdown": [
       "\n",
       "A tibble: 6 × 12\n",
       "\n",
       "| obs &lt;dbl&gt; | output &lt;dbl&gt; | labor &lt;dbl&gt; | capital &lt;dbl&gt; | lnoutput &lt;dbl&gt; | lnlabor &lt;dbl&gt; | lncapital &lt;dbl&gt; | lnoutlab &lt;dbl&gt; | lncaplab &lt;dbl&gt; | outputstar &lt;dbl&gt; | capitalstar &lt;dbl&gt; | laborstar &lt;dbl&gt; |\n",
       "|---|---|---|---|---|---|---|---|---|---|---|---|\n",
       "| 1 |  38372840 |  424471 |  2689076 | 17.46286 | 12.958599 | 14.80471 | 4.504261 | 1.846109 | -0.1079874 |  0.06368887 |  0.1343891 |\n",
       "| 2 |   1805427 |   19895 |    57997 | 14.40631 |  9.898224 | 10.96815 | 4.508084 | 1.069923 | -0.9230660 | -0.90551400 | -0.9410533 |\n",
       "| 3 |  23736129 |  206893 |  2308272 | 16.98251 | 12.239957 | 14.65201 | 4.742552 | 2.412053 | -0.4342360 | -0.07658678 | -0.4439759 |\n",
       "| 4 |  26981983 |  304055 |  1376235 | 17.11068 | 12.624964 | 14.13486 | 4.485716 | 1.509898 | -0.3618868 | -0.41991854 | -0.1857003 |\n",
       "| 5 | 217546032 | 1809756 | 13554116 | 19.19792 | 14.408703 | 16.42220 | 4.789218 | 2.013498 |  3.8857391 |  4.06601191 |  3.8167481 |\n",
       "| 6 |  19462751 |  180366 |  1790751 | 16.78401 | 12.102743 | 14.39815 | 4.681270 | 2.295402 | -0.5294886 | -0.26722449 | -0.5144899 |\n",
       "\n"
      ],
      "text/plain": [
       "  obs output    labor   capital  lnoutput lnlabor   lncapital lnoutlab lncaplab\n",
       "1 1    38372840  424471  2689076 17.46286 12.958599 14.80471  4.504261 1.846109\n",
       "2 2     1805427   19895    57997 14.40631  9.898224 10.96815  4.508084 1.069923\n",
       "3 3    23736129  206893  2308272 16.98251 12.239957 14.65201  4.742552 2.412053\n",
       "4 4    26981983  304055  1376235 17.11068 12.624964 14.13486  4.485716 1.509898\n",
       "5 5   217546032 1809756 13554116 19.19792 14.408703 16.42220  4.789218 2.013498\n",
       "6 6    19462751  180366  1790751 16.78401 12.102743 14.39815  4.681270 2.295402\n",
       "  outputstar capitalstar laborstar \n",
       "1 -0.1079874  0.06368887  0.1343891\n",
       "2 -0.9230660 -0.90551400 -0.9410533\n",
       "3 -0.4342360 -0.07658678 -0.4439759\n",
       "4 -0.3618868 -0.41991854 -0.1857003\n",
       "5  3.8857391  4.06601191  3.8167481\n",
       "6 -0.5294886 -0.26722449 -0.5144899"
      ]
     },
     "metadata": {},
     "output_type": "display_data"
    }
   ],
   "source": [
    "df5 <- read_excel(\"G:/Datasets/Econometrics BY Example/Excel/Table2_1.xls\")\n",
    "head(df5)"
   ]
  },
  {
   "cell_type": "code",
   "execution_count": 53,
   "id": "92865034-ef9c-4528-b7f7-ce55e8a2e247",
   "metadata": {},
   "outputs": [
    {
     "data": {
      "text/html": [
       "<table class=\"dataframe\">\n",
       "<caption>A tibble: 5 × 5</caption>\n",
       "<thead>\n",
       "\t<tr><th scope=col>term</th><th scope=col>estimate</th><th scope=col>std.error</th><th scope=col>statistic</th><th scope=col>p.value</th></tr>\n",
       "\t<tr><th scope=col>&lt;chr&gt;</th><th scope=col>&lt;dbl&gt;</th><th scope=col>&lt;dbl&gt;</th><th scope=col>&lt;dbl&gt;</th><th scope=col>&lt;dbl&gt;</th></tr>\n",
       "</thead>\n",
       "<tbody>\n",
       "\t<tr><td>(Intercept)</td><td> 3.949841e+00</td><td>5.660371e-01</td><td> 6.9780608</td><td>9.829494e-09</td></tr>\n",
       "\t<tr><td>lnlabor    </td><td> 5.208141e-01</td><td>1.347469e-01</td><td> 3.8651277</td><td>3.465680e-04</td></tr>\n",
       "\t<tr><td>lncapital  </td><td> 4.717828e-01</td><td>1.231899e-01</td><td> 3.8297200</td><td>3.865161e-04</td></tr>\n",
       "\t<tr><td>labor      </td><td>-2.519414e-07</td><td>4.201003e-07</td><td>-0.5997173</td><td>5.516375e-01</td></tr>\n",
       "\t<tr><td>capital    </td><td> 3.552743e-08</td><td>5.299532e-08</td><td> 0.6703880</td><td>5.059624e-01</td></tr>\n",
       "</tbody>\n",
       "</table>\n"
      ],
      "text/latex": [
       "A tibble: 5 × 5\n",
       "\\begin{tabular}{lllll}\n",
       " term & estimate & std.error & statistic & p.value\\\\\n",
       " <chr> & <dbl> & <dbl> & <dbl> & <dbl>\\\\\n",
       "\\hline\n",
       "\t (Intercept) &  3.949841e+00 & 5.660371e-01 &  6.9780608 & 9.829494e-09\\\\\n",
       "\t lnlabor     &  5.208141e-01 & 1.347469e-01 &  3.8651277 & 3.465680e-04\\\\\n",
       "\t lncapital   &  4.717828e-01 & 1.231899e-01 &  3.8297200 & 3.865161e-04\\\\\n",
       "\t labor       & -2.519414e-07 & 4.201003e-07 & -0.5997173 & 5.516375e-01\\\\\n",
       "\t capital     &  3.552743e-08 & 5.299532e-08 &  0.6703880 & 5.059624e-01\\\\\n",
       "\\end{tabular}\n"
      ],
      "text/markdown": [
       "\n",
       "A tibble: 5 × 5\n",
       "\n",
       "| term &lt;chr&gt; | estimate &lt;dbl&gt; | std.error &lt;dbl&gt; | statistic &lt;dbl&gt; | p.value &lt;dbl&gt; |\n",
       "|---|---|---|---|---|\n",
       "| (Intercept) |  3.949841e+00 | 5.660371e-01 |  6.9780608 | 9.829494e-09 |\n",
       "| lnlabor     |  5.208141e-01 | 1.347469e-01 |  3.8651277 | 3.465680e-04 |\n",
       "| lncapital   |  4.717828e-01 | 1.231899e-01 |  3.8297200 | 3.865161e-04 |\n",
       "| labor       | -2.519414e-07 | 4.201003e-07 | -0.5997173 | 5.516375e-01 |\n",
       "| capital     |  3.552743e-08 | 5.299532e-08 |  0.6703880 | 5.059624e-01 |\n",
       "\n"
      ],
      "text/plain": [
       "  term        estimate      std.error    statistic  p.value     \n",
       "1 (Intercept)  3.949841e+00 5.660371e-01  6.9780608 9.829494e-09\n",
       "2 lnlabor      5.208141e-01 1.347469e-01  3.8651277 3.465680e-04\n",
       "3 lncapital    4.717828e-01 1.231899e-01  3.8297200 3.865161e-04\n",
       "4 labor       -2.519414e-07 4.201003e-07 -0.5997173 5.516375e-01\n",
       "5 capital      3.552743e-08 5.299532e-08  0.6703880 5.059624e-01"
      ]
     },
     "metadata": {},
     "output_type": "display_data"
    },
    {
     "data": {
      "text/html": [
       "<table class=\"dataframe\">\n",
       "<caption>A tibble: 1 × 12</caption>\n",
       "<thead>\n",
       "\t<tr><th scope=col>r.squared</th><th scope=col>adj.r.squared</th><th scope=col>sigma</th><th scope=col>statistic</th><th scope=col>p.value</th><th scope=col>df</th><th scope=col>logLik</th><th scope=col>AIC</th><th scope=col>BIC</th><th scope=col>deviance</th><th scope=col>df.residual</th><th scope=col>nobs</th></tr>\n",
       "\t<tr><th scope=col>&lt;dbl&gt;</th><th scope=col>&lt;dbl&gt;</th><th scope=col>&lt;dbl&gt;</th><th scope=col>&lt;dbl&gt;</th><th scope=col>&lt;dbl&gt;</th><th scope=col>&lt;dbl&gt;</th><th scope=col>&lt;dbl&gt;</th><th scope=col>&lt;dbl&gt;</th><th scope=col>&lt;dbl&gt;</th><th scope=col>&lt;dbl&gt;</th><th scope=col>&lt;int&gt;</th><th scope=col>&lt;int&gt;</th></tr>\n",
       "</thead>\n",
       "<tbody>\n",
       "\t<tr><td>0.9645228</td><td>0.9614378</td><td>0.271165</td><td>312.6518</td><td>1.032818e-32</td><td>4</td><td>-3.17825</td><td>18.3565</td><td>29.94745</td><td>3.382401</td><td>46</td><td>51</td></tr>\n",
       "</tbody>\n",
       "</table>\n"
      ],
      "text/latex": [
       "A tibble: 1 × 12\n",
       "\\begin{tabular}{llllllllllll}\n",
       " r.squared & adj.r.squared & sigma & statistic & p.value & df & logLik & AIC & BIC & deviance & df.residual & nobs\\\\\n",
       " <dbl> & <dbl> & <dbl> & <dbl> & <dbl> & <dbl> & <dbl> & <dbl> & <dbl> & <dbl> & <int> & <int>\\\\\n",
       "\\hline\n",
       "\t 0.9645228 & 0.9614378 & 0.271165 & 312.6518 & 1.032818e-32 & 4 & -3.17825 & 18.3565 & 29.94745 & 3.382401 & 46 & 51\\\\\n",
       "\\end{tabular}\n"
      ],
      "text/markdown": [
       "\n",
       "A tibble: 1 × 12\n",
       "\n",
       "| r.squared &lt;dbl&gt; | adj.r.squared &lt;dbl&gt; | sigma &lt;dbl&gt; | statistic &lt;dbl&gt; | p.value &lt;dbl&gt; | df &lt;dbl&gt; | logLik &lt;dbl&gt; | AIC &lt;dbl&gt; | BIC &lt;dbl&gt; | deviance &lt;dbl&gt; | df.residual &lt;int&gt; | nobs &lt;int&gt; |\n",
       "|---|---|---|---|---|---|---|---|---|---|---|---|\n",
       "| 0.9645228 | 0.9614378 | 0.271165 | 312.6518 | 1.032818e-32 | 4 | -3.17825 | 18.3565 | 29.94745 | 3.382401 | 46 | 51 |\n",
       "\n"
      ],
      "text/plain": [
       "      r.squared adj.r.squared sigma    statistic p.value      df logLik  \n",
       "value 0.9645228 0.9614378     0.271165 312.6518  1.032818e-32 4  -3.17825\n",
       "      AIC     BIC      deviance df.residual nobs\n",
       "value 18.3565 29.94745 3.382401 46          51  "
      ]
     },
     "metadata": {},
     "output_type": "display_data"
    }
   ],
   "source": [
    "model13 <- lm(lnoutput ~ lnlabor + lncapital + labor + capital, data = df5)\n",
    "tidy(model13)\n",
    "glance(model13)"
   ]
  },
  {
   "cell_type": "code",
   "execution_count": 58,
   "id": "d54c2e17-bb01-4ecd-84a5-45976651ba7b",
   "metadata": {},
   "outputs": [
    {
     "data": {
      "text/html": [
       "51.9271343254996"
      ],
      "text/latex": [
       "51.9271343254996"
      ],
      "text/markdown": [
       "51.9271343254996"
      ],
      "text/plain": [
       "[1] 51.92713"
      ]
     },
     "metadata": {},
     "output_type": "display_data"
    }
   ],
   "source": [
    "(intercept <-exp(tidy(model13)[[1,2]]))"
   ]
  },
  {
   "cell_type": "code",
   "execution_count": 64,
   "id": "ffb6b4c3-166d-4662-b635-d7ea7f46bae4",
   "metadata": {},
   "outputs": [
    {
     "data": {
      "text/html": [
       "<table class=\"dataframe\">\n",
       "<caption>A tibble: 1 × 2</caption>\n",
       "<thead>\n",
       "\t<tr><th scope=col>mean_labor</th><th scope=col>mean_capital</th></tr>\n",
       "\t<tr><th scope=col>&lt;dbl&gt;</th><th scope=col>&lt;dbl&gt;</th></tr>\n",
       "</thead>\n",
       "<tbody>\n",
       "\t<tr><td>373914.5</td><td>2516181</td></tr>\n",
       "</tbody>\n",
       "</table>\n"
      ],
      "text/latex": [
       "A tibble: 1 × 2\n",
       "\\begin{tabular}{ll}\n",
       " mean\\_labor & mean\\_capital\\\\\n",
       " <dbl> & <dbl>\\\\\n",
       "\\hline\n",
       "\t 373914.5 & 2516181\\\\\n",
       "\\end{tabular}\n"
      ],
      "text/markdown": [
       "\n",
       "A tibble: 1 × 2\n",
       "\n",
       "| mean_labor &lt;dbl&gt; | mean_capital &lt;dbl&gt; |\n",
       "|---|---|\n",
       "| 373914.5 | 2516181 |\n",
       "\n"
      ],
      "text/plain": [
       "  mean_labor mean_capital\n",
       "1 373914.5   2516181     "
      ]
     },
     "metadata": {},
     "output_type": "display_data"
    }
   ],
   "source": [
    "df5 |> \n",
    "summarize(mean_labor = mean(labor),\n",
    "         mean_capital = mean(capital))"
   ]
  },
  {
   "cell_type": "code",
   "execution_count": 66,
   "id": "f3751c9f-c12a-4c54-93e1-2dcac1da14cc",
   "metadata": {},
   "outputs": [
    {
     "name": "stdout",
     "output_type": "stream",
     "text": [
      "[1] \"elasticity of labor at mean: 0.4266095573897\"\n"
     ]
    }
   ],
   "source": [
    "print(paste(\"elasticity of labor at mean:\",5.208141e-01+ -2.519414e-07*373914.5 ))"
   ]
  },
  {
   "cell_type": "markdown",
   "id": "6ce475ac-fd6d-4685-ae14-3b2b5446546f",
   "metadata": {},
   "source": [
    "### d\n",
    "Suppose you want to test the hypothesis that B4 = B5 = 0. How would you test these\n",
    "hypotheses? Show the necessary calculations."
   ]
  },
  {
   "cell_type": "code",
   "execution_count": 90,
   "id": "35c7a409-511f-467a-8628-eebb9bec06c4",
   "metadata": {},
   "outputs": [
    {
     "data": {
      "text/html": [
       "<table class=\"dataframe\">\n",
       "<caption>A anova: 2 × 6</caption>\n",
       "<thead>\n",
       "\t<tr><th></th><th scope=col>Res.Df</th><th scope=col>RSS</th><th scope=col>Df</th><th scope=col>Sum of Sq</th><th scope=col>F</th><th scope=col>Pr(&gt;F)</th></tr>\n",
       "\t<tr><th></th><th scope=col>&lt;dbl&gt;</th><th scope=col>&lt;dbl&gt;</th><th scope=col>&lt;dbl&gt;</th><th scope=col>&lt;dbl&gt;</th><th scope=col>&lt;dbl&gt;</th><th scope=col>&lt;dbl&gt;</th></tr>\n",
       "</thead>\n",
       "<tbody>\n",
       "\t<tr><th scope=row>1</th><td>48</td><td>3.415520</td><td>NA</td><td>        NA</td><td>       NA</td><td>       NA</td></tr>\n",
       "\t<tr><th scope=row>2</th><td>46</td><td>3.382404</td><td> 2</td><td>0.03311649</td><td>0.2251887</td><td>0.7992404</td></tr>\n",
       "</tbody>\n",
       "</table>\n"
      ],
      "text/latex": [
       "A anova: 2 × 6\n",
       "\\begin{tabular}{r|llllll}\n",
       "  & Res.Df & RSS & Df & Sum of Sq & F & Pr(>F)\\\\\n",
       "  & <dbl> & <dbl> & <dbl> & <dbl> & <dbl> & <dbl>\\\\\n",
       "\\hline\n",
       "\t1 & 48 & 3.415520 & NA &         NA &        NA &        NA\\\\\n",
       "\t2 & 46 & 3.382404 &  2 & 0.03311649 & 0.2251887 & 0.7992404\\\\\n",
       "\\end{tabular}\n"
      ],
      "text/markdown": [
       "\n",
       "A anova: 2 × 6\n",
       "\n",
       "| <!--/--> | Res.Df &lt;dbl&gt; | RSS &lt;dbl&gt; | Df &lt;dbl&gt; | Sum of Sq &lt;dbl&gt; | F &lt;dbl&gt; | Pr(&gt;F) &lt;dbl&gt; |\n",
       "|---|---|---|---|---|---|---|\n",
       "| 1 | 48 | 3.415520 | NA |         NA |        NA |        NA |\n",
       "| 2 | 46 | 3.382404 |  2 | 0.03311649 | 0.2251887 | 0.7992404 |\n",
       "\n"
      ],
      "text/plain": [
       "  Res.Df RSS      Df Sum of Sq  F         Pr(>F)   \n",
       "1 48     3.415520 NA         NA        NA        NA\n",
       "2 46     3.382404  2 0.03311649 0.2251887 0.7992404"
      ]
     },
     "metadata": {},
     "output_type": "display_data"
    },
    {
     "name": "stdout",
     "output_type": "stream",
     "text": [
      "F-statistic: 0.2251887 \n",
      "P-value: 0.7992404 \n",
      "Fail to reject the null hypothesis: There is no evidence that beta_4 or beta_5 are different from zero.\n"
     ]
    }
   ],
   "source": [
    "full_model <- lm(log(output) ~ log(labor) + log(capital) + labor + capital, data = df5)\n",
    "restricted_model <- lm(log(output) ~ log(labor) + log(capital), data = df5)\n",
    "\n",
    "\n",
    "(anova_result <- anova(restricted_model, full_model))\n",
    "\n",
    "f_statistic <- anova_result$F[2]\n",
    "p_value <- anova_result$`Pr(>F)`[2]\n",
    "\n",
    "cat(\"F-statistic:\", f_statistic, \"\\n\")\n",
    "cat(\"P-value:\", p_value, \"\\n\")\n",
    "\n",
    "if (p_value < 0.05) {\n",
    "  cat(\"Reject the null hypothesis: There is evidence that at least one of beta_4 or beta_5 is not equal to zero.\\n\")\n",
    "} else {\n",
    "  cat(\"Fail to reject the null hypothesis: There is no evidence that beta_4 or beta_5 are different from zero.\\n\")\n",
    "}"
   ]
  },
  {
   "cell_type": "markdown",
   "id": "bd2efe91-2391-400f-9113-b5e371fafeee",
   "metadata": {},
   "source": [
    "### e\n",
    "How would you compute the output-labor and output capital elasticities for this model?\n",
    "Are they constant or variable? \n"
   ]
  },
  {
   "cell_type": "markdown",
   "id": "8c20af26-37cb-4fbe-a427-9928f12021b6",
   "metadata": {},
   "source": [
    "variable"
   ]
  }
 ],
 "metadata": {
  "kernelspec": {
   "display_name": "R",
   "language": "R",
   "name": "ir"
  },
  "language_info": {
   "codemirror_mode": "r",
   "file_extension": ".r",
   "mimetype": "text/x-r-source",
   "name": "R",
   "pygments_lexer": "r",
   "version": "4.4.1"
  }
 },
 "nbformat": 4,
 "nbformat_minor": 5
}