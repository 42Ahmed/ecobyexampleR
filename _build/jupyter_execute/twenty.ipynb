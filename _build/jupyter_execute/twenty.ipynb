{
 "cells": [
  {
   "cell_type": "markdown",
   "id": "357a4c1c-8231-4149-b8c6-281e866ca757",
   "metadata": {},
   "source": [
    "# 20. Beyond OLS: Quantile Regression "
   ]
  },
  {
   "cell_type": "markdown",
   "id": "2d0907d0-f676-44ae-84af-63c6b850b4c7",
   "metadata": {},
   "source": [
    "🚧 Under construction"
   ]
  }
 ],
 "metadata": {
  "kernelspec": {
   "display_name": "R",
   "language": "R",
   "name": "ir"
  },
  "language_info": {
   "codemirror_mode": "r",
   "file_extension": ".r",
   "mimetype": "text/x-r-source",
   "name": "R",
   "pygments_lexer": "r",
   "version": "4.4.1"
  }
 },
 "nbformat": 4,
 "nbformat_minor": 5
}