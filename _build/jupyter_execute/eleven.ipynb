{
 "cells": [
  {
   "cell_type": "markdown",
   "id": "24e66a50-bf1e-4417-9683-4a12d23faee3",
   "metadata": {},
   "source": [
    "# 11. Limited Dependent Variable Regression Models"
   ]
  },
  {
   "cell_type": "markdown",
   "id": "b487a19e-40db-4344-afe0-e4743114789a",
   "metadata": {},
   "source": [
    "🚧 Under construction"
   ]
  }
 ],
 "metadata": {
  "kernelspec": {
   "display_name": "R",
   "language": "R",
   "name": "ir"
  },
  "language_info": {
   "codemirror_mode": "r",
   "file_extension": ".r",
   "mimetype": "text/x-r-source",
   "name": "R",
   "pygments_lexer": "r",
   "version": "4.4.1"
  }
 },
 "nbformat": 4,
 "nbformat_minor": 5
}