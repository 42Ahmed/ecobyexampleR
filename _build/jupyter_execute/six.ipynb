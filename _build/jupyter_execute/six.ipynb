{
 "cells": [
  {
   "cell_type": "code",
   "execution_count": 2,
   "id": "2eec9d81-3ad4-4699-af3a-6de6dabfdf24",
   "metadata": {},
   "outputs": [],
   "source": [
    "suppressPackageStartupMessages({\n",
    "  library(tidyverse)\n",
    "  library(tidymodels)\n",
    "  library(readxl)\n",
    "  library(multcomp)\n",
    "  library(car)\n",
    "  library(lmtest)\n",
    "  library(sandwich)\n",
    "})"
   ]
  },
  {
   "cell_type": "markdown",
   "id": "ba844220-d217-45a7-a770-7c2d62870716",
   "metadata": {},
   "source": [
    "## US Consumption function 1947-2000"
   ]
  },
  {
   "cell_type": "code",
   "execution_count": 3,
   "id": "fe7792a0-73d7-4e43-ad89-311a691ac4e3",
   "metadata": {},
   "outputs": [
    {
     "data": {
      "text/html": [
       "<table class=\"dataframe\">\n",
       "<caption>A tibble: 6 × 24</caption>\n",
       "<thead>\n",
       "\t<tr><th scope=col>year</th><th scope=col>consumption</th><th scope=col>income</th><th scope=col>wealth</th><th scope=col>interest</th><th scope=col>lnconsump</th><th scope=col>lndpi</th><th scope=col>lnwealth</th><th scope=col>dlnconsump</th><th scope=col>dlndpi</th><th scope=col>⋯</th><th scope=col>rlnwealth</th><th scope=col>rinterest</th><th scope=col>dconsump</th><th scope=col>dincome</th><th scope=col>dwealth</th><th scope=col>rconsump</th><th scope=col>rincome</th><th scope=col>rwealth</th><th scope=col>rinterest2</th><th scope=col>time</th></tr>\n",
       "\t<tr><th scope=col>&lt;dbl&gt;</th><th scope=col>&lt;dbl&gt;</th><th scope=col>&lt;dbl&gt;</th><th scope=col>&lt;dbl&gt;</th><th scope=col>&lt;dbl&gt;</th><th scope=col>&lt;dbl&gt;</th><th scope=col>&lt;dbl&gt;</th><th scope=col>&lt;dbl&gt;</th><th scope=col>&lt;dbl&gt;</th><th scope=col>&lt;dbl&gt;</th><th scope=col>⋯</th><th scope=col>&lt;dbl&gt;</th><th scope=col>&lt;dbl&gt;</th><th scope=col>&lt;dbl&gt;</th><th scope=col>&lt;dbl&gt;</th><th scope=col>&lt;dbl&gt;</th><th scope=col>&lt;dbl&gt;</th><th scope=col>&lt;dbl&gt;</th><th scope=col>&lt;dbl&gt;</th><th scope=col>&lt;dbl&gt;</th><th scope=col>&lt;dbl&gt;</th></tr>\n",
       "</thead>\n",
       "<tbody>\n",
       "\t<tr><td>21916</td><td> 976.4</td><td>1035.2</td><td>5166.815</td><td>-10.350940</td><td>6.883873</td><td>6.942350</td><td>8.550012</td><td>        NA</td><td>         NA</td><td>⋯</td><td>      NA</td><td>         NA</td><td>      NA</td><td>       NA</td><td>      NA</td><td>      NA</td><td>      NA</td><td>      NA</td><td>         NA</td><td>1</td></tr>\n",
       "\t<tr><td>21916</td><td> 998.1</td><td>1090.0</td><td>5280.757</td><td> -4.719804</td><td>6.905853</td><td>6.993933</td><td>8.571825</td><td>0.02198076</td><td>0.051583290</td><td>⋯</td><td>5.795887</td><td>-1.35915709</td><td>21.69995</td><td>54.800049</td><td>113.9419</td><td>704.3560</td><td>778.5664</td><td>3726.352</td><td>-1.60578680</td><td>2</td></tr>\n",
       "\t<tr><td>21916</td><td>1025.3</td><td>1095.6</td><td>5607.351</td><td>  1.044063</td><td>6.932741</td><td>6.999057</td><td>8.631834</td><td>0.02688742</td><td>0.005124092</td><td>⋯</td><td>5.848814</td><td> 2.57644486</td><td>27.20007</td><td> 5.599976</td><td>326.5942</td><td>725.0278</td><td>767.6801</td><td>4018.668</td><td> 2.46398711</td><td>3</td></tr>\n",
       "\t<tr><td>21916</td><td>1090.9</td><td>1192.7</td><td>5759.515</td><td>  0.407346</td><td>6.994758</td><td>7.083975</td><td>8.658608</td><td>0.06201744</td><td>0.084917545</td><td>⋯</td><td>5.856105</td><td> 0.06836937</td><td>65.59998</td><td>97.099976</td><td>152.1641</td><td>782.4448</td><td>863.0954</td><td>4072.578</td><td> 0.09324604</td><td>4</td></tr>\n",
       "\t<tr><td>21916</td><td>1107.1</td><td>1227.0</td><td>6086.056</td><td> -5.283152</td><td>7.009499</td><td>7.112328</td><td>8.713756</td><td>0.01474094</td><td>0.028352737</td><td>⋯</td><td>5.902559</td><td>-5.41540527</td><td>16.19995</td><td>34.300049</td><td>326.5410</td><td>778.9094</td><td>868.1835</td><td>4353.341</td><td>-5.40569973</td><td>5</td></tr>\n",
       "\t<tr><td>21916</td><td>1142.4</td><td>1266.8</td><td>6243.864</td><td> -0.277011</td><td>7.040886</td><td>7.144249</td><td>8.739354</td><td>0.03138733</td><td>0.031921864</td><td>⋯</td><td>5.910253</td><td> 1.43827367</td><td>35.30005</td><td>39.800049</td><td>157.8076</td><td>809.3358</td><td>897.6646</td><td>4412.911</td><td> 1.31239307</td><td>6</td></tr>\n",
       "</tbody>\n",
       "</table>\n"
      ],
      "text/latex": [
       "A tibble: 6 × 24\n",
       "\\begin{tabular}{lllllllllllllllllllll}\n",
       " year & consumption & income & wealth & interest & lnconsump & lndpi & lnwealth & dlnconsump & dlndpi & ⋯ & rlnwealth & rinterest & dconsump & dincome & dwealth & rconsump & rincome & rwealth & rinterest2 & time\\\\\n",
       " <dbl> & <dbl> & <dbl> & <dbl> & <dbl> & <dbl> & <dbl> & <dbl> & <dbl> & <dbl> & ⋯ & <dbl> & <dbl> & <dbl> & <dbl> & <dbl> & <dbl> & <dbl> & <dbl> & <dbl> & <dbl>\\\\\n",
       "\\hline\n",
       "\t 21916 &  976.4 & 1035.2 & 5166.815 & -10.350940 & 6.883873 & 6.942350 & 8.550012 &         NA &          NA & ⋯ &       NA &          NA &       NA &        NA &       NA &       NA &       NA &       NA &          NA & 1\\\\\n",
       "\t 21916 &  998.1 & 1090.0 & 5280.757 &  -4.719804 & 6.905853 & 6.993933 & 8.571825 & 0.02198076 & 0.051583290 & ⋯ & 5.795887 & -1.35915709 & 21.69995 & 54.800049 & 113.9419 & 704.3560 & 778.5664 & 3726.352 & -1.60578680 & 2\\\\\n",
       "\t 21916 & 1025.3 & 1095.6 & 5607.351 &   1.044063 & 6.932741 & 6.999057 & 8.631834 & 0.02688742 & 0.005124092 & ⋯ & 5.848814 &  2.57644486 & 27.20007 &  5.599976 & 326.5942 & 725.0278 & 767.6801 & 4018.668 &  2.46398711 & 3\\\\\n",
       "\t 21916 & 1090.9 & 1192.7 & 5759.515 &   0.407346 & 6.994758 & 7.083975 & 8.658608 & 0.06201744 & 0.084917545 & ⋯ & 5.856105 &  0.06836937 & 65.59998 & 97.099976 & 152.1641 & 782.4448 & 863.0954 & 4072.578 &  0.09324604 & 4\\\\\n",
       "\t 21916 & 1107.1 & 1227.0 & 6086.056 &  -5.283152 & 7.009499 & 7.112328 & 8.713756 & 0.01474094 & 0.028352737 & ⋯ & 5.902559 & -5.41540527 & 16.19995 & 34.300049 & 326.5410 & 778.9094 & 868.1835 & 4353.341 & -5.40569973 & 5\\\\\n",
       "\t 21916 & 1142.4 & 1266.8 & 6243.864 &  -0.277011 & 7.040886 & 7.144249 & 8.739354 & 0.03138733 & 0.031921864 & ⋯ & 5.910253 &  1.43827367 & 35.30005 & 39.800049 & 157.8076 & 809.3358 & 897.6646 & 4412.911 &  1.31239307 & 6\\\\\n",
       "\\end{tabular}\n"
      ],
      "text/markdown": [
       "\n",
       "A tibble: 6 × 24\n",
       "\n",
       "| year &lt;dbl&gt; | consumption &lt;dbl&gt; | income &lt;dbl&gt; | wealth &lt;dbl&gt; | interest &lt;dbl&gt; | lnconsump &lt;dbl&gt; | lndpi &lt;dbl&gt; | lnwealth &lt;dbl&gt; | dlnconsump &lt;dbl&gt; | dlndpi &lt;dbl&gt; | ⋯ ⋯ | rlnwealth &lt;dbl&gt; | rinterest &lt;dbl&gt; | dconsump &lt;dbl&gt; | dincome &lt;dbl&gt; | dwealth &lt;dbl&gt; | rconsump &lt;dbl&gt; | rincome &lt;dbl&gt; | rwealth &lt;dbl&gt; | rinterest2 &lt;dbl&gt; | time &lt;dbl&gt; |\n",
       "|---|---|---|---|---|---|---|---|---|---|---|---|---|---|---|---|---|---|---|---|---|\n",
       "| 21916 |  976.4 | 1035.2 | 5166.815 | -10.350940 | 6.883873 | 6.942350 | 8.550012 |         NA |          NA | ⋯ |       NA |          NA |       NA |        NA |       NA |       NA |       NA |       NA |          NA | 1 |\n",
       "| 21916 |  998.1 | 1090.0 | 5280.757 |  -4.719804 | 6.905853 | 6.993933 | 8.571825 | 0.02198076 | 0.051583290 | ⋯ | 5.795887 | -1.35915709 | 21.69995 | 54.800049 | 113.9419 | 704.3560 | 778.5664 | 3726.352 | -1.60578680 | 2 |\n",
       "| 21916 | 1025.3 | 1095.6 | 5607.351 |   1.044063 | 6.932741 | 6.999057 | 8.631834 | 0.02688742 | 0.005124092 | ⋯ | 5.848814 |  2.57644486 | 27.20007 |  5.599976 | 326.5942 | 725.0278 | 767.6801 | 4018.668 |  2.46398711 | 3 |\n",
       "| 21916 | 1090.9 | 1192.7 | 5759.515 |   0.407346 | 6.994758 | 7.083975 | 8.658608 | 0.06201744 | 0.084917545 | ⋯ | 5.856105 |  0.06836937 | 65.59998 | 97.099976 | 152.1641 | 782.4448 | 863.0954 | 4072.578 |  0.09324604 | 4 |\n",
       "| 21916 | 1107.1 | 1227.0 | 6086.056 |  -5.283152 | 7.009499 | 7.112328 | 8.713756 | 0.01474094 | 0.028352737 | ⋯ | 5.902559 | -5.41540527 | 16.19995 | 34.300049 | 326.5410 | 778.9094 | 868.1835 | 4353.341 | -5.40569973 | 5 |\n",
       "| 21916 | 1142.4 | 1266.8 | 6243.864 |  -0.277011 | 7.040886 | 7.144249 | 8.739354 | 0.03138733 | 0.031921864 | ⋯ | 5.910253 |  1.43827367 | 35.30005 | 39.800049 | 157.8076 | 809.3358 | 897.6646 | 4412.911 |  1.31239307 | 6 |\n",
       "\n"
      ],
      "text/plain": [
       "  year  consumption income wealth   interest   lnconsump lndpi    lnwealth\n",
       "1 21916  976.4      1035.2 5166.815 -10.350940 6.883873  6.942350 8.550012\n",
       "2 21916  998.1      1090.0 5280.757  -4.719804 6.905853  6.993933 8.571825\n",
       "3 21916 1025.3      1095.6 5607.351   1.044063 6.932741  6.999057 8.631834\n",
       "4 21916 1090.9      1192.7 5759.515   0.407346 6.994758  7.083975 8.658608\n",
       "5 21916 1107.1      1227.0 6086.056  -5.283152 7.009499  7.112328 8.713756\n",
       "6 21916 1142.4      1266.8 6243.864  -0.277011 7.040886  7.144249 8.739354\n",
       "  dlnconsump dlndpi      ⋯ rlnwealth rinterest   dconsump dincome   dwealth \n",
       "1         NA          NA ⋯       NA           NA       NA        NA       NA\n",
       "2 0.02198076 0.051583290 ⋯ 5.795887  -1.35915709 21.69995 54.800049 113.9419\n",
       "3 0.02688742 0.005124092 ⋯ 5.848814   2.57644486 27.20007  5.599976 326.5942\n",
       "4 0.06201744 0.084917545 ⋯ 5.856105   0.06836937 65.59998 97.099976 152.1641\n",
       "5 0.01474094 0.028352737 ⋯ 5.902559  -5.41540527 16.19995 34.300049 326.5410\n",
       "6 0.03138733 0.031921864 ⋯ 5.910253   1.43827367 35.30005 39.800049 157.8076\n",
       "  rconsump rincome  rwealth  rinterest2  time\n",
       "1       NA       NA       NA          NA 1   \n",
       "2 704.3560 778.5664 3726.352 -1.60578680 2   \n",
       "3 725.0278 767.6801 4018.668  2.46398711 3   \n",
       "4 782.4448 863.0954 4072.578  0.09324604 4   \n",
       "5 778.9094 868.1835 4353.341 -5.40569973 5   \n",
       "6 809.3358 897.6646 4412.911  1.31239307 6   "
      ]
     },
     "metadata": {},
     "output_type": "display_data"
    }
   ],
   "source": [
    "df <- read_excel(\"G:/Datasets/Econometrics BY Example/Excel/Table6_1.xls\")\n",
    "head(df)"
   ]
  },
  {
   "cell_type": "code",
   "execution_count": 4,
   "id": "058e84d0-2161-4d77-a935-e3444ca4b3cf",
   "metadata": {},
   "outputs": [
    {
     "data": {
      "text/html": [
       "<style>\n",
       ".list-inline {list-style: none; margin:0; padding: 0}\n",
       ".list-inline>li {display: inline-block}\n",
       ".list-inline>li:not(:last-child)::after {content: \"\\00b7\"; padding: 0 .5ex}\n",
       "</style>\n",
       "<ol class=list-inline><li>'year'</li><li>'consumption'</li><li>'income'</li><li>'wealth'</li><li>'interest'</li><li>'lnconsump'</li><li>'lndpi'</li><li>'lnwealth'</li><li>'dlnconsump'</li><li>'dlndpi'</li><li>'dlnwealth'</li><li>'dinterest'</li><li>'rlnconsump'</li><li>'rlndpi'</li><li>'rlnwealth'</li><li>'rinterest'</li><li>'dconsump'</li><li>'dincome'</li><li>'dwealth'</li><li>'rconsump'</li><li>'rincome'</li><li>'rwealth'</li><li>'rinterest2'</li><li>'time'</li></ol>\n"
      ],
      "text/latex": [
       "\\begin{enumerate*}\n",
       "\\item 'year'\n",
       "\\item 'consumption'\n",
       "\\item 'income'\n",
       "\\item 'wealth'\n",
       "\\item 'interest'\n",
       "\\item 'lnconsump'\n",
       "\\item 'lndpi'\n",
       "\\item 'lnwealth'\n",
       "\\item 'dlnconsump'\n",
       "\\item 'dlndpi'\n",
       "\\item 'dlnwealth'\n",
       "\\item 'dinterest'\n",
       "\\item 'rlnconsump'\n",
       "\\item 'rlndpi'\n",
       "\\item 'rlnwealth'\n",
       "\\item 'rinterest'\n",
       "\\item 'dconsump'\n",
       "\\item 'dincome'\n",
       "\\item 'dwealth'\n",
       "\\item 'rconsump'\n",
       "\\item 'rincome'\n",
       "\\item 'rwealth'\n",
       "\\item 'rinterest2'\n",
       "\\item 'time'\n",
       "\\end{enumerate*}\n"
      ],
      "text/markdown": [
       "1. 'year'\n",
       "2. 'consumption'\n",
       "3. 'income'\n",
       "4. 'wealth'\n",
       "5. 'interest'\n",
       "6. 'lnconsump'\n",
       "7. 'lndpi'\n",
       "8. 'lnwealth'\n",
       "9. 'dlnconsump'\n",
       "10. 'dlndpi'\n",
       "11. 'dlnwealth'\n",
       "12. 'dinterest'\n",
       "13. 'rlnconsump'\n",
       "14. 'rlndpi'\n",
       "15. 'rlnwealth'\n",
       "16. 'rinterest'\n",
       "17. 'dconsump'\n",
       "18. 'dincome'\n",
       "19. 'dwealth'\n",
       "20. 'rconsump'\n",
       "21. 'rincome'\n",
       "22. 'rwealth'\n",
       "23. 'rinterest2'\n",
       "24. 'time'\n",
       "\n",
       "\n"
      ],
      "text/plain": [
       " [1] \"year\"        \"consumption\" \"income\"      \"wealth\"      \"interest\"   \n",
       " [6] \"lnconsump\"   \"lndpi\"       \"lnwealth\"    \"dlnconsump\"  \"dlndpi\"     \n",
       "[11] \"dlnwealth\"   \"dinterest\"   \"rlnconsump\"  \"rlndpi\"      \"rlnwealth\"  \n",
       "[16] \"rinterest\"   \"dconsump\"    \"dincome\"     \"dwealth\"     \"rconsump\"   \n",
       "[21] \"rincome\"     \"rwealth\"     \"rinterest2\"  \"time\"       "
      ]
     },
     "metadata": {},
     "output_type": "display_data"
    }
   ],
   "source": [
    "colnames(df)"
   ]
  },
  {
   "cell_type": "markdown",
   "id": "c20810f2-5c0f-4c62-a2b6-cc326c9d39d5",
   "metadata": {},
   "source": [
    "$$\n",
    "\\ln C_T = \\beta_1 + \\beta_2 \\ln DPI_t + \\beta_3 \\ln W_t + \\beta_4 R_t + u_t\n",
    "$$\n",
    "real consumption expenditure (C),  \n",
    "real (after tax) disposable personal income (DPI),   \n",
    "real wealth (W)   \n",
    "and real interest rate (R)"
   ]
  },
  {
   "cell_type": "code",
   "execution_count": 7,
   "id": "11137ba0-b8a6-4608-a7c3-c3e9d2dbdb2d",
   "metadata": {},
   "outputs": [
    {
     "data": {
      "text/html": [
       "<table class=\"dataframe\">\n",
       "<caption>A tibble: 4 × 5</caption>\n",
       "<thead>\n",
       "\t<tr><th scope=col>term</th><th scope=col>estimate</th><th scope=col>std.error</th><th scope=col>statistic</th><th scope=col>p.value</th></tr>\n",
       "\t<tr><th scope=col>&lt;chr&gt;</th><th scope=col>&lt;dbl&gt;</th><th scope=col>&lt;dbl&gt;</th><th scope=col>&lt;dbl&gt;</th><th scope=col>&lt;dbl&gt;</th></tr>\n",
       "</thead>\n",
       "<tbody>\n",
       "\t<tr><td>(Intercept)</td><td>-0.467712044</td><td>0.0427779986</td><td>-10.933472</td><td>7.330410e-15</td></tr>\n",
       "\t<tr><td>lndpi      </td><td> 0.804872759</td><td>0.0174978490</td><td> 45.998383</td><td>1.376236e-42</td></tr>\n",
       "\t<tr><td>lnwealth   </td><td> 0.201270215</td><td>0.0175925850</td><td> 11.440628</td><td>1.433544e-15</td></tr>\n",
       "\t<tr><td>interest   </td><td>-0.002689061</td><td>0.0007619294</td><td> -3.529279</td><td>9.046458e-04</td></tr>\n",
       "</tbody>\n",
       "</table>\n"
      ],
      "text/latex": [
       "A tibble: 4 × 5\n",
       "\\begin{tabular}{lllll}\n",
       " term & estimate & std.error & statistic & p.value\\\\\n",
       " <chr> & <dbl> & <dbl> & <dbl> & <dbl>\\\\\n",
       "\\hline\n",
       "\t (Intercept) & -0.467712044 & 0.0427779986 & -10.933472 & 7.330410e-15\\\\\n",
       "\t lndpi       &  0.804872759 & 0.0174978490 &  45.998383 & 1.376236e-42\\\\\n",
       "\t lnwealth    &  0.201270215 & 0.0175925850 &  11.440628 & 1.433544e-15\\\\\n",
       "\t interest    & -0.002689061 & 0.0007619294 &  -3.529279 & 9.046458e-04\\\\\n",
       "\\end{tabular}\n"
      ],
      "text/markdown": [
       "\n",
       "A tibble: 4 × 5\n",
       "\n",
       "| term &lt;chr&gt; | estimate &lt;dbl&gt; | std.error &lt;dbl&gt; | statistic &lt;dbl&gt; | p.value &lt;dbl&gt; |\n",
       "|---|---|---|---|---|\n",
       "| (Intercept) | -0.467712044 | 0.0427779986 | -10.933472 | 7.330410e-15 |\n",
       "| lndpi       |  0.804872759 | 0.0174978490 |  45.998383 | 1.376236e-42 |\n",
       "| lnwealth    |  0.201270215 | 0.0175925850 |  11.440628 | 1.433544e-15 |\n",
       "| interest    | -0.002689061 | 0.0007619294 |  -3.529279 | 9.046458e-04 |\n",
       "\n"
      ],
      "text/plain": [
       "  term        estimate     std.error    statistic  p.value     \n",
       "1 (Intercept) -0.467712044 0.0427779986 -10.933472 7.330410e-15\n",
       "2 lndpi        0.804872759 0.0174978490  45.998383 1.376236e-42\n",
       "3 lnwealth     0.201270215 0.0175925850  11.440628 1.433544e-15\n",
       "4 interest    -0.002689061 0.0007619294  -3.529279 9.046458e-04"
      ]
     },
     "metadata": {},
     "output_type": "display_data"
    },
    {
     "data": {
      "text/html": [
       "<table class=\"dataframe\">\n",
       "<caption>A tibble: 1 × 12</caption>\n",
       "<thead>\n",
       "\t<tr><th scope=col>r.squared</th><th scope=col>adj.r.squared</th><th scope=col>sigma</th><th scope=col>statistic</th><th scope=col>p.value</th><th scope=col>df</th><th scope=col>logLik</th><th scope=col>AIC</th><th scope=col>BIC</th><th scope=col>deviance</th><th scope=col>df.residual</th><th scope=col>nobs</th></tr>\n",
       "\t<tr><th scope=col>&lt;dbl&gt;</th><th scope=col>&lt;dbl&gt;</th><th scope=col>&lt;dbl&gt;</th><th scope=col>&lt;dbl&gt;</th><th scope=col>&lt;dbl&gt;</th><th scope=col>&lt;dbl&gt;</th><th scope=col>&lt;dbl&gt;</th><th scope=col>&lt;dbl&gt;</th><th scope=col>&lt;dbl&gt;</th><th scope=col>&lt;dbl&gt;</th><th scope=col>&lt;int&gt;</th><th scope=col>&lt;int&gt;</th></tr>\n",
       "</thead>\n",
       "<tbody>\n",
       "\t<tr><td>0.9995597</td><td>0.9995332</td><td>0.01193375</td><td>37832.66</td><td>7.120776e-84</td><td>3</td><td>164.588</td><td>-319.1761</td><td>-309.2312</td><td>0.007120721</td><td>50</td><td>54</td></tr>\n",
       "</tbody>\n",
       "</table>\n"
      ],
      "text/latex": [
       "A tibble: 1 × 12\n",
       "\\begin{tabular}{llllllllllll}\n",
       " r.squared & adj.r.squared & sigma & statistic & p.value & df & logLik & AIC & BIC & deviance & df.residual & nobs\\\\\n",
       " <dbl> & <dbl> & <dbl> & <dbl> & <dbl> & <dbl> & <dbl> & <dbl> & <dbl> & <dbl> & <int> & <int>\\\\\n",
       "\\hline\n",
       "\t 0.9995597 & 0.9995332 & 0.01193375 & 37832.66 & 7.120776e-84 & 3 & 164.588 & -319.1761 & -309.2312 & 0.007120721 & 50 & 54\\\\\n",
       "\\end{tabular}\n"
      ],
      "text/markdown": [
       "\n",
       "A tibble: 1 × 12\n",
       "\n",
       "| r.squared &lt;dbl&gt; | adj.r.squared &lt;dbl&gt; | sigma &lt;dbl&gt; | statistic &lt;dbl&gt; | p.value &lt;dbl&gt; | df &lt;dbl&gt; | logLik &lt;dbl&gt; | AIC &lt;dbl&gt; | BIC &lt;dbl&gt; | deviance &lt;dbl&gt; | df.residual &lt;int&gt; | nobs &lt;int&gt; |\n",
       "|---|---|---|---|---|---|---|---|---|---|---|---|\n",
       "| 0.9995597 | 0.9995332 | 0.01193375 | 37832.66 | 7.120776e-84 | 3 | 164.588 | -319.1761 | -309.2312 | 0.007120721 | 50 | 54 |\n",
       "\n"
      ],
      "text/plain": [
       "      r.squared adj.r.squared sigma      statistic p.value      df logLik \n",
       "value 0.9995597 0.9995332     0.01193375 37832.66  7.120776e-84 3  164.588\n",
       "      AIC       BIC       deviance    df.residual nobs\n",
       "value -319.1761 -309.2312 0.007120721 50          54  "
      ]
     },
     "metadata": {},
     "output_type": "display_data"
    }
   ],
   "source": [
    "model <- lm(lnconsump ~ lndpi + lnwealth +  interest, data =df)\n",
    "tidy(model)\n",
    "glance(model)"
   ]
  },
  {
   "cell_type": "markdown",
   "id": "0d76a256-f8d0-4b3d-937b-5410f128f765",
   "metadata": {},
   "source": [
    "if real personal disposal income goes up by 1%, mean\n",
    "real consumption expenditure goes up by about 0.8%"
   ]
  },
  {
   "cell_type": "markdown",
   "id": "c691c90c-4d11-4d0b-8719-1f02d45d71e5",
   "metadata": {},
   "source": [
    "if real wealth goes up by 1%, mean real consumption expenditure\n",
    "goes up by about 0.2%,"
   ]
  },
  {
   "cell_type": "markdown",
   "id": "0b6c07bd-4cbc-4d31-aa8e-aa5f342a9574",
   "metadata": {},
   "source": [
    "if rate goes up by one percentage point, mean real consumption\n",
    "expenditure goes down by about 0.26%"
   ]
  },
  {
   "cell_type": "markdown",
   "id": "3d796c9e-97b1-4cde-b865-06c53820eff3",
   "metadata": {},
   "source": [
    "$R^2$ indicating **spurious correlation**"
   ]
  },
  {
   "cell_type": "markdown",
   "id": "c1591eb6-dfe8-4c0f-b481-33f72cfce4f0",
   "metadata": {},
   "source": [
    "## Tests of autocorrelation"
   ]
  },
  {
   "cell_type": "code",
   "execution_count": 21,
   "id": "12a8b47d-9b9d-4c31-84cc-93943af1187b",
   "metadata": {},
   "outputs": [
    {
     "data": {
      "image/png": "[encoded data removed]",
      "text/plain": [
       "plot without title"
      ]
     },
     "metadata": {
      "image/png": {
       "height": 420,
       "width": 420
      }
     },
     "output_type": "display_data"
    }
   ],
   "source": [
    "plot(augment(model)$.resid, type = 'b')"
   ]
  },
  {
   "cell_type": "code",
   "execution_count": 22,
   "id": "b4d271d2-0681-4f55-b228-65cacfe49fdb",
   "metadata": {},
   "outputs": [
    {
     "data": {
      "image/png": "[encoded data removed]",
      "text/plain": [
       "plot without title"
      ]
     },
     "metadata": {
      "image/png": {
       "height": 420,
       "width": 420
      }
     },
     "output_type": "display_data"
    }
   ],
   "source": [
    "plot(augment(model)$.std.resid, type = 'b')"
   ]
  },
  {
   "cell_type": "code",
   "execution_count": 18,
   "id": "6d9cc1dc-2622-405d-8052-3454309d9694",
   "metadata": {},
   "outputs": [
    {
     "data": {
      "image/png": "[encoded data removed]",
      "text/plain": [
       "plot without title"
      ]
     },
     "metadata": {
      "image/png": {
       "height": 420,
       "width": 420
      }
     },
     "output_type": "display_data"
    }
   ],
   "source": [
    "augmented_data <- augment(model)\n",
    "\n",
    "ggplot(augmented_data, aes(x = seq_along(.resid), y = .resid)) +\n",
    "  geom_line() +\n",
    "  geom_point() +\n",
    "  labs(title = \"Residuals from Linear Model\",\n",
    "       x = \"Observation\",\n",
    "       y = \"Residuals\") +\n",
    "  theme_minimal()"
   ]
  },
  {
   "cell_type": "code",
   "execution_count": 14,
   "id": "c541b69f-278b-43e5-9901-77353e72a5d5",
   "metadata": {},
   "outputs": [
    {
     "data": {
      "image/png": "[encoded data removed]",
      "text/plain": [
       "plot without title"
      ]
     },
     "metadata": {
      "image/png": {
       "height": 420,
       "width": 420
      }
     },
     "output_type": "display_data"
    }
   ],
   "source": [
    "augmented_data <- augmented_data %>%\n",
    "  mutate(lagged_resid = lag(.resid))\n",
    "\n",
    "# remove first row of NA lagged residual\n",
    "augmented_data <- augmented_data %>%\n",
    "  filter(!is.na(lagged_resid))\n",
    "\n",
    "correlation <- cor(augmented_data$.resid, augmented_data$lagged_resid)\n",
    "\n",
    "\n",
    "ggplot(augmented_data, aes(x = lagged_resid, y = .resid)) +\n",
    "  geom_point() +\n",
    "  geom_smooth(method = \"lm\",formula = 'y ~ x', se = FALSE, color = \"blue\") +\n",
    "  labs(title = \"Residuals vs Lagged Residuals\",\n",
    "       x = \"Lagged Residuals\",\n",
    "       y = \"Residuals\") +\n",
    "  theme_minimal()"
   ]
  },
  {
   "cell_type": "markdown",
   "id": "c93893e4-931c-497a-a867-81d038153a3b",
   "metadata": {},
   "source": [
    "### Durbin watson test"
   ]
  },
  {
   "cell_type": "markdown",
   "id": "86cfb27d-b1e1-4976-8c2f-2401a23b0e06",
   "metadata": {},
   "source": [
    "must have an intercept term"
   ]
  },
  {
   "cell_type": "code",
   "execution_count": 25,
   "id": "f31e864d-b259-465f-ae41-ec11b6a97333",
   "metadata": {},
   "outputs": [
    {
     "data": {
      "text/plain": [
       " lag Autocorrelation D-W Statistic p-value\n",
       "   1       0.2977555      1.289232   0.002\n",
       " Alternative hypothesis: rho != 0"
      ]
     },
     "metadata": {},
     "output_type": "display_data"
    }
   ],
   "source": [
    "durbinWatsonTest(model)"
   ]
  },
  {
   "cell_type": "code",
   "execution_count": 33,
   "id": "20511540-eece-4641-b743-54014efd7af9",
   "metadata": {},
   "outputs": [
    {
     "data": {
      "text/plain": [
       " lag Autocorrelation D-W Statistic p-value\n",
       "   1      0.29775555      1.289232   0.002\n",
       "   2     -0.02840613      1.933710   0.698\n",
       "   3      0.01631809      1.678649   0.198\n",
       " Alternative hypothesis: rho[lag] != 0"
      ]
     },
     "metadata": {},
     "output_type": "display_data"
    }
   ],
   "source": [
    "durbinWatsonTest(model, max.lag = 3)"
   ]
  },
  {
   "cell_type": "code",
   "execution_count": 34,
   "id": "06504797-24a0-45e7-877d-4ff0c0fdd364",
   "metadata": {},
   "outputs": [
    {
     "data": {
      "text/plain": [
       "\n",
       "\tDurbin-Watson test\n",
       "\n",
       "data:  model\n",
       "DW = 1.2892, p-value = 0.0009445\n",
       "alternative hypothesis: true autocorrelation is greater than 0\n"
      ]
     },
     "metadata": {},
     "output_type": "display_data"
    }
   ],
   "source": [
    "dwtest(model)"
   ]
  },
  {
   "cell_type": "markdown",
   "id": "7e026e7f-168b-42c3-bfe8-a8187f11841e",
   "metadata": {},
   "source": [
    "### Bruech Godfrey general test"
   ]
  },
  {
   "cell_type": "code",
   "execution_count": 26,
   "id": "ed5c6300-f8ff-44ad-a9e0-d280026a7ce1",
   "metadata": {},
   "outputs": [
    {
     "data": {
      "text/plain": [
       "\n",
       "\tBreusch-Godfrey test for serial correlation of order up to 1\n",
       "\n",
       "data:  model\n",
       "LM test = 5.312, df = 1, p-value = 0.02118\n"
      ]
     },
     "metadata": {},
     "output_type": "display_data"
    }
   ],
   "source": [
    "bgtest(model, order = 1)"
   ]
  },
  {
   "cell_type": "code",
   "execution_count": 27,
   "id": "5b6508e0-ef1d-4a13-8bce-1ac80b394e67",
   "metadata": {},
   "outputs": [
    {
     "data": {
      "text/plain": [
       "\n",
       "\tBreusch-Godfrey test for serial correlation of order up to 2\n",
       "\n",
       "data:  model\n",
       "LM test = 6.4472, df = 2, p-value = 0.03981\n"
      ]
     },
     "metadata": {},
     "output_type": "display_data"
    }
   ],
   "source": [
    "bgtest(model, order = 2)"
   ]
  },
  {
   "cell_type": "code",
   "execution_count": 28,
   "id": "33ee4360-d97f-4a4e-915c-cfc3053b0003",
   "metadata": {},
   "outputs": [
    {
     "data": {
      "text/plain": [
       "\n",
       "\tBreusch-Godfrey test for serial correlation of order up to 3\n",
       "\n",
       "data:  model\n",
       "LM test = 6.6573, df = 3, p-value = 0.08366\n"
      ]
     },
     "metadata": {},
     "output_type": "display_data"
    }
   ],
   "source": [
    "bgtest(model, order = 3)"
   ]
  },
  {
   "cell_type": "markdown",
   "id": "8c8252b6-6c0b-4f06-8bab-1360e35820ff",
   "metadata": {},
   "source": [
    "AR(2) is significant, residuals follow AR(2)"
   ]
  },
  {
   "cell_type": "markdown",
   "id": "d94ed503-7ebc-4d94-b822-34a7baf28a56",
   "metadata": {},
   "source": [
    "## Remedial measures"
   ]
  },
  {
   "cell_type": "markdown",
   "id": "e9090bb1-7cb2-46d9-8ed3-d460090d6bf9",
   "metadata": {},
   "source": [
    "### First Difference"
   ]
  },
  {
   "cell_type": "markdown",
   "id": "f675ed97-d7d2-4f9c-a6bb-a0bf9c7bdc49",
   "metadata": {},
   "source": [
    "$$ u_t - \\rho u_{t-1} = v_t $$"
   ]
  },
  {
   "cell_type": "markdown",
   "id": "cfb4758d-aecb-4e86-83f6-2fe5cb9d6783",
   "metadata": {},
   "source": [
    "\\begin{align}\n",
    "\\ln C_t- \\rho \\ln C_{t-1}&= \\beta_{1(1- \\rho)} \\\\  &+ \\beta_2 (\\ln DPI_t - \\rho \\ln DPI_{t-1})\\\\ \n",
    "&+ \\beta_3 (\\ln W_t - \\rho \\ln W_{t-1}) \\\\\n",
    "&+ \\beta_4 (R_t - R_{t-1}) \\\\\n",
    "&+ (u_t - \\rho u_{t-1})\n",
    "\\end{align}"
   ]
  },
  {
   "cell_type": "markdown",
   "id": "79d09c4d-e7bf-4d6d-bc84-bbbd25126a4d",
   "metadata": {},
   "source": [
    "if $\\rho$ = 1"
   ]
  },
  {
   "cell_type": "markdown",
   "id": "ccc8bc18-c43a-4396-8614-14920a5a7064",
   "metadata": {},
   "source": [
    "$$\n",
    "\\Delta \\ln C_t = \\beta_2 \\Delta \\ln DPI_t + \\beta_3 \\Delta \\ln W_t + \\beta_4 \\Delta R_t + v_t\n",
    "$$\n",
    "Called **first difference transformation**"
   ]
  },
  {
   "cell_type": "code",
   "execution_count": 36,
   "id": "b88c80c4-abc2-407e-a52f-d1779366b493",
   "metadata": {},
   "outputs": [
    {
     "data": {
      "text/html": [
       "<table class=\"dataframe\">\n",
       "<caption>A tibble: 3 × 5</caption>\n",
       "<thead>\n",
       "\t<tr><th scope=col>term</th><th scope=col>estimate</th><th scope=col>std.error</th><th scope=col>statistic</th><th scope=col>p.value</th></tr>\n",
       "\t<tr><th scope=col>&lt;chr&gt;</th><th scope=col>&lt;dbl&gt;</th><th scope=col>&lt;dbl&gt;</th><th scope=col>&lt;dbl&gt;</th><th scope=col>&lt;dbl&gt;</th></tr>\n",
       "</thead>\n",
       "<tbody>\n",
       "\t<tr><td>diff(lndpi)   </td><td>0.8489940413</td><td>0.0515376309</td><td>16.4732842</td><td>7.667028e-22</td></tr>\n",
       "\t<tr><td>diff(lnwealth)</td><td>0.1063549555</td><td>0.0368543147</td><td> 2.8858210</td><td>5.749199e-03</td></tr>\n",
       "\t<tr><td>diff(interest)</td><td>0.0006530138</td><td>0.0008260853</td><td> 0.7904919</td><td>4.329740e-01</td></tr>\n",
       "</tbody>\n",
       "</table>\n"
      ],
      "text/latex": [
       "A tibble: 3 × 5\n",
       "\\begin{tabular}{lllll}\n",
       " term & estimate & std.error & statistic & p.value\\\\\n",
       " <chr> & <dbl> & <dbl> & <dbl> & <dbl>\\\\\n",
       "\\hline\n",
       "\t diff(lndpi)    & 0.8489940413 & 0.0515376309 & 16.4732842 & 7.667028e-22\\\\\n",
       "\t diff(lnwealth) & 0.1063549555 & 0.0368543147 &  2.8858210 & 5.749199e-03\\\\\n",
       "\t diff(interest) & 0.0006530138 & 0.0008260853 &  0.7904919 & 4.329740e-01\\\\\n",
       "\\end{tabular}\n"
      ],
      "text/markdown": [
       "\n",
       "A tibble: 3 × 5\n",
       "\n",
       "| term &lt;chr&gt; | estimate &lt;dbl&gt; | std.error &lt;dbl&gt; | statistic &lt;dbl&gt; | p.value &lt;dbl&gt; |\n",
       "|---|---|---|---|---|\n",
       "| diff(lndpi)    | 0.8489940413 | 0.0515376309 | 16.4732842 | 7.667028e-22 |\n",
       "| diff(lnwealth) | 0.1063549555 | 0.0368543147 |  2.8858210 | 5.749199e-03 |\n",
       "| diff(interest) | 0.0006530138 | 0.0008260853 |  0.7904919 | 4.329740e-01 |\n",
       "\n"
      ],
      "text/plain": [
       "  term           estimate     std.error    statistic  p.value     \n",
       "1 diff(lndpi)    0.8489940413 0.0515376309 16.4732842 7.667028e-22\n",
       "2 diff(lnwealth) 0.1063549555 0.0368543147  2.8858210 5.749199e-03\n",
       "3 diff(interest) 0.0006530138 0.0008260853  0.7904919 4.329740e-01"
      ]
     },
     "metadata": {},
     "output_type": "display_data"
    },
    {
     "data": {
      "text/html": [
       "<table class=\"dataframe\">\n",
       "<caption>A tibble: 1 × 12</caption>\n",
       "<thead>\n",
       "\t<tr><th scope=col>r.squared</th><th scope=col>adj.r.squared</th><th scope=col>sigma</th><th scope=col>statistic</th><th scope=col>p.value</th><th scope=col>df</th><th scope=col>logLik</th><th scope=col>AIC</th><th scope=col>BIC</th><th scope=col>deviance</th><th scope=col>df.residual</th><th scope=col>nobs</th></tr>\n",
       "\t<tr><th scope=col>&lt;dbl&gt;</th><th scope=col>&lt;dbl&gt;</th><th scope=col>&lt;dbl&gt;</th><th scope=col>&lt;dbl&gt;</th><th scope=col>&lt;dbl&gt;</th><th scope=col>&lt;dbl&gt;</th><th scope=col>&lt;dbl&gt;</th><th scope=col>&lt;dbl&gt;</th><th scope=col>&lt;dbl&gt;</th><th scope=col>&lt;dbl&gt;</th><th scope=col>&lt;int&gt;</th><th scope=col>&lt;int&gt;</th></tr>\n",
       "</thead>\n",
       "<tbody>\n",
       "\t<tr><td>0.9236527</td><td>0.9190718</td><td>0.0111335</td><td>201.6339</td><td>6.473553e-28</td><td>3</td><td>164.7236</td><td>-321.4472</td><td>-313.5661</td><td>0.006197738</td><td>50</td><td>53</td></tr>\n",
       "</tbody>\n",
       "</table>\n"
      ],
      "text/latex": [
       "A tibble: 1 × 12\n",
       "\\begin{tabular}{llllllllllll}\n",
       " r.squared & adj.r.squared & sigma & statistic & p.value & df & logLik & AIC & BIC & deviance & df.residual & nobs\\\\\n",
       " <dbl> & <dbl> & <dbl> & <dbl> & <dbl> & <dbl> & <dbl> & <dbl> & <dbl> & <dbl> & <int> & <int>\\\\\n",
       "\\hline\n",
       "\t 0.9236527 & 0.9190718 & 0.0111335 & 201.6339 & 6.473553e-28 & 3 & 164.7236 & -321.4472 & -313.5661 & 0.006197738 & 50 & 53\\\\\n",
       "\\end{tabular}\n"
      ],
      "text/markdown": [
       "\n",
       "A tibble: 1 × 12\n",
       "\n",
       "| r.squared &lt;dbl&gt; | adj.r.squared &lt;dbl&gt; | sigma &lt;dbl&gt; | statistic &lt;dbl&gt; | p.value &lt;dbl&gt; | df &lt;dbl&gt; | logLik &lt;dbl&gt; | AIC &lt;dbl&gt; | BIC &lt;dbl&gt; | deviance &lt;dbl&gt; | df.residual &lt;int&gt; | nobs &lt;int&gt; |\n",
       "|---|---|---|---|---|---|---|---|---|---|---|---|\n",
       "| 0.9236527 | 0.9190718 | 0.0111335 | 201.6339 | 6.473553e-28 | 3 | 164.7236 | -321.4472 | -313.5661 | 0.006197738 | 50 | 53 |\n",
       "\n"
      ],
      "text/plain": [
       "      r.squared adj.r.squared sigma     statistic p.value      df logLik  \n",
       "value 0.9236527 0.9190718     0.0111335 201.6339  6.473553e-28 3  164.7236\n",
       "      AIC       BIC       deviance    df.residual nobs\n",
       "value -321.4472 -313.5661 0.006197738 50          53  "
      ]
     },
     "metadata": {},
     "output_type": "display_data"
    }
   ],
   "source": [
    "model2 <- lm(diff(lnconsump) ~ 0 +diff(lndpi) + diff(lnwealth) +  diff(interest), data =df)\n",
    "tidy(model2)\n",
    "glance(model2)"
   ]
  },
  {
   "cell_type": "code",
   "execution_count": 40,
   "id": "eb06d7f1-508f-4b21-8a0b-bf31629d362e",
   "metadata": {},
   "outputs": [
    {
     "data": {
      "text/plain": [
       "\n",
       "\tBreusch-Godfrey test for serial correlation of order up to 1\n",
       "\n",
       "data:  model2\n",
       "LM test = 0.86275, df = 1, p-value = 0.353\n"
      ]
     },
     "metadata": {},
     "output_type": "display_data"
    }
   ],
   "source": [
    "bgtest(model2)"
   ]
  },
  {
   "cell_type": "code",
   "execution_count": 41,
   "id": "81fdd5d3-c5b5-43e1-aad2-31f8605f7f78",
   "metadata": {},
   "outputs": [
    {
     "data": {
      "text/plain": [
       "\n",
       "\tDurbin-Watson test\n",
       "\n",
       "data:  model2\n",
       "DW = 2.0265, p-value = 0.547\n",
       "alternative hypothesis: true autocorrelation is greater than 0\n"
      ]
     },
     "metadata": {},
     "output_type": "display_data"
    }
   ],
   "source": [
    "dwtest(model2)"
   ]
  },
  {
   "cell_type": "code",
   "execution_count": 43,
   "id": "f36a7a06-5acc-4ef2-a93c-b21251448a3f",
   "metadata": {},
   "outputs": [
    {
     "data": {
      "text/plain": [
       " lag Autocorrelation D-W Statistic p-value\n",
       "   1      -0.1150018      2.026542   0.906\n",
       " Alternative hypothesis: rho != 0"
      ]
     },
     "metadata": {},
     "output_type": "display_data"
    }
   ],
   "source": [
    "durbinWatsonTest(model2)"
   ]
  },
  {
   "cell_type": "markdown",
   "id": "fc9c3737-fd0b-4ce6-aa85-44943d4ce425",
   "metadata": {},
   "source": [
    "### feasible generalized least squares (FGLS)"
   ]
  },
  {
   "cell_type": "code",
   "execution_count": 51,
   "id": "1ecaacd5-2930-49ac-a86d-9085d5430eb0",
   "metadata": {},
   "outputs": [
    {
     "data": {
      "text/html": [
       "<style>\n",
       ".list-inline {list-style: none; margin:0; padding: 0}\n",
       ".list-inline>li {display: inline-block}\n",
       ".list-inline>li:not(:last-child)::after {content: \"\\00b7\"; padding: 0 .5ex}\n",
       "</style>\n",
       "<ol class=list-inline><li>0.0151792320906274</li><li>0.00639409190557938</li><li>0.0325786316647871</li><li>0.0191471920745867</li><li>-0.0153337901242683</li><li>-0.00132990098127195</li><li>0.00653719274943132</li><li>0.00162048925147751</li><li>0.00975015218633235</li><li>-0.00722925871798008</li><li>0.000174758857319546</li><li>-0.0146975939327243</li><li>0.00380689173579718</li><li>0.00454249958702402</li><li>-0.0167822153758674</li><li>-0.0091399779495811</li><li>-0.00422252846219351</li><li>-0.014143908709439</li><li>-0.011875949295832</li><li>0.00245712248775831</li><li>-0.0184412867267767</li><li>-0.0138427704324453</li><li>0.00757496364792853</li><li>-0.00357671809715665</li><li>-0.0171562076207774</li><li>-0.0124861952550575</li><li>-0.00754242394929072</li><li>0.00245643437586018</li><li>-0.0102882063980623</li><li>0.00718617423785339</li><li>0.0143585227051846</li><li>0.0127678086817866</li><li>0.0070919535900682</li><li>-0.00903155158175295</li><li>-0.00726634215564381</li><li>-0.0109670199434095</li><li>0.0110890173466256</li><li>0.000254097439515988</li><li>0.00116108304687401</li><li>0.000586076244815104</li><li>0.00687811518401915</li><li>0.00293814373603141</li><li>8.79859166129648e-05</li><li>0.00366504301640092</li><li>-0.0140024869709681</li><li>-0.0155797023743123</li><li>-0.00012753645438579</li><li>0.0196279528980181</li><li>0.0142734120216019</li><li>0.0108911843032331</li><li>0.000420259520168997</li><li>-0.0108587536823013</li><li>-0.00387038232170589</li><li>0.024296225009854</li></ol>\n"
      ],
      "text/latex": [
       "\\begin{enumerate*}\n",
       "\\item 0.0151792320906274\n",
       "\\item 0.00639409190557938\n",
       "\\item 0.0325786316647871\n",
       "\\item 0.0191471920745867\n",
       "\\item -0.0153337901242683\n",
       "\\item -0.00132990098127195\n",
       "\\item 0.00653719274943132\n",
       "\\item 0.00162048925147751\n",
       "\\item 0.00975015218633235\n",
       "\\item -0.00722925871798008\n",
       "\\item 0.000174758857319546\n",
       "\\item -0.0146975939327243\n",
       "\\item 0.00380689173579718\n",
       "\\item 0.00454249958702402\n",
       "\\item -0.0167822153758674\n",
       "\\item -0.0091399779495811\n",
       "\\item -0.00422252846219351\n",
       "\\item -0.014143908709439\n",
       "\\item -0.011875949295832\n",
       "\\item 0.00245712248775831\n",
       "\\item -0.0184412867267767\n",
       "\\item -0.0138427704324453\n",
       "\\item 0.00757496364792853\n",
       "\\item -0.00357671809715665\n",
       "\\item -0.0171562076207774\n",
       "\\item -0.0124861952550575\n",
       "\\item -0.00754242394929072\n",
       "\\item 0.00245643437586018\n",
       "\\item -0.0102882063980623\n",
       "\\item 0.00718617423785339\n",
       "\\item 0.0143585227051846\n",
       "\\item 0.0127678086817866\n",
       "\\item 0.0070919535900682\n",
       "\\item -0.00903155158175295\n",
       "\\item -0.00726634215564381\n",
       "\\item -0.0109670199434095\n",
       "\\item 0.0110890173466256\n",
       "\\item 0.000254097439515988\n",
       "\\item 0.00116108304687401\n",
       "\\item 0.000586076244815104\n",
       "\\item 0.00687811518401915\n",
       "\\item 0.00293814373603141\n",
       "\\item 8.79859166129648e-05\n",
       "\\item 0.00366504301640092\n",
       "\\item -0.0140024869709681\n",
       "\\item -0.0155797023743123\n",
       "\\item -0.00012753645438579\n",
       "\\item 0.0196279528980181\n",
       "\\item 0.0142734120216019\n",
       "\\item 0.0108911843032331\n",
       "\\item 0.000420259520168997\n",
       "\\item -0.0108587536823013\n",
       "\\item -0.00387038232170589\n",
       "\\item 0.024296225009854\n",
       "\\end{enumerate*}\n"
      ],
      "text/markdown": [
       "1. 0.0151792320906274\n",
       "2. 0.00639409190557938\n",
       "3. 0.0325786316647871\n",
       "4. 0.0191471920745867\n",
       "5. -0.0153337901242683\n",
       "6. -0.00132990098127195\n",
       "7. 0.00653719274943132\n",
       "8. 0.00162048925147751\n",
       "9. 0.00975015218633235\n",
       "10. -0.00722925871798008\n",
       "11. 0.000174758857319546\n",
       "12. -0.0146975939327243\n",
       "13. 0.00380689173579718\n",
       "14. 0.00454249958702402\n",
       "15. -0.0167822153758674\n",
       "16. -0.0091399779495811\n",
       "17. -0.00422252846219351\n",
       "18. -0.014143908709439\n",
       "19. -0.011875949295832\n",
       "20. 0.00245712248775831\n",
       "21. -0.0184412867267767\n",
       "22. -0.0138427704324453\n",
       "23. 0.00757496364792853\n",
       "24. -0.00357671809715665\n",
       "25. -0.0171562076207774\n",
       "26. -0.0124861952550575\n",
       "27. -0.00754242394929072\n",
       "28. 0.00245643437586018\n",
       "29. -0.0102882063980623\n",
       "30. 0.00718617423785339\n",
       "31. 0.0143585227051846\n",
       "32. 0.0127678086817866\n",
       "33. 0.0070919535900682\n",
       "34. -0.00903155158175295\n",
       "35. -0.00726634215564381\n",
       "36. -0.0109670199434095\n",
       "37. 0.0110890173466256\n",
       "38. 0.000254097439515988\n",
       "39. 0.00116108304687401\n",
       "40. 0.000586076244815104\n",
       "41. 0.00687811518401915\n",
       "42. 0.00293814373603141\n",
       "43. 8.79859166129648e-05\n",
       "44. 0.00366504301640092\n",
       "45. -0.0140024869709681\n",
       "46. -0.0155797023743123\n",
       "47. -0.00012753645438579\n",
       "48. 0.0196279528980181\n",
       "49. 0.0142734120216019\n",
       "50. 0.0108911843032331\n",
       "51. 0.000420259520168997\n",
       "52. -0.0108587536823013\n",
       "53. -0.00387038232170589\n",
       "54. 0.024296225009854\n",
       "\n",
       "\n"
      ],
      "text/plain": [
       " [1]  1.517923e-02  6.394092e-03  3.257863e-02  1.914719e-02 -1.533379e-02\n",
       " [6] -1.329901e-03  6.537193e-03  1.620489e-03  9.750152e-03 -7.229259e-03\n",
       "[11]  1.747589e-04 -1.469759e-02  3.806892e-03  4.542500e-03 -1.678222e-02\n",
       "[16] -9.139978e-03 -4.222528e-03 -1.414391e-02 -1.187595e-02  2.457122e-03\n",
       "[21] -1.844129e-02 -1.384277e-02  7.574964e-03 -3.576718e-03 -1.715621e-02\n",
       "[26] -1.248620e-02 -7.542424e-03  2.456434e-03 -1.028821e-02  7.186174e-03\n",
       "[31]  1.435852e-02  1.276781e-02  7.091954e-03 -9.031552e-03 -7.266342e-03\n",
       "[36] -1.096702e-02  1.108902e-02  2.540974e-04  1.161083e-03  5.860762e-04\n",
       "[41]  6.878115e-03  2.938144e-03  8.798592e-05  3.665043e-03 -1.400249e-02\n",
       "[46] -1.557970e-02 -1.275365e-04  1.962795e-02  1.427341e-02  1.089118e-02\n",
       "[51]  4.202595e-04 -1.085875e-02 -3.870382e-03  2.429623e-02"
      ]
     },
     "metadata": {},
     "output_type": "display_data"
    }
   ],
   "source": [
    "residuals = augment(model)$.resid\n",
    "residuals"
   ]
  },
  {
   "cell_type": "code",
   "execution_count": 54,
   "id": "3c561fc1-e2c3-46b0-9b67-6267e566c99e",
   "metadata": {},
   "outputs": [
    {
     "data": {
      "text/html": [
       "<strong>lag(residuals):</strong> 0.324670692527429"
      ],
      "text/latex": [
       "\\textbf{lag(residuals):} 0.324670692527429"
      ],
      "text/markdown": [
       "**lag(residuals):** 0.324670692527429"
      ],
      "text/plain": [
       "lag(residuals) \n",
       "     0.3246707 "
      ]
     },
     "metadata": {},
     "output_type": "display_data"
    }
   ],
   "source": [
    "rho <- coef(lm(residuals ~ 0 + lag(residuals)))\n",
    "rho"
   ]
  },
  {
   "cell_type": "code",
   "execution_count": 55,
   "id": "e7f9b733-9e1b-419c-82da-90a09deb1b9e",
   "metadata": {},
   "outputs": [
    {
     "data": {
      "text/plain": [
       "\n",
       "\tDurbin-Watson test\n",
       "\n",
       "data:  model\n",
       "DW = 1.2892, p-value = 0.0009445\n",
       "alternative hypothesis: true autocorrelation is greater than 0\n"
      ]
     },
     "metadata": {},
     "output_type": "display_data"
    }
   ],
   "source": [
    "dwtest(model)"
   ]
  },
  {
   "cell_type": "code",
   "execution_count": 56,
   "id": "5eb99b51-290b-4fc0-a870-9ada018f6fbd",
   "metadata": {},
   "outputs": [
    {
     "data": {
      "text/plain": [
       " lag Autocorrelation D-W Statistic p-value\n",
       "   1       0.2977555      1.289232   0.002\n",
       " Alternative hypothesis: rho != 0"
      ]
     },
     "metadata": {},
     "output_type": "display_data"
    }
   ],
   "source": [
    "durbinWatsonTest(model)"
   ]
  },
  {
   "cell_type": "code",
   "execution_count": 57,
   "id": "08a4a834-de3e-4854-b0f2-fb2bdd928e35",
   "metadata": {},
   "outputs": [
    {
     "data": {
      "text/html": [
       "0.355384"
      ],
      "text/latex": [
       "0.355384"
      ],
      "text/markdown": [
       "0.355384"
      ],
      "text/plain": [
       "[1] 0.355384"
      ]
     },
     "metadata": {},
     "output_type": "display_data"
    }
   ],
   "source": [
    "rho2 = 1 - (1.289232/2) \n",
    "rho2"
   ]
  },
  {
   "cell_type": "code",
   "execution_count": 67,
   "id": "8f7dd63a-69ab-4294-92d4-f356b2a39691",
   "metadata": {},
   "outputs": [
    {
     "data": {
      "text/html": [
       "<table class=\"dataframe\">\n",
       "<caption>A tibble: 4 × 5</caption>\n",
       "<thead>\n",
       "\t<tr><th scope=col>term</th><th scope=col>estimate</th><th scope=col>std.error</th><th scope=col>statistic</th><th scope=col>p.value</th></tr>\n",
       "\t<tr><th scope=col>&lt;chr&gt;</th><th scope=col>&lt;dbl&gt;</th><th scope=col>&lt;dbl&gt;</th><th scope=col>&lt;dbl&gt;</th><th scope=col>&lt;dbl&gt;</th></tr>\n",
       "</thead>\n",
       "<tbody>\n",
       "\t<tr><td>(Intercept)                      </td><td>-2.797310e-01</td><td>0.033726467</td><td>-8.2941093</td><td>6.807447e-11</td></tr>\n",
       "\t<tr><td>I(lndpi - rho * lag(lndpi))      </td><td> 8.187056e-01</td><td>0.021096888</td><td>38.8069362</td><td>1.878713e-38</td></tr>\n",
       "\t<tr><td>I(lnwealth - rho * lag(lnwealth))</td><td> 1.836285e-01</td><td>0.020987236</td><td> 8.7495302</td><td>1.396990e-11</td></tr>\n",
       "\t<tr><td>I(interest - rho * lag(interest))</td><td>-1.799604e-05</td><td>0.000969139</td><td>-0.0185691</td><td>9.852603e-01</td></tr>\n",
       "</tbody>\n",
       "</table>\n"
      ],
      "text/latex": [
       "A tibble: 4 × 5\n",
       "\\begin{tabular}{lllll}\n",
       " term & estimate & std.error & statistic & p.value\\\\\n",
       " <chr> & <dbl> & <dbl> & <dbl> & <dbl>\\\\\n",
       "\\hline\n",
       "\t (Intercept)                       & -2.797310e-01 & 0.033726467 & -8.2941093 & 6.807447e-11\\\\\n",
       "\t I(lndpi - rho * lag(lndpi))       &  8.187056e-01 & 0.021096888 & 38.8069362 & 1.878713e-38\\\\\n",
       "\t I(lnwealth - rho * lag(lnwealth)) &  1.836285e-01 & 0.020987236 &  8.7495302 & 1.396990e-11\\\\\n",
       "\t I(interest - rho * lag(interest)) & -1.799604e-05 & 0.000969139 & -0.0185691 & 9.852603e-01\\\\\n",
       "\\end{tabular}\n"
      ],
      "text/markdown": [
       "\n",
       "A tibble: 4 × 5\n",
       "\n",
       "| term &lt;chr&gt; | estimate &lt;dbl&gt; | std.error &lt;dbl&gt; | statistic &lt;dbl&gt; | p.value &lt;dbl&gt; |\n",
       "|---|---|---|---|---|\n",
       "| (Intercept)                       | -2.797310e-01 | 0.033726467 | -8.2941093 | 6.807447e-11 |\n",
       "| I(lndpi - rho * lag(lndpi))       |  8.187056e-01 | 0.021096888 | 38.8069362 | 1.878713e-38 |\n",
       "| I(lnwealth - rho * lag(lnwealth)) |  1.836285e-01 | 0.020987236 |  8.7495302 | 1.396990e-11 |\n",
       "| I(interest - rho * lag(interest)) | -1.799604e-05 | 0.000969139 | -0.0185691 | 9.852603e-01 |\n",
       "\n"
      ],
      "text/plain": [
       "  term                              estimate      std.error   statistic \n",
       "1 (Intercept)                       -2.797310e-01 0.033726467 -8.2941093\n",
       "2 I(lndpi - rho * lag(lndpi))        8.187056e-01 0.021096888 38.8069362\n",
       "3 I(lnwealth - rho * lag(lnwealth))  1.836285e-01 0.020987236  8.7495302\n",
       "4 I(interest - rho * lag(interest)) -1.799604e-05 0.000969139 -0.0185691\n",
       "  p.value     \n",
       "1 6.807447e-11\n",
       "2 1.878713e-38\n",
       "3 1.396990e-11\n",
       "4 9.852603e-01"
      ]
     },
     "metadata": {},
     "output_type": "display_data"
    },
    {
     "data": {
      "text/html": [
       "<table class=\"dataframe\">\n",
       "<caption>A tibble: 1 × 12</caption>\n",
       "<thead>\n",
       "\t<tr><th scope=col>r.squared</th><th scope=col>adj.r.squared</th><th scope=col>sigma</th><th scope=col>statistic</th><th scope=col>p.value</th><th scope=col>df</th><th scope=col>logLik</th><th scope=col>AIC</th><th scope=col>BIC</th><th scope=col>deviance</th><th scope=col>df.residual</th><th scope=col>nobs</th></tr>\n",
       "\t<tr><th scope=col>&lt;dbl&gt;</th><th scope=col>&lt;dbl&gt;</th><th scope=col>&lt;dbl&gt;</th><th scope=col>&lt;dbl&gt;</th><th scope=col>&lt;dbl&gt;</th><th scope=col>&lt;dbl&gt;</th><th scope=col>&lt;dbl&gt;</th><th scope=col>&lt;dbl&gt;</th><th scope=col>&lt;dbl&gt;</th><th scope=col>&lt;dbl&gt;</th><th scope=col>&lt;int&gt;</th><th scope=col>&lt;int&gt;</th></tr>\n",
       "</thead>\n",
       "<tbody>\n",
       "\t<tr><td>0.9992348</td><td>0.999188</td><td>0.0104226</td><td>21330.12</td><td>2.542681e-76</td><td>3</td><td>168.756</td><td>-327.512</td><td>-317.6606</td><td>0.005322902</td><td>49</td><td>53</td></tr>\n",
       "</tbody>\n",
       "</table>\n"
      ],
      "text/latex": [
       "A tibble: 1 × 12\n",
       "\\begin{tabular}{llllllllllll}\n",
       " r.squared & adj.r.squared & sigma & statistic & p.value & df & logLik & AIC & BIC & deviance & df.residual & nobs\\\\\n",
       " <dbl> & <dbl> & <dbl> & <dbl> & <dbl> & <dbl> & <dbl> & <dbl> & <dbl> & <dbl> & <int> & <int>\\\\\n",
       "\\hline\n",
       "\t 0.9992348 & 0.999188 & 0.0104226 & 21330.12 & 2.542681e-76 & 3 & 168.756 & -327.512 & -317.6606 & 0.005322902 & 49 & 53\\\\\n",
       "\\end{tabular}\n"
      ],
      "text/markdown": [
       "\n",
       "A tibble: 1 × 12\n",
       "\n",
       "| r.squared &lt;dbl&gt; | adj.r.squared &lt;dbl&gt; | sigma &lt;dbl&gt; | statistic &lt;dbl&gt; | p.value &lt;dbl&gt; | df &lt;dbl&gt; | logLik &lt;dbl&gt; | AIC &lt;dbl&gt; | BIC &lt;dbl&gt; | deviance &lt;dbl&gt; | df.residual &lt;int&gt; | nobs &lt;int&gt; |\n",
       "|---|---|---|---|---|---|---|---|---|---|---|---|\n",
       "| 0.9992348 | 0.999188 | 0.0104226 | 21330.12 | 2.542681e-76 | 3 | 168.756 | -327.512 | -317.6606 | 0.005322902 | 49 | 53 |\n",
       "\n"
      ],
      "text/plain": [
       "      r.squared adj.r.squared sigma     statistic p.value      df logLik \n",
       "value 0.9992348 0.999188      0.0104226 21330.12  2.542681e-76 3  168.756\n",
       "      AIC      BIC       deviance    df.residual nobs\n",
       "value -327.512 -317.6606 0.005322902 49          53  "
      ]
     },
     "metadata": {},
     "output_type": "display_data"
    }
   ],
   "source": [
    "fgls_model <- lm(I(lnconsump-rho*lag(lnconsump)) ~ I(lndpi-rho*lag(lndpi)) + \n",
    "                 I(lnwealth-rho*lag(lnwealth)) + I(interest-rho*lag(interest)) , data = df)\n",
    "tidy(fgls_model)\n",
    "glance(fgls_model)"
   ]
  },
  {
   "cell_type": "code",
   "execution_count": 68,
   "id": "8ef9f489-a84c-4a9b-b1a2-1a8aa046c4f1",
   "metadata": {},
   "outputs": [
    {
     "data": {
      "text/plain": [
       "\n",
       "\tBreusch-Godfrey test for serial correlation of order up to 1\n",
       "\n",
       "data:  fgls_model\n",
       "LM test = 2.8168, df = 1, p-value = 0.09328\n"
      ]
     },
     "metadata": {},
     "output_type": "display_data"
    }
   ],
   "source": [
    "bgtest(fgls_model)"
   ]
  },
  {
   "cell_type": "code",
   "execution_count": 69,
   "id": "911c6742-3b8b-4a5a-a37e-4696c8236b64",
   "metadata": {},
   "outputs": [
    {
     "data": {
      "text/plain": [
       "\n",
       "\tDurbin-Watson test\n",
       "\n",
       "data:  fgls_model\n",
       "DW = 1.449, p-value = 0.008542\n",
       "alternative hypothesis: true autocorrelation is greater than 0\n"
      ]
     },
     "metadata": {},
     "output_type": "display_data"
    }
   ],
   "source": [
    "dwtest(fgls_model)"
   ]
  },
  {
   "cell_type": "code",
   "execution_count": 70,
   "id": "101722c3-70ea-47b1-a299-8369e5d1d341",
   "metadata": {},
   "outputs": [
    {
     "data": {
      "text/plain": [
       " lag Autocorrelation D-W Statistic p-value\n",
       "   1       0.2092955      1.448986   0.016\n",
       " Alternative hypothesis: rho != 0"
      ]
     },
     "metadata": {},
     "output_type": "display_data"
    }
   ],
   "source": [
    "durbinWatsonTest(fgls_model)"
   ]
  },
  {
   "cell_type": "code",
   "execution_count": 75,
   "id": "041f377d-087f-4f46-b4c3-171994d4b12f",
   "metadata": {},
   "outputs": [
    {
     "data": {
      "text/html": [
       "<table class=\"dataframe\">\n",
       "<caption>A tibble: 4 × 5</caption>\n",
       "<thead>\n",
       "\t<tr><th scope=col>term</th><th scope=col>estimate</th><th scope=col>std.error</th><th scope=col>statistic</th><th scope=col>p.value</th></tr>\n",
       "\t<tr><th scope=col>&lt;chr&gt;</th><th scope=col>&lt;dbl&gt;</th><th scope=col>&lt;dbl&gt;</th><th scope=col>&lt;dbl&gt;</th><th scope=col>&lt;dbl&gt;</th></tr>\n",
       "</thead>\n",
       "<tbody>\n",
       "\t<tr><td>(Intercept)                                    </td><td>-2.797310e-01</td><td>0.033726467</td><td>-8.2941093</td><td>6.807447e-11</td></tr>\n",
       "\t<tr><td>I(lndpi - 0.324670692527429 * lag(lndpi))      </td><td> 8.187056e-01</td><td>0.021096888</td><td>38.8069362</td><td>1.878713e-38</td></tr>\n",
       "\t<tr><td>I(lnwealth - 0.324670692527429 * lag(lnwealth))</td><td> 1.836285e-01</td><td>0.020987236</td><td> 8.7495302</td><td>1.396990e-11</td></tr>\n",
       "\t<tr><td>I(interest - 0.324670692527429 * lag(interest))</td><td>-1.799604e-05</td><td>0.000969139</td><td>-0.0185691</td><td>9.852603e-01</td></tr>\n",
       "</tbody>\n",
       "</table>\n"
      ],
      "text/latex": [
       "A tibble: 4 × 5\n",
       "\\begin{tabular}{lllll}\n",
       " term & estimate & std.error & statistic & p.value\\\\\n",
       " <chr> & <dbl> & <dbl> & <dbl> & <dbl>\\\\\n",
       "\\hline\n",
       "\t (Intercept)                                     & -2.797310e-01 & 0.033726467 & -8.2941093 & 6.807447e-11\\\\\n",
       "\t I(lndpi - 0.324670692527429 * lag(lndpi))       &  8.187056e-01 & 0.021096888 & 38.8069362 & 1.878713e-38\\\\\n",
       "\t I(lnwealth - 0.324670692527429 * lag(lnwealth)) &  1.836285e-01 & 0.020987236 &  8.7495302 & 1.396990e-11\\\\\n",
       "\t I(interest - 0.324670692527429 * lag(interest)) & -1.799604e-05 & 0.000969139 & -0.0185691 & 9.852603e-01\\\\\n",
       "\\end{tabular}\n"
      ],
      "text/markdown": [
       "\n",
       "A tibble: 4 × 5\n",
       "\n",
       "| term &lt;chr&gt; | estimate &lt;dbl&gt; | std.error &lt;dbl&gt; | statistic &lt;dbl&gt; | p.value &lt;dbl&gt; |\n",
       "|---|---|---|---|---|\n",
       "| (Intercept)                                     | -2.797310e-01 | 0.033726467 | -8.2941093 | 6.807447e-11 |\n",
       "| I(lndpi - 0.324670692527429 * lag(lndpi))       |  8.187056e-01 | 0.021096888 | 38.8069362 | 1.878713e-38 |\n",
       "| I(lnwealth - 0.324670692527429 * lag(lnwealth)) |  1.836285e-01 | 0.020987236 |  8.7495302 | 1.396990e-11 |\n",
       "| I(interest - 0.324670692527429 * lag(interest)) | -1.799604e-05 | 0.000969139 | -0.0185691 | 9.852603e-01 |\n",
       "\n"
      ],
      "text/plain": [
       "  term                                            estimate      std.error  \n",
       "1 (Intercept)                                     -2.797310e-01 0.033726467\n",
       "2 I(lndpi - 0.324670692527429 * lag(lndpi))        8.187056e-01 0.021096888\n",
       "3 I(lnwealth - 0.324670692527429 * lag(lnwealth))  1.836285e-01 0.020987236\n",
       "4 I(interest - 0.324670692527429 * lag(interest)) -1.799604e-05 0.000969139\n",
       "  statistic  p.value     \n",
       "1 -8.2941093 6.807447e-11\n",
       "2 38.8069362 1.878713e-38\n",
       "3  8.7495302 1.396990e-11\n",
       "4 -0.0185691 9.852603e-01"
      ]
     },
     "metadata": {},
     "output_type": "display_data"
    },
    {
     "data": {
      "text/html": [
       "<table class=\"dataframe\">\n",
       "<caption>A tibble: 1 × 12</caption>\n",
       "<thead>\n",
       "\t<tr><th scope=col>r.squared</th><th scope=col>adj.r.squared</th><th scope=col>sigma</th><th scope=col>statistic</th><th scope=col>p.value</th><th scope=col>df</th><th scope=col>logLik</th><th scope=col>AIC</th><th scope=col>BIC</th><th scope=col>deviance</th><th scope=col>df.residual</th><th scope=col>nobs</th></tr>\n",
       "\t<tr><th scope=col>&lt;dbl&gt;</th><th scope=col>&lt;dbl&gt;</th><th scope=col>&lt;dbl&gt;</th><th scope=col>&lt;dbl&gt;</th><th scope=col>&lt;dbl&gt;</th><th scope=col>&lt;dbl&gt;</th><th scope=col>&lt;dbl&gt;</th><th scope=col>&lt;dbl&gt;</th><th scope=col>&lt;dbl&gt;</th><th scope=col>&lt;dbl&gt;</th><th scope=col>&lt;int&gt;</th><th scope=col>&lt;int&gt;</th></tr>\n",
       "</thead>\n",
       "<tbody>\n",
       "\t<tr><td>0.9992348</td><td>0.999188</td><td>0.0104226</td><td>21330.12</td><td>2.542681e-76</td><td>3</td><td>168.756</td><td>-327.512</td><td>-317.6606</td><td>0.005322902</td><td>49</td><td>53</td></tr>\n",
       "</tbody>\n",
       "</table>\n"
      ],
      "text/latex": [
       "A tibble: 1 × 12\n",
       "\\begin{tabular}{llllllllllll}\n",
       " r.squared & adj.r.squared & sigma & statistic & p.value & df & logLik & AIC & BIC & deviance & df.residual & nobs\\\\\n",
       " <dbl> & <dbl> & <dbl> & <dbl> & <dbl> & <dbl> & <dbl> & <dbl> & <dbl> & <dbl> & <int> & <int>\\\\\n",
       "\\hline\n",
       "\t 0.9992348 & 0.999188 & 0.0104226 & 21330.12 & 2.542681e-76 & 3 & 168.756 & -327.512 & -317.6606 & 0.005322902 & 49 & 53\\\\\n",
       "\\end{tabular}\n"
      ],
      "text/markdown": [
       "\n",
       "A tibble: 1 × 12\n",
       "\n",
       "| r.squared &lt;dbl&gt; | adj.r.squared &lt;dbl&gt; | sigma &lt;dbl&gt; | statistic &lt;dbl&gt; | p.value &lt;dbl&gt; | df &lt;dbl&gt; | logLik &lt;dbl&gt; | AIC &lt;dbl&gt; | BIC &lt;dbl&gt; | deviance &lt;dbl&gt; | df.residual &lt;int&gt; | nobs &lt;int&gt; |\n",
       "|---|---|---|---|---|---|---|---|---|---|---|---|\n",
       "| 0.9992348 | 0.999188 | 0.0104226 | 21330.12 | 2.542681e-76 | 3 | 168.756 | -327.512 | -317.6606 | 0.005322902 | 49 | 53 |\n",
       "\n"
      ],
      "text/plain": [
       "      r.squared adj.r.squared sigma     statistic p.value      df logLik \n",
       "value 0.9992348 0.999188      0.0104226 21330.12  2.542681e-76 3  168.756\n",
       "      AIC      BIC       deviance    df.residual nobs\n",
       "value -327.512 -317.6606 0.005322902 49          53  "
      ]
     },
     "metadata": {},
     "output_type": "display_data"
    }
   ],
   "source": [
    "library(dynlm)\n",
    "\n",
    "\n",
    "# Create the FGLS formula\n",
    "fgls_formula <- as.formula(paste(\"I(lnconsump - \", rho, \"* lag(lnconsump)) ~ \",\n",
    "                                 \"I(lndpi - \", rho, \"* lag(lndpi)) + \",\n",
    "                                 \"I(lnwealth - \", rho, \"* lag(lnwealth)) + \",\n",
    "                                 \"I(interest - \", rho, \"* lag(interest))\"\n",
    "))\n",
    "\n",
    "# Fit the FGLS model using dynlm\n",
    "fgls_model <- dynlm(fgls_formula, data = df)\n",
    "\n",
    "# Tidy model coefficients\n",
    "tidy(fgls_model)\n",
    "\n",
    "# Model summary\n",
    "glance(fgls_model)\n"
   ]
  },
  {
   "cell_type": "code",
   "execution_count": 76,
   "id": "76d61bd8-b115-4aa6-93b8-f90c7c065c01",
   "metadata": {},
   "outputs": [
    {
     "data": {
      "text/html": [
       "<table class=\"dataframe\">\n",
       "<caption>A tibble: 4 × 5</caption>\n",
       "<thead>\n",
       "\t<tr><th scope=col>term</th><th scope=col>estimate</th><th scope=col>std.error</th><th scope=col>statistic</th><th scope=col>p.value</th></tr>\n",
       "\t<tr><th scope=col>&lt;chr&gt;</th><th scope=col>&lt;dbl&gt;</th><th scope=col>&lt;dbl&gt;</th><th scope=col>&lt;dbl&gt;</th><th scope=col>&lt;dbl&gt;</th></tr>\n",
       "</thead>\n",
       "<tbody>\n",
       "\t<tr><td>(Intercept)                                                                               </td><td>-0.3402025749</td><td>0.037997412</td><td>-8.9533091</td><td>8.307709e-12</td></tr>\n",
       "\t<tr><td>I(lndpi - 0.375966677578179 * lag(lndpi, 1) - -0.159419476639279 * lag(lndpi, 2))         </td><td> 0.8121613433</td><td>0.019923567</td><td>40.7638520</td><td>6.679649e-39</td></tr>\n",
       "\t<tr><td>I(lnwealth - 0.375966677578179 * lag(lnwealth, 1) - -0.159419476639279 * lag(lnwealth, 2))</td><td> 0.1913213476</td><td>0.019988221</td><td> 9.5717046</td><td>1.040704e-12</td></tr>\n",
       "\t<tr><td>I(interest - 0.375966677578179 * lag(interest, 1) - -0.159419476639279 * lag(interest, 2))</td><td>-0.0007507104</td><td>0.001005589</td><td>-0.7465382</td><td>4.589834e-01</td></tr>\n",
       "</tbody>\n",
       "</table>\n"
      ],
      "text/latex": [
       "A tibble: 4 × 5\n",
       "\\begin{tabular}{lllll}\n",
       " term & estimate & std.error & statistic & p.value\\\\\n",
       " <chr> & <dbl> & <dbl> & <dbl> & <dbl>\\\\\n",
       "\\hline\n",
       "\t (Intercept)                                                                                & -0.3402025749 & 0.037997412 & -8.9533091 & 8.307709e-12\\\\\n",
       "\t I(lndpi - 0.375966677578179 * lag(lndpi, 1) - -0.159419476639279 * lag(lndpi, 2))          &  0.8121613433 & 0.019923567 & 40.7638520 & 6.679649e-39\\\\\n",
       "\t I(lnwealth - 0.375966677578179 * lag(lnwealth, 1) - -0.159419476639279 * lag(lnwealth, 2)) &  0.1913213476 & 0.019988221 &  9.5717046 & 1.040704e-12\\\\\n",
       "\t I(interest - 0.375966677578179 * lag(interest, 1) - -0.159419476639279 * lag(interest, 2)) & -0.0007507104 & 0.001005589 & -0.7465382 & 4.589834e-01\\\\\n",
       "\\end{tabular}\n"
      ],
      "text/markdown": [
       "\n",
       "A tibble: 4 × 5\n",
       "\n",
       "| term &lt;chr&gt; | estimate &lt;dbl&gt; | std.error &lt;dbl&gt; | statistic &lt;dbl&gt; | p.value &lt;dbl&gt; |\n",
       "|---|---|---|---|---|\n",
       "| (Intercept)                                                                                | -0.3402025749 | 0.037997412 | -8.9533091 | 8.307709e-12 |\n",
       "| I(lndpi - 0.375966677578179 * lag(lndpi, 1) - -0.159419476639279 * lag(lndpi, 2))          |  0.8121613433 | 0.019923567 | 40.7638520 | 6.679649e-39 |\n",
       "| I(lnwealth - 0.375966677578179 * lag(lnwealth, 1) - -0.159419476639279 * lag(lnwealth, 2)) |  0.1913213476 | 0.019988221 |  9.5717046 | 1.040704e-12 |\n",
       "| I(interest - 0.375966677578179 * lag(interest, 1) - -0.159419476639279 * lag(interest, 2)) | -0.0007507104 | 0.001005589 | -0.7465382 | 4.589834e-01 |\n",
       "\n"
      ],
      "text/plain": [
       "  term                                                                                      \n",
       "1 (Intercept)                                                                               \n",
       "2 I(lndpi - 0.375966677578179 * lag(lndpi, 1) - -0.159419476639279 * lag(lndpi, 2))         \n",
       "3 I(lnwealth - 0.375966677578179 * lag(lnwealth, 1) - -0.159419476639279 * lag(lnwealth, 2))\n",
       "4 I(interest - 0.375966677578179 * lag(interest, 1) - -0.159419476639279 * lag(interest, 2))\n",
       "  estimate      std.error   statistic  p.value     \n",
       "1 -0.3402025749 0.037997412 -8.9533091 8.307709e-12\n",
       "2  0.8121613433 0.019923567 40.7638520 6.679649e-39\n",
       "3  0.1913213476 0.019988221  9.5717046 1.040704e-12\n",
       "4 -0.0007507104 0.001005589 -0.7465382 4.589834e-01"
      ]
     },
     "metadata": {},
     "output_type": "display_data"
    },
    {
     "data": {
      "text/html": [
       "<table class=\"dataframe\">\n",
       "<caption>A tibble: 1 × 12</caption>\n",
       "<thead>\n",
       "\t<tr><th scope=col>r.squared</th><th scope=col>adj.r.squared</th><th scope=col>sigma</th><th scope=col>statistic</th><th scope=col>p.value</th><th scope=col>df</th><th scope=col>logLik</th><th scope=col>AIC</th><th scope=col>BIC</th><th scope=col>deviance</th><th scope=col>df.residual</th><th scope=col>nobs</th></tr>\n",
       "\t<tr><th scope=col>&lt;dbl&gt;</th><th scope=col>&lt;dbl&gt;</th><th scope=col>&lt;dbl&gt;</th><th scope=col>&lt;dbl&gt;</th><th scope=col>&lt;dbl&gt;</th><th scope=col>&lt;dbl&gt;</th><th scope=col>&lt;dbl&gt;</th><th scope=col>&lt;dbl&gt;</th><th scope=col>&lt;dbl&gt;</th><th scope=col>&lt;dbl&gt;</th><th scope=col>&lt;int&gt;</th><th scope=col>&lt;int&gt;</th></tr>\n",
       "</thead>\n",
       "<tbody>\n",
       "\t<tr><td>0.9993667</td><td>0.9993271</td><td>0.01078611</td><td>25247.09</td><td>9.734735e-77</td><td>3</td><td>163.8301</td><td>-317.6602</td><td>-307.904</td><td>0.005584327</td><td>48</td><td>52</td></tr>\n",
       "</tbody>\n",
       "</table>\n"
      ],
      "text/latex": [
       "A tibble: 1 × 12\n",
       "\\begin{tabular}{llllllllllll}\n",
       " r.squared & adj.r.squared & sigma & statistic & p.value & df & logLik & AIC & BIC & deviance & df.residual & nobs\\\\\n",
       " <dbl> & <dbl> & <dbl> & <dbl> & <dbl> & <dbl> & <dbl> & <dbl> & <dbl> & <dbl> & <int> & <int>\\\\\n",
       "\\hline\n",
       "\t 0.9993667 & 0.9993271 & 0.01078611 & 25247.09 & 9.734735e-77 & 3 & 163.8301 & -317.6602 & -307.904 & 0.005584327 & 48 & 52\\\\\n",
       "\\end{tabular}\n"
      ],
      "text/markdown": [
       "\n",
       "A tibble: 1 × 12\n",
       "\n",
       "| r.squared &lt;dbl&gt; | adj.r.squared &lt;dbl&gt; | sigma &lt;dbl&gt; | statistic &lt;dbl&gt; | p.value &lt;dbl&gt; | df &lt;dbl&gt; | logLik &lt;dbl&gt; | AIC &lt;dbl&gt; | BIC &lt;dbl&gt; | deviance &lt;dbl&gt; | df.residual &lt;int&gt; | nobs &lt;int&gt; |\n",
       "|---|---|---|---|---|---|---|---|---|---|---|---|\n",
       "| 0.9993667 | 0.9993271 | 0.01078611 | 25247.09 | 9.734735e-77 | 3 | 163.8301 | -317.6602 | -307.904 | 0.005584327 | 48 | 52 |\n",
       "\n"
      ],
      "text/plain": [
       "      r.squared adj.r.squared sigma      statistic p.value      df logLik  \n",
       "value 0.9993667 0.9993271     0.01078611 25247.09  9.734735e-77 3  163.8301\n",
       "      AIC       BIC      deviance    df.residual nobs\n",
       "value -317.6602 -307.904 0.005584327 48          52  "
      ]
     },
     "metadata": {},
     "output_type": "display_data"
    }
   ],
   "source": [
    "library(dynlm)\n",
    "\n",
    "# Fit the original model\n",
    "model <- lm(lnconsump ~ lndpi + lnwealth + interest, data = df)\n",
    "\n",
    "# Get residuals\n",
    "residuals <- residuals(model)\n",
    "\n",
    "# Estimate AR(2) coefficients\n",
    "ar_model <- lm(residuals ~ lag(residuals, 1) + lag(residuals, 2))\n",
    "rho1 <- coef(ar_model)[2]\n",
    "rho2 <- coef(ar_model)[3]\n",
    "\n",
    "# Create the FGLS formula for AR(2)\n",
    "fgls_formula <- as.formula(paste(\"I(lnconsump - \", rho1, \"* lag(lnconsump, 1) - \", rho2, \"* lag(lnconsump, 2)) ~ \",\n",
    "                                 \"I(lndpi - \", rho1, \"* lag(lndpi, 1) - \", rho2, \"* lag(lndpi, 2)) + \",\n",
    "                                 \"I(lnwealth - \", rho1, \"* lag(lnwealth, 1) - \", rho2, \"* lag(lnwealth, 2)) + \",\n",
    "                                 \"I(interest - \", rho1, \"* lag(interest, 1) - \", rho2, \"* lag(interest, 2))\"\n",
    "))\n",
    "\n",
    "\n",
    "fgls_model <- lm(fgls_formula, data = df)\n",
    "\n",
    "tidy(fgls_model)\n",
    "\n",
    "glance(fgls_model)\n"
   ]
  },
  {
   "cell_type": "markdown",
   "id": "df93b5f6-a88d-4753-9a2b-c8a4c3cb88fe",
   "metadata": {},
   "source": [
    "### Newey–West method of correcting OLS standard errors"
   ]
  },
  {
   "cell_type": "code",
   "execution_count": 85,
   "id": "8ecc701d-fbd0-466e-b86b-974b824a7dbd",
   "metadata": {},
   "outputs": [
    {
     "data": {
      "text/html": [
       "<table class=\"dataframe\">\n",
       "<caption>A matrix: 4 × 4 of type dbl</caption>\n",
       "<thead>\n",
       "\t<tr><th></th><th scope=col>(Intercept)</th><th scope=col>lndpi</th><th scope=col>lnwealth</th><th scope=col>interest</th></tr>\n",
       "</thead>\n",
       "<tbody>\n",
       "\t<tr><th scope=row>(Intercept)</th><td> 1.971479e-03</td><td> 2.692235e-05</td><td>-2.333159e-04</td><td> 2.652791e-05</td></tr>\n",
       "\t<tr><th scope=row>lndpi</th><td> 2.692235e-05</td><td> 2.628983e-04</td><td>-2.225614e-04</td><td>-6.845951e-06</td></tr>\n",
       "\t<tr><th scope=row>lnwealth</th><td>-2.333159e-04</td><td>-2.225614e-04</td><td> 2.109662e-04</td><td> 2.866692e-06</td></tr>\n",
       "\t<tr><th scope=row>interest</th><td> 2.652791e-05</td><td>-6.845951e-06</td><td> 2.866692e-06</td><td> 6.724860e-07</td></tr>\n",
       "</tbody>\n",
       "</table>\n"
      ],
      "text/latex": [
       "A matrix: 4 × 4 of type dbl\n",
       "\\begin{tabular}{r|llll}\n",
       "  & (Intercept) & lndpi & lnwealth & interest\\\\\n",
       "\\hline\n",
       "\t(Intercept) &  1.971479e-03 &  2.692235e-05 & -2.333159e-04 &  2.652791e-05\\\\\n",
       "\tlndpi &  2.692235e-05 &  2.628983e-04 & -2.225614e-04 & -6.845951e-06\\\\\n",
       "\tlnwealth & -2.333159e-04 & -2.225614e-04 &  2.109662e-04 &  2.866692e-06\\\\\n",
       "\tinterest &  2.652791e-05 & -6.845951e-06 &  2.866692e-06 &  6.724860e-07\\\\\n",
       "\\end{tabular}\n"
      ],
      "text/markdown": [
       "\n",
       "A matrix: 4 × 4 of type dbl\n",
       "\n",
       "| <!--/--> | (Intercept) | lndpi | lnwealth | interest |\n",
       "|---|---|---|---|---|\n",
       "| (Intercept) |  1.971479e-03 |  2.692235e-05 | -2.333159e-04 |  2.652791e-05 |\n",
       "| lndpi |  2.692235e-05 |  2.628983e-04 | -2.225614e-04 | -6.845951e-06 |\n",
       "| lnwealth | -2.333159e-04 | -2.225614e-04 |  2.109662e-04 |  2.866692e-06 |\n",
       "| interest |  2.652791e-05 | -6.845951e-06 |  2.866692e-06 |  6.724860e-07 |\n",
       "\n"
      ],
      "text/plain": [
       "            (Intercept)   lndpi         lnwealth      interest     \n",
       "(Intercept)  1.971479e-03  2.692235e-05 -2.333159e-04  2.652791e-05\n",
       "lndpi        2.692235e-05  2.628983e-04 -2.225614e-04 -6.845951e-06\n",
       "lnwealth    -2.333159e-04 -2.225614e-04  2.109662e-04  2.866692e-06\n",
       "interest     2.652791e-05 -6.845951e-06  2.866692e-06  6.724860e-07"
      ]
     },
     "metadata": {},
     "output_type": "display_data"
    }
   ],
   "source": [
    "NeweyWest(model)"
   ]
  },
  {
   "cell_type": "markdown",
   "id": "117a9780-b102-48eb-976c-905071af0eb7",
   "metadata": {},
   "source": [
    "## Model Evaluation\n",
    "consider case of specification error"
   ]
  },
  {
   "cell_type": "code",
   "execution_count": 90,
   "id": "8155ce63-6a22-4493-87e3-51b41516fdb6",
   "metadata": {},
   "outputs": [
    {
     "data": {
      "text/html": [
       "<table class=\"dataframe\">\n",
       "<caption>A tibble: 5 × 5</caption>\n",
       "<thead>\n",
       "\t<tr><th scope=col>term</th><th scope=col>estimate</th><th scope=col>std.error</th><th scope=col>statistic</th><th scope=col>p.value</th></tr>\n",
       "\t<tr><th scope=col>&lt;chr&gt;</th><th scope=col>&lt;dbl&gt;</th><th scope=col>&lt;dbl&gt;</th><th scope=col>&lt;dbl&gt;</th><th scope=col>&lt;dbl&gt;</th></tr>\n",
       "</thead>\n",
       "<tbody>\n",
       "\t<tr><td>(Intercept)   </td><td>-0.316021364</td><td>0.0556667072</td><td>-5.6770264</td><td>7.777927e-07</td></tr>\n",
       "\t<tr><td>log(income)   </td><td> 0.574833115</td><td>0.0696731710</td><td> 8.2504227</td><td>9.237758e-11</td></tr>\n",
       "\t<tr><td>lnwealth      </td><td> 0.150288163</td><td>0.0208376010</td><td> 7.2123544</td><td>3.477275e-09</td></tr>\n",
       "\t<tr><td>interest      </td><td>-0.000675206</td><td>0.0008937643</td><td>-0.7554632</td><td>4.536624e-01</td></tr>\n",
       "\t<tr><td>lag(lnconsump)</td><td> 0.276561599</td><td>0.0804719157</td><td> 3.4367468</td><td>1.225013e-03</td></tr>\n",
       "</tbody>\n",
       "</table>\n"
      ],
      "text/latex": [
       "A tibble: 5 × 5\n",
       "\\begin{tabular}{lllll}\n",
       " term & estimate & std.error & statistic & p.value\\\\\n",
       " <chr> & <dbl> & <dbl> & <dbl> & <dbl>\\\\\n",
       "\\hline\n",
       "\t (Intercept)    & -0.316021364 & 0.0556667072 & -5.6770264 & 7.777927e-07\\\\\n",
       "\t log(income)    &  0.574833115 & 0.0696731710 &  8.2504227 & 9.237758e-11\\\\\n",
       "\t lnwealth       &  0.150288163 & 0.0208376010 &  7.2123544 & 3.477275e-09\\\\\n",
       "\t interest       & -0.000675206 & 0.0008937643 & -0.7554632 & 4.536624e-01\\\\\n",
       "\t lag(lnconsump) &  0.276561599 & 0.0804719157 &  3.4367468 & 1.225013e-03\\\\\n",
       "\\end{tabular}\n"
      ],
      "text/markdown": [
       "\n",
       "A tibble: 5 × 5\n",
       "\n",
       "| term &lt;chr&gt; | estimate &lt;dbl&gt; | std.error &lt;dbl&gt; | statistic &lt;dbl&gt; | p.value &lt;dbl&gt; |\n",
       "|---|---|---|---|---|\n",
       "| (Intercept)    | -0.316021364 | 0.0556667072 | -5.6770264 | 7.777927e-07 |\n",
       "| log(income)    |  0.574833115 | 0.0696731710 |  8.2504227 | 9.237758e-11 |\n",
       "| lnwealth       |  0.150288163 | 0.0208376010 |  7.2123544 | 3.477275e-09 |\n",
       "| interest       | -0.000675206 | 0.0008937643 | -0.7554632 | 4.536624e-01 |\n",
       "| lag(lnconsump) |  0.276561599 | 0.0804719157 |  3.4367468 | 1.225013e-03 |\n",
       "\n"
      ],
      "text/plain": [
       "  term           estimate     std.error    statistic  p.value     \n",
       "1 (Intercept)    -0.316021364 0.0556667072 -5.6770264 7.777927e-07\n",
       "2 log(income)     0.574833115 0.0696731710  8.2504227 9.237758e-11\n",
       "3 lnwealth        0.150288163 0.0208376010  7.2123544 3.477275e-09\n",
       "4 interest       -0.000675206 0.0008937643 -0.7554632 4.536624e-01\n",
       "5 lag(lnconsump)  0.276561599 0.0804719157  3.4367468 1.225013e-03"
      ]
     },
     "metadata": {},
     "output_type": "display_data"
    },
    {
     "data": {
      "text/html": [
       "<table class=\"dataframe\">\n",
       "<caption>A tibble: 1 × 12</caption>\n",
       "<thead>\n",
       "\t<tr><th scope=col>r.squared</th><th scope=col>adj.r.squared</th><th scope=col>sigma</th><th scope=col>statistic</th><th scope=col>p.value</th><th scope=col>df</th><th scope=col>logLik</th><th scope=col>AIC</th><th scope=col>BIC</th><th scope=col>deviance</th><th scope=col>df.residual</th><th scope=col>nobs</th></tr>\n",
       "\t<tr><th scope=col>&lt;dbl&gt;</th><th scope=col>&lt;dbl&gt;</th><th scope=col>&lt;dbl&gt;</th><th scope=col>&lt;dbl&gt;</th><th scope=col>&lt;dbl&gt;</th><th scope=col>&lt;dbl&gt;</th><th scope=col>&lt;dbl&gt;</th><th scope=col>&lt;dbl&gt;</th><th scope=col>&lt;dbl&gt;</th><th scope=col>&lt;dbl&gt;</th><th scope=col>&lt;int&gt;</th><th scope=col>&lt;int&gt;</th></tr>\n",
       "</thead>\n",
       "<tbody>\n",
       "\t<tr><td>0.9996454</td><td>0.9996159</td><td>0.01061906</td><td>33833.64</td><td>3.891148e-82</td><td>4</td><td>168.3127</td><td>-324.6254</td><td>-312.8037</td><td>0.005412694</td><td>48</td><td>53</td></tr>\n",
       "</tbody>\n",
       "</table>\n"
      ],
      "text/latex": [
       "A tibble: 1 × 12\n",
       "\\begin{tabular}{llllllllllll}\n",
       " r.squared & adj.r.squared & sigma & statistic & p.value & df & logLik & AIC & BIC & deviance & df.residual & nobs\\\\\n",
       " <dbl> & <dbl> & <dbl> & <dbl> & <dbl> & <dbl> & <dbl> & <dbl> & <dbl> & <dbl> & <int> & <int>\\\\\n",
       "\\hline\n",
       "\t 0.9996454 & 0.9996159 & 0.01061906 & 33833.64 & 3.891148e-82 & 4 & 168.3127 & -324.6254 & -312.8037 & 0.005412694 & 48 & 53\\\\\n",
       "\\end{tabular}\n"
      ],
      "text/markdown": [
       "\n",
       "A tibble: 1 × 12\n",
       "\n",
       "| r.squared &lt;dbl&gt; | adj.r.squared &lt;dbl&gt; | sigma &lt;dbl&gt; | statistic &lt;dbl&gt; | p.value &lt;dbl&gt; | df &lt;dbl&gt; | logLik &lt;dbl&gt; | AIC &lt;dbl&gt; | BIC &lt;dbl&gt; | deviance &lt;dbl&gt; | df.residual &lt;int&gt; | nobs &lt;int&gt; |\n",
       "|---|---|---|---|---|---|---|---|---|---|---|---|\n",
       "| 0.9996454 | 0.9996159 | 0.01061906 | 33833.64 | 3.891148e-82 | 4 | 168.3127 | -324.6254 | -312.8037 | 0.005412694 | 48 | 53 |\n",
       "\n"
      ],
      "text/plain": [
       "      r.squared adj.r.squared sigma      statistic p.value      df logLik  \n",
       "value 0.9996454 0.9996159     0.01061906 33833.64  3.891148e-82 4  168.3127\n",
       "      AIC       BIC       deviance    df.residual nobs\n",
       "value -324.6254 -312.8037 0.005412694 48          53  "
      ]
     },
     "metadata": {},
     "output_type": "display_data"
    }
   ],
   "source": [
    "model4 <- lm(lnconsump ~ log(income) + lnwealth +  interest + lag(lnconsump), data =df)\n",
    "tidy(model4)\n",
    "glance(model4)"
   ]
  },
  {
   "cell_type": "code",
   "execution_count": 91,
   "id": "b0ea9019-bac5-439a-b488-2f02ffd3e1da",
   "metadata": {},
   "outputs": [
    {
     "data": {
      "text/plain": [
       "\n",
       "\tBreusch-Godfrey test for serial correlation of order up to 1\n",
       "\n",
       "data:  model4\n",
       "LM test = 4.4804, df = 1, p-value = 0.03429\n"
      ]
     },
     "metadata": {},
     "output_type": "display_data"
    }
   ],
   "source": [
    "bgtest(model4)"
   ]
  }
 ],
 "metadata": {
  "kernelspec": {
   "display_name": "R",
   "language": "R",
   "name": "ir"
  },
  "language_info": {
   "codemirror_mode": "r",
   "file_extension": ".r",
   "mimetype": "text/x-r-source",
   "name": "R",
   "pygments_lexer": "r",
   "version": "4.4.1"
  }
 },
 "nbformat": 4,
 "nbformat_minor": 5
}