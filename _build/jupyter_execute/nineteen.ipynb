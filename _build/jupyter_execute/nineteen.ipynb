{
 "cells": [
  {
   "cell_type": "markdown",
   "id": "54072ab4-4480-43c4-9476-276593a0660b",
   "metadata": {},
   "source": [
    "# 19. Stochastic Regressors And The Method Of Instrumental Variables "
   ]
  },
  {
   "cell_type": "markdown",
   "id": "4c19afc4-7ddc-4d6c-8e5b-a7303cee041c",
   "metadata": {},
   "source": [
    "🚧 Under construction"
   ]
  }
 ],
 "metadata": {
  "kernelspec": {
   "display_name": "R",
   "language": "R",
   "name": "ir"
  },
  "language_info": {
   "codemirror_mode": "r",
   "file_extension": ".r",
   "mimetype": "text/x-r-source",
   "name": "R",
   "pygments_lexer": "r",
   "version": "4.4.1"
  }
 },
 "nbformat": 4,
 "nbformat_minor": 5
}