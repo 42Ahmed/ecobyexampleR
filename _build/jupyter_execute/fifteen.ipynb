{
 "cells": [
  {
   "cell_type": "markdown",
   "id": "4cdf8b0f-d588-4938-808c-4f8e6dbec649",
   "metadata": {},
   "source": [
    "# 15. Asset Price Volatility: The ARCH And GARCH Models "
   ]
  },
  {
   "cell_type": "markdown",
   "id": "f79d797f-8d82-497c-aa6f-9daa20feb88a",
   "metadata": {},
   "source": [
    "🚧 Under construction"
   ]
  }
 ],
 "metadata": {
  "kernelspec": {
   "display_name": "R",
   "language": "R",
   "name": "ir"
  },
  "language_info": {
   "codemirror_mode": "r",
   "file_extension": ".r",
   "mimetype": "text/x-r-source",
   "name": "R",
   "pygments_lexer": "r",
   "version": "4.4.1"
  }
 },
 "nbformat": 4,
 "nbformat_minor": 5
}