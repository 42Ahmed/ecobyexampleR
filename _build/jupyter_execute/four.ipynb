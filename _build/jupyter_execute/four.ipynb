{
 "cells": [
  {
   "cell_type": "markdown",
   "id": "d0b0d8b8-8d65-4fd7-9daf-875e6d5a1d3b",
   "metadata": {},
   "source": [
    "# 4. multicollinearity"
   ]
  },
  {
   "cell_type": "code",
   "execution_count": 1,
   "id": "aae883b9-b15e-4047-94f6-2e47b16be32d",
   "metadata": {},
   "outputs": [],
   "source": [
    "suppressPackageStartupMessages({\n",
    "  library(tidyverse)\n",
    "  library(tidymodels)\n",
    "  library(readxl)\n",
    "  library(multcomp)\n",
    "  library(car)\n",
    "})"
   ]
  },
  {
   "cell_type": "code",
   "execution_count": 2,
   "id": "b221b1b9-d816-44db-ae87-cac69f9f6eea",
   "metadata": {},
   "outputs": [
    {
     "data": {
      "text/html": [
       "<table class=\"dataframe\">\n",
       "<caption>A tibble: 3 × 3</caption>\n",
       "<thead>\n",
       "\t<tr><th scope=col>expend</th><th scope=col>income</th><th scope=col>wealth</th></tr>\n",
       "\t<tr><th scope=col>&lt;dbl&gt;</th><th scope=col>&lt;dbl&gt;</th><th scope=col>&lt;dbl&gt;</th></tr>\n",
       "</thead>\n",
       "<tbody>\n",
       "\t<tr><td>70</td><td> 80</td><td> 810</td></tr>\n",
       "\t<tr><td>65</td><td>100</td><td>1009</td></tr>\n",
       "\t<tr><td>90</td><td>120</td><td>1273</td></tr>\n",
       "</tbody>\n",
       "</table>\n"
      ],
      "text/latex": [
       "A tibble: 3 × 3\n",
       "\\begin{tabular}{lll}\n",
       " expend & income & wealth\\\\\n",
       " <dbl> & <dbl> & <dbl>\\\\\n",
       "\\hline\n",
       "\t 70 &  80 &  810\\\\\n",
       "\t 65 & 100 & 1009\\\\\n",
       "\t 90 & 120 & 1273\\\\\n",
       "\\end{tabular}\n"
      ],
      "text/markdown": [
       "\n",
       "A tibble: 3 × 3\n",
       "\n",
       "| expend &lt;dbl&gt; | income &lt;dbl&gt; | wealth &lt;dbl&gt; |\n",
       "|---|---|---|\n",
       "| 70 |  80 |  810 |\n",
       "| 65 | 100 | 1009 |\n",
       "| 90 | 120 | 1273 |\n",
       "\n"
      ],
      "text/plain": [
       "  expend income wealth\n",
       "1 70      80     810  \n",
       "2 65     100    1009  \n",
       "3 90     120    1273  "
      ]
     },
     "metadata": {},
     "output_type": "display_data"
    }
   ],
   "source": [
    "df <- read_excel(\"data/Table4_2.xls\")\n",
    "head(df,3)"
   ]
  },
  {
   "cell_type": "code",
   "execution_count": 3,
   "id": "5d97da33-8d0a-4df7-a607-14994a3f6693",
   "metadata": {},
   "outputs": [
    {
     "data": {
      "text/html": [
       "<table class=\"dataframe\">\n",
       "<caption>A tibble: 3 × 5</caption>\n",
       "<thead>\n",
       "\t<tr><th scope=col>term</th><th scope=col>estimate</th><th scope=col>std.error</th><th scope=col>statistic</th><th scope=col>p.value</th></tr>\n",
       "\t<tr><th scope=col>&lt;chr&gt;</th><th scope=col>&lt;dbl&gt;</th><th scope=col>&lt;dbl&gt;</th><th scope=col>&lt;dbl&gt;</th><th scope=col>&lt;dbl&gt;</th></tr>\n",
       "</thead>\n",
       "<tbody>\n",
       "\t<tr><td>(Intercept)</td><td>24.77473327</td><td>6.75249960</td><td> 3.6689722</td><td>0.007975077</td></tr>\n",
       "\t<tr><td>income     </td><td> 0.94153734</td><td>0.82289826</td><td> 1.1441722</td><td>0.290164748</td></tr>\n",
       "\t<tr><td>wealth     </td><td>-0.04243453</td><td>0.08066448</td><td>-0.5260621</td><td>0.615094539</td></tr>\n",
       "</tbody>\n",
       "</table>\n"
      ],
      "text/latex": [
       "A tibble: 3 × 5\n",
       "\\begin{tabular}{lllll}\n",
       " term & estimate & std.error & statistic & p.value\\\\\n",
       " <chr> & <dbl> & <dbl> & <dbl> & <dbl>\\\\\n",
       "\\hline\n",
       "\t (Intercept) & 24.77473327 & 6.75249960 &  3.6689722 & 0.007975077\\\\\n",
       "\t income      &  0.94153734 & 0.82289826 &  1.1441722 & 0.290164748\\\\\n",
       "\t wealth      & -0.04243453 & 0.08066448 & -0.5260621 & 0.615094539\\\\\n",
       "\\end{tabular}\n"
      ],
      "text/markdown": [
       "\n",
       "A tibble: 3 × 5\n",
       "\n",
       "| term &lt;chr&gt; | estimate &lt;dbl&gt; | std.error &lt;dbl&gt; | statistic &lt;dbl&gt; | p.value &lt;dbl&gt; |\n",
       "|---|---|---|---|---|\n",
       "| (Intercept) | 24.77473327 | 6.75249960 |  3.6689722 | 0.007975077 |\n",
       "| income      |  0.94153734 | 0.82289826 |  1.1441722 | 0.290164748 |\n",
       "| wealth      | -0.04243453 | 0.08066448 | -0.5260621 | 0.615094539 |\n",
       "\n"
      ],
      "text/plain": [
       "  term        estimate    std.error  statistic  p.value    \n",
       "1 (Intercept) 24.77473327 6.75249960  3.6689722 0.007975077\n",
       "2 income       0.94153734 0.82289826  1.1441722 0.290164748\n",
       "3 wealth      -0.04243453 0.08066448 -0.5260621 0.615094539"
      ]
     },
     "metadata": {},
     "output_type": "display_data"
    },
    {
     "data": {
      "text/html": [
       "0.963504395243514"
      ],
      "text/latex": [
       "0.963504395243514"
      ],
      "text/markdown": [
       "0.963504395243514"
      ],
      "text/plain": [
       "[1] 0.9635044"
      ]
     },
     "metadata": {},
     "output_type": "display_data"
    }
   ],
   "source": [
    "model <- lm(expend ~ income + wealth, data = df)\n",
    "tidy(model)\n",
    "glance(model)$r.squared"
   ]
  },
  {
   "cell_type": "markdown",
   "id": "988f0205-e295-49de-8a33-6138c45d244d",
   "metadata": {},
   "source": [
    "none of the slope coeffi cients is statistically\n",
    "signifi cant, as the t values are statistically insignificant. Yet the R2 value is very high."
   ]
  },
  {
   "cell_type": "code",
   "execution_count": 4,
   "id": "bd3bfc8e-4a8c-4db5-a2d1-93d2fd5c5b8a",
   "metadata": {},
   "outputs": [
    {
     "data": {
      "text/html": [
       "<table class=\"dataframe\">\n",
       "<caption>A tibble: 2 × 5</caption>\n",
       "<thead>\n",
       "\t<tr><th scope=col>term</th><th scope=col>estimate</th><th scope=col>std.error</th><th scope=col>statistic</th><th scope=col>p.value</th></tr>\n",
       "\t<tr><th scope=col>&lt;chr&gt;</th><th scope=col>&lt;dbl&gt;</th><th scope=col>&lt;dbl&gt;</th><th scope=col>&lt;dbl&gt;</th><th scope=col>&lt;dbl&gt;</th></tr>\n",
       "</thead>\n",
       "<tbody>\n",
       "\t<tr><td>(Intercept)</td><td>24.4545455</td><td>6.41381730</td><td> 3.812791</td><td>5.142172e-03</td></tr>\n",
       "\t<tr><td>income     </td><td> 0.5090909</td><td>0.03574281</td><td>14.243171</td><td>5.752746e-07</td></tr>\n",
       "</tbody>\n",
       "</table>\n"
      ],
      "text/latex": [
       "A tibble: 2 × 5\n",
       "\\begin{tabular}{lllll}\n",
       " term & estimate & std.error & statistic & p.value\\\\\n",
       " <chr> & <dbl> & <dbl> & <dbl> & <dbl>\\\\\n",
       "\\hline\n",
       "\t (Intercept) & 24.4545455 & 6.41381730 &  3.812791 & 5.142172e-03\\\\\n",
       "\t income      &  0.5090909 & 0.03574281 & 14.243171 & 5.752746e-07\\\\\n",
       "\\end{tabular}\n"
      ],
      "text/markdown": [
       "\n",
       "A tibble: 2 × 5\n",
       "\n",
       "| term &lt;chr&gt; | estimate &lt;dbl&gt; | std.error &lt;dbl&gt; | statistic &lt;dbl&gt; | p.value &lt;dbl&gt; |\n",
       "|---|---|---|---|---|\n",
       "| (Intercept) | 24.4545455 | 6.41381730 |  3.812791 | 5.142172e-03 |\n",
       "| income      |  0.5090909 | 0.03574281 | 14.243171 | 5.752746e-07 |\n",
       "\n"
      ],
      "text/plain": [
       "  term        estimate   std.error  statistic p.value     \n",
       "1 (Intercept) 24.4545455 6.41381730  3.812791 5.142172e-03\n",
       "2 income       0.5090909 0.03574281 14.243171 5.752746e-07"
      ]
     },
     "metadata": {},
     "output_type": "display_data"
    },
    {
     "data": {
      "text/html": [
       "0.962061560486757"
      ],
      "text/latex": [
       "0.962061560486757"
      ],
      "text/markdown": [
       "0.962061560486757"
      ],
      "text/plain": [
       "[1] 0.9620616"
      ]
     },
     "metadata": {},
     "output_type": "display_data"
    }
   ],
   "source": [
    "model2 <- lm(expend ~ income, data = df)\n",
    "tidy(model2)\n",
    "glance(model2)$r.squared"
   ]
  },
  {
   "cell_type": "markdown",
   "id": "33a09825-bb09-4a6b-af62-406cb05c78db",
   "metadata": {},
   "source": [
    " income alone has significant impact on expenditure, "
   ]
  },
  {
   "cell_type": "code",
   "execution_count": 5,
   "id": "5652b739-6949-413b-bd24-a0f92d38d1a1",
   "metadata": {},
   "outputs": [
    {
     "data": {
      "text/html": [
       "<table class=\"dataframe\">\n",
       "<caption>A tibble: 2 × 5</caption>\n",
       "<thead>\n",
       "\t<tr><th scope=col>term</th><th scope=col>estimate</th><th scope=col>std.error</th><th scope=col>statistic</th><th scope=col>p.value</th></tr>\n",
       "\t<tr><th scope=col>&lt;chr&gt;</th><th scope=col>&lt;dbl&gt;</th><th scope=col>&lt;dbl&gt;</th><th scope=col>&lt;dbl&gt;</th><th scope=col>&lt;dbl&gt;</th></tr>\n",
       "</thead>\n",
       "<tbody>\n",
       "\t<tr><td>(Intercept)</td><td>24.41104485</td><td>6.874096840</td><td> 3.551164</td><td>7.496699e-03</td></tr>\n",
       "\t<tr><td>wealth     </td><td> 0.04976377</td><td>0.003743986</td><td>13.291656</td><td>9.802080e-07</td></tr>\n",
       "</tbody>\n",
       "</table>\n"
      ],
      "text/latex": [
       "A tibble: 2 × 5\n",
       "\\begin{tabular}{lllll}\n",
       " term & estimate & std.error & statistic & p.value\\\\\n",
       " <chr> & <dbl> & <dbl> & <dbl> & <dbl>\\\\\n",
       "\\hline\n",
       "\t (Intercept) & 24.41104485 & 6.874096840 &  3.551164 & 7.496699e-03\\\\\n",
       "\t wealth      &  0.04976377 & 0.003743986 & 13.291656 & 9.802080e-07\\\\\n",
       "\\end{tabular}\n"
      ],
      "text/markdown": [
       "\n",
       "A tibble: 2 × 5\n",
       "\n",
       "| term &lt;chr&gt; | estimate &lt;dbl&gt; | std.error &lt;dbl&gt; | statistic &lt;dbl&gt; | p.value &lt;dbl&gt; |\n",
       "|---|---|---|---|---|\n",
       "| (Intercept) | 24.41104485 | 6.874096840 |  3.551164 | 7.496699e-03 |\n",
       "| wealth      |  0.04976377 | 0.003743986 | 13.291656 | 9.802080e-07 |\n",
       "\n"
      ],
      "text/plain": [
       "  term        estimate    std.error   statistic p.value     \n",
       "1 (Intercept) 24.41104485 6.874096840  3.551164 7.496699e-03\n",
       "2 wealth       0.04976377 0.003743986 13.291656 9.802080e-07"
      ]
     },
     "metadata": {},
     "output_type": "display_data"
    },
    {
     "data": {
      "text/html": [
       "0.956679038871206"
      ],
      "text/latex": [
       "0.956679038871206"
      ],
      "text/markdown": [
       "0.956679038871206"
      ],
      "text/plain": [
       "[1] 0.956679"
      ]
     },
     "metadata": {},
     "output_type": "display_data"
    }
   ],
   "source": [
    "model3 <- lm(expend ~ wealth, data = df)\n",
    "tidy(model3)\n",
    "glance(model3)$r.squared"
   ]
  },
  {
   "cell_type": "markdown",
   "id": "e278991b-15a7-482b-939b-55d42f967a84",
   "metadata": {},
   "source": [
    "wealth alone has a significant impact on expenditure"
   ]
  },
  {
   "cell_type": "code",
   "execution_count": 6,
   "id": "6e58cf94-f2d7-497d-ae69-76b1b33b0c4f",
   "metadata": {},
   "outputs": [
    {
     "data": {
      "text/html": [
       "<table class=\"dataframe\">\n",
       "<caption>A tibble: 2 × 5</caption>\n",
       "<thead>\n",
       "\t<tr><th scope=col>term</th><th scope=col>estimate</th><th scope=col>std.error</th><th scope=col>statistic</th><th scope=col>p.value</th></tr>\n",
       "\t<tr><th scope=col>&lt;chr&gt;</th><th scope=col>&lt;dbl&gt;</th><th scope=col>&lt;dbl&gt;</th><th scope=col>&lt;dbl&gt;</th><th scope=col>&lt;dbl&gt;</th></tr>\n",
       "</thead>\n",
       "<tbody>\n",
       "\t<tr><td>(Intercept)</td><td> 7.545455</td><td>29.4758107</td><td> 0.255988</td><td>8.044195e-01</td></tr>\n",
       "\t<tr><td>income     </td><td>10.190909</td><td> 0.1642623</td><td>62.040474</td><td>5.064901e-12</td></tr>\n",
       "</tbody>\n",
       "</table>\n"
      ],
      "text/latex": [
       "A tibble: 2 × 5\n",
       "\\begin{tabular}{lllll}\n",
       " term & estimate & std.error & statistic & p.value\\\\\n",
       " <chr> & <dbl> & <dbl> & <dbl> & <dbl>\\\\\n",
       "\\hline\n",
       "\t (Intercept) &  7.545455 & 29.4758107 &  0.255988 & 8.044195e-01\\\\\n",
       "\t income      & 10.190909 &  0.1642623 & 62.040474 & 5.064901e-12\\\\\n",
       "\\end{tabular}\n"
      ],
      "text/markdown": [
       "\n",
       "A tibble: 2 × 5\n",
       "\n",
       "| term &lt;chr&gt; | estimate &lt;dbl&gt; | std.error &lt;dbl&gt; | statistic &lt;dbl&gt; | p.value &lt;dbl&gt; |\n",
       "|---|---|---|---|---|\n",
       "| (Intercept) |  7.545455 | 29.4758107 |  0.255988 | 8.044195e-01 |\n",
       "| income      | 10.190909 |  0.1642623 | 62.040474 | 5.064901e-12 |\n",
       "\n"
      ],
      "text/plain": [
       "  term        estimate  std.error  statistic p.value     \n",
       "1 (Intercept)  7.545455 29.4758107  0.255988 8.044195e-01\n",
       "2 income      10.190909  0.1642623 62.040474 5.064901e-12"
      ]
     },
     "metadata": {},
     "output_type": "display_data"
    },
    {
     "data": {
      "text/html": [
       "0.997925860058925"
      ],
      "text/latex": [
       "0.997925860058925"
      ],
      "text/markdown": [
       "0.997925860058925"
      ],
      "text/plain": [
       "[1] 0.9979259"
      ]
     },
     "metadata": {},
     "output_type": "display_data"
    }
   ],
   "source": [
    "model4 <- lm(wealth ~ income, data = df)\n",
    "tidy(model4)\n",
    "glance(model4)$r.squared"
   ]
  },
  {
   "cell_type": "markdown",
   "id": "fa1d7013-7e3a-4afe-878a-a5319b8dccf4",
   "metadata": {},
   "source": [
    "wealth and income are highly related "
   ]
  },
  {
   "cell_type": "markdown",
   "id": "8f4bee44-4382-4940-a5f9-722f2c737a0a",
   "metadata": {},
   "source": [
    "## Example"
   ]
  },
  {
   "cell_type": "code",
   "execution_count": 7,
   "id": "ea2f4205-d10b-4c7a-84ab-993d9e29ea86",
   "metadata": {},
   "outputs": [
    {
     "data": {
      "text/html": [
       "<table class=\"dataframe\">\n",
       "<caption>A tibble: 3 × 25</caption>\n",
       "<thead>\n",
       "\t<tr><th scope=col>taxableinc</th><th scope=col>federaltax</th><th scope=col>hsiblings</th><th scope=col>hfathereduc</th><th scope=col>hmothereduc</th><th scope=col>siblings</th><th scope=col>lfp</th><th scope=col>hours</th><th scope=col>kidsl6</th><th scope=col>kids618</th><th scope=col>⋯</th><th scope=col>hage</th><th scope=col>heduc</th><th scope=col>hwage</th><th scope=col>faminc</th><th scope=col>mtr</th><th scope=col>mothereduc</th><th scope=col>fathereduc</th><th scope=col>unemployment</th><th scope=col>largecity</th><th scope=col>exper</th></tr>\n",
       "\t<tr><th scope=col>&lt;dbl&gt;</th><th scope=col>&lt;dbl&gt;</th><th scope=col>&lt;dbl&gt;</th><th scope=col>&lt;dbl&gt;</th><th scope=col>&lt;dbl&gt;</th><th scope=col>&lt;dbl&gt;</th><th scope=col>&lt;dbl&gt;</th><th scope=col>&lt;dbl&gt;</th><th scope=col>&lt;dbl&gt;</th><th scope=col>&lt;dbl&gt;</th><th scope=col>⋯</th><th scope=col>&lt;dbl&gt;</th><th scope=col>&lt;dbl&gt;</th><th scope=col>&lt;dbl&gt;</th><th scope=col>&lt;dbl&gt;</th><th scope=col>&lt;dbl&gt;</th><th scope=col>&lt;dbl&gt;</th><th scope=col>&lt;dbl&gt;</th><th scope=col>&lt;dbl&gt;</th><th scope=col>&lt;dbl&gt;</th><th scope=col>&lt;dbl&gt;</th></tr>\n",
       "</thead>\n",
       "<tbody>\n",
       "\t<tr><td>12200</td><td>1494</td><td>1</td><td>14</td><td>16</td><td>4</td><td>1</td><td>1610</td><td>1</td><td>0</td><td>⋯</td><td>34</td><td>12</td><td>4.0288</td><td>16310</td><td>0.7215</td><td>12</td><td>7</td><td> 5</td><td>0</td><td>14</td></tr>\n",
       "\t<tr><td>18000</td><td>2615</td><td>8</td><td> 7</td><td> 3</td><td>0</td><td>1</td><td>1656</td><td>0</td><td>2</td><td>⋯</td><td>30</td><td> 9</td><td>8.4416</td><td>21800</td><td>0.6615</td><td> 7</td><td>7</td><td>11</td><td>1</td><td> 5</td></tr>\n",
       "\t<tr><td>24000</td><td>3957</td><td>4</td><td> 7</td><td>10</td><td>2</td><td>1</td><td>1980</td><td>1</td><td>3</td><td>⋯</td><td>40</td><td>12</td><td>3.5807</td><td>21040</td><td>0.6915</td><td>12</td><td>7</td><td> 5</td><td>0</td><td>15</td></tr>\n",
       "</tbody>\n",
       "</table>\n"
      ],
      "text/latex": [
       "A tibble: 3 × 25\n",
       "\\begin{tabular}{lllllllllllllllllllll}\n",
       " taxableinc & federaltax & hsiblings & hfathereduc & hmothereduc & siblings & lfp & hours & kidsl6 & kids618 & ⋯ & hage & heduc & hwage & faminc & mtr & mothereduc & fathereduc & unemployment & largecity & exper\\\\\n",
       " <dbl> & <dbl> & <dbl> & <dbl> & <dbl> & <dbl> & <dbl> & <dbl> & <dbl> & <dbl> & ⋯ & <dbl> & <dbl> & <dbl> & <dbl> & <dbl> & <dbl> & <dbl> & <dbl> & <dbl> & <dbl>\\\\\n",
       "\\hline\n",
       "\t 12200 & 1494 & 1 & 14 & 16 & 4 & 1 & 1610 & 1 & 0 & ⋯ & 34 & 12 & 4.0288 & 16310 & 0.7215 & 12 & 7 &  5 & 0 & 14\\\\\n",
       "\t 18000 & 2615 & 8 &  7 &  3 & 0 & 1 & 1656 & 0 & 2 & ⋯ & 30 &  9 & 8.4416 & 21800 & 0.6615 &  7 & 7 & 11 & 1 &  5\\\\\n",
       "\t 24000 & 3957 & 4 &  7 & 10 & 2 & 1 & 1980 & 1 & 3 & ⋯ & 40 & 12 & 3.5807 & 21040 & 0.6915 & 12 & 7 &  5 & 0 & 15\\\\\n",
       "\\end{tabular}\n"
      ],
      "text/markdown": [
       "\n",
       "A tibble: 3 × 25\n",
       "\n",
       "| taxableinc &lt;dbl&gt; | federaltax &lt;dbl&gt; | hsiblings &lt;dbl&gt; | hfathereduc &lt;dbl&gt; | hmothereduc &lt;dbl&gt; | siblings &lt;dbl&gt; | lfp &lt;dbl&gt; | hours &lt;dbl&gt; | kidsl6 &lt;dbl&gt; | kids618 &lt;dbl&gt; | ⋯ ⋯ | hage &lt;dbl&gt; | heduc &lt;dbl&gt; | hwage &lt;dbl&gt; | faminc &lt;dbl&gt; | mtr &lt;dbl&gt; | mothereduc &lt;dbl&gt; | fathereduc &lt;dbl&gt; | unemployment &lt;dbl&gt; | largecity &lt;dbl&gt; | exper &lt;dbl&gt; |\n",
       "|---|---|---|---|---|---|---|---|---|---|---|---|---|---|---|---|---|---|---|---|---|\n",
       "| 12200 | 1494 | 1 | 14 | 16 | 4 | 1 | 1610 | 1 | 0 | ⋯ | 34 | 12 | 4.0288 | 16310 | 0.7215 | 12 | 7 |  5 | 0 | 14 |\n",
       "| 18000 | 2615 | 8 |  7 |  3 | 0 | 1 | 1656 | 0 | 2 | ⋯ | 30 |  9 | 8.4416 | 21800 | 0.6615 |  7 | 7 | 11 | 1 |  5 |\n",
       "| 24000 | 3957 | 4 |  7 | 10 | 2 | 1 | 1980 | 1 | 3 | ⋯ | 40 | 12 | 3.5807 | 21040 | 0.6915 | 12 | 7 |  5 | 0 | 15 |\n",
       "\n"
      ],
      "text/plain": [
       "  taxableinc federaltax hsiblings hfathereduc hmothereduc siblings lfp hours\n",
       "1 12200      1494       1         14          16          4        1   1610 \n",
       "2 18000      2615       8          7           3          0        1   1656 \n",
       "3 24000      3957       4          7          10          2        1   1980 \n",
       "  kidsl6 kids618 ⋯ hage heduc hwage  faminc mtr    mothereduc fathereduc\n",
       "1 1      0       ⋯ 34   12    4.0288 16310  0.7215 12         7         \n",
       "2 0      2       ⋯ 30    9    8.4416 21800  0.6615  7         7         \n",
       "3 1      3       ⋯ 40   12    3.5807 21040  0.6915 12         7         \n",
       "  unemployment largecity exper\n",
       "1  5           0         14   \n",
       "2 11           1          5   \n",
       "3  5           0         15   "
      ]
     },
     "metadata": {},
     "output_type": "display_data"
    }
   ],
   "source": [
    "df2 <- read_excel(\"data/Table4_4.xls\")\n",
    "head(df2,3)"
   ]
  },
  {
   "cell_type": "markdown",
   "id": "5b1db85d-6045-4769-aec1-6f2479b262b8",
   "metadata": {},
   "source": [
    "Hours: hours worked in 1975 (dependent variable)  \n",
    "Kidslt6: number of kids under age 6  \n",
    "Kidsge6: number of kids between ages 6 and 18  \n",
    "Age: woman’s age in years  \n",
    "Educ: years of schooling  \n",
    "Wage: estimated wage from earnings  \n",
    "Hushrs: hours worked by husband  \n",
    "Husage: husband’s age  \n",
    "Huseduc: husband’s years of schooling  \n",
    "Huswage: husband’s hourly wage, 1975  \n",
    "Faminc: family income in 1975  \n",
    "Mtr: federal marginal tax rate facing a woman  \n",
    "motheduc: mother’s years of schooling  \n",
    "fatheduc: father’s years of schooling  \n",
    "Unem: unemployment rate in county of residence  \n",
    "exper: actual labor market experience  \n",
    "\n",
    "\n",
    "assess the impact of several socio-economic variables on married women’s hours of work\n",
    "in the labor market. This is cross-sectional data on 753 married women for the year\n",
    "1975. It should be noted that there were 325 married women who did not work and\n",
    "hence had zero hours of work."
   ]
  },
  {
   "cell_type": "code",
   "execution_count": 8,
   "id": "2b610034-c5d1-404f-bfd4-c76d0620ea78",
   "metadata": {},
   "outputs": [
    {
     "data": {
      "text/html": [
       "<table class=\"dataframe\">\n",
       "<caption>A tibble: 16 × 5</caption>\n",
       "<thead>\n",
       "\t<tr><th scope=col>term</th><th scope=col>estimate</th><th scope=col>std.error</th><th scope=col>statistic</th><th scope=col>p.value</th></tr>\n",
       "\t<tr><th scope=col>&lt;chr&gt;</th><th scope=col>&lt;dbl&gt;</th><th scope=col>&lt;dbl&gt;</th><th scope=col>&lt;dbl&gt;</th><th scope=col>&lt;dbl&gt;</th></tr>\n",
       "</thead>\n",
       "<tbody>\n",
       "\t<tr><td>(Intercept) </td><td> 5805.4723070</td><td>6.843439e+02</td><td> 8.4832671</td><td>1.194368e-16</td></tr>\n",
       "\t<tr><td>age         </td><td>  -24.0044110</td><td>6.859174e+00</td><td>-3.4996069</td><td>4.939481e-04</td></tr>\n",
       "\t<tr><td>educ        </td><td>  -13.7760578</td><td>1.528931e+01</td><td>-0.9010257</td><td>3.678690e-01</td></tr>\n",
       "\t<tr><td>exper       </td><td>   34.9538799</td><td>3.456319e+00</td><td>10.1130377</td><td>1.331411e-22</td></tr>\n",
       "\t<tr><td>faminc      </td><td>    0.0156683</td><td>4.641855e-03</td><td> 3.3754394</td><td>7.755884e-04</td></tr>\n",
       "\t<tr><td>fathereduc  </td><td>   -4.8206771</td><td>8.673176e+00</td><td>-0.5558145</td><td>5.785063e-01</td></tr>\n",
       "\t<tr><td>hage        </td><td>   -5.0282298</td><td>6.669922e+00</td><td>-0.7538664</td><td>4.511702e-01</td></tr>\n",
       "\t<tr><td>heduc       </td><td>  -11.6952485</td><td>1.101195e+01</td><td>-1.0620504</td><td>2.885607e-01</td></tr>\n",
       "\t<tr><td>hhours      </td><td>   -0.3389067</td><td>5.107115e-02</td><td>-6.6359714</td><td>6.246245e-11</td></tr>\n",
       "\t<tr><td>hwage       </td><td> -107.3373543</td><td>1.091622e+01</td><td>-9.8328291</td><td>1.600070e-21</td></tr>\n",
       "\t<tr><td>kidsl6      </td><td> -322.7168869</td><td>5.345385e+01</td><td>-6.0372993</td><td>2.482936e-09</td></tr>\n",
       "\t<tr><td>kids618     </td><td>   -4.0422005</td><td>2.149471e+01</td><td>-0.1880556</td><td>8.508849e-01</td></tr>\n",
       "\t<tr><td>wage        </td><td>   51.6767604</td><td>8.714492e+00</td><td> 5.9299799</td><td>4.655600e-09</td></tr>\n",
       "\t<tr><td>mothereduc  </td><td>    9.8422151</td><td>9.195859e+00</td><td> 1.0702878</td><td>2.848402e-01</td></tr>\n",
       "\t<tr><td>mtr         </td><td>-3956.7686273</td><td>7.215385e+02</td><td>-5.4837941</td><td>5.723755e-08</td></tr>\n",
       "\t<tr><td>unemployment</td><td>   -7.6865804</td><td>7.979074e+00</td><td>-0.9633424</td><td>3.356917e-01</td></tr>\n",
       "</tbody>\n",
       "</table>\n"
      ],
      "text/latex": [
       "A tibble: 16 × 5\n",
       "\\begin{tabular}{lllll}\n",
       " term & estimate & std.error & statistic & p.value\\\\\n",
       " <chr> & <dbl> & <dbl> & <dbl> & <dbl>\\\\\n",
       "\\hline\n",
       "\t (Intercept)  &  5805.4723070 & 6.843439e+02 &  8.4832671 & 1.194368e-16\\\\\n",
       "\t age          &   -24.0044110 & 6.859174e+00 & -3.4996069 & 4.939481e-04\\\\\n",
       "\t educ         &   -13.7760578 & 1.528931e+01 & -0.9010257 & 3.678690e-01\\\\\n",
       "\t exper        &    34.9538799 & 3.456319e+00 & 10.1130377 & 1.331411e-22\\\\\n",
       "\t faminc       &     0.0156683 & 4.641855e-03 &  3.3754394 & 7.755884e-04\\\\\n",
       "\t fathereduc   &    -4.8206771 & 8.673176e+00 & -0.5558145 & 5.785063e-01\\\\\n",
       "\t hage         &    -5.0282298 & 6.669922e+00 & -0.7538664 & 4.511702e-01\\\\\n",
       "\t heduc        &   -11.6952485 & 1.101195e+01 & -1.0620504 & 2.885607e-01\\\\\n",
       "\t hhours       &    -0.3389067 & 5.107115e-02 & -6.6359714 & 6.246245e-11\\\\\n",
       "\t hwage        &  -107.3373543 & 1.091622e+01 & -9.8328291 & 1.600070e-21\\\\\n",
       "\t kidsl6       &  -322.7168869 & 5.345385e+01 & -6.0372993 & 2.482936e-09\\\\\n",
       "\t kids618      &    -4.0422005 & 2.149471e+01 & -0.1880556 & 8.508849e-01\\\\\n",
       "\t wage         &    51.6767604 & 8.714492e+00 &  5.9299799 & 4.655600e-09\\\\\n",
       "\t mothereduc   &     9.8422151 & 9.195859e+00 &  1.0702878 & 2.848402e-01\\\\\n",
       "\t mtr          & -3956.7686273 & 7.215385e+02 & -5.4837941 & 5.723755e-08\\\\\n",
       "\t unemployment &    -7.6865804 & 7.979074e+00 & -0.9633424 & 3.356917e-01\\\\\n",
       "\\end{tabular}\n"
      ],
      "text/markdown": [
       "\n",
       "A tibble: 16 × 5\n",
       "\n",
       "| term &lt;chr&gt; | estimate &lt;dbl&gt; | std.error &lt;dbl&gt; | statistic &lt;dbl&gt; | p.value &lt;dbl&gt; |\n",
       "|---|---|---|---|---|\n",
       "| (Intercept)  |  5805.4723070 | 6.843439e+02 |  8.4832671 | 1.194368e-16 |\n",
       "| age          |   -24.0044110 | 6.859174e+00 | -3.4996069 | 4.939481e-04 |\n",
       "| educ         |   -13.7760578 | 1.528931e+01 | -0.9010257 | 3.678690e-01 |\n",
       "| exper        |    34.9538799 | 3.456319e+00 | 10.1130377 | 1.331411e-22 |\n",
       "| faminc       |     0.0156683 | 4.641855e-03 |  3.3754394 | 7.755884e-04 |\n",
       "| fathereduc   |    -4.8206771 | 8.673176e+00 | -0.5558145 | 5.785063e-01 |\n",
       "| hage         |    -5.0282298 | 6.669922e+00 | -0.7538664 | 4.511702e-01 |\n",
       "| heduc        |   -11.6952485 | 1.101195e+01 | -1.0620504 | 2.885607e-01 |\n",
       "| hhours       |    -0.3389067 | 5.107115e-02 | -6.6359714 | 6.246245e-11 |\n",
       "| hwage        |  -107.3373543 | 1.091622e+01 | -9.8328291 | 1.600070e-21 |\n",
       "| kidsl6       |  -322.7168869 | 5.345385e+01 | -6.0372993 | 2.482936e-09 |\n",
       "| kids618      |    -4.0422005 | 2.149471e+01 | -0.1880556 | 8.508849e-01 |\n",
       "| wage         |    51.6767604 | 8.714492e+00 |  5.9299799 | 4.655600e-09 |\n",
       "| mothereduc   |     9.8422151 | 9.195859e+00 |  1.0702878 | 2.848402e-01 |\n",
       "| mtr          | -3956.7686273 | 7.215385e+02 | -5.4837941 | 5.723755e-08 |\n",
       "| unemployment |    -7.6865804 | 7.979074e+00 | -0.9633424 | 3.356917e-01 |\n",
       "\n"
      ],
      "text/plain": [
       "   term         estimate      std.error    statistic  p.value     \n",
       "1  (Intercept)   5805.4723070 6.843439e+02  8.4832671 1.194368e-16\n",
       "2  age            -24.0044110 6.859174e+00 -3.4996069 4.939481e-04\n",
       "3  educ           -13.7760578 1.528931e+01 -0.9010257 3.678690e-01\n",
       "4  exper           34.9538799 3.456319e+00 10.1130377 1.331411e-22\n",
       "5  faminc           0.0156683 4.641855e-03  3.3754394 7.755884e-04\n",
       "6  fathereduc      -4.8206771 8.673176e+00 -0.5558145 5.785063e-01\n",
       "7  hage            -5.0282298 6.669922e+00 -0.7538664 4.511702e-01\n",
       "8  heduc          -11.6952485 1.101195e+01 -1.0620504 2.885607e-01\n",
       "9  hhours          -0.3389067 5.107115e-02 -6.6359714 6.246245e-11\n",
       "10 hwage         -107.3373543 1.091622e+01 -9.8328291 1.600070e-21\n",
       "11 kidsl6        -322.7168869 5.345385e+01 -6.0372993 2.482936e-09\n",
       "12 kids618         -4.0422005 2.149471e+01 -0.1880556 8.508849e-01\n",
       "13 wage            51.6767604 8.714492e+00  5.9299799 4.655600e-09\n",
       "14 mothereduc       9.8422151 9.195859e+00  1.0702878 2.848402e-01\n",
       "15 mtr          -3956.7686273 7.215385e+02 -5.4837941 5.723755e-08\n",
       "16 unemployment    -7.6865804 7.979074e+00 -0.9633424 3.356917e-01"
      ]
     },
     "metadata": {},
     "output_type": "display_data"
    },
    {
     "data": {
      "text/html": [
       "<table class=\"dataframe\">\n",
       "<caption>A tibble: 1 × 12</caption>\n",
       "<thead>\n",
       "\t<tr><th scope=col>r.squared</th><th scope=col>adj.r.squared</th><th scope=col>sigma</th><th scope=col>statistic</th><th scope=col>p.value</th><th scope=col>df</th><th scope=col>logLik</th><th scope=col>AIC</th><th scope=col>BIC</th><th scope=col>deviance</th><th scope=col>df.residual</th><th scope=col>nobs</th></tr>\n",
       "\t<tr><th scope=col>&lt;dbl&gt;</th><th scope=col>&lt;dbl&gt;</th><th scope=col>&lt;dbl&gt;</th><th scope=col>&lt;dbl&gt;</th><th scope=col>&lt;dbl&gt;</th><th scope=col>&lt;dbl&gt;</th><th scope=col>&lt;dbl&gt;</th><th scope=col>&lt;dbl&gt;</th><th scope=col>&lt;dbl&gt;</th><th scope=col>&lt;dbl&gt;</th><th scope=col>&lt;int&gt;</th><th scope=col>&lt;int&gt;</th></tr>\n",
       "</thead>\n",
       "<tbody>\n",
       "\t<tr><td>0.434307</td><td>0.4227936</td><td>661.9732</td><td>37.72179</td><td>8.317512e-81</td><td>15</td><td>-5951.279</td><td>11936.56</td><td>12015.17</td><td>322959634</td><td>737</td><td>753</td></tr>\n",
       "</tbody>\n",
       "</table>\n"
      ],
      "text/latex": [
       "A tibble: 1 × 12\n",
       "\\begin{tabular}{llllllllllll}\n",
       " r.squared & adj.r.squared & sigma & statistic & p.value & df & logLik & AIC & BIC & deviance & df.residual & nobs\\\\\n",
       " <dbl> & <dbl> & <dbl> & <dbl> & <dbl> & <dbl> & <dbl> & <dbl> & <dbl> & <dbl> & <int> & <int>\\\\\n",
       "\\hline\n",
       "\t 0.434307 & 0.4227936 & 661.9732 & 37.72179 & 8.317512e-81 & 15 & -5951.279 & 11936.56 & 12015.17 & 322959634 & 737 & 753\\\\\n",
       "\\end{tabular}\n"
      ],
      "text/markdown": [
       "\n",
       "A tibble: 1 × 12\n",
       "\n",
       "| r.squared &lt;dbl&gt; | adj.r.squared &lt;dbl&gt; | sigma &lt;dbl&gt; | statistic &lt;dbl&gt; | p.value &lt;dbl&gt; | df &lt;dbl&gt; | logLik &lt;dbl&gt; | AIC &lt;dbl&gt; | BIC &lt;dbl&gt; | deviance &lt;dbl&gt; | df.residual &lt;int&gt; | nobs &lt;int&gt; |\n",
       "|---|---|---|---|---|---|---|---|---|---|---|---|\n",
       "| 0.434307 | 0.4227936 | 661.9732 | 37.72179 | 8.317512e-81 | 15 | -5951.279 | 11936.56 | 12015.17 | 322959634 | 737 | 753 |\n",
       "\n"
      ],
      "text/plain": [
       "      r.squared adj.r.squared sigma    statistic p.value      df logLik   \n",
       "value 0.434307  0.4227936     661.9732 37.72179  8.317512e-81 15 -5951.279\n",
       "      AIC      BIC      deviance  df.residual nobs\n",
       "value 11936.56 12015.17 322959634 737         753 "
      ]
     },
     "metadata": {},
     "output_type": "display_data"
    }
   ],
   "source": [
    "model5 <- lm(hours ~ age + educ + exper + faminc + fathereduc + \n",
    "            hage + heduc + hhours + hwage + kidsl6 + kids618 +\n",
    "            wage + mothereduc + mtr + unemployment, data = df2)\n",
    "\n",
    "tidy(model5)\n",
    "glance(model5)"
   ]
  },
  {
   "cell_type": "code",
   "execution_count": 9,
   "id": "956dbbe8-1d8f-456a-b668-a0fce7296628",
   "metadata": {},
   "outputs": [
    {
     "data": {
      "text/html": [
       "<style>\n",
       ".list-inline {list-style: none; margin:0; padding: 0}\n",
       ".list-inline>li {display: inline-block}\n",
       ".list-inline>li:not(:last-child)::after {content: \"\\00b7\"; padding: 0 .5ex}\n",
       "</style>\n",
       "<ol class=list-inline><li>'taxableinc'</li><li>'federaltax'</li><li>'hsiblings'</li><li>'hfathereduc'</li><li>'hmothereduc'</li><li>'siblings'</li><li>'lfp'</li><li>'hours'</li><li>'kidsl6'</li><li>'kids618'</li><li>'age'</li><li>'educ'</li><li>'wage'</li><li>'wage76'</li><li>'hhours'</li><li>'hage'</li><li>'heduc'</li><li>'hwage'</li><li>'faminc'</li><li>'mtr'</li><li>'mothereduc'</li><li>'fathereduc'</li><li>'unemployment'</li><li>'largecity'</li><li>'exper'</li></ol>\n"
      ],
      "text/latex": [
       "\\begin{enumerate*}\n",
       "\\item 'taxableinc'\n",
       "\\item 'federaltax'\n",
       "\\item 'hsiblings'\n",
       "\\item 'hfathereduc'\n",
       "\\item 'hmothereduc'\n",
       "\\item 'siblings'\n",
       "\\item 'lfp'\n",
       "\\item 'hours'\n",
       "\\item 'kidsl6'\n",
       "\\item 'kids618'\n",
       "\\item 'age'\n",
       "\\item 'educ'\n",
       "\\item 'wage'\n",
       "\\item 'wage76'\n",
       "\\item 'hhours'\n",
       "\\item 'hage'\n",
       "\\item 'heduc'\n",
       "\\item 'hwage'\n",
       "\\item 'faminc'\n",
       "\\item 'mtr'\n",
       "\\item 'mothereduc'\n",
       "\\item 'fathereduc'\n",
       "\\item 'unemployment'\n",
       "\\item 'largecity'\n",
       "\\item 'exper'\n",
       "\\end{enumerate*}\n"
      ],
      "text/markdown": [
       "1. 'taxableinc'\n",
       "2. 'federaltax'\n",
       "3. 'hsiblings'\n",
       "4. 'hfathereduc'\n",
       "5. 'hmothereduc'\n",
       "6. 'siblings'\n",
       "7. 'lfp'\n",
       "8. 'hours'\n",
       "9. 'kidsl6'\n",
       "10. 'kids618'\n",
       "11. 'age'\n",
       "12. 'educ'\n",
       "13. 'wage'\n",
       "14. 'wage76'\n",
       "15. 'hhours'\n",
       "16. 'hage'\n",
       "17. 'heduc'\n",
       "18. 'hwage'\n",
       "19. 'faminc'\n",
       "20. 'mtr'\n",
       "21. 'mothereduc'\n",
       "22. 'fathereduc'\n",
       "23. 'unemployment'\n",
       "24. 'largecity'\n",
       "25. 'exper'\n",
       "\n",
       "\n"
      ],
      "text/plain": [
       " [1] \"taxableinc\"   \"federaltax\"   \"hsiblings\"    \"hfathereduc\"  \"hmothereduc\" \n",
       " [6] \"siblings\"     \"lfp\"          \"hours\"        \"kidsl6\"       \"kids618\"     \n",
       "[11] \"age\"          \"educ\"         \"wage\"         \"wage76\"       \"hhours\"      \n",
       "[16] \"hage\"         \"heduc\"        \"hwage\"        \"faminc\"       \"mtr\"         \n",
       "[21] \"mothereduc\"   \"fathereduc\"   \"unemployment\" \"largecity\"    \"exper\"       "
      ]
     },
     "metadata": {},
     "output_type": "display_data"
    }
   ],
   "source": [
    "colnames(df2)"
   ]
  },
  {
   "cell_type": "code",
   "execution_count": 10,
   "id": "24d854f0-738d-4169-b4cd-6208eef13103",
   "metadata": {},
   "outputs": [
    {
     "data": {
      "text/html": [
       "<table class=\"dataframe\">\n",
       "<caption>A tibble: 1 × 1</caption>\n",
       "<thead>\n",
       "\t<tr><th scope=col>correlation</th></tr>\n",
       "\t<tr><th scope=col>&lt;dbl&gt;</th></tr>\n",
       "</thead>\n",
       "<tbody>\n",
       "\t<tr><td>0.04050263</td></tr>\n",
       "</tbody>\n",
       "</table>\n"
      ],
      "text/latex": [
       "A tibble: 1 × 1\n",
       "\\begin{tabular}{l}\n",
       " correlation\\\\\n",
       " <dbl>\\\\\n",
       "\\hline\n",
       "\t 0.04050263\\\\\n",
       "\\end{tabular}\n"
      ],
      "text/markdown": [
       "\n",
       "A tibble: 1 × 1\n",
       "\n",
       "| correlation &lt;dbl&gt; |\n",
       "|---|\n",
       "| 0.04050263 |\n",
       "\n"
      ],
      "text/plain": [
       "  correlation\n",
       "1 0.04050263 "
      ]
     },
     "metadata": {},
     "output_type": "display_data"
    }
   ],
   "source": [
    "df2 %>%\n",
    "  summarize(correlation = cor(hage, faminc, use = \"complete.obs\"))"
   ]
  },
  {
   "cell_type": "code",
   "execution_count": 11,
   "id": "cacf71d0-5775-4d30-b968-47dbddbee38e",
   "metadata": {},
   "outputs": [
    {
     "data": {
      "image/png": "[encoded data removed]",
      "text/plain": [
       "Plot with title \"Correlation Heatmap of df2\""
      ]
     },
     "metadata": {
      "image/png": {
       "height": 420,
       "width": 420
      }
     },
     "output_type": "display_data"
    }
   ],
   "source": [
    "correlation_matrix <- cor(df2, use = \"complete.obs\")\n",
    "\n",
    "heatmap(correlation_matrix, \n",
    "        col = colorRampPalette(c(\"blue\", \"white\", \"red\"))(100),\n",
    "        symm = TRUE,         \n",
    "        margins = c(8, 8),   \n",
    "        main = \"Correlation Heatmap of df2\")"
   ]
  },
  {
   "cell_type": "code",
   "execution_count": 12,
   "id": "b9237e4a-155b-4d2e-bb82-86c578d03d32",
   "metadata": {},
   "outputs": [
    {
     "data": {
      "text/html": [
       "<style>\n",
       ".dl-inline {width: auto; margin:0; padding: 0}\n",
       ".dl-inline>dt, .dl-inline>dd {float: none; width: auto; display: inline-block}\n",
       ".dl-inline>dt::after {content: \":\\0020\"; padding-right: .5ex}\n",
       ".dl-inline>dt:not(:first-of-type) {padding-left: .5ex}\n",
       "</style><dl class=dl-inline><dt>age</dt><dd>5.26144147726373</dd><dt>educ</dt><dd>2.0858157402719</dd><dt>exper</dt><dd>1.33480562987452</dd><dt>faminc</dt><dd>5.49467416520725</dd><dt>fathereduc</dt><dd>1.64735313494315</dd><dt>hage</dt><dd>4.95813811611547</dd><dt>heduc</dt><dd>1.89893838127637</dd><dt>hhours</dt><dd>1.58762941970657</dd><dt>hwage</dt><dd>3.65996838421493</dd><dt>kidsl6</dt><dd>1.34613841992449</dd><dt>kids618</dt><dd>1.3812278886656</dd><dt>wage</dt><dd>1.36962420005194</dd><dt>mothereduc</dt><dd>1.6456166790573</dd><dt>mtr</dt><dd>6.22848954766369</dd><dt>unemployment</dt><dd>1.06008242126237</dd></dl>\n"
      ],
      "text/latex": [
       "\\begin{description*}\n",
       "\\item[age] 5.26144147726373\n",
       "\\item[educ] 2.0858157402719\n",
       "\\item[exper] 1.33480562987452\n",
       "\\item[faminc] 5.49467416520725\n",
       "\\item[fathereduc] 1.64735313494315\n",
       "\\item[hage] 4.95813811611547\n",
       "\\item[heduc] 1.89893838127637\n",
       "\\item[hhours] 1.58762941970657\n",
       "\\item[hwage] 3.65996838421493\n",
       "\\item[kidsl6] 1.34613841992449\n",
       "\\item[kids618] 1.3812278886656\n",
       "\\item[wage] 1.36962420005194\n",
       "\\item[mothereduc] 1.6456166790573\n",
       "\\item[mtr] 6.22848954766369\n",
       "\\item[unemployment] 1.06008242126237\n",
       "\\end{description*}\n"
      ],
      "text/markdown": [
       "age\n",
       ":   5.26144147726373educ\n",
       ":   2.0858157402719exper\n",
       ":   1.33480562987452faminc\n",
       ":   5.49467416520725fathereduc\n",
       ":   1.64735313494315hage\n",
       ":   4.95813811611547heduc\n",
       ":   1.89893838127637hhours\n",
       ":   1.58762941970657hwage\n",
       ":   3.65996838421493kidsl6\n",
       ":   1.34613841992449kids618\n",
       ":   1.3812278886656wage\n",
       ":   1.36962420005194mothereduc\n",
       ":   1.6456166790573mtr\n",
       ":   6.22848954766369unemployment\n",
       ":   1.06008242126237\n",
       "\n"
      ],
      "text/plain": [
       "         age         educ        exper       faminc   fathereduc         hage \n",
       "    5.261441     2.085816     1.334806     5.494674     1.647353     4.958138 \n",
       "       heduc       hhours        hwage       kidsl6      kids618         wage \n",
       "    1.898938     1.587629     3.659968     1.346138     1.381228     1.369624 \n",
       "  mothereduc          mtr unemployment \n",
       "    1.645617     6.228490     1.060082 "
      ]
     },
     "metadata": {},
     "output_type": "display_data"
    }
   ],
   "source": [
    "vif(model5)"
   ]
  },
  {
   "cell_type": "code",
   "execution_count": 13,
   "id": "e396c233-9dcc-4c81-8d0c-561bff8db5e9",
   "metadata": {},
   "outputs": [
    {
     "data": {
      "text/html": [
       "<table class=\"dataframe\">\n",
       "<caption>A tibble: 11 × 5</caption>\n",
       "<thead>\n",
       "\t<tr><th scope=col>term</th><th scope=col>estimate</th><th scope=col>std.error</th><th scope=col>statistic</th><th scope=col>p.value</th></tr>\n",
       "\t<tr><th scope=col>&lt;chr&gt;</th><th scope=col>&lt;dbl&gt;</th><th scope=col>&lt;dbl&gt;</th><th scope=col>&lt;dbl&gt;</th><th scope=col>&lt;dbl&gt;</th></tr>\n",
       "</thead>\n",
       "<tbody>\n",
       "\t<tr><td>(Intercept) </td><td> 5.720767e+03</td><td>6.622272e+02</td><td>  8.6386770</td><td>3.464404e-17</td></tr>\n",
       "\t<tr><td>age         </td><td>-2.823358e+01</td><td>3.566101e+00</td><td> -7.9172148</td><td>8.858432e-15</td></tr>\n",
       "\t<tr><td>educ        </td><td>-1.828395e+01</td><td>1.223935e+01</td><td> -1.4938658</td><td>1.356358e-01</td></tr>\n",
       "\t<tr><td>exper       </td><td> 3.511494e+01</td><td>3.394298e+00</td><td> 10.3452722</td><td>1.595033e-23</td></tr>\n",
       "\t<tr><td>faminc      </td><td> 1.592231e-02</td><td>4.509078e-03</td><td>  3.5311679</td><td>4.392850e-04</td></tr>\n",
       "\t<tr><td>hhours      </td><td>-3.461675e-01</td><td>5.018601e-02</td><td> -6.8976900</td><td>1.132866e-11</td></tr>\n",
       "\t<tr><td>hwage       </td><td>-1.100438e+02</td><td>1.066498e+01</td><td>-10.3182403</td><td>2.040707e-23</td></tr>\n",
       "\t<tr><td>kidsl6      </td><td>-3.193502e+02</td><td>5.231116e+01</td><td> -6.1048203</td><td>1.658396e-09</td></tr>\n",
       "\t<tr><td>wage        </td><td> 5.188557e+01</td><td>8.657064e+00</td><td>  5.9934370</td><td>3.204685e-09</td></tr>\n",
       "\t<tr><td>mtr         </td><td>-3.929831e+03</td><td>6.850461e+02</td><td> -5.7365936</td><td>1.406737e-08</td></tr>\n",
       "\t<tr><td>unemployment</td><td>-7.721889e+00</td><td>7.940710e+00</td><td> -0.9724432</td><td>3.311470e-01</td></tr>\n",
       "</tbody>\n",
       "</table>\n"
      ],
      "text/latex": [
       "A tibble: 11 × 5\n",
       "\\begin{tabular}{lllll}\n",
       " term & estimate & std.error & statistic & p.value\\\\\n",
       " <chr> & <dbl> & <dbl> & <dbl> & <dbl>\\\\\n",
       "\\hline\n",
       "\t (Intercept)  &  5.720767e+03 & 6.622272e+02 &   8.6386770 & 3.464404e-17\\\\\n",
       "\t age          & -2.823358e+01 & 3.566101e+00 &  -7.9172148 & 8.858432e-15\\\\\n",
       "\t educ         & -1.828395e+01 & 1.223935e+01 &  -1.4938658 & 1.356358e-01\\\\\n",
       "\t exper        &  3.511494e+01 & 3.394298e+00 &  10.3452722 & 1.595033e-23\\\\\n",
       "\t faminc       &  1.592231e-02 & 4.509078e-03 &   3.5311679 & 4.392850e-04\\\\\n",
       "\t hhours       & -3.461675e-01 & 5.018601e-02 &  -6.8976900 & 1.132866e-11\\\\\n",
       "\t hwage        & -1.100438e+02 & 1.066498e+01 & -10.3182403 & 2.040707e-23\\\\\n",
       "\t kidsl6       & -3.193502e+02 & 5.231116e+01 &  -6.1048203 & 1.658396e-09\\\\\n",
       "\t wage         &  5.188557e+01 & 8.657064e+00 &   5.9934370 & 3.204685e-09\\\\\n",
       "\t mtr          & -3.929831e+03 & 6.850461e+02 &  -5.7365936 & 1.406737e-08\\\\\n",
       "\t unemployment & -7.721889e+00 & 7.940710e+00 &  -0.9724432 & 3.311470e-01\\\\\n",
       "\\end{tabular}\n"
      ],
      "text/markdown": [
       "\n",
       "A tibble: 11 × 5\n",
       "\n",
       "| term &lt;chr&gt; | estimate &lt;dbl&gt; | std.error &lt;dbl&gt; | statistic &lt;dbl&gt; | p.value &lt;dbl&gt; |\n",
       "|---|---|---|---|---|\n",
       "| (Intercept)  |  5.720767e+03 | 6.622272e+02 |   8.6386770 | 3.464404e-17 |\n",
       "| age          | -2.823358e+01 | 3.566101e+00 |  -7.9172148 | 8.858432e-15 |\n",
       "| educ         | -1.828395e+01 | 1.223935e+01 |  -1.4938658 | 1.356358e-01 |\n",
       "| exper        |  3.511494e+01 | 3.394298e+00 |  10.3452722 | 1.595033e-23 |\n",
       "| faminc       |  1.592231e-02 | 4.509078e-03 |   3.5311679 | 4.392850e-04 |\n",
       "| hhours       | -3.461675e-01 | 5.018601e-02 |  -6.8976900 | 1.132866e-11 |\n",
       "| hwage        | -1.100438e+02 | 1.066498e+01 | -10.3182403 | 2.040707e-23 |\n",
       "| kidsl6       | -3.193502e+02 | 5.231116e+01 |  -6.1048203 | 1.658396e-09 |\n",
       "| wage         |  5.188557e+01 | 8.657064e+00 |   5.9934370 | 3.204685e-09 |\n",
       "| mtr          | -3.929831e+03 | 6.850461e+02 |  -5.7365936 | 1.406737e-08 |\n",
       "| unemployment | -7.721889e+00 | 7.940710e+00 |  -0.9724432 | 3.311470e-01 |\n",
       "\n"
      ],
      "text/plain": [
       "   term         estimate      std.error    statistic   p.value     \n",
       "1  (Intercept)   5.720767e+03 6.622272e+02   8.6386770 3.464404e-17\n",
       "2  age          -2.823358e+01 3.566101e+00  -7.9172148 8.858432e-15\n",
       "3  educ         -1.828395e+01 1.223935e+01  -1.4938658 1.356358e-01\n",
       "4  exper         3.511494e+01 3.394298e+00  10.3452722 1.595033e-23\n",
       "5  faminc        1.592231e-02 4.509078e-03   3.5311679 4.392850e-04\n",
       "6  hhours       -3.461675e-01 5.018601e-02  -6.8976900 1.132866e-11\n",
       "7  hwage        -1.100438e+02 1.066498e+01 -10.3182403 2.040707e-23\n",
       "8  kidsl6       -3.193502e+02 5.231116e+01  -6.1048203 1.658396e-09\n",
       "9  wage          5.188557e+01 8.657064e+00   5.9934370 3.204685e-09\n",
       "10 mtr          -3.929831e+03 6.850461e+02  -5.7365936 1.406737e-08\n",
       "11 unemployment -7.721889e+00 7.940710e+00  -0.9724432 3.311470e-01"
      ]
     },
     "metadata": {},
     "output_type": "display_data"
    },
    {
     "data": {
      "text/html": [
       "<table class=\"dataframe\">\n",
       "<caption>A tibble: 1 × 12</caption>\n",
       "<thead>\n",
       "\t<tr><th scope=col>r.squared</th><th scope=col>adj.r.squared</th><th scope=col>sigma</th><th scope=col>statistic</th><th scope=col>p.value</th><th scope=col>df</th><th scope=col>logLik</th><th scope=col>AIC</th><th scope=col>BIC</th><th scope=col>deviance</th><th scope=col>df.residual</th><th scope=col>nobs</th></tr>\n",
       "\t<tr><th scope=col>&lt;dbl&gt;</th><th scope=col>&lt;dbl&gt;</th><th scope=col>&lt;dbl&gt;</th><th scope=col>&lt;dbl&gt;</th><th scope=col>&lt;dbl&gt;</th><th scope=col>&lt;dbl&gt;</th><th scope=col>&lt;dbl&gt;</th><th scope=col>&lt;dbl&gt;</th><th scope=col>&lt;dbl&gt;</th><th scope=col>&lt;dbl&gt;</th><th scope=col>&lt;int&gt;</th><th scope=col>&lt;int&gt;</th></tr>\n",
       "</thead>\n",
       "<tbody>\n",
       "\t<tr><td>0.432122</td><td>0.4244687</td><td>661.0119</td><td>56.46187</td><td>1.932607e-84</td><td>10</td><td>-5952.73</td><td>11929.46</td><td>11984.95</td><td>324207062</td><td>742</td><td>753</td></tr>\n",
       "</tbody>\n",
       "</table>\n"
      ],
      "text/latex": [
       "A tibble: 1 × 12\n",
       "\\begin{tabular}{llllllllllll}\n",
       " r.squared & adj.r.squared & sigma & statistic & p.value & df & logLik & AIC & BIC & deviance & df.residual & nobs\\\\\n",
       " <dbl> & <dbl> & <dbl> & <dbl> & <dbl> & <dbl> & <dbl> & <dbl> & <dbl> & <dbl> & <int> & <int>\\\\\n",
       "\\hline\n",
       "\t 0.432122 & 0.4244687 & 661.0119 & 56.46187 & 1.932607e-84 & 10 & -5952.73 & 11929.46 & 11984.95 & 324207062 & 742 & 753\\\\\n",
       "\\end{tabular}\n"
      ],
      "text/markdown": [
       "\n",
       "A tibble: 1 × 12\n",
       "\n",
       "| r.squared &lt;dbl&gt; | adj.r.squared &lt;dbl&gt; | sigma &lt;dbl&gt; | statistic &lt;dbl&gt; | p.value &lt;dbl&gt; | df &lt;dbl&gt; | logLik &lt;dbl&gt; | AIC &lt;dbl&gt; | BIC &lt;dbl&gt; | deviance &lt;dbl&gt; | df.residual &lt;int&gt; | nobs &lt;int&gt; |\n",
       "|---|---|---|---|---|---|---|---|---|---|---|---|\n",
       "| 0.432122 | 0.4244687 | 661.0119 | 56.46187 | 1.932607e-84 | 10 | -5952.73 | 11929.46 | 11984.95 | 324207062 | 742 | 753 |\n",
       "\n"
      ],
      "text/plain": [
       "      r.squared adj.r.squared sigma    statistic p.value      df logLik  \n",
       "value 0.432122  0.4244687     661.0119 56.46187  1.932607e-84 10 -5952.73\n",
       "      AIC      BIC      deviance  df.residual nobs\n",
       "value 11929.46 11984.95 324207062 742         753 "
      ]
     },
     "metadata": {},
     "output_type": "display_data"
    }
   ],
   "source": [
    "model6 <- lm(hours ~ age + educ + exper + faminc + hhours + hwage + kidsl6  +\n",
    "            wage  + mtr + unemployment, data = df2)\n",
    "\n",
    "tidy(model6)\n",
    "glance(model6)"
   ]
  },
  {
   "cell_type": "code",
   "execution_count": 14,
   "id": "21acce7f-87f3-4b33-a7e5-519c9a370eca",
   "metadata": {},
   "outputs": [
    {
     "data": {
      "text/html": [
       "<style>\n",
       ".dl-inline {width: auto; margin:0; padding: 0}\n",
       ".dl-inline>dt, .dl-inline>dd {float: none; width: auto; display: inline-block}\n",
       ".dl-inline>dt::after {content: \":\\0020\"; padding-right: .5ex}\n",
       ".dl-inline>dt:not(:first-of-type) {padding-left: .5ex}\n",
       "</style><dl class=dl-inline><dt>age</dt><dd>1.42629876639497</dd><dt>educ</dt><dd>1.34053961380487</dd><dt>exper</dt><dd>1.29107879991459</dd><dt>faminc</dt><dd>5.19991905936222</dd><dt>hhours</dt><dd>1.53753610679107</dd><dt>hwage</dt><dd>3.50360087467717</dd><dt>kidsl6</dt><dd>1.29295288892452</dd><dt>wage</dt><dd>1.35556617939112</dd><dt>mtr</dt><dd>5.63073994873757</dd><dt>unemployment</dt><dd>1.05296872093097</dd></dl>\n"
      ],
      "text/latex": [
       "\\begin{description*}\n",
       "\\item[age] 1.42629876639497\n",
       "\\item[educ] 1.34053961380487\n",
       "\\item[exper] 1.29107879991459\n",
       "\\item[faminc] 5.19991905936222\n",
       "\\item[hhours] 1.53753610679107\n",
       "\\item[hwage] 3.50360087467717\n",
       "\\item[kidsl6] 1.29295288892452\n",
       "\\item[wage] 1.35556617939112\n",
       "\\item[mtr] 5.63073994873757\n",
       "\\item[unemployment] 1.05296872093097\n",
       "\\end{description*}\n"
      ],
      "text/markdown": [
       "age\n",
       ":   1.42629876639497educ\n",
       ":   1.34053961380487exper\n",
       ":   1.29107879991459faminc\n",
       ":   5.19991905936222hhours\n",
       ":   1.53753610679107hwage\n",
       ":   3.50360087467717kidsl6\n",
       ":   1.29295288892452wage\n",
       ":   1.35556617939112mtr\n",
       ":   5.63073994873757unemployment\n",
       ":   1.05296872093097\n",
       "\n"
      ],
      "text/plain": [
       "         age         educ        exper       faminc       hhours        hwage \n",
       "    1.426299     1.340540     1.291079     5.199919     1.537536     3.503601 \n",
       "      kidsl6         wage          mtr unemployment \n",
       "    1.292953     1.355566     5.630740     1.052969 "
      ]
     },
     "metadata": {},
     "output_type": "display_data"
    }
   ],
   "source": [
    "vif(model6)"
   ]
  },
  {
   "cell_type": "markdown",
   "id": "852b11e2-5543-4ea2-9551-1f6cc54ee80a",
   "metadata": {},
   "source": [
    "## Principal components analysis\n",
    "Results are different from the book"
   ]
  },
  {
   "cell_type": "code",
   "execution_count": 15,
   "id": "e1644aa0-54e2-4df0-8f1d-076c28c91959",
   "metadata": {},
   "outputs": [],
   "source": [
    "scaled_data <- scale(df2)"
   ]
  },
  {
   "cell_type": "code",
   "execution_count": 16,
   "id": "bc734ce9-b99e-4309-9f6c-12cebf28cd96",
   "metadata": {},
   "outputs": [],
   "source": [
    "pca_result <- prcomp(scaled_data, center = TRUE, scale = TRUE)"
   ]
  },
  {
   "cell_type": "code",
   "execution_count": 17,
   "id": "2ff711a8-539a-456a-89e4-ab7ff36f5e26",
   "metadata": {},
   "outputs": [],
   "source": [
    "pca_components <- pca_result$rotation\n",
    "\n",
    "# Extract standardized scores (principal component scores)\n",
    "pca_scores <- pca_result$x\n",
    "\n",
    "# Extract standard deviations of principal components\n",
    "pca_std_dev <- pca_result$sdev"
   ]
  },
  {
   "cell_type": "code",
   "execution_count": 18,
   "id": "d44f6802-75e8-4bc8-9264-9b7e84ad9918",
   "metadata": {},
   "outputs": [],
   "source": [
    "variance_explained <- pca_std_dev^2 / sum(pca_std_dev^2)"
   ]
  },
  {
   "cell_type": "code",
   "execution_count": 19,
   "id": "e73001d1-0289-4091-8124-26d6f31b4959",
   "metadata": {},
   "outputs": [
    {
     "data": {
      "image/png": "[encoded data removed]",
      "text/plain": [
       "Plot with title \"Scree Plot\""
      ]
     },
     "metadata": {
      "image/png": {
       "height": 420,
       "width": 420
      }
     },
     "output_type": "display_data"
    }
   ],
   "source": [
    "screeplot(pca_result, type = \"lines\", main = \"Scree Plot\")\n"
   ]
  },
  {
   "cell_type": "code",
   "execution_count": 20,
   "id": "c62989c3-ae92-4828-b5c6-8ffb25dc883b",
   "metadata": {},
   "outputs": [
    {
     "data": {
      "text/plain": [
       "Importance of components:\n",
       "                         PC1    PC2    PC3     PC4     PC5     PC6     PC7\n",
       "Standard deviation     2.019 1.7615 1.6080 1.56381 1.18734 1.16346 1.13759\n",
       "Proportion of Variance 0.163 0.1241 0.1034 0.09782 0.05639 0.05415 0.05176\n",
       "Cumulative Proportion  0.163 0.2871 0.3906 0.48837 0.54476 0.59891 0.65067\n",
       "                           PC8     PC9    PC10    PC11    PC12    PC13    PC14\n",
       "Standard deviation     0.98662 0.93992 0.93027 0.88700 0.85488 0.83909 0.79942\n",
       "Proportion of Variance 0.03894 0.03534 0.03462 0.03147 0.02923 0.02816 0.02556\n",
       "Cumulative Proportion  0.68961 0.72495 0.75956 0.79103 0.82027 0.84843 0.87399\n",
       "                          PC15    PC16    PC17   PC18    PC19    PC20    PC21\n",
       "Standard deviation     0.77286 0.71328 0.65361 0.6285 0.58349 0.56742 0.44504\n",
       "Proportion of Variance 0.02389 0.02035 0.01709 0.0158 0.01362 0.01288 0.00792\n",
       "Cumulative Proportion  0.89788 0.91824 0.93532 0.9511 0.96474 0.97762 0.98554\n",
       "                          PC22    PC23    PC24    PC25\n",
       "Standard deviation     0.35882 0.32453 0.31267 0.17204\n",
       "Proportion of Variance 0.00515 0.00421 0.00391 0.00118\n",
       "Cumulative Proportion  0.99069 0.99491 0.99882 1.00000"
      ]
     },
     "metadata": {},
     "output_type": "display_data"
    }
   ],
   "source": [
    "summary(pca_result)"
   ]
  },
  {
   "cell_type": "markdown",
   "id": "777d7cd4-3f27-42ee-a965-4476ad2508c9",
   "metadata": {},
   "source": [
    "## Exercises"
   ]
  },
  {
   "cell_type": "markdown",
   "id": "3fe1ad88-d5dd-4852-9013-00ac936ed7bc",
   "metadata": {},
   "source": [
    "🚧 Under Construction"
   ]
  }
 ],
 "metadata": {
  "kernelspec": {
   "display_name": "R",
   "language": "R",
   "name": "ir"
  },
  "language_info": {
   "codemirror_mode": "r",
   "file_extension": ".r",
   "mimetype": "text/x-r-source",
   "name": "R",
   "pygments_lexer": "r",
   "version": "4.4.1"
  }
 },
 "nbformat": 4,
 "nbformat_minor": 5
}