{
 "cells": [
  {
   "cell_type": "markdown",
   "id": "0f544741-29c1-4c3d-8da6-19cc01607296",
   "metadata": {},
   "source": [
    "# 21. Multivariate Regression Models "
   ]
  },
  {
   "cell_type": "markdown",
   "id": "b537139c-8024-4ccd-a71f-e0d42c3ae98b",
   "metadata": {},
   "source": [
    "🚧 Under construction"
   ]
  }
 ],
 "metadata": {
  "kernelspec": {
   "display_name": "R",
   "language": "R",
   "name": "ir"
  },
  "language_info": {
   "codemirror_mode": "r",
   "file_extension": ".r",
   "mimetype": "text/x-r-source",
   "name": "R",
   "pygments_lexer": "r",
   "version": "4.4.1"
  }
 },
 "nbformat": 4,
 "nbformat_minor": 5
}