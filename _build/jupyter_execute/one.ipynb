{
 "cells": [
  {
   "cell_type": "markdown",
   "id": "048c7044-e499-49a5-887d-67b633fd6b6f",
   "metadata": {},
   "source": [
    "# 1. The Linear Regression Model: An Overview "
   ]
  },
  {
   "cell_type": "code",
   "execution_count": 1,
   "id": "c1dcf7d0-9a17-4206-836b-9f4216b3b971",
   "metadata": {
    "vscode": {
     "languageId": "r"
    }
   },
   "outputs": [],
   "source": [
    "suppressPackageStartupMessages({\n",
    "  library(tidyverse)\n",
    "  library(tidymodels)\n",
    "  library(readxl)\n",
    "  library(multcomp)\n",
    "  library(car)\n",
    "})"
   ]
  },
  {
   "cell_type": "markdown",
   "id": "0279770c-f2ae-4431-85c9-0b735ed69781",
   "metadata": {},
   "source": [
    "## Wage Function"
   ]
  },
  {
   "cell_type": "markdown",
   "id": "74c8783c-5b9c-446f-b3ab-709d13eeb269",
   "metadata": {},
   "source": [
    "Wage: Hourly wage in dollars, which is the dependent variable.  \n",
    "Female: Gender, coded 1 for female, 0 for male  \n",
    "Nonwhite: Race, coded 1 for nonwhite workers, 0 for white workers  \n",
    "Union: Union status, coded 1 if in a union job, 0 otherwise  \n",
    "Education: Education (in years)"
   ]
  },
  {
   "cell_type": "code",
   "execution_count": 2,
   "id": "71b01f02-70a3-40b4-aa57-7de822d93106",
   "metadata": {
    "vscode": {
     "languageId": "r"
    }
   },
   "outputs": [
    {
     "data": {
      "text/html": [
       "<table class=\"dataframe\">\n",
       "<caption>A tibble: 6 × 17</caption>\n",
       "<thead>\n",
       "\t<tr><th scope=col>obs</th><th scope=col>wage</th><th scope=col>female</th><th scope=col>nonwhite</th><th scope=col>union</th><th scope=col>education</th><th scope=col>exper</th><th scope=col>age</th><th scope=col>wind</th><th scope=col>femalenonw</th><th scope=col>lnwage</th><th scope=col>education_exper</th><th scope=col>_Ifemale_1</th><th scope=col>_IfemXeduca_1</th><th scope=col>_IfemXexper_1</th><th scope=col>_Inonwhite_1</th><th scope=col>_InonXeduca_1</th></tr>\n",
       "\t<tr><th scope=col>&lt;dbl&gt;</th><th scope=col>&lt;dbl&gt;</th><th scope=col>&lt;dbl&gt;</th><th scope=col>&lt;dbl&gt;</th><th scope=col>&lt;dbl&gt;</th><th scope=col>&lt;dbl&gt;</th><th scope=col>&lt;dbl&gt;</th><th scope=col>&lt;dbl&gt;</th><th scope=col>&lt;dbl&gt;</th><th scope=col>&lt;dbl&gt;</th><th scope=col>&lt;dbl&gt;</th><th scope=col>&lt;dbl&gt;</th><th scope=col>&lt;dbl&gt;</th><th scope=col>&lt;dbl&gt;</th><th scope=col>&lt;dbl&gt;</th><th scope=col>&lt;dbl&gt;</th><th scope=col>&lt;dbl&gt;</th></tr>\n",
       "</thead>\n",
       "<tbody>\n",
       "\t<tr><td>1</td><td>11.55</td><td>1</td><td>0</td><td>0</td><td>12</td><td>20</td><td>38</td><td>1</td><td>0</td><td>2.446686</td><td>240</td><td>1</td><td>12</td><td>20</td><td>0</td><td> 0</td></tr>\n",
       "\t<tr><td>2</td><td> 5.00</td><td>0</td><td>0</td><td>0</td><td> 9</td><td> 9</td><td>24</td><td>0</td><td>0</td><td>1.609438</td><td> 81</td><td>0</td><td> 0</td><td> 0</td><td>0</td><td> 0</td></tr>\n",
       "\t<tr><td>3</td><td>12.00</td><td>0</td><td>0</td><td>0</td><td>16</td><td>15</td><td>37</td><td>1</td><td>0</td><td>2.484907</td><td>240</td><td>0</td><td> 0</td><td> 0</td><td>0</td><td> 0</td></tr>\n",
       "\t<tr><td>4</td><td> 7.00</td><td>0</td><td>1</td><td>1</td><td>14</td><td>38</td><td>58</td><td>0</td><td>0</td><td>1.945910</td><td>532</td><td>0</td><td> 0</td><td> 0</td><td>1</td><td>14</td></tr>\n",
       "\t<tr><td>5</td><td>21.15</td><td>1</td><td>1</td><td>0</td><td>16</td><td>19</td><td>41</td><td>1</td><td>1</td><td>3.051640</td><td>304</td><td>1</td><td>16</td><td>19</td><td>1</td><td>16</td></tr>\n",
       "\t<tr><td>6</td><td> 6.92</td><td>1</td><td>0</td><td>0</td><td>12</td><td> 4</td><td>22</td><td>1</td><td>0</td><td>1.934416</td><td> 48</td><td>1</td><td>12</td><td> 4</td><td>0</td><td> 0</td></tr>\n",
       "</tbody>\n",
       "</table>\n"
      ],
      "text/latex": [
       "A tibble: 6 × 17\n",
       "\\begin{tabular}{lllllllllllllllll}\n",
       " obs & wage & female & nonwhite & union & education & exper & age & wind & femalenonw & lnwage & education\\_exper & \\_Ifemale\\_1 & \\_IfemXeduca\\_1 & \\_IfemXexper\\_1 & \\_Inonwhite\\_1 & \\_InonXeduca\\_1\\\\\n",
       " <dbl> & <dbl> & <dbl> & <dbl> & <dbl> & <dbl> & <dbl> & <dbl> & <dbl> & <dbl> & <dbl> & <dbl> & <dbl> & <dbl> & <dbl> & <dbl> & <dbl>\\\\\n",
       "\\hline\n",
       "\t 1 & 11.55 & 1 & 0 & 0 & 12 & 20 & 38 & 1 & 0 & 2.446686 & 240 & 1 & 12 & 20 & 0 &  0\\\\\n",
       "\t 2 &  5.00 & 0 & 0 & 0 &  9 &  9 & 24 & 0 & 0 & 1.609438 &  81 & 0 &  0 &  0 & 0 &  0\\\\\n",
       "\t 3 & 12.00 & 0 & 0 & 0 & 16 & 15 & 37 & 1 & 0 & 2.484907 & 240 & 0 &  0 &  0 & 0 &  0\\\\\n",
       "\t 4 &  7.00 & 0 & 1 & 1 & 14 & 38 & 58 & 0 & 0 & 1.945910 & 532 & 0 &  0 &  0 & 1 & 14\\\\\n",
       "\t 5 & 21.15 & 1 & 1 & 0 & 16 & 19 & 41 & 1 & 1 & 3.051640 & 304 & 1 & 16 & 19 & 1 & 16\\\\\n",
       "\t 6 &  6.92 & 1 & 0 & 0 & 12 &  4 & 22 & 1 & 0 & 1.934416 &  48 & 1 & 12 &  4 & 0 &  0\\\\\n",
       "\\end{tabular}\n"
      ],
      "text/markdown": [
       "\n",
       "A tibble: 6 × 17\n",
       "\n",
       "| obs &lt;dbl&gt; | wage &lt;dbl&gt; | female &lt;dbl&gt; | nonwhite &lt;dbl&gt; | union &lt;dbl&gt; | education &lt;dbl&gt; | exper &lt;dbl&gt; | age &lt;dbl&gt; | wind &lt;dbl&gt; | femalenonw &lt;dbl&gt; | lnwage &lt;dbl&gt; | education_exper &lt;dbl&gt; | _Ifemale_1 &lt;dbl&gt; | _IfemXeduca_1 &lt;dbl&gt; | _IfemXexper_1 &lt;dbl&gt; | _Inonwhite_1 &lt;dbl&gt; | _InonXeduca_1 &lt;dbl&gt; |\n",
       "|---|---|---|---|---|---|---|---|---|---|---|---|---|---|---|---|---|\n",
       "| 1 | 11.55 | 1 | 0 | 0 | 12 | 20 | 38 | 1 | 0 | 2.446686 | 240 | 1 | 12 | 20 | 0 |  0 |\n",
       "| 2 |  5.00 | 0 | 0 | 0 |  9 |  9 | 24 | 0 | 0 | 1.609438 |  81 | 0 |  0 |  0 | 0 |  0 |\n",
       "| 3 | 12.00 | 0 | 0 | 0 | 16 | 15 | 37 | 1 | 0 | 2.484907 | 240 | 0 |  0 |  0 | 0 |  0 |\n",
       "| 4 |  7.00 | 0 | 1 | 1 | 14 | 38 | 58 | 0 | 0 | 1.945910 | 532 | 0 |  0 |  0 | 1 | 14 |\n",
       "| 5 | 21.15 | 1 | 1 | 0 | 16 | 19 | 41 | 1 | 1 | 3.051640 | 304 | 1 | 16 | 19 | 1 | 16 |\n",
       "| 6 |  6.92 | 1 | 0 | 0 | 12 |  4 | 22 | 1 | 0 | 1.934416 |  48 | 1 | 12 |  4 | 0 |  0 |\n",
       "\n"
      ],
      "text/plain": [
       "  obs wage  female nonwhite union education exper age wind femalenonw lnwage  \n",
       "1 1   11.55 1      0        0     12        20    38  1    0          2.446686\n",
       "2 2    5.00 0      0        0      9         9    24  0    0          1.609438\n",
       "3 3   12.00 0      0        0     16        15    37  1    0          2.484907\n",
       "4 4    7.00 0      1        1     14        38    58  0    0          1.945910\n",
       "5 5   21.15 1      1        0     16        19    41  1    1          3.051640\n",
       "6 6    6.92 1      0        0     12         4    22  1    0          1.934416\n",
       "  education_exper _Ifemale_1 _IfemXeduca_1 _IfemXexper_1 _Inonwhite_1\n",
       "1 240             1          12            20            0           \n",
       "2  81             0           0             0            0           \n",
       "3 240             0           0             0            0           \n",
       "4 532             0           0             0            1           \n",
       "5 304             1          16            19            1           \n",
       "6  48             1          12             4            0           \n",
       "  _InonXeduca_1\n",
       "1  0           \n",
       "2  0           \n",
       "3  0           \n",
       "4 14           \n",
       "5 16           \n",
       "6  0           "
      ]
     },
     "metadata": {},
     "output_type": "display_data"
    }
   ],
   "source": [
    "df <- read_excel(\"data/Table1_1.xls\")\n",
    "head(df)"
   ]
  },
  {
   "cell_type": "code",
   "execution_count": 3,
   "id": "528f2c94-552d-44a2-8e64-e05a37f62a6d",
   "metadata": {
    "vscode": {
     "languageId": "r"
    }
   },
   "outputs": [
    {
     "name": "stdout",
     "output_type": "stream",
     "text": [
      "Rows: 1,289\n",
      "Columns: 17\n",
      "$ obs             \u001b[3m\u001b[90m<dbl>\u001b[39m\u001b[23m 1, 2, 3, 4, 5, 6, 7, 8, 9, 10, 11, 12, 13, 14, 15, 16,…\n",
      "$ wage            \u001b[3m\u001b[90m<dbl>\u001b[39m\u001b[23m 11.55, 5.00, 12.00, 7.00, 21.15, 6.92, 10.00, 8.00, 15…\n",
      "$ female          \u001b[3m\u001b[90m<dbl>\u001b[39m\u001b[23m 1, 0, 0, 0, 1, 1, 1, 1, 0, 1, 0, 1, 0, 0, 0, 1, 0, 0, …\n",
      "$ nonwhite        \u001b[3m\u001b[90m<dbl>\u001b[39m\u001b[23m 0, 0, 0, 1, 1, 0, 0, 1, 0, 0, 0, 0, 0, 1, 0, 1, 1, 0, …\n",
      "$ union           \u001b[3m\u001b[90m<dbl>\u001b[39m\u001b[23m 0, 0, 0, 1, 0, 0, 0, 0, 0, 0, 0, 0, 0, 0, 1, 1, 1, 1, …\n",
      "$ education       \u001b[3m\u001b[90m<dbl>\u001b[39m\u001b[23m 12, 9, 16, 14, 16, 12, 12, 12, 18, 18, 20, 12, 5, 12, …\n",
      "$ exper           \u001b[3m\u001b[90m<dbl>\u001b[39m\u001b[23m 20, 9, 15, 38, 19, 4, 14, 32, 7, 5, 31, 7, 31, 14, 15,…\n",
      "$ age             \u001b[3m\u001b[90m<dbl>\u001b[39m\u001b[23m 38, 24, 37, 58, 41, 22, 32, 50, 31, 29, 57, 25, 42, 32…\n",
      "$ wind            \u001b[3m\u001b[90m<dbl>\u001b[39m\u001b[23m 1, 0, 1, 0, 1, 1, 0, 0, 1, 1, 1, 0, 0, 0, 0, 0, 0, 0, …\n",
      "$ femalenonw      \u001b[3m\u001b[90m<dbl>\u001b[39m\u001b[23m 0, 0, 0, 0, 1, 0, 0, 1, 0, 0, 0, 0, 0, 0, 0, 1, 0, 0, …\n",
      "$ lnwage          \u001b[3m\u001b[90m<dbl>\u001b[39m\u001b[23m 2.446686, 1.609438, 2.484907, 1.945910, 3.051640, 1.93…\n",
      "$ education_exper \u001b[3m\u001b[90m<dbl>\u001b[39m\u001b[23m 240, 81, 240, 532, 304, 48, 168, 384, 126, 90, 620, 84…\n",
      "$ `_Ifemale_1`    \u001b[3m\u001b[90m<dbl>\u001b[39m\u001b[23m 1, 0, 0, 0, 1, 1, 1, 1, 0, 1, 0, 1, 0, 0, 0, 1, 0, 0, …\n",
      "$ `_IfemXeduca_1` \u001b[3m\u001b[90m<dbl>\u001b[39m\u001b[23m 12, 0, 0, 0, 16, 12, 12, 12, 0, 18, 0, 12, 0, 0, 0, 14…\n",
      "$ `_IfemXexper_1` \u001b[3m\u001b[90m<dbl>\u001b[39m\u001b[23m 20, 0, 0, 0, 19, 4, 14, 32, 0, 5, 0, 7, 0, 0, 0, 26, 0…\n",
      "$ `_Inonwhite_1`  \u001b[3m\u001b[90m<dbl>\u001b[39m\u001b[23m 0, 0, 0, 1, 1, 0, 0, 1, 0, 0, 0, 0, 0, 1, 0, 1, 1, 0, …\n",
      "$ `_InonXeduca_1` \u001b[3m\u001b[90m<dbl>\u001b[39m\u001b[23m 0, 0, 0, 14, 16, 0, 0, 12, 0, 0, 0, 0, 0, 12, 0, 14, 1…\n"
     ]
    }
   ],
   "source": [
    "df |> glimpse()"
   ]
  },
  {
   "cell_type": "code",
   "execution_count": 4,
   "id": "caeea8fd-1639-4149-bb75-2b625c598e75",
   "metadata": {
    "vscode": {
     "languageId": "r"
    }
   },
   "outputs": [
    {
     "data": {
      "text/plain": [
       "      obs            wage           female          nonwhite     \n",
       " Min.   :   1   Min.   : 0.84   Min.   :0.0000   Min.   :0.0000  \n",
       " 1st Qu.: 323   1st Qu.: 6.92   1st Qu.:0.0000   1st Qu.:0.0000  \n",
       " Median : 645   Median :10.08   Median :0.0000   Median :0.0000  \n",
       " Mean   : 645   Mean   :12.37   Mean   :0.4973   Mean   :0.1528  \n",
       " 3rd Qu.: 967   3rd Qu.:15.63   3rd Qu.:1.0000   3rd Qu.:0.0000  \n",
       " Max.   :1289   Max.   :64.08   Max.   :1.0000   Max.   :1.0000  \n",
       "     union         education         exper            age       \n",
       " Min.   :0.000   Min.   : 0.00   Min.   : 0.00   Min.   :18.00  \n",
       " 1st Qu.:0.000   1st Qu.:12.00   1st Qu.: 9.00   1st Qu.:29.00  \n",
       " Median :0.000   Median :12.00   Median :18.00   Median :37.00  \n",
       " Mean   :0.159   Mean   :13.15   Mean   :18.79   Mean   :37.93  \n",
       " 3rd Qu.:0.000   3rd Qu.:16.00   3rd Qu.:27.00   3rd Qu.:47.00  \n",
       " Max.   :1.000   Max.   :20.00   Max.   :56.00   Max.   :65.00  \n",
       "      wind          femalenonw          lnwage        education_exper\n",
       " Min.   :0.0000   Min.   :0.00000   Min.   :-0.1744   Min.   :  0.0  \n",
       " 1st Qu.:0.0000   1st Qu.:0.00000   1st Qu.: 1.9344   1st Qu.:120.0  \n",
       " Median :0.0000   Median :0.00000   Median : 2.3106   Median :228.0  \n",
       " Mean   :0.4073   Mean   :0.08379   Mean   : 2.3424   Mean   :241.1  \n",
       " 3rd Qu.:1.0000   3rd Qu.:0.00000   3rd Qu.: 2.7492   3rd Qu.:352.0  \n",
       " Max.   :1.0000   Max.   :1.00000   Max.   : 4.1601   Max.   :740.0  \n",
       "   _Ifemale_1     _IfemXeduca_1    _IfemXexper_1     _Inonwhite_1   \n",
       " Min.   :0.0000   Min.   : 0.000   Min.   : 0.000   Min.   :0.0000  \n",
       " 1st Qu.:0.0000   1st Qu.: 0.000   1st Qu.: 0.000   1st Qu.:0.0000  \n",
       " Median :0.0000   Median : 0.000   Median : 0.000   Median :0.0000  \n",
       " Mean   :0.4973   Mean   : 6.493   Mean   : 9.212   Mean   :0.1528  \n",
       " 3rd Qu.:1.0000   3rd Qu.:12.000   3rd Qu.:17.000   3rd Qu.:0.0000  \n",
       " Max.   :1.0000   Max.   :20.000   Max.   :56.000   Max.   :1.0000  \n",
       " _InonXeduca_1   \n",
       " Min.   : 0.000  \n",
       " 1st Qu.: 0.000  \n",
       " Median : 0.000  \n",
       " Mean   : 1.921  \n",
       " 3rd Qu.: 0.000  \n",
       " Max.   :20.000  "
      ]
     },
     "metadata": {},
     "output_type": "display_data"
    }
   ],
   "source": [
    "df |> summary()"
   ]
  },
  {
   "cell_type": "markdown",
   "id": "a28c3a28-47ff-4fc8-88f0-949ab00a1ecb",
   "metadata": {},
   "source": [
    "## Exercises"
   ]
  },
  {
   "cell_type": "markdown",
   "id": "83173968-75b3-48a7-9799-e86670a42590",
   "metadata": {},
   "source": [
    "## 1.1. \n",
    "Consider the regression results given in Table 1.2."
   ]
  },
  {
   "cell_type": "code",
   "execution_count": 5,
   "id": "3c29b2ef-519e-4f16-b73d-2c9c4da44870",
   "metadata": {
    "vscode": {
     "languageId": "r"
    }
   },
   "outputs": [],
   "source": [
    "model <- lm(wage~female+nonwhite+union+education+exper, data = df)"
   ]
  },
  {
   "cell_type": "code",
   "execution_count": 6,
   "id": "5aba6a85-cceb-4310-bef0-69079c687bfb",
   "metadata": {
    "vscode": {
     "languageId": "r"
    }
   },
   "outputs": [
    {
     "data": {
      "text/plain": [
       "\n",
       "Call:\n",
       "lm(formula = wage ~ female + nonwhite + union + education + exper, \n",
       "    data = df)\n",
       "\n",
       "Residuals:\n",
       "    Min      1Q  Median      3Q     Max \n",
       "-20.781  -3.760  -1.044   2.418  50.414 \n",
       "\n",
       "Coefficients:\n",
       "            Estimate Std. Error t value Pr(>|t|)    \n",
       "(Intercept) -7.18334    1.01579  -7.072 2.51e-12 ***\n",
       "female      -3.07488    0.36462  -8.433  < 2e-16 ***\n",
       "nonwhite    -1.56531    0.50919  -3.074  0.00216 ** \n",
       "union        1.09598    0.50608   2.166  0.03052 *  \n",
       "education    1.37030    0.06590  20.792  < 2e-16 ***\n",
       "exper        0.16661    0.01605  10.382  < 2e-16 ***\n",
       "---\n",
       "Signif. codes:  0 '***' 0.001 '**' 0.01 '*' 0.05 '.' 0.1 ' ' 1\n",
       "\n",
       "Residual standard error: 6.508 on 1283 degrees of freedom\n",
       "Multiple R-squared:  0.3233,\tAdjusted R-squared:  0.3207 \n",
       "F-statistic: 122.6 on 5 and 1283 DF,  p-value: < 2.2e-16\n"
      ]
     },
     "metadata": {},
     "output_type": "display_data"
    }
   ],
   "source": [
    "model |> \n",
    "summary()"
   ]
  },
  {
   "cell_type": "code",
   "execution_count": 7,
   "id": "eff6c085-c014-42a6-a157-78fc5f79c02a",
   "metadata": {
    "vscode": {
     "languageId": "r"
    }
   },
   "outputs": [
    {
     "data": {
      "text/html": [
       "<table class=\"dataframe\">\n",
       "<caption>A tibble: 6 × 5</caption>\n",
       "<thead>\n",
       "\t<tr><th scope=col>term</th><th scope=col>estimate</th><th scope=col>std.error</th><th scope=col>statistic</th><th scope=col>p.value</th></tr>\n",
       "\t<tr><th scope=col>&lt;chr&gt;</th><th scope=col>&lt;dbl&gt;</th><th scope=col>&lt;dbl&gt;</th><th scope=col>&lt;dbl&gt;</th><th scope=col>&lt;dbl&gt;</th></tr>\n",
       "</thead>\n",
       "<tbody>\n",
       "\t<tr><td>(Intercept)</td><td>-7.1833382</td><td>1.01578786</td><td>-7.071691</td><td>2.508276e-12</td></tr>\n",
       "\t<tr><td>female     </td><td>-3.0748754</td><td>0.36461621</td><td>-8.433184</td><td>8.939423e-17</td></tr>\n",
       "\t<tr><td>nonwhite   </td><td>-1.5653133</td><td>0.50918754</td><td>-3.074139</td><td>2.155664e-03</td></tr>\n",
       "\t<tr><td>union      </td><td> 1.0959758</td><td>0.50607809</td><td> 2.165626</td><td>3.052356e-02</td></tr>\n",
       "\t<tr><td>education  </td><td> 1.3703010</td><td>0.06590421</td><td>20.792312</td><td>5.507613e-83</td></tr>\n",
       "\t<tr><td>exper      </td><td> 0.1666065</td><td>0.01604756</td><td>10.382050</td><td>2.659960e-24</td></tr>\n",
       "</tbody>\n",
       "</table>\n"
      ],
      "text/latex": [
       "A tibble: 6 × 5\n",
       "\\begin{tabular}{lllll}\n",
       " term & estimate & std.error & statistic & p.value\\\\\n",
       " <chr> & <dbl> & <dbl> & <dbl> & <dbl>\\\\\n",
       "\\hline\n",
       "\t (Intercept) & -7.1833382 & 1.01578786 & -7.071691 & 2.508276e-12\\\\\n",
       "\t female      & -3.0748754 & 0.36461621 & -8.433184 & 8.939423e-17\\\\\n",
       "\t nonwhite    & -1.5653133 & 0.50918754 & -3.074139 & 2.155664e-03\\\\\n",
       "\t union       &  1.0959758 & 0.50607809 &  2.165626 & 3.052356e-02\\\\\n",
       "\t education   &  1.3703010 & 0.06590421 & 20.792312 & 5.507613e-83\\\\\n",
       "\t exper       &  0.1666065 & 0.01604756 & 10.382050 & 2.659960e-24\\\\\n",
       "\\end{tabular}\n"
      ],
      "text/markdown": [
       "\n",
       "A tibble: 6 × 5\n",
       "\n",
       "| term &lt;chr&gt; | estimate &lt;dbl&gt; | std.error &lt;dbl&gt; | statistic &lt;dbl&gt; | p.value &lt;dbl&gt; |\n",
       "|---|---|---|---|---|\n",
       "| (Intercept) | -7.1833382 | 1.01578786 | -7.071691 | 2.508276e-12 |\n",
       "| female      | -3.0748754 | 0.36461621 | -8.433184 | 8.939423e-17 |\n",
       "| nonwhite    | -1.5653133 | 0.50918754 | -3.074139 | 2.155664e-03 |\n",
       "| union       |  1.0959758 | 0.50607809 |  2.165626 | 3.052356e-02 |\n",
       "| education   |  1.3703010 | 0.06590421 | 20.792312 | 5.507613e-83 |\n",
       "| exper       |  0.1666065 | 0.01604756 | 10.382050 | 2.659960e-24 |\n",
       "\n"
      ],
      "text/plain": [
       "  term        estimate   std.error  statistic p.value     \n",
       "1 (Intercept) -7.1833382 1.01578786 -7.071691 2.508276e-12\n",
       "2 female      -3.0748754 0.36461621 -8.433184 8.939423e-17\n",
       "3 nonwhite    -1.5653133 0.50918754 -3.074139 2.155664e-03\n",
       "4 union        1.0959758 0.50607809  2.165626 3.052356e-02\n",
       "5 education    1.3703010 0.06590421 20.792312 5.507613e-83\n",
       "6 exper        0.1666065 0.01604756 10.382050 2.659960e-24"
      ]
     },
     "metadata": {},
     "output_type": "display_data"
    }
   ],
   "source": [
    "tidy(model)"
   ]
  },
  {
   "cell_type": "markdown",
   "id": "4c52dee0-3faa-4f6d-a0ed-81176a1b1251",
   "metadata": {},
   "source": [
    "the **intercept value** is about –7.1833.  \n",
    "Literally interpreted, this would mean the average hourly wage is –$7.1833  \n",
    "if the values of all the regressors in that regression are set equal to zero"
   ]
  },
  {
   "cell_type": "markdown",
   "id": "76a0a2bb-f6db-428b-a7bf-8c8b7e5369cb",
   "metadata": {},
   "source": [
    "The **female coefficient**  –3.07 means, holding all other variables constant, that the  \n",
    "average female hourly wage is lower than the average male hourly wage by about 3  \n",
    "dollars, ceteris paribus."
   ]
  },
  {
   "cell_type": "code",
   "execution_count": 8,
   "id": "bf69f954-63ae-4503-b531-76df0e6a077f",
   "metadata": {
    "vscode": {
     "languageId": "r"
    }
   },
   "outputs": [
    {
     "data": {
      "text/html": [
       "<table class=\"dataframe\">\n",
       "<caption>A tibble: 1 × 12</caption>\n",
       "<thead>\n",
       "\t<tr><th scope=col>r.squared</th><th scope=col>adj.r.squared</th><th scope=col>sigma</th><th scope=col>statistic</th><th scope=col>p.value</th><th scope=col>df</th><th scope=col>logLik</th><th scope=col>AIC</th><th scope=col>BIC</th><th scope=col>deviance</th><th scope=col>df.residual</th><th scope=col>nobs</th></tr>\n",
       "\t<tr><th scope=col>&lt;dbl&gt;</th><th scope=col>&lt;dbl&gt;</th><th scope=col>&lt;dbl&gt;</th><th scope=col>&lt;dbl&gt;</th><th scope=col>&lt;dbl&gt;</th><th scope=col>&lt;dbl&gt;</th><th scope=col>&lt;dbl&gt;</th><th scope=col>&lt;dbl&gt;</th><th scope=col>&lt;dbl&gt;</th><th scope=col>&lt;dbl&gt;</th><th scope=col>&lt;int&gt;</th><th scope=col>&lt;int&gt;</th></tr>\n",
       "</thead>\n",
       "<tbody>\n",
       "\t<tr><td>0.3233388</td><td>0.3207018</td><td>6.508137</td><td>122.6149</td><td>3.453151e-106</td><td>5</td><td>-4240.37</td><td>8494.741</td><td>8530.872</td><td>54342.54</td><td>1283</td><td>1289</td></tr>\n",
       "</tbody>\n",
       "</table>\n"
      ],
      "text/latex": [
       "A tibble: 1 × 12\n",
       "\\begin{tabular}{llllllllllll}\n",
       " r.squared & adj.r.squared & sigma & statistic & p.value & df & logLik & AIC & BIC & deviance & df.residual & nobs\\\\\n",
       " <dbl> & <dbl> & <dbl> & <dbl> & <dbl> & <dbl> & <dbl> & <dbl> & <dbl> & <dbl> & <int> & <int>\\\\\n",
       "\\hline\n",
       "\t 0.3233388 & 0.3207018 & 6.508137 & 122.6149 & 3.453151e-106 & 5 & -4240.37 & 8494.741 & 8530.872 & 54342.54 & 1283 & 1289\\\\\n",
       "\\end{tabular}\n"
      ],
      "text/markdown": [
       "\n",
       "A tibble: 1 × 12\n",
       "\n",
       "| r.squared &lt;dbl&gt; | adj.r.squared &lt;dbl&gt; | sigma &lt;dbl&gt; | statistic &lt;dbl&gt; | p.value &lt;dbl&gt; | df &lt;dbl&gt; | logLik &lt;dbl&gt; | AIC &lt;dbl&gt; | BIC &lt;dbl&gt; | deviance &lt;dbl&gt; | df.residual &lt;int&gt; | nobs &lt;int&gt; |\n",
       "|---|---|---|---|---|---|---|---|---|---|---|---|\n",
       "| 0.3233388 | 0.3207018 | 6.508137 | 122.6149 | 3.453151e-106 | 5 | -4240.37 | 8494.741 | 8530.872 | 54342.54 | 1283 | 1289 |\n",
       "\n"
      ],
      "text/plain": [
       "      r.squared adj.r.squared sigma    statistic p.value       df logLik  \n",
       "value 0.3233388 0.3207018     6.508137 122.6149  3.453151e-106 5  -4240.37\n",
       "      AIC      BIC      deviance df.residual nobs\n",
       "value 8494.741 8530.872 54342.54 1283        1289"
      ]
     },
     "metadata": {},
     "output_type": "display_data"
    }
   ],
   "source": [
    "glance(model)"
   ]
  },
  {
   "cell_type": "code",
   "execution_count": 9,
   "id": "50da01d8-69c8-4c6c-bcae-985f8d349ffa",
   "metadata": {
    "vscode": {
     "languageId": "r"
    }
   },
   "outputs": [
    {
     "data": {
      "text/html": [
       "<table class=\"dataframe\">\n",
       "<caption>A tibble: 6 × 12</caption>\n",
       "<thead>\n",
       "\t<tr><th scope=col>wage</th><th scope=col>female</th><th scope=col>nonwhite</th><th scope=col>union</th><th scope=col>education</th><th scope=col>exper</th><th scope=col>.fitted</th><th scope=col>.resid</th><th scope=col>.hat</th><th scope=col>.sigma</th><th scope=col>.cooksd</th><th scope=col>.std.resid</th></tr>\n",
       "\t<tr><th scope=col>&lt;dbl&gt;</th><th scope=col>&lt;dbl&gt;</th><th scope=col>&lt;dbl&gt;</th><th scope=col>&lt;dbl&gt;</th><th scope=col>&lt;dbl&gt;</th><th scope=col>&lt;dbl&gt;</th><th scope=col>&lt;dbl&gt;</th><th scope=col>&lt;dbl&gt;</th><th scope=col>&lt;dbl&gt;</th><th scope=col>&lt;dbl&gt;</th><th scope=col>&lt;dbl&gt;</th><th scope=col>&lt;dbl&gt;</th></tr>\n",
       "</thead>\n",
       "<tbody>\n",
       "\t<tr><td>11.55</td><td>1</td><td>0</td><td>0</td><td>12</td><td>20</td><td> 9.517529</td><td>  2.03247160</td><td>0.001942952</td><td>6.510426</td><td>3.170558e-05</td><td> 0.31260084</td></tr>\n",
       "\t<tr><td> 5.00</td><td>0</td><td>0</td><td>0</td><td> 9</td><td> 9</td><td> 6.648829</td><td> -1.64882930</td><td>0.004661005</td><td>6.510511</td><td>5.032970e-05</td><td>-0.25394141</td></tr>\n",
       "\t<tr><td>12.00</td><td>0</td><td>0</td><td>0</td><td>16</td><td>15</td><td>17.240575</td><td> -5.24057529</td><td>0.002569388</td><td>6.509025</td><td>2.790986e-04</td><td>-0.80627086</td></tr>\n",
       "\t<tr><td> 7.00</td><td>0</td><td>1</td><td>1</td><td>14</td><td>38</td><td>17.862586</td><td>-10.86258593</td><td>0.011178819</td><td>6.503522</td><td>5.308384e-03</td><td>-1.67848587</td></tr>\n",
       "\t<tr><td>21.15</td><td>1</td><td>1</td><td>0</td><td>16</td><td>19</td><td>13.266813</td><td>  7.88318701</td><td>0.007329089</td><td>6.506923</td><td>1.818773e-03</td><td> 1.21574509</td></tr>\n",
       "\t<tr><td> 6.92</td><td>1</td><td>0</td><td>0</td><td>12</td><td> 4</td><td> 6.851824</td><td>  0.06817595</td><td>0.003318529</td><td>6.510674</td><td>6.109851e-08</td><td> 0.01049292</td></tr>\n",
       "</tbody>\n",
       "</table>\n"
      ],
      "text/latex": [
       "A tibble: 6 × 12\n",
       "\\begin{tabular}{llllllllllll}\n",
       " wage & female & nonwhite & union & education & exper & .fitted & .resid & .hat & .sigma & .cooksd & .std.resid\\\\\n",
       " <dbl> & <dbl> & <dbl> & <dbl> & <dbl> & <dbl> & <dbl> & <dbl> & <dbl> & <dbl> & <dbl> & <dbl>\\\\\n",
       "\\hline\n",
       "\t 11.55 & 1 & 0 & 0 & 12 & 20 &  9.517529 &   2.03247160 & 0.001942952 & 6.510426 & 3.170558e-05 &  0.31260084\\\\\n",
       "\t  5.00 & 0 & 0 & 0 &  9 &  9 &  6.648829 &  -1.64882930 & 0.004661005 & 6.510511 & 5.032970e-05 & -0.25394141\\\\\n",
       "\t 12.00 & 0 & 0 & 0 & 16 & 15 & 17.240575 &  -5.24057529 & 0.002569388 & 6.509025 & 2.790986e-04 & -0.80627086\\\\\n",
       "\t  7.00 & 0 & 1 & 1 & 14 & 38 & 17.862586 & -10.86258593 & 0.011178819 & 6.503522 & 5.308384e-03 & -1.67848587\\\\\n",
       "\t 21.15 & 1 & 1 & 0 & 16 & 19 & 13.266813 &   7.88318701 & 0.007329089 & 6.506923 & 1.818773e-03 &  1.21574509\\\\\n",
       "\t  6.92 & 1 & 0 & 0 & 12 &  4 &  6.851824 &   0.06817595 & 0.003318529 & 6.510674 & 6.109851e-08 &  0.01049292\\\\\n",
       "\\end{tabular}\n"
      ],
      "text/markdown": [
       "\n",
       "A tibble: 6 × 12\n",
       "\n",
       "| wage &lt;dbl&gt; | female &lt;dbl&gt; | nonwhite &lt;dbl&gt; | union &lt;dbl&gt; | education &lt;dbl&gt; | exper &lt;dbl&gt; | .fitted &lt;dbl&gt; | .resid &lt;dbl&gt; | .hat &lt;dbl&gt; | .sigma &lt;dbl&gt; | .cooksd &lt;dbl&gt; | .std.resid &lt;dbl&gt; |\n",
       "|---|---|---|---|---|---|---|---|---|---|---|---|\n",
       "| 11.55 | 1 | 0 | 0 | 12 | 20 |  9.517529 |   2.03247160 | 0.001942952 | 6.510426 | 3.170558e-05 |  0.31260084 |\n",
       "|  5.00 | 0 | 0 | 0 |  9 |  9 |  6.648829 |  -1.64882930 | 0.004661005 | 6.510511 | 5.032970e-05 | -0.25394141 |\n",
       "| 12.00 | 0 | 0 | 0 | 16 | 15 | 17.240575 |  -5.24057529 | 0.002569388 | 6.509025 | 2.790986e-04 | -0.80627086 |\n",
       "|  7.00 | 0 | 1 | 1 | 14 | 38 | 17.862586 | -10.86258593 | 0.011178819 | 6.503522 | 5.308384e-03 | -1.67848587 |\n",
       "| 21.15 | 1 | 1 | 0 | 16 | 19 | 13.266813 |   7.88318701 | 0.007329089 | 6.506923 | 1.818773e-03 |  1.21574509 |\n",
       "|  6.92 | 1 | 0 | 0 | 12 |  4 |  6.851824 |   0.06817595 | 0.003318529 | 6.510674 | 6.109851e-08 |  0.01049292 |\n",
       "\n"
      ],
      "text/plain": [
       "  wage  female nonwhite union education exper .fitted   .resid      \n",
       "1 11.55 1      0        0     12        20     9.517529   2.03247160\n",
       "2  5.00 0      0        0      9         9     6.648829  -1.64882930\n",
       "3 12.00 0      0        0     16        15    17.240575  -5.24057529\n",
       "4  7.00 0      1        1     14        38    17.862586 -10.86258593\n",
       "5 21.15 1      1        0     16        19    13.266813   7.88318701\n",
       "6  6.92 1      0        0     12         4     6.851824   0.06817595\n",
       "  .hat        .sigma   .cooksd      .std.resid \n",
       "1 0.001942952 6.510426 3.170558e-05  0.31260084\n",
       "2 0.004661005 6.510511 5.032970e-05 -0.25394141\n",
       "3 0.002569388 6.509025 2.790986e-04 -0.80627086\n",
       "4 0.011178819 6.503522 5.308384e-03 -1.67848587\n",
       "5 0.007329089 6.506923 1.818773e-03  1.21574509\n",
       "6 0.003318529 6.510674 6.109851e-08  0.01049292"
      ]
     },
     "metadata": {},
     "output_type": "display_data"
    }
   ],
   "source": [
    "augment(model) |> \n",
    "head()"
   ]
  },
  {
   "cell_type": "markdown",
   "id": "454ed126-a844-439d-a45c-be90460b632c",
   "metadata": {},
   "source": [
    "### a. \n",
    "Suppose you want to test the hypothesis that the true or population regression coefficient of\n",
    "the education variable is 1.  \n",
    "How would you test this hypothesis? Show the necessary\n",
    "calculations. "
   ]
  },
  {
   "cell_type": "markdown",
   "id": "377fb857-0863-4352-bce7-426cb381d100",
   "metadata": {},
   "source": [
    "$$\n",
    "wage = \\beta_0 + \\beta_1~ \\text{female} + \\beta_2~ \\text{nonwhite} + \\beta_3~ \\text{union} + \\beta_4~ \\text{education} + \\beta_5~ \\text{exper}\n",
    "$$\n"
   ]
  },
  {
   "cell_type": "markdown",
   "id": "1c7a91fd-5f66-4be2-854c-392e63f90379",
   "metadata": {},
   "source": [
    "\n",
    "\\begin{align}\n",
    "H_0: \\beta_4 = 1 \\\\\n",
    "H_1: \\beta_4 \\neq 1\n",
    "\\end{align}\n"
   ]
  },
  {
   "cell_type": "markdown",
   "id": "d11191fd-43b7-4483-9160-57cdc8511dc5",
   "metadata": {},
   "source": [
    "\\begin{align}\n",
    "t &= \\frac{b - b_0}{se(b)}\\\\\n",
    "t &= \\frac{1.3703010 - 1}{0.06590421} = 5.619\n",
    "\\end{align}"
   ]
  },
  {
   "cell_type": "code",
   "execution_count": 10,
   "id": "9d13b049-7068-40a6-9514-2797a184757d",
   "metadata": {
    "vscode": {
     "languageId": "r"
    }
   },
   "outputs": [
    {
     "data": {
      "text/html": [
       "<table class=\"dataframe\">\n",
       "<caption>A anova: 2 × 6</caption>\n",
       "<thead>\n",
       "\t<tr><th></th><th scope=col>Res.Df</th><th scope=col>RSS</th><th scope=col>Df</th><th scope=col>Sum of Sq</th><th scope=col>F</th><th scope=col>Pr(&gt;F)</th></tr>\n",
       "\t<tr><th></th><th scope=col>&lt;dbl&gt;</th><th scope=col>&lt;dbl&gt;</th><th scope=col>&lt;dbl&gt;</th><th scope=col>&lt;dbl&gt;</th><th scope=col>&lt;dbl&gt;</th><th scope=col>&lt;dbl&gt;</th></tr>\n",
       "</thead>\n",
       "<tbody>\n",
       "\t<tr><th scope=row>1</th><td>1284</td><td>55679.75</td><td>NA</td><td>      NA</td><td>      NA</td><td>          NA</td></tr>\n",
       "\t<tr><th scope=row>2</th><td>1283</td><td>54342.54</td><td> 1</td><td>1337.201</td><td>31.57064</td><td>2.356207e-08</td></tr>\n",
       "</tbody>\n",
       "</table>\n"
      ],
      "text/latex": [
       "A anova: 2 × 6\n",
       "\\begin{tabular}{r|llllll}\n",
       "  & Res.Df & RSS & Df & Sum of Sq & F & Pr(>F)\\\\\n",
       "  & <dbl> & <dbl> & <dbl> & <dbl> & <dbl> & <dbl>\\\\\n",
       "\\hline\n",
       "\t1 & 1284 & 55679.75 & NA &       NA &       NA &           NA\\\\\n",
       "\t2 & 1283 & 54342.54 &  1 & 1337.201 & 31.57064 & 2.356207e-08\\\\\n",
       "\\end{tabular}\n"
      ],
      "text/markdown": [
       "\n",
       "A anova: 2 × 6\n",
       "\n",
       "| <!--/--> | Res.Df &lt;dbl&gt; | RSS &lt;dbl&gt; | Df &lt;dbl&gt; | Sum of Sq &lt;dbl&gt; | F &lt;dbl&gt; | Pr(&gt;F) &lt;dbl&gt; |\n",
       "|---|---|---|---|---|---|---|\n",
       "| 1 | 1284 | 55679.75 | NA |       NA |       NA |           NA |\n",
       "| 2 | 1283 | 54342.54 |  1 | 1337.201 | 31.57064 | 2.356207e-08 |\n",
       "\n"
      ],
      "text/plain": [
       "  Res.Df RSS      Df Sum of Sq F        Pr(>F)      \n",
       "1 1284   55679.75 NA       NA        NA           NA\n",
       "2 1283   54342.54  1 1337.201  31.57064 2.356207e-08"
      ]
     },
     "metadata": {},
     "output_type": "display_data"
    }
   ],
   "source": [
    "hypothesis_test <- linearHypothesis(model, \"education = 1\")\n",
    "hypothesis_test"
   ]
  },
  {
   "cell_type": "code",
   "execution_count": 11,
   "id": "387f8b2a-a46c-4cb8-8792-829fc2249533",
   "metadata": {
    "vscode": {
     "languageId": "r"
    }
   },
   "outputs": [
    {
     "data": {
      "text/plain": [
       "\n",
       "\t Simultaneous Tests for General Linear Hypotheses\n",
       "\n",
       "Fit: lm(formula = wage ~ female + nonwhite + union + education + exper, \n",
       "    data = df)\n",
       "\n",
       "Linear Hypotheses:\n",
       "               Estimate Std. Error t value Pr(>|t|)    \n",
       "education == 1   1.3703     0.0659   5.619 2.36e-08 ***\n",
       "---\n",
       "Signif. codes:  0 '***' 0.001 '**' 0.01 '*' 0.05 '.' 0.1 ' ' 1\n",
       "(Adjusted p values reported -- single-step method)\n"
      ]
     },
     "metadata": {},
     "output_type": "display_data"
    }
   ],
   "source": [
    "test <- glht(model, linfct = c(\"education = 1\"))\n",
    "summary(test)"
   ]
  },
  {
   "cell_type": "code",
   "execution_count": 12,
   "id": "828e4667-85b9-4e62-a26b-fd2191be9b7d",
   "metadata": {
    "vscode": {
     "languageId": "r"
    }
   },
   "outputs": [
    {
     "data": {
      "text/html": [
       "5.61877531138879"
      ],
      "text/latex": [
       "5.61877531138879"
      ],
      "text/markdown": [
       "5.61877531138879"
      ],
      "text/plain": [
       "[1] 5.618775"
      ]
     },
     "metadata": {},
     "output_type": "display_data"
    },
    {
     "data": {
      "text/html": [
       "2.35620718007122e-08"
      ],
      "text/latex": [
       "2.35620718007122e-08"
      ],
      "text/markdown": [
       "2.35620718007122e-08"
      ],
      "text/plain": [
       "[1] 2.356207e-08"
      ]
     },
     "metadata": {},
     "output_type": "display_data"
    }
   ],
   "source": [
    "# manual calculation\n",
    "\n",
    "coef <- summary(model)$coefficients\n",
    "beta_education <- coef[\"education\", \"Estimate\"]\n",
    "se_education <- coef[\"education\", \"Std. Error\"]\n",
    "\n",
    "\n",
    "t_value <- (beta_education - 1) / se_education\n",
    "\n",
    "degreesfreedom <- df.residual(model)\n",
    "\n",
    "p_value <- 2 * pt(-abs(t_value), degreesfreedom)\n",
    "\n",
    "t_value\n",
    "p_value"
   ]
  },
  {
   "cell_type": "markdown",
   "id": "e6a1f6ee-0986-46a7-8d55-0579f7909bdd",
   "metadata": {},
   "source": [
    "### b\n",
    "Would you reject or not reject the hypothesis that the true union regression coefficient is\n",
    "1? "
   ]
  },
  {
   "cell_type": "code",
   "execution_count": 13,
   "id": "d3604dda-5776-4568-b1b4-8dd7792d16eb",
   "metadata": {
    "vscode": {
     "languageId": "r"
    }
   },
   "outputs": [
    {
     "data": {
      "text/plain": [
       "\n",
       "\t Simultaneous Tests for General Linear Hypotheses\n",
       "\n",
       "Fit: lm(formula = wage ~ female + nonwhite + union + education + exper, \n",
       "    data = df)\n",
       "\n",
       "Linear Hypotheses:\n",
       "           Estimate Std. Error t value Pr(>|t|)\n",
       "union == 1   1.0960     0.5061    0.19     0.85\n",
       "(Adjusted p values reported -- single-step method)\n"
      ]
     },
     "metadata": {},
     "output_type": "display_data"
    }
   ],
   "source": [
    "test_union <- glht(model, linfct = c(\"union = 1\"))\n",
    "summary(test_union)"
   ]
  },
  {
   "cell_type": "markdown",
   "id": "8836beae-28a3-4c9b-81a2-09dd520251d4",
   "metadata": {},
   "source": [
    "Fail to reject"
   ]
  },
  {
   "cell_type": "markdown",
   "id": "99e58405-fc4f-4edb-9d9f-874bf5d645ca",
   "metadata": {},
   "source": [
    "### c. \n",
    "Can you take the logs of the nominal variables, such as gender, race and union status?\n",
    "Why or why not? \n"
   ]
  },
  {
   "cell_type": "markdown",
   "id": "1b58fad1-dc62-41b8-86e4-96c248f1da6a",
   "metadata": {},
   "source": [
    "no, not numerical data"
   ]
  },
  {
   "cell_type": "markdown",
   "id": "01a05816-ab07-4232-8378-b4072e0fe8a9",
   "metadata": {},
   "source": [
    "### d.\n",
    "What other variables are missing from the model?"
   ]
  },
  {
   "cell_type": "code",
   "execution_count": 14,
   "id": "9082940a-38d1-4802-a968-44ca93c06f2b",
   "metadata": {
    "vscode": {
     "languageId": "r"
    }
   },
   "outputs": [
    {
     "data": {
      "text/html": [
       "<style>\n",
       ".list-inline {list-style: none; margin:0; padding: 0}\n",
       ".list-inline>li {display: inline-block}\n",
       ".list-inline>li:not(:last-child)::after {content: \"\\00b7\"; padding: 0 .5ex}\n",
       "</style>\n",
       "<ol class=list-inline><li>'obs'</li><li>'wage'</li><li>'female'</li><li>'nonwhite'</li><li>'union'</li><li>'education'</li><li>'exper'</li><li>'age'</li><li>'wind'</li><li>'femalenonw'</li><li>'lnwage'</li><li>'education_exper'</li><li>'_Ifemale_1'</li><li>'_IfemXeduca_1'</li><li>'_IfemXexper_1'</li><li>'_Inonwhite_1'</li><li>'_InonXeduca_1'</li></ol>\n"
      ],
      "text/latex": [
       "\\begin{enumerate*}\n",
       "\\item 'obs'\n",
       "\\item 'wage'\n",
       "\\item 'female'\n",
       "\\item 'nonwhite'\n",
       "\\item 'union'\n",
       "\\item 'education'\n",
       "\\item 'exper'\n",
       "\\item 'age'\n",
       "\\item 'wind'\n",
       "\\item 'femalenonw'\n",
       "\\item 'lnwage'\n",
       "\\item 'education\\_exper'\n",
       "\\item '\\_Ifemale\\_1'\n",
       "\\item '\\_IfemXeduca\\_1'\n",
       "\\item '\\_IfemXexper\\_1'\n",
       "\\item '\\_Inonwhite\\_1'\n",
       "\\item '\\_InonXeduca\\_1'\n",
       "\\end{enumerate*}\n"
      ],
      "text/markdown": [
       "1. 'obs'\n",
       "2. 'wage'\n",
       "3. 'female'\n",
       "4. 'nonwhite'\n",
       "5. 'union'\n",
       "6. 'education'\n",
       "7. 'exper'\n",
       "8. 'age'\n",
       "9. 'wind'\n",
       "10. 'femalenonw'\n",
       "11. 'lnwage'\n",
       "12. 'education_exper'\n",
       "13. '_Ifemale_1'\n",
       "14. '_IfemXeduca_1'\n",
       "15. '_IfemXexper_1'\n",
       "16. '_Inonwhite_1'\n",
       "17. '_InonXeduca_1'\n",
       "\n",
       "\n"
      ],
      "text/plain": [
       " [1] \"obs\"             \"wage\"            \"female\"          \"nonwhite\"       \n",
       " [5] \"union\"           \"education\"       \"exper\"           \"age\"            \n",
       " [9] \"wind\"            \"femalenonw\"      \"lnwage\"          \"education_exper\"\n",
       "[13] \"_Ifemale_1\"      \"_IfemXeduca_1\"   \"_IfemXexper_1\"   \"_Inonwhite_1\"   \n",
       "[17] \"_InonXeduca_1\"  "
      ]
     },
     "metadata": {},
     "output_type": "display_data"
    }
   ],
   "source": [
    "df |> colnames()"
   ]
  },
  {
   "cell_type": "markdown",
   "id": "6b89794b-109c-4d0d-a076-ffc2cd73212a",
   "metadata": {},
   "source": [
    "age, wind, femalenonw, lnwage, education_exper"
   ]
  },
  {
   "cell_type": "markdown",
   "id": "7ae7049b-2a4e-40aa-a639-3d7ac1d50380",
   "metadata": {},
   "source": [
    "### e. \n",
    "Would you run separate wage regressions for white and nonwhite workers,  \n",
    "male and female workers, and union and non-union workers? And how\n",
    "would you compare them?"
   ]
  },
  {
   "cell_type": "markdown",
   "id": "881c2b3c-0f55-401c-bfa6-8bd4641e6b98",
   "metadata": {},
   "source": [
    "using f test"
   ]
  },
  {
   "cell_type": "markdown",
   "id": "7a704dbc-5f2d-436e-ac01-26e990546453",
   "metadata": {},
   "source": [
    "### f.\n",
    "Some states have right-to-work laws (i.e., union membership is not mandatory) and some  \n",
    "do not have such laws (i.e, union membership is permitted). Is it worth adding a dummy  \n",
    "variable taking the value of 1 if the right-to-work laws are present and 0 otherwise? A priori,  \n",
    "what would you expect if this variable is added to the model? "
   ]
  },
  {
   "cell_type": "markdown",
   "id": "1b449ac4-dfb2-478c-9399-7d51f27744cf",
   "metadata": {},
   "source": [
    "yes, if it can affect the dependent variable wage"
   ]
  },
  {
   "cell_type": "markdown",
   "id": "09ea5922-9566-47ae-acfc-9e214c89412b",
   "metadata": {},
   "source": [
    "### h.\n",
    "Would you add the age of the worker as an explanatory variable to the model? Why or\n",
    "why not? "
   ]
  },
  {
   "cell_type": "markdown",
   "id": "f0972bf7-1752-4d44-8f7e-f919974b7cc2",
   "metadata": {},
   "source": [
    "no, $experience = age - education - 6 $, will lead to perfect collinearity "
   ]
  }
 ],
 "metadata": {
  "kernelspec": {
   "display_name": "R",
   "language": "R",
   "name": "ir"
  },
  "language_info": {
   "codemirror_mode": "r",
   "file_extension": ".r",
   "mimetype": "text/x-r-source",
   "name": "R",
   "pygments_lexer": "r",
   "version": "4.4.1"
  }
 },
 "nbformat": 4,
 "nbformat_minor": 5
}