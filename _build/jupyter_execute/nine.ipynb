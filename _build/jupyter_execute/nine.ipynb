{
 "cells": [
  {
   "cell_type": "markdown",
   "id": "a1438026-a352-44a7-ad78-a74266082d5a",
   "metadata": {},
   "source": [
    "# 9. Multinomial Regression Models"
   ]
  },
  {
   "cell_type": "markdown",
   "id": "4ee38212-4e84-4232-bd91-255e544c303f",
   "metadata": {},
   "source": [
    "🚧 Under Construction"
   ]
  }
 ],
 "metadata": {
  "kernelspec": {
   "display_name": "R",
   "language": "R",
   "name": "ir"
  },
  "language_info": {
   "codemirror_mode": "r",
   "file_extension": ".r",
   "mimetype": "text/x-r-source",
   "name": "R",
   "pygments_lexer": "r",
   "version": "4.4.1"
  }
 },
 "nbformat": 4,
 "nbformat_minor": 5
}