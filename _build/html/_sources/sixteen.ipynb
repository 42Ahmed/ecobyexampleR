{
 "cells": [
  {
   "cell_type": "markdown",
   "id": "0431c414-19b0-407a-a134-e7b23df3beca",
   "metadata": {},
   "source": [
    "# 16. Economic Forecasting "
   ]
  },
  {
   "cell_type": "markdown",
   "id": "56b8170f-f906-490f-9b5a-b77ba2ba8fdf",
   "metadata": {},
   "source": [
    "🚧 Under construction"
   ]
  }
 ],
 "metadata": {
  "kernelspec": {
   "display_name": "R",
   "language": "R",
   "name": "ir"
  },
  "language_info": {
   "codemirror_mode": "r",
   "file_extension": ".r",
   "mimetype": "text/x-r-source",
   "name": "R",
   "pygments_lexer": "r",
   "version": "4.4.1"
  }
 },
 "nbformat": 4,
 "nbformat_minor": 5
}
