{
 "cells": [
  {
   "cell_type": "markdown",
   "id": "a217bb1a-7bdc-4de3-b42b-00c29fe92e7a",
   "metadata": {},
   "source": [
    "# 12. Modeling Count Data: The Poisson And Negative Binomial Regression Models"
   ]
  },
  {
   "cell_type": "markdown",
   "id": "cd46b309-fc0b-45d9-beb9-71ceea404342",
   "metadata": {},
   "source": [
    "🚧 Under construction"
   ]
  }
 ],
 "metadata": {
  "kernelspec": {
   "display_name": "R",
   "language": "R",
   "name": "ir"
  },
  "language_info": {
   "codemirror_mode": "r",
   "file_extension": ".r",
   "mimetype": "text/x-r-source",
   "name": "R",
   "pygments_lexer": "r",
   "version": "4.4.1"
  }
 },
 "nbformat": 4,
 "nbformat_minor": 5
}
