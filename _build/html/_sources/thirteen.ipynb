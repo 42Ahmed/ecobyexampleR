{
 "cells": [
  {
   "cell_type": "markdown",
   "id": "874dfc84-3f4a-453e-bc30-34340daeddd8",
   "metadata": {},
   "source": [
    "# 13. Stationary And Nonstationary Time Series "
   ]
  },
  {
   "cell_type": "markdown",
   "id": "1f460c48-26a6-4d5f-bf66-668669d14801",
   "metadata": {},
   "source": [
    "🚧 Under construction"
   ]
  }
 ],
 "metadata": {
  "kernelspec": {
   "display_name": "R",
   "language": "R",
   "name": "ir"
  },
  "language_info": {
   "codemirror_mode": "r",
   "file_extension": ".r",
   "mimetype": "text/x-r-source",
   "name": "R",
   "pygments_lexer": "r",
   "version": "4.4.1"
  }
 },
 "nbformat": 4,
 "nbformat_minor": 5
}
